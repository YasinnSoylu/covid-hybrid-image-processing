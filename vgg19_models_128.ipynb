{
  "metadata": {
    "kernelspec": {
      "language": "python",
      "display_name": "Python 3",
      "name": "python3"
    },
    "language_info": {
      "name": "python",
      "version": "3.7.12",
      "mimetype": "text/x-python",
      "codemirror_mode": {
        "name": "ipython",
        "version": 3
      },
      "pygments_lexer": "ipython3",
      "nbconvert_exporter": "python",
      "file_extension": ".py"
    },
    "colab": {
      "name": "vgg19_models_4500.ipynb",
      "provenance": [],
      "machine_shape": "hm",
      "collapsed_sections": [
        "nGaVLl7-f2BU",
        "qBaK8vAFf2BY",
        "4GsvaRKdf2BR",
        "K9DwGfY77S5U"
      ],
      "include_colab_link": true
    },
    "accelerator": "GPU"
  },
  "nbformat_minor": 0,
  "nbformat": 4,
  "cells": [
    {
      "cell_type": "markdown",
      "metadata": {
        "id": "view-in-github",
        "colab_type": "text"
      },
      "source": [
        "<a href=\"https://colab.research.google.com/github/yasinsoylu1997/128-not-sampling/blob/main/vgg19_models_128.ipynb\" target=\"_parent\"><img src=\"https://colab.research.google.com/assets/colab-badge.svg\" alt=\"Open In Colab\"/></a>"
      ]
    },
    {
      "cell_type": "code",
      "source": [
        "from google.colab import drive\n",
        "drive.mount('/content/drive')"
      ],
      "metadata": {
        "id": "4LTqPz_P76Ov",
        "colab": {
          "base_uri": "https://localhost:8080/"
        },
        "outputId": "94d271d4-c2ff-41b1-8589-090c9911e18a"
      },
      "execution_count": 1,
      "outputs": [
        {
          "output_type": "stream",
          "name": "stdout",
          "text": [
            "Drive already mounted at /content/drive; to attempt to forcibly remount, call drive.mount(\"/content/drive\", force_remount=True).\n"
          ]
        }
      ]
    },
    {
      "cell_type": "code",
      "source": [
        "import seaborn as sns\n",
        "import cv2\n",
        "import numpy as np\n",
        "import matplotlib.pyplot as plt\n",
        "from sklearn.utils import shuffle\n",
        "from sklearn.model_selection import train_test_split\n",
        "import tensorflow as tf\n",
        "from tensorflow.keras import layers\n",
        "import pandas as pd\n",
        "from tensorflow.keras.applications import EfficientNetB0\n",
        "from tensorflow.keras.callbacks import EarlyStopping, ReduceLROnPlateau, TensorBoard, ModelCheckpoint\n",
        "from tensorflow.keras.models import Model, Sequential\n",
        "from tensorflow.keras.layers import Conv2D, MaxPooling2D, AveragePooling2D\n",
        "from tensorflow.keras.layers import Input, Dense, Dropout, Flatten, Activation,Concatenate\n",
        "from tensorflow.keras.layers import BatchNormalization\n",
        "from keras.preprocessing.image import load_img,img_to_array,ImageDataGenerator\n",
        "from tensorflow.keras.applications import VGG19\n",
        "from tqdm import tqdm\n",
        "import os\n",
        "from sklearn.utils import shuffle\n",
        "from sklearn.metrics import classification_report,confusion_matrix\n",
        "import keras\n",
        "import keras.utils\n",
        "from keras import utils as np_utils\n",
        "import ipywidgets as widgets\n",
        "import io\n",
        "from PIL import Image\n",
        "from IPython.display import display,clear_output\n",
        "from warnings import filterwarnings\n",
        "#!pip install visualkeras\n",
        "import numpy as np \n",
        "import matplotlib.pyplot as plt\n",
        "import glob\n",
        "import cv2\n",
        "from sklearn.metrics import log_loss\n",
        "from keras.models import Model, Sequential\n",
        "from keras.layers import Dense, Flatten, Conv2D, MaxPooling2D\n",
        "import os\n",
        "!pip install visualkeras\n",
        "!pip install catboost"
      ],
      "metadata": {
        "_uuid": "8f2839f25d086af736a60e9eeb907d3b93b6e0e5",
        "_cell_guid": "b1076dfc-b9ad-4769-8c92-a6c4dae69d19",
        "execution": {
          "iopub.status.busy": "2022-05-16T00:06:02.361516Z",
          "iopub.execute_input": "2022-05-16T00:06:02.361853Z",
          "iopub.status.idle": "2022-05-16T00:06:18.994492Z",
          "shell.execute_reply.started": "2022-05-16T00:06:02.361822Z",
          "shell.execute_reply": "2022-05-16T00:06:18.992886Z"
        },
        "trusted": true,
        "id": "i_pfrqAmf2BG"
      },
      "execution_count": null,
      "outputs": []
    },
    {
      "cell_type": "code",
      "source": [
        "labels = ['Lung_Opacity','COVID','Normal','Viral Pneumonia']"
      ],
      "metadata": {
        "execution": {
          "iopub.status.busy": "2022-05-15T23:35:28.503324Z",
          "iopub.execute_input": "2022-05-15T23:35:28.503733Z",
          "iopub.status.idle": "2022-05-15T23:35:28.508486Z",
          "shell.execute_reply.started": "2022-05-15T23:35:28.503687Z",
          "shell.execute_reply": "2022-05-15T23:35:28.507824Z"
        },
        "trusted": true,
        "id": "JTm63c8Tf2BI"
      },
      "execution_count": 3,
      "outputs": []
    },
    {
      "cell_type": "code",
      "source": [
        "X = []\n",
        "y = []\n",
        "image_size = 128\n",
        "for i in labels:\n",
        "    folderPath = os.path.join('/content/drive/MyDrive/tezz3/COVID-19_Radiography_Dataset_masked',i)\n",
        "    for j in tqdm(os.listdir(folderPath)):\n",
        "        img = cv2.imread(os.path.join(folderPath,j))\n",
        "        img = cv2.resize(img,(image_size, image_size))\n",
        "        X.append(img)\n",
        "        y.append(i)\n",
        "\n",
        "        \n",
        "X = np.array(X)\n",
        "y = np.array(y)"
      ],
      "metadata": {
        "execution": {
          "iopub.status.busy": "2022-05-15T23:35:28.509631Z",
          "iopub.execute_input": "2022-05-15T23:35:28.510262Z",
          "iopub.status.idle": "2022-05-15T23:38:46.667539Z",
          "shell.execute_reply.started": "2022-05-15T23:35:28.510228Z",
          "shell.execute_reply": "2022-05-15T23:38:46.666484Z"
        },
        "trusted": true,
        "id": "tdYLEsDQf2BJ",
        "colab": {
          "base_uri": "https://localhost:8080/"
        },
        "outputId": "c437e459-97cf-4966-f412-53c3dceb0aae"
      },
      "execution_count": 4,
      "outputs": [
        {
          "output_type": "stream",
          "name": "stderr",
          "text": [
            "100%|██████████| 6012/6012 [00:35<00:00, 171.55it/s]\n",
            "100%|██████████| 3616/3616 [00:16<00:00, 219.05it/s]\n",
            "100%|██████████| 10192/10192 [00:47<00:00, 215.43it/s]\n",
            "100%|██████████| 1345/1345 [00:07<00:00, 169.53it/s]\n"
          ]
        }
      ]
    },
    {
      "cell_type": "code",
      "source": [
        "train_images, test_images,train_labels, test_labels = train_test_split(X , y , test_size=0.25, random_state=42,shuffle=True)"
      ],
      "metadata": {
        "execution": {
          "iopub.status.busy": "2022-05-15T23:38:47.314239Z",
          "iopub.execute_input": "2022-05-15T23:38:47.314589Z",
          "iopub.status.idle": "2022-05-15T23:38:47.400506Z",
          "shell.execute_reply.started": "2022-05-15T23:38:47.314540Z",
          "shell.execute_reply": "2022-05-15T23:38:47.399418Z"
        },
        "trusted": true,
        "id": "a3bGVYtjf2BK"
      },
      "execution_count": 5,
      "outputs": []
    },
    {
      "cell_type": "code",
      "source": [
        "k=0\n",
        "fig, ax = plt.subplots(1,4,figsize=(20,20))\n",
        "fig.text(s='Sample Image From Each Label',size=18,fontweight='bold',\n",
        "             fontname='monospace',y=0.62,x=0.4,alpha=0.8)\n",
        "for i in labels:\n",
        "    j=0\n",
        "    while True :\n",
        "        if y[j]==i:\n",
        "            ax[k].imshow(X[j])\n",
        "            ax[k].set_title(y[j])\n",
        "            ax[k].axis('off')\n",
        "            k+=1\n",
        "            break\n",
        "        j+=1"
      ],
      "metadata": {
        "id": "3d5HZzhKnHaZ",
        "colab": {
          "base_uri": "https://localhost:8080/",
          "height": 335
        },
        "outputId": "a457ed8a-383a-4a77-820e-0ff6261fbd71"
      },
      "execution_count": 6,
      "outputs": [
        {
          "output_type": "display_data",
          "data": {
            "text/plain": [
              "<Figure size 1440x1440 with 4 Axes>"
            ],
            "image/png": "[encoded data removed]"
          },
          "metadata": {
            "needs_background": "light"
          }
        }
      ]
    },
    {
      "cell_type": "code",
      "source": [
        "plt.figure(figsize = (17,8));\n",
        "lis = ['Train', 'Test']\n",
        "for i,j in enumerate([train_labels, test_labels]):\n",
        "    plt.subplot(1,2, i+1);\n",
        "    sns.countplot(x = j);\n",
        "    plt.xlabel(lis[i])"
      ],
      "metadata": {
        "execution": {
          "iopub.status.busy": "2022-05-15T23:38:47.410442Z",
          "iopub.execute_input": "2022-05-15T23:38:47.410853Z",
          "iopub.status.idle": "2022-05-15T23:38:47.788826Z",
          "shell.execute_reply.started": "2022-05-15T23:38:47.410806Z",
          "shell.execute_reply": "2022-05-15T23:38:47.787749Z"
        },
        "trusted": true,
        "id": "lqAt7sJlf2BK",
        "colab": {
          "base_uri": "https://localhost:8080/",
          "height": 499
        },
        "outputId": "abc20708-b39e-4a25-f481-ee39176a2199"
      },
      "execution_count": 7,
      "outputs": [
        {
          "output_type": "display_data",
          "data": {
            "text/plain": [
              "<Figure size 1224x576 with 2 Axes>"
            ],
            "image/png": "[encoded data removed]"
          },
          "metadata": {
            "needs_background": "light"
          }
        }
      ]
    },
    {
      "cell_type": "code",
      "source": [
        "train_images = train_images / 255.0\n",
        "test_images = test_images / 255.0"
      ],
      "metadata": {
        "execution": {
          "iopub.status.busy": "2022-05-15T23:38:47.790207Z",
          "iopub.execute_input": "2022-05-15T23:38:47.790481Z",
          "iopub.status.idle": "2022-05-15T23:38:47.826761Z",
          "shell.execute_reply.started": "2022-05-15T23:38:47.790447Z",
          "shell.execute_reply": "2022-05-15T23:38:47.825794Z"
        },
        "trusted": true,
        "id": "LvNGzS3If2BL"
      },
      "execution_count": 8,
      "outputs": []
    },
    {
      "cell_type": "code",
      "source": [
        "from sklearn import preprocessing\n",
        "le = preprocessing.LabelEncoder()\n",
        "le.fit(test_labels)\n",
        "test_labels_encoded = le.transform(test_labels)\n",
        "le.fit(train_labels)\n",
        "train_labels_encoded = le.transform(train_labels)"
      ],
      "metadata": {
        "execution": {
          "iopub.status.busy": "2022-05-15T23:38:47.828234Z",
          "iopub.execute_input": "2022-05-15T23:38:47.828608Z",
          "iopub.status.idle": "2022-05-15T23:38:47.837797Z",
          "shell.execute_reply.started": "2022-05-15T23:38:47.828571Z",
          "shell.execute_reply": "2022-05-15T23:38:47.836664Z"
        },
        "trusted": true,
        "id": "3pWqp5fYf2BL"
      },
      "execution_count": 9,
      "outputs": []
    },
    {
      "cell_type": "code",
      "source": [
        "#Split data into test and train datasets (already split but assigning to meaningful convention)\n",
        "x_train, y_train, x_test, y_test = train_images, train_labels_encoded, test_images, test_labels_encoded"
      ],
      "metadata": {
        "execution": {
          "iopub.status.busy": "2022-05-15T23:38:47.842939Z",
          "iopub.execute_input": "2022-05-15T23:38:47.844104Z",
          "iopub.status.idle": "2022-05-15T23:38:47.852435Z",
          "shell.execute_reply.started": "2022-05-15T23:38:47.844043Z",
          "shell.execute_reply": "2022-05-15T23:38:47.851608Z"
        },
        "trusted": true,
        "id": "7bLugAY5f2BM"
      },
      "execution_count": 10,
      "outputs": []
    },
    {
      "cell_type": "code",
      "source": [
        "#One hot encode y values for neural network. \n",
        "from tensorflow.keras.utils import to_categorical\n",
        "y_train_one_hot = to_categorical(y_train)\n",
        "y_test_one_hot = to_categorical(y_test)"
      ],
      "metadata": {
        "execution": {
          "iopub.status.busy": "2022-05-15T23:38:47.853579Z",
          "iopub.execute_input": "2022-05-15T23:38:47.854198Z",
          "iopub.status.idle": "2022-05-15T23:38:47.869799Z",
          "shell.execute_reply.started": "2022-05-15T23:38:47.854159Z",
          "shell.execute_reply": "2022-05-15T23:38:47.868614Z"
        },
        "trusted": true,
        "id": "AdO_28c3f2BM"
      },
      "execution_count": 11,
      "outputs": []
    },
    {
      "cell_type": "code",
      "source": [
        "y_test_one_hot"
      ],
      "metadata": {
        "execution": {
          "iopub.status.busy": "2022-05-15T23:38:47.871658Z",
          "iopub.execute_input": "2022-05-15T23:38:47.871933Z",
          "iopub.status.idle": "2022-05-15T23:38:47.886293Z",
          "shell.execute_reply.started": "2022-05-15T23:38:47.871901Z",
          "shell.execute_reply": "2022-05-15T23:38:47.885283Z"
        },
        "trusted": true,
        "id": "MIURECsaf2BN",
        "colab": {
          "base_uri": "https://localhost:8080/"
        },
        "outputId": "50e9d679-ee2f-4ccb-953f-b174cd1af662"
      },
      "execution_count": 12,
      "outputs": [
        {
          "output_type": "execute_result",
          "data": {
            "text/plain": [
              "array([[0., 0., 0., 1.],\n",
              "       [0., 0., 1., 0.],\n",
              "       [0., 1., 0., 0.],\n",
              "       ...,\n",
              "       [0., 1., 0., 0.],\n",
              "       [0., 0., 1., 0.],\n",
              "       [0., 0., 1., 0.]], dtype=float32)"
            ]
          },
          "metadata": {},
          "execution_count": 12
        }
      ]
    },
    {
      "cell_type": "code",
      "source": [
        "#Load model wothout classifier/fully connected layers\n",
        "VGG_model = VGG19(weights='imagenet', include_top=False, input_shape=(128, 128, 3))\n",
        "\n",
        "#Make loaded layers as non-trainable. This is important as we want to work with pre-trained weights\n",
        "for layer in VGG_model.layers:\n",
        "\tlayer.trainable = False\n",
        "    \n",
        "VGG_model.summary()  #Trainable parameters will be 0"
      ],
      "metadata": {
        "execution": {
          "iopub.status.busy": "2022-05-15T23:38:47.887770Z",
          "iopub.execute_input": "2022-05-15T23:38:47.888691Z",
          "iopub.status.idle": "2022-05-15T23:38:50.158014Z",
          "shell.execute_reply.started": "2022-05-15T23:38:47.888650Z",
          "shell.execute_reply": "2022-05-15T23:38:50.155852Z"
        },
        "trusted": true,
        "id": "PwSKUrXgf2BN",
        "colab": {
          "base_uri": "https://localhost:8080/"
        },
        "outputId": "affe18ac-9b92-4bac-b688-59172b2c22dd"
      },
      "execution_count": 13,
      "outputs": [
        {
          "output_type": "stream",
          "name": "stdout",
          "text": [
            "Model: \"vgg19\"\n",
            "_________________________________________________________________\n",
            " Layer (type)                Output Shape              Param #   \n",
            "=================================================================\n",
            " input_1 (InputLayer)        [(None, 128, 128, 3)]     0         \n",
            "                                                                 \n",
            " block1_conv1 (Conv2D)       (None, 128, 128, 64)      1792      \n",
            "                                                                 \n",
            " block1_conv2 (Conv2D)       (None, 128, 128, 64)      36928     \n",
            "                                                                 \n",
            " block1_pool (MaxPooling2D)  (None, 64, 64, 64)        0         \n",
            "                                                                 \n",
            " block2_conv1 (Conv2D)       (None, 64, 64, 128)       73856     \n",
            "                                                                 \n",
            " block2_conv2 (Conv2D)       (None, 64, 64, 128)       147584    \n",
            "                                                                 \n",
            " block2_pool (MaxPooling2D)  (None, 32, 32, 128)       0         \n",
            "                                                                 \n",
            " block3_conv1 (Conv2D)       (None, 32, 32, 256)       295168    \n",
            "                                                                 \n",
            " block3_conv2 (Conv2D)       (None, 32, 32, 256)       590080    \n",
            "                                                                 \n",
            " block3_conv3 (Conv2D)       (None, 32, 32, 256)       590080    \n",
            "                                                                 \n",
            " block3_conv4 (Conv2D)       (None, 32, 32, 256)       590080    \n",
            "                                                                 \n",
            " block3_pool (MaxPooling2D)  (None, 16, 16, 256)       0         \n",
            "                                                                 \n",
            " block4_conv1 (Conv2D)       (None, 16, 16, 512)       1180160   \n",
            "                                                                 \n",
            " block4_conv2 (Conv2D)       (None, 16, 16, 512)       2359808   \n",
            "                                                                 \n",
            " block4_conv3 (Conv2D)       (None, 16, 16, 512)       2359808   \n",
            "                                                                 \n",
            " block4_conv4 (Conv2D)       (None, 16, 16, 512)       2359808   \n",
            "                                                                 \n",
            " block4_pool (MaxPooling2D)  (None, 8, 8, 512)         0         \n",
            "                                                                 \n",
            " block5_conv1 (Conv2D)       (None, 8, 8, 512)         2359808   \n",
            "                                                                 \n",
            " block5_conv2 (Conv2D)       (None, 8, 8, 512)         2359808   \n",
            "                                                                 \n",
            " block5_conv3 (Conv2D)       (None, 8, 8, 512)         2359808   \n",
            "                                                                 \n",
            " block5_conv4 (Conv2D)       (None, 8, 8, 512)         2359808   \n",
            "                                                                 \n",
            " block5_pool (MaxPooling2D)  (None, 4, 4, 512)         0         \n",
            "                                                                 \n",
            "=================================================================\n",
            "Total params: 20,024,384\n",
            "Trainable params: 0\n",
            "Non-trainable params: 20,024,384\n",
            "_________________________________________________________________\n"
          ]
        }
      ]
    },
    {
      "cell_type": "code",
      "source": [
        "#Now, let us use features from convolutional network for RF\n",
        "feature_extractor=VGG_model.predict(x_train)\n",
        "\n",
        "features = feature_extractor.reshape(feature_extractor.shape[0], -1)\n",
        "\n",
        "X_for_model= features #This is our X input for model"
      ],
      "metadata": {
        "execution": {
          "iopub.status.busy": "2022-05-15T23:38:50.159671Z",
          "iopub.execute_input": "2022-05-15T23:38:50.159987Z",
          "iopub.status.idle": "2022-05-15T23:39:00.360965Z",
          "shell.execute_reply.started": "2022-05-15T23:38:50.159953Z",
          "shell.execute_reply": "2022-05-15T23:39:00.359930Z"
        },
        "trusted": true,
        "id": "-xgzw45sf2BN"
      },
      "execution_count": 14,
      "outputs": []
    },
    {
      "cell_type": "code",
      "source": [
        "from keras.utils.vis_utils import plot_model\n",
        "\n",
        "plot_model(VGG_model, to_file='model_plot.png', show_shapes=True, show_layer_names=True,dpi=50)"
      ],
      "metadata": {
        "execution": {
          "iopub.status.busy": "2022-05-15T23:39:00.362537Z",
          "iopub.execute_input": "2022-05-15T23:39:00.363071Z",
          "iopub.status.idle": "2022-05-15T23:39:01.708679Z",
          "shell.execute_reply.started": "2022-05-15T23:39:00.363023Z",
          "shell.execute_reply": "2022-05-15T23:39:01.707317Z"
        },
        "trusted": true,
        "id": "q1r8Q1K7f2BO",
        "colab": {
          "base_uri": "https://localhost:8080/",
          "height": 1000
        },
        "outputId": "48e07755-91a9-4df8-f080-fcadc475584e"
      },
      "execution_count": 15,
      "outputs": [
        {
          "output_type": "execute_result",
          "data": {
            "text/plain": [
              "<IPython.core.display.Image object>"
            ],
            "image/png": "[encoded data removed]"
          },
          "metadata": {},
          "execution_count": 15
        }
      ]
    },
    {
      "cell_type": "code",
      "source": [
        "import visualkeras\n",
        "from PIL import ImageFont\n",
        "#plt.figure(figsize=(2, 2))\n",
        "#visualkeras.layered_view(VGG_model, legend=True,spacing=15,scale_xy = 10 , scale_z = 10, max_z = 50) "
      ],
      "metadata": {
        "execution": {
          "iopub.status.busy": "2022-05-16T00:06:32.946437Z",
          "iopub.execute_input": "2022-05-16T00:06:32.946789Z",
          "iopub.status.idle": "2022-05-16T00:06:33.030522Z",
          "shell.execute_reply.started": "2022-05-16T00:06:32.946752Z",
          "shell.execute_reply": "2022-05-16T00:06:33.029817Z"
        },
        "trusted": true,
        "id": "StzAfjLNf2BO"
      },
      "execution_count": 16,
      "outputs": []
    },
    {
      "cell_type": "code",
      "source": [
        "from sklearn import metrics\n",
        "from sklearn.model_selection import cross_val_score\n",
        "\n",
        "def cross_val(model):\n",
        "    pred = cross_val_score(model, X_for_model, y_train)\n",
        "    return pred.mean()\n",
        "\n",
        "def print_evaluate(true, predicted):  \n",
        "    mae = metrics.mean_absolute_error(y_test, predicted)\n",
        "    mse = metrics.mean_squared_error(y_test, predicted)\n",
        "    rmse = np.sqrt(metrics.mean_squared_error(y_test, predicted))\n",
        "    r2_square = metrics.r2_score(y_test, predicted)\n",
        "    Accuracy= metrics.accuracy_score(y_test,predicted)\n",
        "\n",
        "    print('MAE:', mae)\n",
        "    print('MSE:', mse)\n",
        "    print('RMSE:', rmse)\n",
        "    print('R2 Square', r2_square)\n",
        "    print('Accuracy', Accuracy)\n",
        "\n",
        "\n",
        "\n",
        "    print('__________________________________')\n",
        "    \n",
        "def evaluate(true, predicted):\n",
        "    mae = metrics.mean_absolute_error(y_test, predicted)\n",
        "    mse = metrics.mean_squared_error(y_test, predicted)\n",
        "    rmse = np.sqrt(metrics.mean_squared_error(y_test, predicted))\n",
        "    r2_square = metrics.r2_score(y_test, predicted)\n",
        "    Accuracy= metrics.accuracy_score(y_test,predicted)\n",
        "\n",
        "    return mae, mse, rmse, r2_square, Accuracy"
      ],
      "metadata": {
        "execution": {
          "iopub.status.busy": "2022-05-15T23:39:01.710695Z",
          "iopub.execute_input": "2022-05-15T23:39:01.712114Z",
          "iopub.status.idle": "2022-05-15T23:39:01.726322Z",
          "shell.execute_reply.started": "2022-05-15T23:39:01.712045Z",
          "shell.execute_reply": "2022-05-15T23:39:01.724919Z"
        },
        "trusted": true,
        "id": "gyvNB_CAf2BO"
      },
      "execution_count": 17,
      "outputs": []
    },
    {
      "cell_type": "markdown",
      "source": [
        "# knn"
      ],
      "metadata": {
        "id": "b20WbWmjf2BP"
      }
    },
    {
      "cell_type": "code",
      "source": [
        "from sklearn.neighbors import KNeighborsClassifier\n",
        "knn = KNeighborsClassifier()\n",
        "knn_model = knn.fit(X_for_model, y_train)\n",
        "knn_model"
      ],
      "metadata": {
        "execution": {
          "iopub.status.busy": "2022-05-15T23:39:01.727969Z",
          "iopub.execute_input": "2022-05-15T23:39:01.728909Z",
          "iopub.status.idle": "2022-05-15T23:39:01.750069Z",
          "shell.execute_reply.started": "2022-05-15T23:39:01.728846Z",
          "shell.execute_reply": "2022-05-15T23:39:01.749350Z"
        },
        "trusted": true,
        "id": "JUNRldMAf2BQ",
        "colab": {
          "base_uri": "https://localhost:8080/"
        },
        "outputId": "d24d4bb2-3fc2-4a70-bd7b-77aa4caa748b"
      },
      "execution_count": 18,
      "outputs": [
        {
          "output_type": "execute_result",
          "data": {
            "text/plain": [
              "KNeighborsClassifier()"
            ]
          },
          "metadata": {},
          "execution_count": 18
        }
      ]
    },
    {
      "cell_type": "code",
      "source": [
        "X_test_feature = VGG_model.predict(x_test)\n",
        "X_test_features = X_test_feature.reshape(X_test_feature.shape[0], -1)\n",
        "#Now predict using the trained RF model. \n",
        "prediction = knn_model.predict(X_test_features)"
      ],
      "metadata": {
        "execution": {
          "iopub.status.busy": "2022-05-15T23:39:01.751904Z",
          "iopub.execute_input": "2022-05-15T23:39:01.752270Z",
          "iopub.status.idle": "2022-05-15T23:39:12.297894Z",
          "shell.execute_reply.started": "2022-05-15T23:39:01.752222Z",
          "shell.execute_reply": "2022-05-15T23:39:12.296940Z"
        },
        "trusted": true,
        "id": "eyH-B71Ef2BQ"
      },
      "execution_count": 19,
      "outputs": []
    },
    {
      "cell_type": "code",
      "source": [
        "print('Test set evaluation:\\n_____________________________________')\n",
        "print_evaluate(y_test, prediction)"
      ],
      "metadata": {
        "execution": {
          "iopub.status.busy": "2022-05-15T23:39:12.299265Z",
          "iopub.execute_input": "2022-05-15T23:39:12.299760Z",
          "iopub.status.idle": "2022-05-15T23:39:12.310433Z",
          "shell.execute_reply.started": "2022-05-15T23:39:12.299719Z",
          "shell.execute_reply": "2022-05-15T23:39:12.309457Z"
        },
        "trusted": true,
        "id": "GrHP4Cflf2BQ",
        "colab": {
          "base_uri": "https://localhost:8080/"
        },
        "outputId": "aa86db67-dd8a-487f-92b4-7328a48f75e6"
      },
      "execution_count": 20,
      "outputs": [
        {
          "output_type": "stream",
          "name": "stdout",
          "text": [
            "Test set evaluation:\n",
            "_____________________________________\n",
            "MAE: 0.3119803476946334\n",
            "MSE: 0.4733560090702948\n",
            "RMSE: 0.6880087274666614\n",
            "R2 Square 0.3465243161813423\n",
            "Accuracy 0.767384731670446\n",
            "__________________________________\n"
          ]
        }
      ]
    },
    {
      "cell_type": "code",
      "source": [
        "results_df = pd.DataFrame(data=[[\"KNeighborsClassifier\", *evaluate(y_test, prediction) ]], \n",
        "                          columns=['Model', 'MAE', 'MSE', 'RMSE', 'R2 Square','Accuracy_VGG19'])\n",
        "results_df"
      ],
      "metadata": {
        "execution": {
          "iopub.status.busy": "2022-05-15T23:39:12.311703Z",
          "iopub.execute_input": "2022-05-15T23:39:12.312627Z",
          "iopub.status.idle": "2022-05-15T23:39:12.343783Z",
          "shell.execute_reply.started": "2022-05-15T23:39:12.312587Z",
          "shell.execute_reply": "2022-05-15T23:39:12.342873Z"
        },
        "trusted": true,
        "id": "BvLKZg2Nf2BQ",
        "colab": {
          "base_uri": "https://localhost:8080/",
          "height": 81
        },
        "outputId": "b84a5b98-9179-4403-951f-2cc9523b33fc"
      },
      "execution_count": 21,
      "outputs": [
        {
          "output_type": "execute_result",
          "data": {
            "text/plain": [
              "                  Model      MAE       MSE      RMSE  R2 Square  \\\n",
              "0  KNeighborsClassifier  0.31198  0.473356  0.688009   0.346524   \n",
              "\n",
              "   Accuracy_VGG19  \n",
              "0        0.767385  "
            ],
            "text/html": [
              "\n",
              "  <div id=\"df-e15d6b78-32b8-4114-a4c0-ead92c57de05\">\n",
              "    <div class=\"colab-df-container\">\n",
              "      <div>\n",
              "<style scoped>\n",
              "    .dataframe tbody tr th:only-of-type {\n",
              "        vertical-align: middle;\n",
              "    }\n",
              "\n",
              "    .dataframe tbody tr th {\n",
              "        vertical-align: top;\n",
              "    }\n",
              "\n",
              "    .dataframe thead th {\n",
              "        text-align: right;\n",
              "    }\n",
              "</style>\n",
              "<table border=\"1\" class=\"dataframe\">\n",
              "  <thead>\n",
              "    <tr style=\"text-align: right;\">\n",
              "      <th></th>\n",
              "      <th>Model</th>\n",
              "      <th>MAE</th>\n",
              "      <th>MSE</th>\n",
              "      <th>RMSE</th>\n",
              "      <th>R2 Square</th>\n",
              "      <th>Accuracy_VGG19</th>\n",
              "    </tr>\n",
              "  </thead>\n",
              "  <tbody>\n",
              "    <tr>\n",
              "      <th>0</th>\n",
              "      <td>KNeighborsClassifier</td>\n",
              "      <td>0.31198</td>\n",
              "      <td>0.473356</td>\n",
              "      <td>0.688009</td>\n",
              "      <td>0.346524</td>\n",
              "      <td>0.767385</td>\n",
              "    </tr>\n",
              "  </tbody>\n",
              "</table>\n",
              "</div>\n",
              "      <button class=\"colab-df-convert\" onclick=\"convertToInteractive('df-e15d6b78-32b8-4114-a4c0-ead92c57de05')\"\n",
              "              title=\"Convert this dataframe to an interactive table.\"\n",
              "              style=\"display:none;\">\n",
              "        \n",
              "  <svg xmlns=\"http://www.w3.org/2000/svg\" height=\"24px\"viewBox=\"0 0 24 24\"\n",
              "       width=\"24px\">\n",
              "    <path d=\"M0 0h24v24H0V0z\" fill=\"none\"/>\n",
              "    <path d=\"M18.56 5.44l.94 2.06.94-2.06 2.06-.94-2.06-.94-.94-2.06-.94 2.06-2.06.94zm-11 1L8.5 8.5l.94-2.06 2.06-.94-2.06-.94L8.5 2.5l-.94 2.06-2.06.94zm10 10l.94 2.06.94-2.06 2.06-.94-2.06-.94-.94-2.06-.94 2.06-2.06.94z\"/><path d=\"M17.41 7.96l-1.37-1.37c-.4-.4-.92-.59-1.43-.59-.52 0-1.04.2-1.43.59L10.3 9.45l-7.72 7.72c-.78.78-.78 2.05 0 2.83L4 21.41c.39.39.9.59 1.41.59.51 0 1.02-.2 1.41-.59l7.78-7.78 2.81-2.81c.8-.78.8-2.07 0-2.86zM5.41 20L4 18.59l7.72-7.72 1.47 1.35L5.41 20z\"/>\n",
              "  </svg>\n",
              "      </button>\n",
              "      \n",
              "  <style>\n",
              "    .colab-df-container {\n",
              "      display:flex;\n",
              "      flex-wrap:wrap;\n",
              "      gap: 12px;\n",
              "    }\n",
              "\n",
              "    .colab-df-convert {\n",
              "      background-color: #E8F0FE;\n",
              "      border: none;\n",
              "      border-radius: 50%;\n",
              "      cursor: pointer;\n",
              "      display: none;\n",
              "      fill: #1967D2;\n",
              "      height: 32px;\n",
              "      padding: 0 0 0 0;\n",
              "      width: 32px;\n",
              "    }\n",
              "\n",
              "    .colab-df-convert:hover {\n",
              "      background-color: #E2EBFA;\n",
              "      box-shadow: 0px 1px 2px rgba(60, 64, 67, 0.3), 0px 1px 3px 1px rgba(60, 64, 67, 0.15);\n",
              "      fill: #174EA6;\n",
              "    }\n",
              "\n",
              "    [theme=dark] .colab-df-convert {\n",
              "      background-color: #3B4455;\n",
              "      fill: #D2E3FC;\n",
              "    }\n",
              "\n",
              "    [theme=dark] .colab-df-convert:hover {\n",
              "      background-color: #434B5C;\n",
              "      box-shadow: 0px 1px 3px 1px rgba(0, 0, 0, 0.15);\n",
              "      filter: drop-shadow(0px 1px 2px rgba(0, 0, 0, 0.3));\n",
              "      fill: #FFFFFF;\n",
              "    }\n",
              "  </style>\n",
              "\n",
              "      <script>\n",
              "        const buttonEl =\n",
              "          document.querySelector('#df-e15d6b78-32b8-4114-a4c0-ead92c57de05 button.colab-df-convert');\n",
              "        buttonEl.style.display =\n",
              "          google.colab.kernel.accessAllowed ? 'block' : 'none';\n",
              "\n",
              "        async function convertToInteractive(key) {\n",
              "          const element = document.querySelector('#df-e15d6b78-32b8-4114-a4c0-ead92c57de05');\n",
              "          const dataTable =\n",
              "            await google.colab.kernel.invokeFunction('convertToInteractive',\n",
              "                                                     [key], {});\n",
              "          if (!dataTable) return;\n",
              "\n",
              "          const docLinkHtml = 'Like what you see? Visit the ' +\n",
              "            '<a target=\"_blank\" href=https://colab.research.google.com/notebooks/data_table.ipynb>data table notebook</a>'\n",
              "            + ' to learn more about interactive tables.';\n",
              "          element.innerHTML = '';\n",
              "          dataTable['output_type'] = 'display_data';\n",
              "          await google.colab.output.renderOutput(dataTable, element);\n",
              "          const docLink = document.createElement('div');\n",
              "          docLink.innerHTML = docLinkHtml;\n",
              "          element.appendChild(docLink);\n",
              "        }\n",
              "      </script>\n",
              "    </div>\n",
              "  </div>\n",
              "  "
            ]
          },
          "metadata": {},
          "execution_count": 21
        }
      ]
    },
    {
      "cell_type": "code",
      "source": [
        "print(classification_report(y_test,prediction))"
      ],
      "metadata": {
        "execution": {
          "iopub.status.busy": "2022-05-15T23:39:12.345252Z",
          "iopub.execute_input": "2022-05-15T23:39:12.345610Z",
          "iopub.status.idle": "2022-05-15T23:39:12.361061Z",
          "shell.execute_reply.started": "2022-05-15T23:39:12.345569Z",
          "shell.execute_reply": "2022-05-15T23:39:12.359973Z"
        },
        "trusted": true,
        "id": "z-5hsaEsf2BR",
        "colab": {
          "base_uri": "https://localhost:8080/"
        },
        "outputId": "f879de44-34b3-48f1-d862-7e777a104422"
      },
      "execution_count": 22,
      "outputs": [
        {
          "output_type": "stream",
          "name": "stdout",
          "text": [
            "              precision    recall  f1-score   support\n",
            "\n",
            "           0       0.68      0.47      0.56       949\n",
            "           1       0.76      0.70      0.73      1493\n",
            "           2       0.77      0.92      0.84      2527\n",
            "           3       0.96      0.80      0.88       323\n",
            "\n",
            "    accuracy                           0.77      5292\n",
            "   macro avg       0.79      0.72      0.75      5292\n",
            "weighted avg       0.76      0.77      0.76      5292\n",
            "\n"
          ]
        }
      ]
    },
    {
      "cell_type": "code",
      "source": [
        "from sklearn.metrics import confusion_matrix\n",
        "from matplotlib.pyplot import figure\n",
        "figure(figsize=(5, 4), dpi=80)\n",
        "cm = confusion_matrix(y_test,prediction)\n",
        "\n",
        "sns.heatmap(cm, annot=True,fmt=\"d\",cmap=\"YlGnBu\")"
      ],
      "metadata": {
        "execution": {
          "iopub.status.busy": "2022-05-15T23:39:12.362840Z",
          "iopub.execute_input": "2022-05-15T23:39:12.363371Z",
          "iopub.status.idle": "2022-05-15T23:39:12.666036Z",
          "shell.execute_reply.started": "2022-05-15T23:39:12.363324Z",
          "shell.execute_reply": "2022-05-15T23:39:12.664868Z"
        },
        "trusted": true,
        "id": "_IDgBGaef2BR",
        "colab": {
          "base_uri": "https://localhost:8080/",
          "height": 309
        },
        "outputId": "385c9df2-65c1-497e-dc14-3bef51289c13"
      },
      "execution_count": 23,
      "outputs": [
        {
          "output_type": "execute_result",
          "data": {
            "text/plain": [
              "<matplotlib.axes._subplots.AxesSubplot at 0x7f3e4e0cf690>"
            ]
          },
          "metadata": {},
          "execution_count": 23
        },
        {
          "output_type": "display_data",
          "data": {
            "text/plain": [
              "<Figure size 400x320 with 2 Axes>"
            ],
            "image/png": "[encoded data removed]"
          },
          "metadata": {
            "needs_background": "light"
          }
        }
      ]
    },
    {
      "cell_type": "markdown",
      "source": [
        "# DecisionTreeClassifier"
      ],
      "metadata": {
        "id": "nGaVLl7-f2BU"
      }
    },
    {
      "cell_type": "code",
      "source": [
        "from sklearn.tree import DecisionTreeClassifier\n",
        "cart_model = DecisionTreeClassifier()\n",
        "cart_model = cart_model.fit(X_for_model, y_train)\n",
        "cart_model"
      ],
      "metadata": {
        "execution": {
          "iopub.status.busy": "2022-05-15T23:44:47.509229Z",
          "iopub.execute_input": "2022-05-15T23:44:47.509560Z",
          "iopub.status.idle": "2022-05-15T23:44:47.801680Z",
          "shell.execute_reply.started": "2022-05-15T23:44:47.509528Z",
          "shell.execute_reply": "2022-05-15T23:44:47.800754Z"
        },
        "trusted": true,
        "id": "HmFQbakzf2BU",
        "colab": {
          "base_uri": "https://localhost:8080/"
        },
        "outputId": "1e2f93d3-01ca-4fd3-a19a-152d414b6f73"
      },
      "execution_count": 24,
      "outputs": [
        {
          "output_type": "execute_result",
          "data": {
            "text/plain": [
              "DecisionTreeClassifier()"
            ]
          },
          "metadata": {},
          "execution_count": 24
        }
      ]
    },
    {
      "cell_type": "code",
      "source": [
        "X_test_feature = VGG_model.predict(x_test)\n",
        "X_test_features = X_test_feature.reshape(X_test_feature.shape[0], -1)\n",
        "#Now predict using the trained RF model. \n",
        "prediction = cart_model.predict(X_test_features)"
      ],
      "metadata": {
        "execution": {
          "iopub.status.busy": "2022-05-15T23:44:58.702994Z",
          "iopub.execute_input": "2022-05-15T23:44:58.703496Z",
          "iopub.status.idle": "2022-05-15T23:45:08.759712Z",
          "shell.execute_reply.started": "2022-05-15T23:44:58.703449Z",
          "shell.execute_reply": "2022-05-15T23:45:08.758522Z"
        },
        "trusted": true,
        "id": "MQkJ4Li2f2BU"
      },
      "execution_count": 25,
      "outputs": []
    },
    {
      "cell_type": "code",
      "source": [
        "print('Test set evaluation:\\n_____________________________________')\n",
        "print_evaluate(y_test, prediction)"
      ],
      "metadata": {
        "execution": {
          "iopub.status.busy": "2022-05-15T23:45:08.761481Z",
          "iopub.execute_input": "2022-05-15T23:45:08.761759Z",
          "iopub.status.idle": "2022-05-15T23:45:08.772303Z",
          "shell.execute_reply.started": "2022-05-15T23:45:08.761728Z",
          "shell.execute_reply": "2022-05-15T23:45:08.771400Z"
        },
        "trusted": true,
        "id": "aKuYWeT5f2BU",
        "colab": {
          "base_uri": "https://localhost:8080/"
        },
        "outputId": "635f4138-618c-424e-e6e7-23c25f9883e3"
      },
      "execution_count": 26,
      "outputs": [
        {
          "output_type": "stream",
          "name": "stdout",
          "text": [
            "Test set evaluation:\n",
            "_____________________________________\n",
            "MAE: 0.47619047619047616\n",
            "MSE: 0.7445200302343159\n",
            "RMSE: 0.8628557412651989\n",
            "R2 Square -0.02782203363094271\n",
            "Accuracy 0.6494708994708994\n",
            "__________________________________\n"
          ]
        }
      ]
    },
    {
      "cell_type": "code",
      "source": [
        "results_df_2 = pd.DataFrame(data=[[\"DecisionTreeClassifier\", *evaluate(y_test, prediction)]], \n",
        "                          columns=['Model', 'MAE', 'MSE', 'RMSE', 'R2 Square','Accuracy_VGG19' ])\n",
        "results_df = results_df.append(results_df_2, ignore_index=True)\n",
        "results_df"
      ],
      "metadata": {
        "execution": {
          "iopub.status.busy": "2022-05-15T23:45:27.014808Z",
          "iopub.execute_input": "2022-05-15T23:45:27.015154Z",
          "iopub.status.idle": "2022-05-15T23:45:27.038911Z",
          "shell.execute_reply.started": "2022-05-15T23:45:27.015121Z",
          "shell.execute_reply": "2022-05-15T23:45:27.037665Z"
        },
        "trusted": true,
        "id": "DNyNwj3Ef2BU",
        "colab": {
          "base_uri": "https://localhost:8080/",
          "height": 112
        },
        "outputId": "536a16f4-e3a5-4be0-b485-7fd85a7f16c9"
      },
      "execution_count": 27,
      "outputs": [
        {
          "output_type": "execute_result",
          "data": {
            "text/plain": [
              "                    Model      MAE       MSE      RMSE  R2 Square  \\\n",
              "0    KNeighborsClassifier  0.31198  0.473356  0.688009   0.346524   \n",
              "1  DecisionTreeClassifier  0.47619  0.744520  0.862856  -0.027822   \n",
              "\n",
              "   Accuracy_VGG19  \n",
              "0        0.767385  \n",
              "1        0.649471  "
            ],
            "text/html": [
              "\n",
              "  <div id=\"df-2e2c79e1-5fed-4e61-ac66-451a4baa6d13\">\n",
              "    <div class=\"colab-df-container\">\n",
              "      <div>\n",
              "<style scoped>\n",
              "    .dataframe tbody tr th:only-of-type {\n",
              "        vertical-align: middle;\n",
              "    }\n",
              "\n",
              "    .dataframe tbody tr th {\n",
              "        vertical-align: top;\n",
              "    }\n",
              "\n",
              "    .dataframe thead th {\n",
              "        text-align: right;\n",
              "    }\n",
              "</style>\n",
              "<table border=\"1\" class=\"dataframe\">\n",
              "  <thead>\n",
              "    <tr style=\"text-align: right;\">\n",
              "      <th></th>\n",
              "      <th>Model</th>\n",
              "      <th>MAE</th>\n",
              "      <th>MSE</th>\n",
              "      <th>RMSE</th>\n",
              "      <th>R2 Square</th>\n",
              "      <th>Accuracy_VGG19</th>\n",
              "    </tr>\n",
              "  </thead>\n",
              "  <tbody>\n",
              "    <tr>\n",
              "      <th>0</th>\n",
              "      <td>KNeighborsClassifier</td>\n",
              "      <td>0.31198</td>\n",
              "      <td>0.473356</td>\n",
              "      <td>0.688009</td>\n",
              "      <td>0.346524</td>\n",
              "      <td>0.767385</td>\n",
              "    </tr>\n",
              "    <tr>\n",
              "      <th>1</th>\n",
              "      <td>DecisionTreeClassifier</td>\n",
              "      <td>0.47619</td>\n",
              "      <td>0.744520</td>\n",
              "      <td>0.862856</td>\n",
              "      <td>-0.027822</td>\n",
              "      <td>0.649471</td>\n",
              "    </tr>\n",
              "  </tbody>\n",
              "</table>\n",
              "</div>\n",
              "      <button class=\"colab-df-convert\" onclick=\"convertToInteractive('df-2e2c79e1-5fed-4e61-ac66-451a4baa6d13')\"\n",
              "              title=\"Convert this dataframe to an interactive table.\"\n",
              "              style=\"display:none;\">\n",
              "        \n",
              "  <svg xmlns=\"http://www.w3.org/2000/svg\" height=\"24px\"viewBox=\"0 0 24 24\"\n",
              "       width=\"24px\">\n",
              "    <path d=\"M0 0h24v24H0V0z\" fill=\"none\"/>\n",
              "    <path d=\"M18.56 5.44l.94 2.06.94-2.06 2.06-.94-2.06-.94-.94-2.06-.94 2.06-2.06.94zm-11 1L8.5 8.5l.94-2.06 2.06-.94-2.06-.94L8.5 2.5l-.94 2.06-2.06.94zm10 10l.94 2.06.94-2.06 2.06-.94-2.06-.94-.94-2.06-.94 2.06-2.06.94z\"/><path d=\"M17.41 7.96l-1.37-1.37c-.4-.4-.92-.59-1.43-.59-.52 0-1.04.2-1.43.59L10.3 9.45l-7.72 7.72c-.78.78-.78 2.05 0 2.83L4 21.41c.39.39.9.59 1.41.59.51 0 1.02-.2 1.41-.59l7.78-7.78 2.81-2.81c.8-.78.8-2.07 0-2.86zM5.41 20L4 18.59l7.72-7.72 1.47 1.35L5.41 20z\"/>\n",
              "  </svg>\n",
              "      </button>\n",
              "      \n",
              "  <style>\n",
              "    .colab-df-container {\n",
              "      display:flex;\n",
              "      flex-wrap:wrap;\n",
              "      gap: 12px;\n",
              "    }\n",
              "\n",
              "    .colab-df-convert {\n",
              "      background-color: #E8F0FE;\n",
              "      border: none;\n",
              "      border-radius: 50%;\n",
              "      cursor: pointer;\n",
              "      display: none;\n",
              "      fill: #1967D2;\n",
              "      height: 32px;\n",
              "      padding: 0 0 0 0;\n",
              "      width: 32px;\n",
              "    }\n",
              "\n",
              "    .colab-df-convert:hover {\n",
              "      background-color: #E2EBFA;\n",
              "      box-shadow: 0px 1px 2px rgba(60, 64, 67, 0.3), 0px 1px 3px 1px rgba(60, 64, 67, 0.15);\n",
              "      fill: #174EA6;\n",
              "    }\n",
              "\n",
              "    [theme=dark] .colab-df-convert {\n",
              "      background-color: #3B4455;\n",
              "      fill: #D2E3FC;\n",
              "    }\n",
              "\n",
              "    [theme=dark] .colab-df-convert:hover {\n",
              "      background-color: #434B5C;\n",
              "      box-shadow: 0px 1px 3px 1px rgba(0, 0, 0, 0.15);\n",
              "      filter: drop-shadow(0px 1px 2px rgba(0, 0, 0, 0.3));\n",
              "      fill: #FFFFFF;\n",
              "    }\n",
              "  </style>\n",
              "\n",
              "      <script>\n",
              "        const buttonEl =\n",
              "          document.querySelector('#df-2e2c79e1-5fed-4e61-ac66-451a4baa6d13 button.colab-df-convert');\n",
              "        buttonEl.style.display =\n",
              "          google.colab.kernel.accessAllowed ? 'block' : 'none';\n",
              "\n",
              "        async function convertToInteractive(key) {\n",
              "          const element = document.querySelector('#df-2e2c79e1-5fed-4e61-ac66-451a4baa6d13');\n",
              "          const dataTable =\n",
              "            await google.colab.kernel.invokeFunction('convertToInteractive',\n",
              "                                                     [key], {});\n",
              "          if (!dataTable) return;\n",
              "\n",
              "          const docLinkHtml = 'Like what you see? Visit the ' +\n",
              "            '<a target=\"_blank\" href=https://colab.research.google.com/notebooks/data_table.ipynb>data table notebook</a>'\n",
              "            + ' to learn more about interactive tables.';\n",
              "          element.innerHTML = '';\n",
              "          dataTable['output_type'] = 'display_data';\n",
              "          await google.colab.output.renderOutput(dataTable, element);\n",
              "          const docLink = document.createElement('div');\n",
              "          docLink.innerHTML = docLinkHtml;\n",
              "          element.appendChild(docLink);\n",
              "        }\n",
              "      </script>\n",
              "    </div>\n",
              "  </div>\n",
              "  "
            ]
          },
          "metadata": {},
          "execution_count": 27
        }
      ]
    },
    {
      "cell_type": "code",
      "source": [
        "print(classification_report(y_test,prediction))"
      ],
      "metadata": {
        "execution": {
          "iopub.status.busy": "2022-05-15T23:45:37.574283Z",
          "iopub.execute_input": "2022-05-15T23:45:37.575131Z",
          "iopub.status.idle": "2022-05-15T23:45:37.588467Z",
          "shell.execute_reply.started": "2022-05-15T23:45:37.575084Z",
          "shell.execute_reply": "2022-05-15T23:45:37.587159Z"
        },
        "trusted": true,
        "id": "LTrsSdrJf2BV",
        "colab": {
          "base_uri": "https://localhost:8080/"
        },
        "outputId": "f5eac783-515b-4670-a21d-57917dcba316"
      },
      "execution_count": 28,
      "outputs": [
        {
          "output_type": "stream",
          "name": "stdout",
          "text": [
            "              precision    recall  f1-score   support\n",
            "\n",
            "           0       0.43      0.42      0.42       949\n",
            "           1       0.61      0.60      0.60      1493\n",
            "           2       0.76      0.76      0.76      2527\n",
            "           3       0.65      0.69      0.67       323\n",
            "\n",
            "    accuracy                           0.65      5292\n",
            "   macro avg       0.61      0.62      0.61      5292\n",
            "weighted avg       0.65      0.65      0.65      5292\n",
            "\n"
          ]
        }
      ]
    },
    {
      "cell_type": "code",
      "source": [
        "from sklearn.metrics import confusion_matrix\n",
        "from matplotlib.pyplot import figure\n",
        "figure(figsize=(5, 4), dpi=80)\n",
        "cm = confusion_matrix(y_test,prediction)\n",
        "\n",
        "sns.heatmap(cm, annot=True,fmt=\"d\",cmap=\"YlGnBu\")"
      ],
      "metadata": {
        "execution": {
          "iopub.status.busy": "2022-05-15T23:46:08.737676Z",
          "iopub.execute_input": "2022-05-15T23:46:08.738651Z",
          "iopub.status.idle": "2022-05-15T23:46:09.030955Z",
          "shell.execute_reply.started": "2022-05-15T23:46:08.738609Z",
          "shell.execute_reply": "2022-05-15T23:46:09.029872Z"
        },
        "trusted": true,
        "id": "1UZQHwLef2BV",
        "colab": {
          "base_uri": "https://localhost:8080/",
          "height": 309
        },
        "outputId": "c676d922-ef5a-4829-83ae-d42903e25a0e"
      },
      "execution_count": 29,
      "outputs": [
        {
          "output_type": "execute_result",
          "data": {
            "text/plain": [
              "<matplotlib.axes._subplots.AxesSubplot at 0x7f3d74209790>"
            ]
          },
          "metadata": {},
          "execution_count": 29
        },
        {
          "output_type": "display_data",
          "data": {
            "text/plain": [
              "<Figure size 400x320 with 2 Axes>"
            ],
            "image/png": "[encoded data removed]"
          },
          "metadata": {
            "needs_background": "light"
          }
        }
      ]
    },
    {
      "cell_type": "markdown",
      "source": [
        "# Lojistik regresyon"
      ],
      "metadata": {
        "id": "52FuwRakf2BV"
      }
    },
    {
      "cell_type": "code",
      "source": [
        "from sklearn.linear_model import LogisticRegression\n",
        "lr_model = LogisticRegression()\n",
        "lr_model = lr_model.fit(X_for_model, y_train)\n",
        "lr_model"
      ],
      "metadata": {
        "execution": {
          "iopub.status.busy": "2022-05-15T23:48:22.538883Z",
          "iopub.execute_input": "2022-05-15T23:48:22.539248Z",
          "iopub.status.idle": "2022-05-15T23:48:23.075126Z",
          "shell.execute_reply.started": "2022-05-15T23:48:22.539197Z",
          "shell.execute_reply": "2022-05-15T23:48:23.074057Z"
        },
        "trusted": true,
        "id": "AweR31Hhf2BV",
        "colab": {
          "base_uri": "https://localhost:8080/"
        },
        "outputId": "245c4432-5f91-444b-9c83-562b278b8599"
      },
      "execution_count": 30,
      "outputs": [
        {
          "output_type": "stream",
          "name": "stderr",
          "text": [
            "/usr/local/lib/python3.7/dist-packages/sklearn/linear_model/_logistic.py:818: ConvergenceWarning: lbfgs failed to converge (status=1):\n",
            "STOP: TOTAL NO. of ITERATIONS REACHED LIMIT.\n",
            "\n",
            "Increase the number of iterations (max_iter) or scale the data as shown in:\n",
            "    https://scikit-learn.org/stable/modules/preprocessing.html\n",
            "Please also refer to the documentation for alternative solver options:\n",
            "    https://scikit-learn.org/stable/modules/linear_model.html#logistic-regression\n",
            "  extra_warning_msg=_LOGISTIC_SOLVER_CONVERGENCE_MSG,\n"
          ]
        },
        {
          "output_type": "execute_result",
          "data": {
            "text/plain": [
              "LogisticRegression()"
            ]
          },
          "metadata": {},
          "execution_count": 30
        }
      ]
    },
    {
      "cell_type": "code",
      "source": [
        "X_test_feature = VGG_model.predict(x_test)\n",
        "X_test_features = X_test_feature.reshape(X_test_feature.shape[0], -1)\n",
        "#Now predict using the trained RF model. \n",
        "prediction = lr_model.predict(X_test_features)"
      ],
      "metadata": {
        "execution": {
          "iopub.status.busy": "2022-05-15T23:48:46.104416Z",
          "iopub.execute_input": "2022-05-15T23:48:46.104738Z",
          "iopub.status.idle": "2022-05-15T23:48:55.936444Z",
          "shell.execute_reply.started": "2022-05-15T23:48:46.104708Z",
          "shell.execute_reply": "2022-05-15T23:48:55.935170Z"
        },
        "trusted": true,
        "id": "HRHBCVr7f2BV"
      },
      "execution_count": 31,
      "outputs": []
    },
    {
      "cell_type": "code",
      "source": [
        "print('Test set evaluation:\\n_____________________________________')\n",
        "print_evaluate(y_test, prediction)"
      ],
      "metadata": {
        "execution": {
          "iopub.status.busy": "2022-05-15T23:48:56.256955Z",
          "iopub.execute_input": "2022-05-15T23:48:56.257290Z",
          "iopub.status.idle": "2022-05-15T23:48:56.266436Z",
          "shell.execute_reply.started": "2022-05-15T23:48:56.257259Z",
          "shell.execute_reply": "2022-05-15T23:48:56.265437Z"
        },
        "trusted": true,
        "id": "wa2O6IDnf2BV",
        "colab": {
          "base_uri": "https://localhost:8080/"
        },
        "outputId": "893bd3b5-6658-4cb0-c306-3a4de4fcd9bc"
      },
      "execution_count": 32,
      "outputs": [
        {
          "output_type": "stream",
          "name": "stdout",
          "text": [
            "Test set evaluation:\n",
            "_____________________________________\n",
            "MAE: 0.26511715797430085\n",
            "MSE: 0.4087301587301587\n",
            "RMSE: 0.6393200753379786\n",
            "R2 Square 0.4357413556487997\n",
            "Accuracy 0.8051776266061981\n",
            "__________________________________\n"
          ]
        }
      ]
    },
    {
      "cell_type": "code",
      "source": [
        "results_df_2 = pd.DataFrame(data=[[\"Lojistik regresyon\", *evaluate(y_test, prediction)]], \n",
        "                          columns=['Model', 'MAE', 'MSE', 'RMSE', 'R2 Square','Accuracy_VGG19' ])\n",
        "results_df = results_df.append(results_df_2, ignore_index=True)\n",
        "results_df"
      ],
      "metadata": {
        "execution": {
          "iopub.status.busy": "2022-05-15T23:49:11.936315Z",
          "iopub.execute_input": "2022-05-15T23:49:11.937583Z",
          "iopub.status.idle": "2022-05-15T23:49:11.959922Z",
          "shell.execute_reply.started": "2022-05-15T23:49:11.937527Z",
          "shell.execute_reply": "2022-05-15T23:49:11.958928Z"
        },
        "trusted": true,
        "id": "Azw8HUF9f2BV",
        "colab": {
          "base_uri": "https://localhost:8080/",
          "height": 143
        },
        "outputId": "7a32241b-98c8-4074-b5f3-0f704cf3ca29"
      },
      "execution_count": 33,
      "outputs": [
        {
          "output_type": "execute_result",
          "data": {
            "text/plain": [
              "                    Model       MAE       MSE      RMSE  R2 Square  \\\n",
              "0    KNeighborsClassifier  0.311980  0.473356  0.688009   0.346524   \n",
              "1  DecisionTreeClassifier  0.476190  0.744520  0.862856  -0.027822   \n",
              "2      Lojistik regresyon  0.265117  0.408730  0.639320   0.435741   \n",
              "\n",
              "   Accuracy_VGG19  \n",
              "0        0.767385  \n",
              "1        0.649471  \n",
              "2        0.805178  "
            ],
            "text/html": [
              "\n",
              "  <div id=\"df-bfcabca4-e826-4a59-8ea9-57fc95ff0ed9\">\n",
              "    <div class=\"colab-df-container\">\n",
              "      <div>\n",
              "<style scoped>\n",
              "    .dataframe tbody tr th:only-of-type {\n",
              "        vertical-align: middle;\n",
              "    }\n",
              "\n",
              "    .dataframe tbody tr th {\n",
              "        vertical-align: top;\n",
              "    }\n",
              "\n",
              "    .dataframe thead th {\n",
              "        text-align: right;\n",
              "    }\n",
              "</style>\n",
              "<table border=\"1\" class=\"dataframe\">\n",
              "  <thead>\n",
              "    <tr style=\"text-align: right;\">\n",
              "      <th></th>\n",
              "      <th>Model</th>\n",
              "      <th>MAE</th>\n",
              "      <th>MSE</th>\n",
              "      <th>RMSE</th>\n",
              "      <th>R2 Square</th>\n",
              "      <th>Accuracy_VGG19</th>\n",
              "    </tr>\n",
              "  </thead>\n",
              "  <tbody>\n",
              "    <tr>\n",
              "      <th>0</th>\n",
              "      <td>KNeighborsClassifier</td>\n",
              "      <td>0.311980</td>\n",
              "      <td>0.473356</td>\n",
              "      <td>0.688009</td>\n",
              "      <td>0.346524</td>\n",
              "      <td>0.767385</td>\n",
              "    </tr>\n",
              "    <tr>\n",
              "      <th>1</th>\n",
              "      <td>DecisionTreeClassifier</td>\n",
              "      <td>0.476190</td>\n",
              "      <td>0.744520</td>\n",
              "      <td>0.862856</td>\n",
              "      <td>-0.027822</td>\n",
              "      <td>0.649471</td>\n",
              "    </tr>\n",
              "    <tr>\n",
              "      <th>2</th>\n",
              "      <td>Lojistik regresyon</td>\n",
              "      <td>0.265117</td>\n",
              "      <td>0.408730</td>\n",
              "      <td>0.639320</td>\n",
              "      <td>0.435741</td>\n",
              "      <td>0.805178</td>\n",
              "    </tr>\n",
              "  </tbody>\n",
              "</table>\n",
              "</div>\n",
              "      <button class=\"colab-df-convert\" onclick=\"convertToInteractive('df-bfcabca4-e826-4a59-8ea9-57fc95ff0ed9')\"\n",
              "              title=\"Convert this dataframe to an interactive table.\"\n",
              "              style=\"display:none;\">\n",
              "        \n",
              "  <svg xmlns=\"http://www.w3.org/2000/svg\" height=\"24px\"viewBox=\"0 0 24 24\"\n",
              "       width=\"24px\">\n",
              "    <path d=\"M0 0h24v24H0V0z\" fill=\"none\"/>\n",
              "    <path d=\"M18.56 5.44l.94 2.06.94-2.06 2.06-.94-2.06-.94-.94-2.06-.94 2.06-2.06.94zm-11 1L8.5 8.5l.94-2.06 2.06-.94-2.06-.94L8.5 2.5l-.94 2.06-2.06.94zm10 10l.94 2.06.94-2.06 2.06-.94-2.06-.94-.94-2.06-.94 2.06-2.06.94z\"/><path d=\"M17.41 7.96l-1.37-1.37c-.4-.4-.92-.59-1.43-.59-.52 0-1.04.2-1.43.59L10.3 9.45l-7.72 7.72c-.78.78-.78 2.05 0 2.83L4 21.41c.39.39.9.59 1.41.59.51 0 1.02-.2 1.41-.59l7.78-7.78 2.81-2.81c.8-.78.8-2.07 0-2.86zM5.41 20L4 18.59l7.72-7.72 1.47 1.35L5.41 20z\"/>\n",
              "  </svg>\n",
              "      </button>\n",
              "      \n",
              "  <style>\n",
              "    .colab-df-container {\n",
              "      display:flex;\n",
              "      flex-wrap:wrap;\n",
              "      gap: 12px;\n",
              "    }\n",
              "\n",
              "    .colab-df-convert {\n",
              "      background-color: #E8F0FE;\n",
              "      border: none;\n",
              "      border-radius: 50%;\n",
              "      cursor: pointer;\n",
              "      display: none;\n",
              "      fill: #1967D2;\n",
              "      height: 32px;\n",
              "      padding: 0 0 0 0;\n",
              "      width: 32px;\n",
              "    }\n",
              "\n",
              "    .colab-df-convert:hover {\n",
              "      background-color: #E2EBFA;\n",
              "      box-shadow: 0px 1px 2px rgba(60, 64, 67, 0.3), 0px 1px 3px 1px rgba(60, 64, 67, 0.15);\n",
              "      fill: #174EA6;\n",
              "    }\n",
              "\n",
              "    [theme=dark] .colab-df-convert {\n",
              "      background-color: #3B4455;\n",
              "      fill: #D2E3FC;\n",
              "    }\n",
              "\n",
              "    [theme=dark] .colab-df-convert:hover {\n",
              "      background-color: #434B5C;\n",
              "      box-shadow: 0px 1px 3px 1px rgba(0, 0, 0, 0.15);\n",
              "      filter: drop-shadow(0px 1px 2px rgba(0, 0, 0, 0.3));\n",
              "      fill: #FFFFFF;\n",
              "    }\n",
              "  </style>\n",
              "\n",
              "      <script>\n",
              "        const buttonEl =\n",
              "          document.querySelector('#df-bfcabca4-e826-4a59-8ea9-57fc95ff0ed9 button.colab-df-convert');\n",
              "        buttonEl.style.display =\n",
              "          google.colab.kernel.accessAllowed ? 'block' : 'none';\n",
              "\n",
              "        async function convertToInteractive(key) {\n",
              "          const element = document.querySelector('#df-bfcabca4-e826-4a59-8ea9-57fc95ff0ed9');\n",
              "          const dataTable =\n",
              "            await google.colab.kernel.invokeFunction('convertToInteractive',\n",
              "                                                     [key], {});\n",
              "          if (!dataTable) return;\n",
              "\n",
              "          const docLinkHtml = 'Like what you see? Visit the ' +\n",
              "            '<a target=\"_blank\" href=https://colab.research.google.com/notebooks/data_table.ipynb>data table notebook</a>'\n",
              "            + ' to learn more about interactive tables.';\n",
              "          element.innerHTML = '';\n",
              "          dataTable['output_type'] = 'display_data';\n",
              "          await google.colab.output.renderOutput(dataTable, element);\n",
              "          const docLink = document.createElement('div');\n",
              "          docLink.innerHTML = docLinkHtml;\n",
              "          element.appendChild(docLink);\n",
              "        }\n",
              "      </script>\n",
              "    </div>\n",
              "  </div>\n",
              "  "
            ]
          },
          "metadata": {},
          "execution_count": 33
        }
      ]
    },
    {
      "cell_type": "code",
      "source": [
        "print(classification_report(y_test,prediction))"
      ],
      "metadata": {
        "execution": {
          "iopub.status.busy": "2022-05-15T23:49:26.389801Z",
          "iopub.execute_input": "2022-05-15T23:49:26.390225Z",
          "iopub.status.idle": "2022-05-15T23:49:26.405577Z",
          "shell.execute_reply.started": "2022-05-15T23:49:26.390188Z",
          "shell.execute_reply": "2022-05-15T23:49:26.404136Z"
        },
        "trusted": true,
        "id": "NVRJ5YAmf2BV",
        "colab": {
          "base_uri": "https://localhost:8080/"
        },
        "outputId": "a662f8f0-90a0-4b81-f032-e60cb7255485"
      },
      "execution_count": 34,
      "outputs": [
        {
          "output_type": "stream",
          "name": "stdout",
          "text": [
            "              precision    recall  f1-score   support\n",
            "\n",
            "           0       0.70      0.50      0.59       949\n",
            "           1       0.79      0.79      0.79      1493\n",
            "           2       0.83      0.92      0.87      2527\n",
            "           3       0.92      0.88      0.90       323\n",
            "\n",
            "    accuracy                           0.81      5292\n",
            "   macro avg       0.81      0.77      0.79      5292\n",
            "weighted avg       0.80      0.81      0.80      5292\n",
            "\n"
          ]
        }
      ]
    },
    {
      "cell_type": "code",
      "source": [
        "from sklearn.metrics import confusion_matrix\n",
        "from matplotlib.pyplot import figure\n",
        "figure(figsize=(5, 4), dpi=80)\n",
        "cm = confusion_matrix(y_test,prediction)\n",
        "\n",
        "sns.heatmap(cm, annot=True,fmt=\"d\",cmap=\"YlGnBu\")"
      ],
      "metadata": {
        "execution": {
          "iopub.status.busy": "2022-05-15T23:49:34.934410Z",
          "iopub.execute_input": "2022-05-15T23:49:34.934746Z",
          "iopub.status.idle": "2022-05-15T23:49:35.226542Z",
          "shell.execute_reply.started": "2022-05-15T23:49:34.934713Z",
          "shell.execute_reply": "2022-05-15T23:49:35.225613Z"
        },
        "trusted": true,
        "id": "qQq_qzfAf2BV",
        "colab": {
          "base_uri": "https://localhost:8080/",
          "height": 309
        },
        "outputId": "f3a649cf-4458-4874-a969-58fe8d0d0156"
      },
      "execution_count": 35,
      "outputs": [
        {
          "output_type": "execute_result",
          "data": {
            "text/plain": [
              "<matplotlib.axes._subplots.AxesSubplot at 0x7f3e4e18d590>"
            ]
          },
          "metadata": {},
          "execution_count": 35
        },
        {
          "output_type": "display_data",
          "data": {
            "text/plain": [
              "<Figure size 400x320 with 2 Axes>"
            ],
            "image/png": "[encoded data removed]"
          },
          "metadata": {
            "needs_background": "light"
          }
        }
      ]
    },
    {
      "cell_type": "markdown",
      "source": [
        "# LGBMClassifier"
      ],
      "metadata": {
        "id": "qBaK8vAFf2BY"
      }
    },
    {
      "cell_type": "code",
      "source": [
        "from lightgbm import LGBMClassifier\n",
        "\n",
        "LGBM_model = LGBMClassifier()\n",
        "LGBM_model = LGBM_model.fit(X_for_model, y_train)\n",
        "LGBM_model"
      ],
      "metadata": {
        "execution": {
          "iopub.status.busy": "2022-05-15T23:57:47.057632Z",
          "iopub.execute_input": "2022-05-15T23:57:47.058076Z",
          "iopub.status.idle": "2022-05-15T23:57:59.011069Z",
          "shell.execute_reply.started": "2022-05-15T23:57:47.058040Z",
          "shell.execute_reply": "2022-05-15T23:57:59.009652Z"
        },
        "trusted": true,
        "id": "-wA-SoO3f2BY",
        "colab": {
          "base_uri": "https://localhost:8080/"
        },
        "outputId": "f72c5fc0-abe9-4afd-faa2-999dc468584a"
      },
      "execution_count": 36,
      "outputs": [
        {
          "output_type": "execute_result",
          "data": {
            "text/plain": [
              "LGBMClassifier()"
            ]
          },
          "metadata": {},
          "execution_count": 36
        }
      ]
    },
    {
      "cell_type": "code",
      "source": [
        "X_test_feature = VGG_model.predict(x_test)\n",
        "X_test_features = X_test_feature.reshape(X_test_feature.shape[0], -1)\n",
        "#Now predict using the trained RF model. \n",
        "prediction = LGBM_model.predict(X_test_features)"
      ],
      "metadata": {
        "execution": {
          "iopub.status.busy": "2022-05-15T23:58:10.084546Z",
          "iopub.execute_input": "2022-05-15T23:58:10.085569Z",
          "iopub.status.idle": "2022-05-15T23:58:20.632144Z",
          "shell.execute_reply.started": "2022-05-15T23:58:10.085516Z",
          "shell.execute_reply": "2022-05-15T23:58:20.631041Z"
        },
        "trusted": true,
        "id": "nj5AJ4eOf2BY"
      },
      "execution_count": 37,
      "outputs": []
    },
    {
      "cell_type": "code",
      "source": [
        "print('Test set evaluation:\\n_____________________________________')\n",
        "print_evaluate(y_test, prediction)"
      ],
      "metadata": {
        "execution": {
          "iopub.status.busy": "2022-05-15T23:58:20.633987Z",
          "iopub.execute_input": "2022-05-15T23:58:20.634283Z",
          "iopub.status.idle": "2022-05-15T23:58:20.644992Z",
          "shell.execute_reply.started": "2022-05-15T23:58:20.634249Z",
          "shell.execute_reply": "2022-05-15T23:58:20.644021Z"
        },
        "trusted": true,
        "id": "-4bAXDEFf2BY",
        "colab": {
          "base_uri": "https://localhost:8080/"
        },
        "outputId": "0e27961e-7c05-4ea6-d3a8-1e025efd0af0"
      },
      "execution_count": 38,
      "outputs": [
        {
          "output_type": "stream",
          "name": "stdout",
          "text": [
            "Test set evaluation:\n",
            "_____________________________________\n",
            "MAE: 0.23809523809523808\n",
            "MSE: 0.36130007558578986\n",
            "RMSE: 0.6010824199606821\n",
            "R2 Square 0.5012193582988927\n",
            "Accuracy 0.8223733938019653\n",
            "__________________________________\n"
          ]
        }
      ]
    },
    {
      "cell_type": "code",
      "source": [
        "results_df_2 = pd.DataFrame(data=[[\"LGBMClassifier\", *evaluate(y_test, prediction)]], \n",
        "                          columns=['Model', 'MAE', 'MSE', 'RMSE', 'R2 Square','Accuracy_VGG19' ])\n",
        "results_df = results_df.append(results_df_2, ignore_index=True)\n",
        "results_df"
      ],
      "metadata": {
        "execution": {
          "iopub.status.busy": "2022-05-15T23:58:33.933032Z",
          "iopub.execute_input": "2022-05-15T23:58:33.933912Z",
          "iopub.status.idle": "2022-05-15T23:58:33.955870Z",
          "shell.execute_reply.started": "2022-05-15T23:58:33.933866Z",
          "shell.execute_reply": "2022-05-15T23:58:33.954797Z"
        },
        "trusted": true,
        "id": "prWdkBqYf2BY",
        "colab": {
          "base_uri": "https://localhost:8080/",
          "height": 175
        },
        "outputId": "4f276045-2adc-44ae-d984-ead48289a9b0"
      },
      "execution_count": 39,
      "outputs": [
        {
          "output_type": "execute_result",
          "data": {
            "text/plain": [
              "                    Model       MAE       MSE      RMSE  R2 Square  \\\n",
              "0    KNeighborsClassifier  0.311980  0.473356  0.688009   0.346524   \n",
              "1  DecisionTreeClassifier  0.476190  0.744520  0.862856  -0.027822   \n",
              "2      Lojistik regresyon  0.265117  0.408730  0.639320   0.435741   \n",
              "3          LGBMClassifier  0.238095  0.361300  0.601082   0.501219   \n",
              "\n",
              "   Accuracy_VGG19  \n",
              "0        0.767385  \n",
              "1        0.649471  \n",
              "2        0.805178  \n",
              "3        0.822373  "
            ],
            "text/html": [
              "\n",
              "  <div id=\"df-95ea2d5c-114b-4b55-9de7-fdb4a2a66397\">\n",
              "    <div class=\"colab-df-container\">\n",
              "      <div>\n",
              "<style scoped>\n",
              "    .dataframe tbody tr th:only-of-type {\n",
              "        vertical-align: middle;\n",
              "    }\n",
              "\n",
              "    .dataframe tbody tr th {\n",
              "        vertical-align: top;\n",
              "    }\n",
              "\n",
              "    .dataframe thead th {\n",
              "        text-align: right;\n",
              "    }\n",
              "</style>\n",
              "<table border=\"1\" class=\"dataframe\">\n",
              "  <thead>\n",
              "    <tr style=\"text-align: right;\">\n",
              "      <th></th>\n",
              "      <th>Model</th>\n",
              "      <th>MAE</th>\n",
              "      <th>MSE</th>\n",
              "      <th>RMSE</th>\n",
              "      <th>R2 Square</th>\n",
              "      <th>Accuracy_VGG19</th>\n",
              "    </tr>\n",
              "  </thead>\n",
              "  <tbody>\n",
              "    <tr>\n",
              "      <th>0</th>\n",
              "      <td>KNeighborsClassifier</td>\n",
              "      <td>0.311980</td>\n",
              "      <td>0.473356</td>\n",
              "      <td>0.688009</td>\n",
              "      <td>0.346524</td>\n",
              "      <td>0.767385</td>\n",
              "    </tr>\n",
              "    <tr>\n",
              "      <th>1</th>\n",
              "      <td>DecisionTreeClassifier</td>\n",
              "      <td>0.476190</td>\n",
              "      <td>0.744520</td>\n",
              "      <td>0.862856</td>\n",
              "      <td>-0.027822</td>\n",
              "      <td>0.649471</td>\n",
              "    </tr>\n",
              "    <tr>\n",
              "      <th>2</th>\n",
              "      <td>Lojistik regresyon</td>\n",
              "      <td>0.265117</td>\n",
              "      <td>0.408730</td>\n",
              "      <td>0.639320</td>\n",
              "      <td>0.435741</td>\n",
              "      <td>0.805178</td>\n",
              "    </tr>\n",
              "    <tr>\n",
              "      <th>3</th>\n",
              "      <td>LGBMClassifier</td>\n",
              "      <td>0.238095</td>\n",
              "      <td>0.361300</td>\n",
              "      <td>0.601082</td>\n",
              "      <td>0.501219</td>\n",
              "      <td>0.822373</td>\n",
              "    </tr>\n",
              "  </tbody>\n",
              "</table>\n",
              "</div>\n",
              "      <button class=\"colab-df-convert\" onclick=\"convertToInteractive('df-95ea2d5c-114b-4b55-9de7-fdb4a2a66397')\"\n",
              "              title=\"Convert this dataframe to an interactive table.\"\n",
              "              style=\"display:none;\">\n",
              "        \n",
              "  <svg xmlns=\"http://www.w3.org/2000/svg\" height=\"24px\"viewBox=\"0 0 24 24\"\n",
              "       width=\"24px\">\n",
              "    <path d=\"M0 0h24v24H0V0z\" fill=\"none\"/>\n",
              "    <path d=\"M18.56 5.44l.94 2.06.94-2.06 2.06-.94-2.06-.94-.94-2.06-.94 2.06-2.06.94zm-11 1L8.5 8.5l.94-2.06 2.06-.94-2.06-.94L8.5 2.5l-.94 2.06-2.06.94zm10 10l.94 2.06.94-2.06 2.06-.94-2.06-.94-.94-2.06-.94 2.06-2.06.94z\"/><path d=\"M17.41 7.96l-1.37-1.37c-.4-.4-.92-.59-1.43-.59-.52 0-1.04.2-1.43.59L10.3 9.45l-7.72 7.72c-.78.78-.78 2.05 0 2.83L4 21.41c.39.39.9.59 1.41.59.51 0 1.02-.2 1.41-.59l7.78-7.78 2.81-2.81c.8-.78.8-2.07 0-2.86zM5.41 20L4 18.59l7.72-7.72 1.47 1.35L5.41 20z\"/>\n",
              "  </svg>\n",
              "      </button>\n",
              "      \n",
              "  <style>\n",
              "    .colab-df-container {\n",
              "      display:flex;\n",
              "      flex-wrap:wrap;\n",
              "      gap: 12px;\n",
              "    }\n",
              "\n",
              "    .colab-df-convert {\n",
              "      background-color: #E8F0FE;\n",
              "      border: none;\n",
              "      border-radius: 50%;\n",
              "      cursor: pointer;\n",
              "      display: none;\n",
              "      fill: #1967D2;\n",
              "      height: 32px;\n",
              "      padding: 0 0 0 0;\n",
              "      width: 32px;\n",
              "    }\n",
              "\n",
              "    .colab-df-convert:hover {\n",
              "      background-color: #E2EBFA;\n",
              "      box-shadow: 0px 1px 2px rgba(60, 64, 67, 0.3), 0px 1px 3px 1px rgba(60, 64, 67, 0.15);\n",
              "      fill: #174EA6;\n",
              "    }\n",
              "\n",
              "    [theme=dark] .colab-df-convert {\n",
              "      background-color: #3B4455;\n",
              "      fill: #D2E3FC;\n",
              "    }\n",
              "\n",
              "    [theme=dark] .colab-df-convert:hover {\n",
              "      background-color: #434B5C;\n",
              "      box-shadow: 0px 1px 3px 1px rgba(0, 0, 0, 0.15);\n",
              "      filter: drop-shadow(0px 1px 2px rgba(0, 0, 0, 0.3));\n",
              "      fill: #FFFFFF;\n",
              "    }\n",
              "  </style>\n",
              "\n",
              "      <script>\n",
              "        const buttonEl =\n",
              "          document.querySelector('#df-95ea2d5c-114b-4b55-9de7-fdb4a2a66397 button.colab-df-convert');\n",
              "        buttonEl.style.display =\n",
              "          google.colab.kernel.accessAllowed ? 'block' : 'none';\n",
              "\n",
              "        async function convertToInteractive(key) {\n",
              "          const element = document.querySelector('#df-95ea2d5c-114b-4b55-9de7-fdb4a2a66397');\n",
              "          const dataTable =\n",
              "            await google.colab.kernel.invokeFunction('convertToInteractive',\n",
              "                                                     [key], {});\n",
              "          if (!dataTable) return;\n",
              "\n",
              "          const docLinkHtml = 'Like what you see? Visit the ' +\n",
              "            '<a target=\"_blank\" href=https://colab.research.google.com/notebooks/data_table.ipynb>data table notebook</a>'\n",
              "            + ' to learn more about interactive tables.';\n",
              "          element.innerHTML = '';\n",
              "          dataTable['output_type'] = 'display_data';\n",
              "          await google.colab.output.renderOutput(dataTable, element);\n",
              "          const docLink = document.createElement('div');\n",
              "          docLink.innerHTML = docLinkHtml;\n",
              "          element.appendChild(docLink);\n",
              "        }\n",
              "      </script>\n",
              "    </div>\n",
              "  </div>\n",
              "  "
            ]
          },
          "metadata": {},
          "execution_count": 39
        }
      ]
    },
    {
      "cell_type": "code",
      "source": [
        "print(classification_report(y_test,prediction))"
      ],
      "metadata": {
        "execution": {
          "iopub.status.busy": "2022-05-16T00:05:01.797807Z",
          "iopub.execute_input": "2022-05-16T00:05:01.798525Z",
          "iopub.status.idle": "2022-05-16T00:05:01.811468Z",
          "shell.execute_reply.started": "2022-05-16T00:05:01.798477Z",
          "shell.execute_reply": "2022-05-16T00:05:01.810541Z"
        },
        "trusted": true,
        "id": "uxl_MhNAf2BY",
        "colab": {
          "base_uri": "https://localhost:8080/"
        },
        "outputId": "0c5bbf17-ac7f-4db2-d233-b00778a26b9a"
      },
      "execution_count": 40,
      "outputs": [
        {
          "output_type": "stream",
          "name": "stdout",
          "text": [
            "              precision    recall  f1-score   support\n",
            "\n",
            "           0       0.77      0.57      0.66       949\n",
            "           1       0.79      0.81      0.80      1493\n",
            "           2       0.84      0.92      0.88      2527\n",
            "           3       0.96      0.88      0.91       323\n",
            "\n",
            "    accuracy                           0.82      5292\n",
            "   macro avg       0.84      0.79      0.81      5292\n",
            "weighted avg       0.82      0.82      0.82      5292\n",
            "\n"
          ]
        }
      ]
    },
    {
      "cell_type": "code",
      "source": [
        "from sklearn.metrics import confusion_matrix\n",
        "from matplotlib.pyplot import figure\n",
        "figure(figsize=(5, 4), dpi=80)\n",
        "cm = confusion_matrix(y_test,prediction)\n",
        "\n",
        "sns.heatmap(cm, annot=True,fmt=\"d\",cmap=\"YlGnBu\")"
      ],
      "metadata": {
        "id": "xUitggW3f2BZ",
        "colab": {
          "base_uri": "https://localhost:8080/",
          "height": 309
        },
        "outputId": "c4fe02fc-7f42-4735-b93e-4baa9acf19d2"
      },
      "execution_count": 41,
      "outputs": [
        {
          "output_type": "execute_result",
          "data": {
            "text/plain": [
              "<matplotlib.axes._subplots.AxesSubplot at 0x7f3e4e174990>"
            ]
          },
          "metadata": {},
          "execution_count": 41
        },
        {
          "output_type": "display_data",
          "data": {
            "text/plain": [
              "<Figure size 400x320 with 2 Axes>"
            ],
            "image/png": "[encoded data removed]"
          },
          "metadata": {
            "needs_background": "light"
          }
        }
      ]
    },
    {
      "cell_type": "markdown",
      "source": [
        "# RandomForestClassifier"
      ],
      "metadata": {
        "id": "4GsvaRKdf2BR"
      }
    },
    {
      "cell_type": "code",
      "source": [
        "from sklearn.ensemble import RandomForestClassifier\n",
        "\n",
        "rf_model = RandomForestClassifier()\n",
        "rf_model = rf_model.fit(X_for_model, y_train)\n",
        "rf_model"
      ],
      "metadata": {
        "execution": {
          "iopub.status.busy": "2022-05-15T23:40:42.020252Z",
          "iopub.execute_input": "2022-05-15T23:40:42.021003Z",
          "iopub.status.idle": "2022-05-15T23:40:42.381042Z",
          "shell.execute_reply.started": "2022-05-15T23:40:42.020963Z",
          "shell.execute_reply": "2022-05-15T23:40:42.379638Z"
        },
        "trusted": true,
        "id": "akaWOnrFf2BS",
        "colab": {
          "base_uri": "https://localhost:8080/"
        },
        "outputId": "e48636d0-5713-4b56-fe55-233e370d5a2d"
      },
      "execution_count": 42,
      "outputs": [
        {
          "output_type": "execute_result",
          "data": {
            "text/plain": [
              "RandomForestClassifier()"
            ]
          },
          "metadata": {},
          "execution_count": 42
        }
      ]
    },
    {
      "cell_type": "code",
      "source": [
        "X_test_feature = VGG_model.predict(x_test)\n",
        "X_test_features = X_test_feature.reshape(X_test_feature.shape[0], -1)\n",
        "#Now predict using the trained RF model. \n",
        "prediction = rf_model.predict(X_test_features)"
      ],
      "metadata": {
        "execution": {
          "iopub.status.busy": "2022-05-15T23:41:03.714889Z",
          "iopub.execute_input": "2022-05-15T23:41:03.715212Z",
          "iopub.status.idle": "2022-05-15T23:41:14.285474Z",
          "shell.execute_reply.started": "2022-05-15T23:41:03.715180Z",
          "shell.execute_reply": "2022-05-15T23:41:14.284486Z"
        },
        "trusted": true,
        "id": "GinVbETPf2BS"
      },
      "execution_count": 43,
      "outputs": []
    },
    {
      "cell_type": "code",
      "source": [
        "print('Test set evaluation:\\n_____________________________________')\n",
        "print_evaluate(y_test, prediction)"
      ],
      "metadata": {
        "execution": {
          "iopub.status.busy": "2022-05-15T23:41:20.005839Z",
          "iopub.execute_input": "2022-05-15T23:41:20.006793Z",
          "iopub.status.idle": "2022-05-15T23:41:20.018825Z",
          "shell.execute_reply.started": "2022-05-15T23:41:20.006739Z",
          "shell.execute_reply": "2022-05-15T23:41:20.017254Z"
        },
        "trusted": true,
        "id": "VDFTIY7Rf2BS",
        "colab": {
          "base_uri": "https://localhost:8080/"
        },
        "outputId": "4bcfd918-ffdf-4685-e05d-49f624b93a4e"
      },
      "execution_count": 44,
      "outputs": [
        {
          "output_type": "stream",
          "name": "stdout",
          "text": [
            "Test set evaluation:\n",
            "_____________________________________\n",
            "MAE: 0.28779289493575205\n",
            "MSE: 0.4295162509448224\n",
            "RMSE: 0.6553748934349121\n",
            "R2 Square 0.4070458166387988\n",
            "Accuracy 0.7825018896447468\n",
            "__________________________________\n"
          ]
        }
      ]
    },
    {
      "cell_type": "code",
      "source": [
        "results_df_2 = pd.DataFrame(data=[[\"RandomForestClassifier\", *evaluate(y_test, prediction)]], \n",
        "                          columns=['Model', 'MAE', 'MSE', 'RMSE', 'R2 Square','Accuracy_VGG19' ])\n",
        "results_df = results_df.append(results_df_2, ignore_index=True)\n",
        "results_df"
      ],
      "metadata": {
        "execution": {
          "iopub.status.busy": "2022-05-15T23:41:44.326015Z",
          "iopub.execute_input": "2022-05-15T23:41:44.326743Z",
          "iopub.status.idle": "2022-05-15T23:41:44.347306Z",
          "shell.execute_reply.started": "2022-05-15T23:41:44.326688Z",
          "shell.execute_reply": "2022-05-15T23:41:44.346315Z"
        },
        "trusted": true,
        "id": "CGUyuw3Nf2BS",
        "colab": {
          "base_uri": "https://localhost:8080/",
          "height": 206
        },
        "outputId": "bc2f303c-70ad-45c9-aee9-8fb354674406"
      },
      "execution_count": 45,
      "outputs": [
        {
          "output_type": "execute_result",
          "data": {
            "text/plain": [
              "                    Model       MAE       MSE      RMSE  R2 Square  \\\n",
              "0    KNeighborsClassifier  0.311980  0.473356  0.688009   0.346524   \n",
              "1  DecisionTreeClassifier  0.476190  0.744520  0.862856  -0.027822   \n",
              "2      Lojistik regresyon  0.265117  0.408730  0.639320   0.435741   \n",
              "3          LGBMClassifier  0.238095  0.361300  0.601082   0.501219   \n",
              "4  RandomForestClassifier  0.287793  0.429516  0.655375   0.407046   \n",
              "\n",
              "   Accuracy_VGG19  \n",
              "0        0.767385  \n",
              "1        0.649471  \n",
              "2        0.805178  \n",
              "3        0.822373  \n",
              "4        0.782502  "
            ],
            "text/html": [
              "\n",
              "  <div id=\"df-e2618fb9-6ba0-45f4-8a86-644490167c08\">\n",
              "    <div class=\"colab-df-container\">\n",
              "      <div>\n",
              "<style scoped>\n",
              "    .dataframe tbody tr th:only-of-type {\n",
              "        vertical-align: middle;\n",
              "    }\n",
              "\n",
              "    .dataframe tbody tr th {\n",
              "        vertical-align: top;\n",
              "    }\n",
              "\n",
              "    .dataframe thead th {\n",
              "        text-align: right;\n",
              "    }\n",
              "</style>\n",
              "<table border=\"1\" class=\"dataframe\">\n",
              "  <thead>\n",
              "    <tr style=\"text-align: right;\">\n",
              "      <th></th>\n",
              "      <th>Model</th>\n",
              "      <th>MAE</th>\n",
              "      <th>MSE</th>\n",
              "      <th>RMSE</th>\n",
              "      <th>R2 Square</th>\n",
              "      <th>Accuracy_VGG19</th>\n",
              "    </tr>\n",
              "  </thead>\n",
              "  <tbody>\n",
              "    <tr>\n",
              "      <th>0</th>\n",
              "      <td>KNeighborsClassifier</td>\n",
              "      <td>0.311980</td>\n",
              "      <td>0.473356</td>\n",
              "      <td>0.688009</td>\n",
              "      <td>0.346524</td>\n",
              "      <td>0.767385</td>\n",
              "    </tr>\n",
              "    <tr>\n",
              "      <th>1</th>\n",
              "      <td>DecisionTreeClassifier</td>\n",
              "      <td>0.476190</td>\n",
              "      <td>0.744520</td>\n",
              "      <td>0.862856</td>\n",
              "      <td>-0.027822</td>\n",
              "      <td>0.649471</td>\n",
              "    </tr>\n",
              "    <tr>\n",
              "      <th>2</th>\n",
              "      <td>Lojistik regresyon</td>\n",
              "      <td>0.265117</td>\n",
              "      <td>0.408730</td>\n",
              "      <td>0.639320</td>\n",
              "      <td>0.435741</td>\n",
              "      <td>0.805178</td>\n",
              "    </tr>\n",
              "    <tr>\n",
              "      <th>3</th>\n",
              "      <td>LGBMClassifier</td>\n",
              "      <td>0.238095</td>\n",
              "      <td>0.361300</td>\n",
              "      <td>0.601082</td>\n",
              "      <td>0.501219</td>\n",
              "      <td>0.822373</td>\n",
              "    </tr>\n",
              "    <tr>\n",
              "      <th>4</th>\n",
              "      <td>RandomForestClassifier</td>\n",
              "      <td>0.287793</td>\n",
              "      <td>0.429516</td>\n",
              "      <td>0.655375</td>\n",
              "      <td>0.407046</td>\n",
              "      <td>0.782502</td>\n",
              "    </tr>\n",
              "  </tbody>\n",
              "</table>\n",
              "</div>\n",
              "      <button class=\"colab-df-convert\" onclick=\"convertToInteractive('df-e2618fb9-6ba0-45f4-8a86-644490167c08')\"\n",
              "              title=\"Convert this dataframe to an interactive table.\"\n",
              "              style=\"display:none;\">\n",
              "        \n",
              "  <svg xmlns=\"http://www.w3.org/2000/svg\" height=\"24px\"viewBox=\"0 0 24 24\"\n",
              "       width=\"24px\">\n",
              "    <path d=\"M0 0h24v24H0V0z\" fill=\"none\"/>\n",
              "    <path d=\"M18.56 5.44l.94 2.06.94-2.06 2.06-.94-2.06-.94-.94-2.06-.94 2.06-2.06.94zm-11 1L8.5 8.5l.94-2.06 2.06-.94-2.06-.94L8.5 2.5l-.94 2.06-2.06.94zm10 10l.94 2.06.94-2.06 2.06-.94-2.06-.94-.94-2.06-.94 2.06-2.06.94z\"/><path d=\"M17.41 7.96l-1.37-1.37c-.4-.4-.92-.59-1.43-.59-.52 0-1.04.2-1.43.59L10.3 9.45l-7.72 7.72c-.78.78-.78 2.05 0 2.83L4 21.41c.39.39.9.59 1.41.59.51 0 1.02-.2 1.41-.59l7.78-7.78 2.81-2.81c.8-.78.8-2.07 0-2.86zM5.41 20L4 18.59l7.72-7.72 1.47 1.35L5.41 20z\"/>\n",
              "  </svg>\n",
              "      </button>\n",
              "      \n",
              "  <style>\n",
              "    .colab-df-container {\n",
              "      display:flex;\n",
              "      flex-wrap:wrap;\n",
              "      gap: 12px;\n",
              "    }\n",
              "\n",
              "    .colab-df-convert {\n",
              "      background-color: #E8F0FE;\n",
              "      border: none;\n",
              "      border-radius: 50%;\n",
              "      cursor: pointer;\n",
              "      display: none;\n",
              "      fill: #1967D2;\n",
              "      height: 32px;\n",
              "      padding: 0 0 0 0;\n",
              "      width: 32px;\n",
              "    }\n",
              "\n",
              "    .colab-df-convert:hover {\n",
              "      background-color: #E2EBFA;\n",
              "      box-shadow: 0px 1px 2px rgba(60, 64, 67, 0.3), 0px 1px 3px 1px rgba(60, 64, 67, 0.15);\n",
              "      fill: #174EA6;\n",
              "    }\n",
              "\n",
              "    [theme=dark] .colab-df-convert {\n",
              "      background-color: #3B4455;\n",
              "      fill: #D2E3FC;\n",
              "    }\n",
              "\n",
              "    [theme=dark] .colab-df-convert:hover {\n",
              "      background-color: #434B5C;\n",
              "      box-shadow: 0px 1px 3px 1px rgba(0, 0, 0, 0.15);\n",
              "      filter: drop-shadow(0px 1px 2px rgba(0, 0, 0, 0.3));\n",
              "      fill: #FFFFFF;\n",
              "    }\n",
              "  </style>\n",
              "\n",
              "      <script>\n",
              "        const buttonEl =\n",
              "          document.querySelector('#df-e2618fb9-6ba0-45f4-8a86-644490167c08 button.colab-df-convert');\n",
              "        buttonEl.style.display =\n",
              "          google.colab.kernel.accessAllowed ? 'block' : 'none';\n",
              "\n",
              "        async function convertToInteractive(key) {\n",
              "          const element = document.querySelector('#df-e2618fb9-6ba0-45f4-8a86-644490167c08');\n",
              "          const dataTable =\n",
              "            await google.colab.kernel.invokeFunction('convertToInteractive',\n",
              "                                                     [key], {});\n",
              "          if (!dataTable) return;\n",
              "\n",
              "          const docLinkHtml = 'Like what you see? Visit the ' +\n",
              "            '<a target=\"_blank\" href=https://colab.research.google.com/notebooks/data_table.ipynb>data table notebook</a>'\n",
              "            + ' to learn more about interactive tables.';\n",
              "          element.innerHTML = '';\n",
              "          dataTable['output_type'] = 'display_data';\n",
              "          await google.colab.output.renderOutput(dataTable, element);\n",
              "          const docLink = document.createElement('div');\n",
              "          docLink.innerHTML = docLinkHtml;\n",
              "          element.appendChild(docLink);\n",
              "        }\n",
              "      </script>\n",
              "    </div>\n",
              "  </div>\n",
              "  "
            ]
          },
          "metadata": {},
          "execution_count": 45
        }
      ]
    },
    {
      "cell_type": "code",
      "source": [
        "print(classification_report(y_test,prediction))"
      ],
      "metadata": {
        "execution": {
          "iopub.status.busy": "2022-05-15T23:42:05.523577Z",
          "iopub.execute_input": "2022-05-15T23:42:05.524261Z",
          "iopub.status.idle": "2022-05-15T23:42:05.538599Z",
          "shell.execute_reply.started": "2022-05-15T23:42:05.524205Z",
          "shell.execute_reply": "2022-05-15T23:42:05.537469Z"
        },
        "trusted": true,
        "id": "lUL48_owf2BS",
        "colab": {
          "base_uri": "https://localhost:8080/"
        },
        "outputId": "0cd25be0-6fe4-4dfa-b9d6-7142622b1fcd"
      },
      "execution_count": 46,
      "outputs": [
        {
          "output_type": "stream",
          "name": "stdout",
          "text": [
            "              precision    recall  f1-score   support\n",
            "\n",
            "           0       0.80      0.41      0.54       949\n",
            "           1       0.73      0.79      0.76      1493\n",
            "           2       0.79      0.92      0.85      2527\n",
            "           3       0.96      0.79      0.87       323\n",
            "\n",
            "    accuracy                           0.78      5292\n",
            "   macro avg       0.82      0.73      0.75      5292\n",
            "weighted avg       0.79      0.78      0.77      5292\n",
            "\n"
          ]
        }
      ]
    },
    {
      "cell_type": "code",
      "source": [
        "from sklearn.metrics import confusion_matrix\n",
        "from matplotlib.pyplot import figure\n",
        "figure(figsize=(5, 4), dpi=80)\n",
        "cm = confusion_matrix(y_test,prediction)\n",
        "\n",
        "sns.heatmap(cm, annot=True,fmt=\"d\",cmap=\"YlGnBu\")"
      ],
      "metadata": {
        "execution": {
          "iopub.status.busy": "2022-05-15T23:42:14.180825Z",
          "iopub.execute_input": "2022-05-15T23:42:14.181152Z",
          "iopub.status.idle": "2022-05-15T23:42:14.761190Z",
          "shell.execute_reply.started": "2022-05-15T23:42:14.181121Z",
          "shell.execute_reply": "2022-05-15T23:42:14.760291Z"
        },
        "trusted": true,
        "id": "pOEQpHmvf2BT",
        "colab": {
          "base_uri": "https://localhost:8080/",
          "height": 309
        },
        "outputId": "3b3a82fa-ed64-41ca-b7b8-d13e11673c64"
      },
      "execution_count": 47,
      "outputs": [
        {
          "output_type": "execute_result",
          "data": {
            "text/plain": [
              "<matplotlib.axes._subplots.AxesSubplot at 0x7f3ec00bf890>"
            ]
          },
          "metadata": {},
          "execution_count": 47
        },
        {
          "output_type": "display_data",
          "data": {
            "text/plain": [
              "<Figure size 400x320 with 2 Axes>"
            ],
            "image/png": "[encoded data removed]"
          },
          "metadata": {
            "needs_background": "light"
          }
        }
      ]
    },
    {
      "cell_type": "markdown",
      "source": [
        "# GaussianNB"
      ],
      "metadata": {
        "id": "K9DwGfY77S5U"
      }
    },
    {
      "cell_type": "code",
      "source": [
        "from sklearn.naive_bayes import GaussianNB\n",
        "\n",
        "\n",
        "GB_model = GaussianNB()\n",
        "GB_model = GB_model.fit(X_for_model, y_train)\n",
        "GB_model"
      ],
      "metadata": {
        "id": "AKiD1c3hf2Bb",
        "colab": {
          "base_uri": "https://localhost:8080/"
        },
        "outputId": "db8adaf4-200a-4fa0-ae16-3024fd53c22d"
      },
      "execution_count": 48,
      "outputs": [
        {
          "output_type": "execute_result",
          "data": {
            "text/plain": [
              "GaussianNB()"
            ]
          },
          "metadata": {},
          "execution_count": 48
        }
      ]
    },
    {
      "cell_type": "code",
      "source": [
        "X_test_feature = VGG_model.predict(x_test)\n",
        "X_test_features = X_test_feature.reshape(X_test_feature.shape[0], -1)\n",
        "#Now predict using the trained RF model. \n",
        "prediction = GB_model.predict(X_test_features)"
      ],
      "metadata": {
        "id": "QUlW48xx7YBq"
      },
      "execution_count": 49,
      "outputs": []
    },
    {
      "cell_type": "code",
      "source": [
        "print('Test set evaluation:\\n_____________________________________')\n",
        "print_evaluate(y_test, prediction)"
      ],
      "metadata": {
        "id": "38NU1y-d7YEC",
        "colab": {
          "base_uri": "https://localhost:8080/"
        },
        "outputId": "9071a59d-fd42-4592-c688-ab43c2ed2bd1"
      },
      "execution_count": 50,
      "outputs": [
        {
          "output_type": "stream",
          "name": "stdout",
          "text": [
            "Test set evaluation:\n",
            "_____________________________________\n",
            "MAE: 0.5398715041572184\n",
            "MSE: 0.8970143613000756\n",
            "RMSE: 0.947108421090255\n",
            "R2 Square -0.23834294254976784\n",
            "Accuracy 0.6201814058956916\n",
            "__________________________________\n"
          ]
        }
      ]
    },
    {
      "cell_type": "code",
      "source": [
        "results_df_2 = pd.DataFrame(data=[[\"GaussianNB\", *evaluate(y_test, prediction)]], \n",
        "                          columns=['Model', 'MAE', 'MSE', 'RMSE', 'R2 Square','Accuracy_VGG19' ])\n",
        "results_df = results_df.append(results_df_2, ignore_index=True)\n",
        "results_df"
      ],
      "metadata": {
        "id": "sM439anp7YGj",
        "colab": {
          "base_uri": "https://localhost:8080/",
          "height": 238
        },
        "outputId": "f89d1828-8361-4ac7-e2e7-7cc54e88a532"
      },
      "execution_count": 51,
      "outputs": [
        {
          "output_type": "execute_result",
          "data": {
            "text/plain": [
              "                    Model       MAE       MSE      RMSE  R2 Square  \\\n",
              "0    KNeighborsClassifier  0.311980  0.473356  0.688009   0.346524   \n",
              "1  DecisionTreeClassifier  0.476190  0.744520  0.862856  -0.027822   \n",
              "2      Lojistik regresyon  0.265117  0.408730  0.639320   0.435741   \n",
              "3          LGBMClassifier  0.238095  0.361300  0.601082   0.501219   \n",
              "4  RandomForestClassifier  0.287793  0.429516  0.655375   0.407046   \n",
              "5              GaussianNB  0.539872  0.897014  0.947108  -0.238343   \n",
              "\n",
              "   Accuracy_VGG19  \n",
              "0        0.767385  \n",
              "1        0.649471  \n",
              "2        0.805178  \n",
              "3        0.822373  \n",
              "4        0.782502  \n",
              "5        0.620181  "
            ],
            "text/html": [
              "\n",
              "  <div id=\"df-628310e6-28f1-4b65-9b58-e57cf4763557\">\n",
              "    <div class=\"colab-df-container\">\n",
              "      <div>\n",
              "<style scoped>\n",
              "    .dataframe tbody tr th:only-of-type {\n",
              "        vertical-align: middle;\n",
              "    }\n",
              "\n",
              "    .dataframe tbody tr th {\n",
              "        vertical-align: top;\n",
              "    }\n",
              "\n",
              "    .dataframe thead th {\n",
              "        text-align: right;\n",
              "    }\n",
              "</style>\n",
              "<table border=\"1\" class=\"dataframe\">\n",
              "  <thead>\n",
              "    <tr style=\"text-align: right;\">\n",
              "      <th></th>\n",
              "      <th>Model</th>\n",
              "      <th>MAE</th>\n",
              "      <th>MSE</th>\n",
              "      <th>RMSE</th>\n",
              "      <th>R2 Square</th>\n",
              "      <th>Accuracy_VGG19</th>\n",
              "    </tr>\n",
              "  </thead>\n",
              "  <tbody>\n",
              "    <tr>\n",
              "      <th>0</th>\n",
              "      <td>KNeighborsClassifier</td>\n",
              "      <td>0.311980</td>\n",
              "      <td>0.473356</td>\n",
              "      <td>0.688009</td>\n",
              "      <td>0.346524</td>\n",
              "      <td>0.767385</td>\n",
              "    </tr>\n",
              "    <tr>\n",
              "      <th>1</th>\n",
              "      <td>DecisionTreeClassifier</td>\n",
              "      <td>0.476190</td>\n",
              "      <td>0.744520</td>\n",
              "      <td>0.862856</td>\n",
              "      <td>-0.027822</td>\n",
              "      <td>0.649471</td>\n",
              "    </tr>\n",
              "    <tr>\n",
              "      <th>2</th>\n",
              "      <td>Lojistik regresyon</td>\n",
              "      <td>0.265117</td>\n",
              "      <td>0.408730</td>\n",
              "      <td>0.639320</td>\n",
              "      <td>0.435741</td>\n",
              "      <td>0.805178</td>\n",
              "    </tr>\n",
              "    <tr>\n",
              "      <th>3</th>\n",
              "      <td>LGBMClassifier</td>\n",
              "      <td>0.238095</td>\n",
              "      <td>0.361300</td>\n",
              "      <td>0.601082</td>\n",
              "      <td>0.501219</td>\n",
              "      <td>0.822373</td>\n",
              "    </tr>\n",
              "    <tr>\n",
              "      <th>4</th>\n",
              "      <td>RandomForestClassifier</td>\n",
              "      <td>0.287793</td>\n",
              "      <td>0.429516</td>\n",
              "      <td>0.655375</td>\n",
              "      <td>0.407046</td>\n",
              "      <td>0.782502</td>\n",
              "    </tr>\n",
              "    <tr>\n",
              "      <th>5</th>\n",
              "      <td>GaussianNB</td>\n",
              "      <td>0.539872</td>\n",
              "      <td>0.897014</td>\n",
              "      <td>0.947108</td>\n",
              "      <td>-0.238343</td>\n",
              "      <td>0.620181</td>\n",
              "    </tr>\n",
              "  </tbody>\n",
              "</table>\n",
              "</div>\n",
              "      <button class=\"colab-df-convert\" onclick=\"convertToInteractive('df-628310e6-28f1-4b65-9b58-e57cf4763557')\"\n",
              "              title=\"Convert this dataframe to an interactive table.\"\n",
              "              style=\"display:none;\">\n",
              "        \n",
              "  <svg xmlns=\"http://www.w3.org/2000/svg\" height=\"24px\"viewBox=\"0 0 24 24\"\n",
              "       width=\"24px\">\n",
              "    <path d=\"M0 0h24v24H0V0z\" fill=\"none\"/>\n",
              "    <path d=\"M18.56 5.44l.94 2.06.94-2.06 2.06-.94-2.06-.94-.94-2.06-.94 2.06-2.06.94zm-11 1L8.5 8.5l.94-2.06 2.06-.94-2.06-.94L8.5 2.5l-.94 2.06-2.06.94zm10 10l.94 2.06.94-2.06 2.06-.94-2.06-.94-.94-2.06-.94 2.06-2.06.94z\"/><path d=\"M17.41 7.96l-1.37-1.37c-.4-.4-.92-.59-1.43-.59-.52 0-1.04.2-1.43.59L10.3 9.45l-7.72 7.72c-.78.78-.78 2.05 0 2.83L4 21.41c.39.39.9.59 1.41.59.51 0 1.02-.2 1.41-.59l7.78-7.78 2.81-2.81c.8-.78.8-2.07 0-2.86zM5.41 20L4 18.59l7.72-7.72 1.47 1.35L5.41 20z\"/>\n",
              "  </svg>\n",
              "      </button>\n",
              "      \n",
              "  <style>\n",
              "    .colab-df-container {\n",
              "      display:flex;\n",
              "      flex-wrap:wrap;\n",
              "      gap: 12px;\n",
              "    }\n",
              "\n",
              "    .colab-df-convert {\n",
              "      background-color: #E8F0FE;\n",
              "      border: none;\n",
              "      border-radius: 50%;\n",
              "      cursor: pointer;\n",
              "      display: none;\n",
              "      fill: #1967D2;\n",
              "      height: 32px;\n",
              "      padding: 0 0 0 0;\n",
              "      width: 32px;\n",
              "    }\n",
              "\n",
              "    .colab-df-convert:hover {\n",
              "      background-color: #E2EBFA;\n",
              "      box-shadow: 0px 1px 2px rgba(60, 64, 67, 0.3), 0px 1px 3px 1px rgba(60, 64, 67, 0.15);\n",
              "      fill: #174EA6;\n",
              "    }\n",
              "\n",
              "    [theme=dark] .colab-df-convert {\n",
              "      background-color: #3B4455;\n",
              "      fill: #D2E3FC;\n",
              "    }\n",
              "\n",
              "    [theme=dark] .colab-df-convert:hover {\n",
              "      background-color: #434B5C;\n",
              "      box-shadow: 0px 1px 3px 1px rgba(0, 0, 0, 0.15);\n",
              "      filter: drop-shadow(0px 1px 2px rgba(0, 0, 0, 0.3));\n",
              "      fill: #FFFFFF;\n",
              "    }\n",
              "  </style>\n",
              "\n",
              "      <script>\n",
              "        const buttonEl =\n",
              "          document.querySelector('#df-628310e6-28f1-4b65-9b58-e57cf4763557 button.colab-df-convert');\n",
              "        buttonEl.style.display =\n",
              "          google.colab.kernel.accessAllowed ? 'block' : 'none';\n",
              "\n",
              "        async function convertToInteractive(key) {\n",
              "          const element = document.querySelector('#df-628310e6-28f1-4b65-9b58-e57cf4763557');\n",
              "          const dataTable =\n",
              "            await google.colab.kernel.invokeFunction('convertToInteractive',\n",
              "                                                     [key], {});\n",
              "          if (!dataTable) return;\n",
              "\n",
              "          const docLinkHtml = 'Like what you see? Visit the ' +\n",
              "            '<a target=\"_blank\" href=https://colab.research.google.com/notebooks/data_table.ipynb>data table notebook</a>'\n",
              "            + ' to learn more about interactive tables.';\n",
              "          element.innerHTML = '';\n",
              "          dataTable['output_type'] = 'display_data';\n",
              "          await google.colab.output.renderOutput(dataTable, element);\n",
              "          const docLink = document.createElement('div');\n",
              "          docLink.innerHTML = docLinkHtml;\n",
              "          element.appendChild(docLink);\n",
              "        }\n",
              "      </script>\n",
              "    </div>\n",
              "  </div>\n",
              "  "
            ]
          },
          "metadata": {},
          "execution_count": 51
        }
      ]
    },
    {
      "cell_type": "code",
      "source": [
        "print(classification_report(y_test,prediction))"
      ],
      "metadata": {
        "id": "c5MuUylm7YI3",
        "colab": {
          "base_uri": "https://localhost:8080/"
        },
        "outputId": "7365ec97-5a78-4f2f-893d-b3a048519385"
      },
      "execution_count": 52,
      "outputs": [
        {
          "output_type": "stream",
          "name": "stdout",
          "text": [
            "              precision    recall  f1-score   support\n",
            "\n",
            "           0       0.53      0.22      0.31       949\n",
            "           1       0.67      0.56      0.61      1493\n",
            "           2       0.70      0.78      0.74      2527\n",
            "           3       0.31      0.82      0.45       323\n",
            "\n",
            "    accuracy                           0.62      5292\n",
            "   macro avg       0.55      0.60      0.53      5292\n",
            "weighted avg       0.64      0.62      0.61      5292\n",
            "\n"
          ]
        }
      ]
    },
    {
      "cell_type": "code",
      "source": [
        "from sklearn.metrics import confusion_matrix\n",
        "from matplotlib.pyplot import figure\n",
        "figure(figsize=(5, 4), dpi=80)\n",
        "cm = confusion_matrix(y_test,prediction)\n",
        "\n",
        "sns.heatmap(cm, annot=True,fmt=\"d\",cmap=\"YlGnBu\")"
      ],
      "metadata": {
        "id": "930jUCQP7YLL",
        "colab": {
          "base_uri": "https://localhost:8080/",
          "height": 309
        },
        "outputId": "96fbae8e-82da-433e-feef-9a0c7fa506ea"
      },
      "execution_count": 53,
      "outputs": [
        {
          "output_type": "execute_result",
          "data": {
            "text/plain": [
              "<matplotlib.axes._subplots.AxesSubplot at 0x7f3bb70812d0>"
            ]
          },
          "metadata": {},
          "execution_count": 53
        },
        {
          "output_type": "display_data",
          "data": {
            "text/plain": [
              "<Figure size 400x320 with 2 Axes>"
            ],
            "image/png": "[encoded data removed]"
          },
          "metadata": {
            "needs_background": "light"
          }
        }
      ]
    },
    {
      "cell_type": "markdown",
      "source": [
        "# SGDClassifier"
      ],
      "metadata": {
        "id": "uYTYzJn9f2BW"
      }
    },
    {
      "cell_type": "code",
      "source": [
        "from sklearn.linear_model import SGDClassifier\n",
        "\n",
        "SGD_model = SGDClassifier()\n",
        "SGD_model = SGD_model.fit(X_for_model, y_train)\n",
        "SGD_model"
      ],
      "metadata": {
        "execution": {
          "iopub.status.busy": "2022-05-15T23:53:33.928150Z",
          "iopub.execute_input": "2022-05-15T23:53:33.928508Z",
          "iopub.status.idle": "2022-05-15T23:53:34.457340Z",
          "shell.execute_reply.started": "2022-05-15T23:53:33.928472Z",
          "shell.execute_reply": "2022-05-15T23:53:34.456207Z"
        },
        "trusted": true,
        "id": "6dRDZDASf2BW",
        "colab": {
          "base_uri": "https://localhost:8080/"
        },
        "outputId": "2e6a2fc3-74d8-4f57-9179-3a8231abffa6"
      },
      "execution_count": 54,
      "outputs": [
        {
          "output_type": "execute_result",
          "data": {
            "text/plain": [
              "SGDClassifier()"
            ]
          },
          "metadata": {},
          "execution_count": 54
        }
      ]
    },
    {
      "cell_type": "code",
      "source": [
        "X_test_feature = VGG_model.predict(x_test)\n",
        "X_test_features = X_test_feature.reshape(X_test_feature.shape[0], -1)\n",
        "#Now predict using the trained RF model. \n",
        "prediction = SGD_model.predict(X_test_features)"
      ],
      "metadata": {
        "execution": {
          "iopub.status.busy": "2022-05-15T23:53:47.337581Z",
          "iopub.execute_input": "2022-05-15T23:53:47.337865Z",
          "iopub.status.idle": "2022-05-15T23:53:57.972765Z",
          "shell.execute_reply.started": "2022-05-15T23:53:47.337837Z",
          "shell.execute_reply": "2022-05-15T23:53:57.971362Z"
        },
        "trusted": true,
        "id": "Lu6Hhiglf2BW"
      },
      "execution_count": 55,
      "outputs": []
    },
    {
      "cell_type": "code",
      "source": [
        "print('Test set evaluation:\\n_____________________________________')\n",
        "print_evaluate(y_test, prediction)"
      ],
      "metadata": {
        "execution": {
          "iopub.status.busy": "2022-05-15T23:54:10.296137Z",
          "iopub.execute_input": "2022-05-15T23:54:10.297103Z",
          "iopub.status.idle": "2022-05-15T23:54:10.307837Z",
          "shell.execute_reply.started": "2022-05-15T23:54:10.297043Z",
          "shell.execute_reply": "2022-05-15T23:54:10.306887Z"
        },
        "trusted": true,
        "id": "cgzkFBjRf2BW",
        "colab": {
          "base_uri": "https://localhost:8080/"
        },
        "outputId": "c7e50a0c-4620-4a1a-fcd8-254c817d5569"
      },
      "execution_count": 56,
      "outputs": [
        {
          "output_type": "stream",
          "name": "stdout",
          "text": [
            "Test set evaluation:\n",
            "_____________________________________\n",
            "MAE: 0.23223733938019653\n",
            "MSE: 0.359599395313681\n",
            "RMSE: 0.5996660698369394\n",
            "R2 Square 0.5035671751269837\n",
            "Accuracy 0.8301209372637944\n",
            "__________________________________\n"
          ]
        }
      ]
    },
    {
      "cell_type": "code",
      "source": [
        "results_df_2 = pd.DataFrame(data=[[\"SGDClassifier\", *evaluate(y_test, prediction)]], \n",
        "                          columns=['Model', 'MAE', 'MSE', 'RMSE', 'R2 Square','Accuracy_VGG19' ])\n",
        "results_df = results_df.append(results_df_2, ignore_index=True)\n",
        "results_df"
      ],
      "metadata": {
        "execution": {
          "iopub.status.busy": "2022-05-15T23:54:30.843588Z",
          "iopub.execute_input": "2022-05-15T23:54:30.843951Z",
          "iopub.status.idle": "2022-05-15T23:54:30.866237Z",
          "shell.execute_reply.started": "2022-05-15T23:54:30.843914Z",
          "shell.execute_reply": "2022-05-15T23:54:30.865474Z"
        },
        "trusted": true,
        "id": "zRTMyQG2f2BW",
        "colab": {
          "base_uri": "https://localhost:8080/",
          "height": 269
        },
        "outputId": "fa1538a4-f721-4238-dbdb-bbf5592f23f8"
      },
      "execution_count": 57,
      "outputs": [
        {
          "output_type": "execute_result",
          "data": {
            "text/plain": [
              "                    Model       MAE       MSE      RMSE  R2 Square  \\\n",
              "0    KNeighborsClassifier  0.311980  0.473356  0.688009   0.346524   \n",
              "1  DecisionTreeClassifier  0.476190  0.744520  0.862856  -0.027822   \n",
              "2      Lojistik regresyon  0.265117  0.408730  0.639320   0.435741   \n",
              "3          LGBMClassifier  0.238095  0.361300  0.601082   0.501219   \n",
              "4  RandomForestClassifier  0.287793  0.429516  0.655375   0.407046   \n",
              "5              GaussianNB  0.539872  0.897014  0.947108  -0.238343   \n",
              "6           SGDClassifier  0.232237  0.359599  0.599666   0.503567   \n",
              "\n",
              "   Accuracy_VGG19  \n",
              "0        0.767385  \n",
              "1        0.649471  \n",
              "2        0.805178  \n",
              "3        0.822373  \n",
              "4        0.782502  \n",
              "5        0.620181  \n",
              "6        0.830121  "
            ],
            "text/html": [
              "\n",
              "  <div id=\"df-21a93fa5-a007-4769-bc25-893bfed9cc0b\">\n",
              "    <div class=\"colab-df-container\">\n",
              "      <div>\n",
              "<style scoped>\n",
              "    .dataframe tbody tr th:only-of-type {\n",
              "        vertical-align: middle;\n",
              "    }\n",
              "\n",
              "    .dataframe tbody tr th {\n",
              "        vertical-align: top;\n",
              "    }\n",
              "\n",
              "    .dataframe thead th {\n",
              "        text-align: right;\n",
              "    }\n",
              "</style>\n",
              "<table border=\"1\" class=\"dataframe\">\n",
              "  <thead>\n",
              "    <tr style=\"text-align: right;\">\n",
              "      <th></th>\n",
              "      <th>Model</th>\n",
              "      <th>MAE</th>\n",
              "      <th>MSE</th>\n",
              "      <th>RMSE</th>\n",
              "      <th>R2 Square</th>\n",
              "      <th>Accuracy_VGG19</th>\n",
              "    </tr>\n",
              "  </thead>\n",
              "  <tbody>\n",
              "    <tr>\n",
              "      <th>0</th>\n",
              "      <td>KNeighborsClassifier</td>\n",
              "      <td>0.311980</td>\n",
              "      <td>0.473356</td>\n",
              "      <td>0.688009</td>\n",
              "      <td>0.346524</td>\n",
              "      <td>0.767385</td>\n",
              "    </tr>\n",
              "    <tr>\n",
              "      <th>1</th>\n",
              "      <td>DecisionTreeClassifier</td>\n",
              "      <td>0.476190</td>\n",
              "      <td>0.744520</td>\n",
              "      <td>0.862856</td>\n",
              "      <td>-0.027822</td>\n",
              "      <td>0.649471</td>\n",
              "    </tr>\n",
              "    <tr>\n",
              "      <th>2</th>\n",
              "      <td>Lojistik regresyon</td>\n",
              "      <td>0.265117</td>\n",
              "      <td>0.408730</td>\n",
              "      <td>0.639320</td>\n",
              "      <td>0.435741</td>\n",
              "      <td>0.805178</td>\n",
              "    </tr>\n",
              "    <tr>\n",
              "      <th>3</th>\n",
              "      <td>LGBMClassifier</td>\n",
              "      <td>0.238095</td>\n",
              "      <td>0.361300</td>\n",
              "      <td>0.601082</td>\n",
              "      <td>0.501219</td>\n",
              "      <td>0.822373</td>\n",
              "    </tr>\n",
              "    <tr>\n",
              "      <th>4</th>\n",
              "      <td>RandomForestClassifier</td>\n",
              "      <td>0.287793</td>\n",
              "      <td>0.429516</td>\n",
              "      <td>0.655375</td>\n",
              "      <td>0.407046</td>\n",
              "      <td>0.782502</td>\n",
              "    </tr>\n",
              "    <tr>\n",
              "      <th>5</th>\n",
              "      <td>GaussianNB</td>\n",
              "      <td>0.539872</td>\n",
              "      <td>0.897014</td>\n",
              "      <td>0.947108</td>\n",
              "      <td>-0.238343</td>\n",
              "      <td>0.620181</td>\n",
              "    </tr>\n",
              "    <tr>\n",
              "      <th>6</th>\n",
              "      <td>SGDClassifier</td>\n",
              "      <td>0.232237</td>\n",
              "      <td>0.359599</td>\n",
              "      <td>0.599666</td>\n",
              "      <td>0.503567</td>\n",
              "      <td>0.830121</td>\n",
              "    </tr>\n",
              "  </tbody>\n",
              "</table>\n",
              "</div>\n",
              "      <button class=\"colab-df-convert\" onclick=\"convertToInteractive('df-21a93fa5-a007-4769-bc25-893bfed9cc0b')\"\n",
              "              title=\"Convert this dataframe to an interactive table.\"\n",
              "              style=\"display:none;\">\n",
              "        \n",
              "  <svg xmlns=\"http://www.w3.org/2000/svg\" height=\"24px\"viewBox=\"0 0 24 24\"\n",
              "       width=\"24px\">\n",
              "    <path d=\"M0 0h24v24H0V0z\" fill=\"none\"/>\n",
              "    <path d=\"M18.56 5.44l.94 2.06.94-2.06 2.06-.94-2.06-.94-.94-2.06-.94 2.06-2.06.94zm-11 1L8.5 8.5l.94-2.06 2.06-.94-2.06-.94L8.5 2.5l-.94 2.06-2.06.94zm10 10l.94 2.06.94-2.06 2.06-.94-2.06-.94-.94-2.06-.94 2.06-2.06.94z\"/><path d=\"M17.41 7.96l-1.37-1.37c-.4-.4-.92-.59-1.43-.59-.52 0-1.04.2-1.43.59L10.3 9.45l-7.72 7.72c-.78.78-.78 2.05 0 2.83L4 21.41c.39.39.9.59 1.41.59.51 0 1.02-.2 1.41-.59l7.78-7.78 2.81-2.81c.8-.78.8-2.07 0-2.86zM5.41 20L4 18.59l7.72-7.72 1.47 1.35L5.41 20z\"/>\n",
              "  </svg>\n",
              "      </button>\n",
              "      \n",
              "  <style>\n",
              "    .colab-df-container {\n",
              "      display:flex;\n",
              "      flex-wrap:wrap;\n",
              "      gap: 12px;\n",
              "    }\n",
              "\n",
              "    .colab-df-convert {\n",
              "      background-color: #E8F0FE;\n",
              "      border: none;\n",
              "      border-radius: 50%;\n",
              "      cursor: pointer;\n",
              "      display: none;\n",
              "      fill: #1967D2;\n",
              "      height: 32px;\n",
              "      padding: 0 0 0 0;\n",
              "      width: 32px;\n",
              "    }\n",
              "\n",
              "    .colab-df-convert:hover {\n",
              "      background-color: #E2EBFA;\n",
              "      box-shadow: 0px 1px 2px rgba(60, 64, 67, 0.3), 0px 1px 3px 1px rgba(60, 64, 67, 0.15);\n",
              "      fill: #174EA6;\n",
              "    }\n",
              "\n",
              "    [theme=dark] .colab-df-convert {\n",
              "      background-color: #3B4455;\n",
              "      fill: #D2E3FC;\n",
              "    }\n",
              "\n",
              "    [theme=dark] .colab-df-convert:hover {\n",
              "      background-color: #434B5C;\n",
              "      box-shadow: 0px 1px 3px 1px rgba(0, 0, 0, 0.15);\n",
              "      filter: drop-shadow(0px 1px 2px rgba(0, 0, 0, 0.3));\n",
              "      fill: #FFFFFF;\n",
              "    }\n",
              "  </style>\n",
              "\n",
              "      <script>\n",
              "        const buttonEl =\n",
              "          document.querySelector('#df-21a93fa5-a007-4769-bc25-893bfed9cc0b button.colab-df-convert');\n",
              "        buttonEl.style.display =\n",
              "          google.colab.kernel.accessAllowed ? 'block' : 'none';\n",
              "\n",
              "        async function convertToInteractive(key) {\n",
              "          const element = document.querySelector('#df-21a93fa5-a007-4769-bc25-893bfed9cc0b');\n",
              "          const dataTable =\n",
              "            await google.colab.kernel.invokeFunction('convertToInteractive',\n",
              "                                                     [key], {});\n",
              "          if (!dataTable) return;\n",
              "\n",
              "          const docLinkHtml = 'Like what you see? Visit the ' +\n",
              "            '<a target=\"_blank\" href=https://colab.research.google.com/notebooks/data_table.ipynb>data table notebook</a>'\n",
              "            + ' to learn more about interactive tables.';\n",
              "          element.innerHTML = '';\n",
              "          dataTable['output_type'] = 'display_data';\n",
              "          await google.colab.output.renderOutput(dataTable, element);\n",
              "          const docLink = document.createElement('div');\n",
              "          docLink.innerHTML = docLinkHtml;\n",
              "          element.appendChild(docLink);\n",
              "        }\n",
              "      </script>\n",
              "    </div>\n",
              "  </div>\n",
              "  "
            ]
          },
          "metadata": {},
          "execution_count": 57
        }
      ]
    },
    {
      "cell_type": "code",
      "source": [
        "print(classification_report(y_test,prediction))"
      ],
      "metadata": {
        "execution": {
          "iopub.status.busy": "2022-05-15T23:54:38.489342Z",
          "iopub.execute_input": "2022-05-15T23:54:38.490220Z",
          "iopub.status.idle": "2022-05-15T23:54:38.506176Z",
          "shell.execute_reply.started": "2022-05-15T23:54:38.490180Z",
          "shell.execute_reply": "2022-05-15T23:54:38.504725Z"
        },
        "trusted": true,
        "id": "IoQXQQU9f2BW",
        "colab": {
          "base_uri": "https://localhost:8080/"
        },
        "outputId": "4de83e5f-f4cc-4073-d74a-bac223877a0f"
      },
      "execution_count": 58,
      "outputs": [
        {
          "output_type": "stream",
          "name": "stdout",
          "text": [
            "              precision    recall  f1-score   support\n",
            "\n",
            "           0       0.82      0.55      0.66       949\n",
            "           1       0.81      0.82      0.82      1493\n",
            "           2       0.83      0.94      0.88      2527\n",
            "           3       0.99      0.84      0.91       323\n",
            "\n",
            "    accuracy                           0.83      5292\n",
            "   macro avg       0.86      0.79      0.81      5292\n",
            "weighted avg       0.83      0.83      0.82      5292\n",
            "\n"
          ]
        }
      ]
    },
    {
      "cell_type": "code",
      "source": [
        "from sklearn.metrics import confusion_matrix\n",
        "from matplotlib.pyplot import figure\n",
        "figure(figsize=(5, 4), dpi=80)\n",
        "cm = confusion_matrix(y_test,prediction)\n",
        "\n",
        "sns.heatmap(cm, annot=True,fmt=\"d\",cmap=\"YlGnBu\")"
      ],
      "metadata": {
        "execution": {
          "iopub.status.busy": "2022-05-15T23:54:44.057142Z",
          "iopub.execute_input": "2022-05-15T23:54:44.057974Z",
          "iopub.status.idle": "2022-05-15T23:54:44.323926Z",
          "shell.execute_reply.started": "2022-05-15T23:54:44.057927Z",
          "shell.execute_reply": "2022-05-15T23:54:44.322952Z"
        },
        "trusted": true,
        "id": "PFCscHelf2BX",
        "colab": {
          "base_uri": "https://localhost:8080/",
          "height": 309
        },
        "outputId": "cd10b362-bb5d-4bd4-aca1-804e7297d080"
      },
      "execution_count": 59,
      "outputs": [
        {
          "output_type": "execute_result",
          "data": {
            "text/plain": [
              "<matplotlib.axes._subplots.AxesSubplot at 0x7f3e4e0d2350>"
            ]
          },
          "metadata": {},
          "execution_count": 59
        },
        {
          "output_type": "display_data",
          "data": {
            "text/plain": [
              "<Figure size 400x320 with 2 Axes>"
            ],
            "image/png": "[encoded data removed]"
          },
          "metadata": {
            "needs_background": "light"
          }
        }
      ]
    },
    {
      "cell_type": "markdown",
      "source": [
        "# SVC"
      ],
      "metadata": {
        "id": "pJk94rxx5tbR"
      }
    },
    {
      "cell_type": "code",
      "source": [
        "from sklearn.svm import SVC\n",
        "svm_model = SVC(kernel = \"linear\")\n",
        "svm_model = svm_model.fit(X_for_model, y_train)\n",
        "svm_model"
      ],
      "metadata": {
        "id": "tFvUcWJN5spI",
        "colab": {
          "base_uri": "https://localhost:8080/"
        },
        "outputId": "1057edd1-259e-4c72-a440-7aef74e3f493"
      },
      "execution_count": 60,
      "outputs": [
        {
          "output_type": "execute_result",
          "data": {
            "text/plain": [
              "SVC(kernel='linear')"
            ]
          },
          "metadata": {},
          "execution_count": 60
        }
      ]
    },
    {
      "cell_type": "code",
      "source": [
        "X_test_feature = VGG_model.predict(x_test)\n",
        "X_test_features = X_test_feature.reshape(X_test_feature.shape[0], -1)\n",
        "#Now predict using the trained RF model. \n",
        "prediction = svm_model.predict(X_test_features)"
      ],
      "metadata": {
        "id": "DLTKkRMS50qo"
      },
      "execution_count": 61,
      "outputs": []
    },
    {
      "cell_type": "code",
      "source": [
        "print('Test set evaluation:\\n_____________________________________')\n",
        "print_evaluate(y_test, prediction)"
      ],
      "metadata": {
        "id": "PP0IUzkD50tP",
        "colab": {
          "base_uri": "https://localhost:8080/"
        },
        "outputId": "720b8e1e-46cc-4240-b07d-d4a961dbfd0c"
      },
      "execution_count": 62,
      "outputs": [
        {
          "output_type": "stream",
          "name": "stdout",
          "text": [
            "Test set evaluation:\n",
            "_____________________________________\n",
            "MAE: 0.23715041572184428\n",
            "MSE: 0.3531746031746032\n",
            "RMSE: 0.5942849511594612\n",
            "R2 Square 0.5124367053664386\n",
            "Accuracy 0.8199168556311414\n",
            "__________________________________\n"
          ]
        }
      ]
    },
    {
      "cell_type": "code",
      "source": [
        "results_df_2 = pd.DataFrame(data=[[\"SVC\", *evaluate(y_test, prediction)]], \n",
        "                          columns=['Model', 'MAE', 'MSE', 'RMSE', 'R2 Square','Accuracy_VGG19' ])\n",
        "results_df = results_df.append(results_df_2, ignore_index=True)\n",
        "results_df"
      ],
      "metadata": {
        "id": "SaNMQF1u50v0",
        "colab": {
          "base_uri": "https://localhost:8080/",
          "height": 300
        },
        "outputId": "60fe90ce-b528-429b-f888-3b9c40d59322"
      },
      "execution_count": 63,
      "outputs": [
        {
          "output_type": "execute_result",
          "data": {
            "text/plain": [
              "                    Model       MAE       MSE      RMSE  R2 Square  \\\n",
              "0    KNeighborsClassifier  0.311980  0.473356  0.688009   0.346524   \n",
              "1  DecisionTreeClassifier  0.476190  0.744520  0.862856  -0.027822   \n",
              "2      Lojistik regresyon  0.265117  0.408730  0.639320   0.435741   \n",
              "3          LGBMClassifier  0.238095  0.361300  0.601082   0.501219   \n",
              "4  RandomForestClassifier  0.287793  0.429516  0.655375   0.407046   \n",
              "5              GaussianNB  0.539872  0.897014  0.947108  -0.238343   \n",
              "6           SGDClassifier  0.232237  0.359599  0.599666   0.503567   \n",
              "7                     SVC  0.237150  0.353175  0.594285   0.512437   \n",
              "\n",
              "   Accuracy_VGG19  \n",
              "0        0.767385  \n",
              "1        0.649471  \n",
              "2        0.805178  \n",
              "3        0.822373  \n",
              "4        0.782502  \n",
              "5        0.620181  \n",
              "6        0.830121  \n",
              "7        0.819917  "
            ],
            "text/html": [
              "\n",
              "  <div id=\"df-9437e37b-678f-4c97-bf9a-f3440c9e7e6a\">\n",
              "    <div class=\"colab-df-container\">\n",
              "      <div>\n",
              "<style scoped>\n",
              "    .dataframe tbody tr th:only-of-type {\n",
              "        vertical-align: middle;\n",
              "    }\n",
              "\n",
              "    .dataframe tbody tr th {\n",
              "        vertical-align: top;\n",
              "    }\n",
              "\n",
              "    .dataframe thead th {\n",
              "        text-align: right;\n",
              "    }\n",
              "</style>\n",
              "<table border=\"1\" class=\"dataframe\">\n",
              "  <thead>\n",
              "    <tr style=\"text-align: right;\">\n",
              "      <th></th>\n",
              "      <th>Model</th>\n",
              "      <th>MAE</th>\n",
              "      <th>MSE</th>\n",
              "      <th>RMSE</th>\n",
              "      <th>R2 Square</th>\n",
              "      <th>Accuracy_VGG19</th>\n",
              "    </tr>\n",
              "  </thead>\n",
              "  <tbody>\n",
              "    <tr>\n",
              "      <th>0</th>\n",
              "      <td>KNeighborsClassifier</td>\n",
              "      <td>0.311980</td>\n",
              "      <td>0.473356</td>\n",
              "      <td>0.688009</td>\n",
              "      <td>0.346524</td>\n",
              "      <td>0.767385</td>\n",
              "    </tr>\n",
              "    <tr>\n",
              "      <th>1</th>\n",
              "      <td>DecisionTreeClassifier</td>\n",
              "      <td>0.476190</td>\n",
              "      <td>0.744520</td>\n",
              "      <td>0.862856</td>\n",
              "      <td>-0.027822</td>\n",
              "      <td>0.649471</td>\n",
              "    </tr>\n",
              "    <tr>\n",
              "      <th>2</th>\n",
              "      <td>Lojistik regresyon</td>\n",
              "      <td>0.265117</td>\n",
              "      <td>0.408730</td>\n",
              "      <td>0.639320</td>\n",
              "      <td>0.435741</td>\n",
              "      <td>0.805178</td>\n",
              "    </tr>\n",
              "    <tr>\n",
              "      <th>3</th>\n",
              "      <td>LGBMClassifier</td>\n",
              "      <td>0.238095</td>\n",
              "      <td>0.361300</td>\n",
              "      <td>0.601082</td>\n",
              "      <td>0.501219</td>\n",
              "      <td>0.822373</td>\n",
              "    </tr>\n",
              "    <tr>\n",
              "      <th>4</th>\n",
              "      <td>RandomForestClassifier</td>\n",
              "      <td>0.287793</td>\n",
              "      <td>0.429516</td>\n",
              "      <td>0.655375</td>\n",
              "      <td>0.407046</td>\n",
              "      <td>0.782502</td>\n",
              "    </tr>\n",
              "    <tr>\n",
              "      <th>5</th>\n",
              "      <td>GaussianNB</td>\n",
              "      <td>0.539872</td>\n",
              "      <td>0.897014</td>\n",
              "      <td>0.947108</td>\n",
              "      <td>-0.238343</td>\n",
              "      <td>0.620181</td>\n",
              "    </tr>\n",
              "    <tr>\n",
              "      <th>6</th>\n",
              "      <td>SGDClassifier</td>\n",
              "      <td>0.232237</td>\n",
              "      <td>0.359599</td>\n",
              "      <td>0.599666</td>\n",
              "      <td>0.503567</td>\n",
              "      <td>0.830121</td>\n",
              "    </tr>\n",
              "    <tr>\n",
              "      <th>7</th>\n",
              "      <td>SVC</td>\n",
              "      <td>0.237150</td>\n",
              "      <td>0.353175</td>\n",
              "      <td>0.594285</td>\n",
              "      <td>0.512437</td>\n",
              "      <td>0.819917</td>\n",
              "    </tr>\n",
              "  </tbody>\n",
              "</table>\n",
              "</div>\n",
              "      <button class=\"colab-df-convert\" onclick=\"convertToInteractive('df-9437e37b-678f-4c97-bf9a-f3440c9e7e6a')\"\n",
              "              title=\"Convert this dataframe to an interactive table.\"\n",
              "              style=\"display:none;\">\n",
              "        \n",
              "  <svg xmlns=\"http://www.w3.org/2000/svg\" height=\"24px\"viewBox=\"0 0 24 24\"\n",
              "       width=\"24px\">\n",
              "    <path d=\"M0 0h24v24H0V0z\" fill=\"none\"/>\n",
              "    <path d=\"M18.56 5.44l.94 2.06.94-2.06 2.06-.94-2.06-.94-.94-2.06-.94 2.06-2.06.94zm-11 1L8.5 8.5l.94-2.06 2.06-.94-2.06-.94L8.5 2.5l-.94 2.06-2.06.94zm10 10l.94 2.06.94-2.06 2.06-.94-2.06-.94-.94-2.06-.94 2.06-2.06.94z\"/><path d=\"M17.41 7.96l-1.37-1.37c-.4-.4-.92-.59-1.43-.59-.52 0-1.04.2-1.43.59L10.3 9.45l-7.72 7.72c-.78.78-.78 2.05 0 2.83L4 21.41c.39.39.9.59 1.41.59.51 0 1.02-.2 1.41-.59l7.78-7.78 2.81-2.81c.8-.78.8-2.07 0-2.86zM5.41 20L4 18.59l7.72-7.72 1.47 1.35L5.41 20z\"/>\n",
              "  </svg>\n",
              "      </button>\n",
              "      \n",
              "  <style>\n",
              "    .colab-df-container {\n",
              "      display:flex;\n",
              "      flex-wrap:wrap;\n",
              "      gap: 12px;\n",
              "    }\n",
              "\n",
              "    .colab-df-convert {\n",
              "      background-color: #E8F0FE;\n",
              "      border: none;\n",
              "      border-radius: 50%;\n",
              "      cursor: pointer;\n",
              "      display: none;\n",
              "      fill: #1967D2;\n",
              "      height: 32px;\n",
              "      padding: 0 0 0 0;\n",
              "      width: 32px;\n",
              "    }\n",
              "\n",
              "    .colab-df-convert:hover {\n",
              "      background-color: #E2EBFA;\n",
              "      box-shadow: 0px 1px 2px rgba(60, 64, 67, 0.3), 0px 1px 3px 1px rgba(60, 64, 67, 0.15);\n",
              "      fill: #174EA6;\n",
              "    }\n",
              "\n",
              "    [theme=dark] .colab-df-convert {\n",
              "      background-color: #3B4455;\n",
              "      fill: #D2E3FC;\n",
              "    }\n",
              "\n",
              "    [theme=dark] .colab-df-convert:hover {\n",
              "      background-color: #434B5C;\n",
              "      box-shadow: 0px 1px 3px 1px rgba(0, 0, 0, 0.15);\n",
              "      filter: drop-shadow(0px 1px 2px rgba(0, 0, 0, 0.3));\n",
              "      fill: #FFFFFF;\n",
              "    }\n",
              "  </style>\n",
              "\n",
              "      <script>\n",
              "        const buttonEl =\n",
              "          document.querySelector('#df-9437e37b-678f-4c97-bf9a-f3440c9e7e6a button.colab-df-convert');\n",
              "        buttonEl.style.display =\n",
              "          google.colab.kernel.accessAllowed ? 'block' : 'none';\n",
              "\n",
              "        async function convertToInteractive(key) {\n",
              "          const element = document.querySelector('#df-9437e37b-678f-4c97-bf9a-f3440c9e7e6a');\n",
              "          const dataTable =\n",
              "            await google.colab.kernel.invokeFunction('convertToInteractive',\n",
              "                                                     [key], {});\n",
              "          if (!dataTable) return;\n",
              "\n",
              "          const docLinkHtml = 'Like what you see? Visit the ' +\n",
              "            '<a target=\"_blank\" href=https://colab.research.google.com/notebooks/data_table.ipynb>data table notebook</a>'\n",
              "            + ' to learn more about interactive tables.';\n",
              "          element.innerHTML = '';\n",
              "          dataTable['output_type'] = 'display_data';\n",
              "          await google.colab.output.renderOutput(dataTable, element);\n",
              "          const docLink = document.createElement('div');\n",
              "          docLink.innerHTML = docLinkHtml;\n",
              "          element.appendChild(docLink);\n",
              "        }\n",
              "      </script>\n",
              "    </div>\n",
              "  </div>\n",
              "  "
            ]
          },
          "metadata": {},
          "execution_count": 63
        }
      ]
    },
    {
      "cell_type": "code",
      "source": [
        "print(classification_report(y_test,prediction))"
      ],
      "metadata": {
        "id": "0Nrp56oK50x8",
        "colab": {
          "base_uri": "https://localhost:8080/"
        },
        "outputId": "b5355165-2f4e-4dbf-d7d4-668106a5e4eb"
      },
      "execution_count": 64,
      "outputs": [
        {
          "output_type": "stream",
          "name": "stdout",
          "text": [
            "              precision    recall  f1-score   support\n",
            "\n",
            "           0       0.69      0.69      0.69       949\n",
            "           1       0.80      0.77      0.79      1493\n",
            "           2       0.86      0.89      0.87      2527\n",
            "           3       0.93      0.90      0.92       323\n",
            "\n",
            "    accuracy                           0.82      5292\n",
            "   macro avg       0.82      0.81      0.82      5292\n",
            "weighted avg       0.82      0.82      0.82      5292\n",
            "\n"
          ]
        }
      ]
    },
    {
      "cell_type": "code",
      "source": [
        "from sklearn.metrics import confusion_matrix\n",
        "from matplotlib.pyplot import figure\n",
        "figure(figsize=(5, 4), dpi=80)\n",
        "cm = confusion_matrix(y_test,prediction)\n",
        "\n",
        "sns.heatmap(cm, annot=True,fmt=\"d\",cmap=\"YlGnBu\")"
      ],
      "metadata": {
        "id": "P2XomgNt503c",
        "colab": {
          "base_uri": "https://localhost:8080/",
          "height": 309
        },
        "outputId": "c192044e-a87c-427a-ed65-cf29b6773170"
      },
      "execution_count": 65,
      "outputs": [
        {
          "output_type": "execute_result",
          "data": {
            "text/plain": [
              "<matplotlib.axes._subplots.AxesSubplot at 0x7f3e4e1bb490>"
            ]
          },
          "metadata": {},
          "execution_count": 65
        },
        {
          "output_type": "display_data",
          "data": {
            "text/plain": [
              "<Figure size 400x320 with 2 Axes>"
            ],
            "image/png": "[encoded data removed]"
          },
          "metadata": {
            "needs_background": "light"
          }
        }
      ]
    },
    {
      "cell_type": "code",
      "source": [
        ""
      ],
      "metadata": {
        "id": "19MeM_ezjJdz"
      },
      "execution_count": null,
      "outputs": []
    },
    {
      "cell_type": "code",
      "source": [
        ""
      ],
      "metadata": {
        "id": "TtIFvjo_S6gc"
      },
      "execution_count": null,
      "outputs": []
    },
    {
      "cell_type": "code",
      "source": [
        ""
      ],
      "metadata": {
        "id": "UJKmY6OWS6jH"
      },
      "execution_count": null,
      "outputs": []
    },
    {
      "cell_type": "code",
      "source": [
        ""
      ],
      "metadata": {
        "id": "LATjyOg-S6lj"
      },
      "execution_count": null,
      "outputs": []
    },
    {
      "cell_type": "code",
      "source": [
        ""
      ],
      "metadata": {
        "id": "t1QXeLfVKfkl"
      },
      "execution_count": null,
      "outputs": []
    },
    {
      "cell_type": "code",
      "source": [
        "modeller = [rf_model,GB_model,LGBM_model,SGD_model,lr_model,cart_model,svm_model,knn_model,svm_rbf_model]\n"
      ],
      "metadata": {
        "id": "UWcQyrfR51CJ"
      },
      "execution_count": 68,
      "outputs": []
    },
    {
      "cell_type": "code",
      "source": [
        "sonuc = []\n",
        "from sklearn.metrics import accuracy_score\n",
        "\n",
        "sonuclar = pd.DataFrame(columns= [\"Modeller\",\"Accuracy_VGG19\"])\n",
        "\n",
        "for model in modeller:\n",
        "    isimler = model.__class__.__name__\n",
        "    y_pred = model.predict(X_test_features)\n",
        "    dogruluk = accuracy_score(y_test, y_pred)    \n",
        "    sonuc = pd.DataFrame([[isimler, dogruluk*100]], columns= [\"Modeller\",\"Accuracy_VGG19\"])\n",
        "    sonuclar = sonuclar.append(sonuc)\n",
        "    "
      ],
      "metadata": {
        "id": "wgpJLQg5_zWa"
      },
      "execution_count": 69,
      "outputs": []
    },
    {
      "cell_type": "code",
      "source": [
        "plt.figure(figsize=[16, 10])\n",
        "axis = sns.barplot(x = 'Modeller', y = 'Accuracy_VGG19', data = sonuclar)\n",
        "axis.set(xlabel='Classifier', ylabel='Accuracy')\n",
        "for p in axis.patches:\n",
        "  height = p.get_height()\n",
        "  axis.text(p.get_x() + p.get_width()/2, height + 0.005, '{:1.4f}'.format(height), ha=\"center\") "
      ],
      "metadata": {
        "colab": {
          "base_uri": "https://localhost:8080/",
          "height": 611
        },
        "id": "4-LDjZHVCMdC",
        "outputId": "d7fbb698-376c-4fd1-9359-ce38776de0aa"
      },
      "execution_count": 75,
      "outputs": [
        {
          "output_type": "display_data",
          "data": {
            "text/plain": [
              "<Figure size 1152x720 with 1 Axes>"
            ],
            "image/png": "[encoded data removed]"
          },
          "metadata": {}
        }
      ]
    },
    {
      "cell_type": "code",
      "source": [
        "best_acc=sonuclar.sort_values(by=['Accuracy_VGG19'], ascending=False)\n",
        "en_iyi_model_my_model=best_acc[:1]\n",
        "en_iyi_model_my_model"
      ],
      "metadata": {
        "id": "Uv6VIyHnjSfA",
        "colab": {
          "base_uri": "https://localhost:8080/",
          "height": 81
        },
        "outputId": "7ff61f9d-f9d2-4b6a-c15f-4bb6153c99de"
      },
      "execution_count": 74,
      "outputs": [
        {
          "output_type": "execute_result",
          "data": {
            "text/plain": [
              "        Modeller  Accuracy_VGG19\n",
              "0  SGDClassifier       83.012094"
            ],
            "text/html": [
              "\n",
              "  <div id=\"df-fa7bf900-9be7-48a6-8a88-a84835d26b59\">\n",
              "    <div class=\"colab-df-container\">\n",
              "      <div>\n",
              "<style scoped>\n",
              "    .dataframe tbody tr th:only-of-type {\n",
              "        vertical-align: middle;\n",
              "    }\n",
              "\n",
              "    .dataframe tbody tr th {\n",
              "        vertical-align: top;\n",
              "    }\n",
              "\n",
              "    .dataframe thead th {\n",
              "        text-align: right;\n",
              "    }\n",
              "</style>\n",
              "<table border=\"1\" class=\"dataframe\">\n",
              "  <thead>\n",
              "    <tr style=\"text-align: right;\">\n",
              "      <th></th>\n",
              "      <th>Modeller</th>\n",
              "      <th>Accuracy_VGG19</th>\n",
              "    </tr>\n",
              "  </thead>\n",
              "  <tbody>\n",
              "    <tr>\n",
              "      <th>0</th>\n",
              "      <td>SGDClassifier</td>\n",
              "      <td>83.012094</td>\n",
              "    </tr>\n",
              "  </tbody>\n",
              "</table>\n",
              "</div>\n",
              "      <button class=\"colab-df-convert\" onclick=\"convertToInteractive('df-fa7bf900-9be7-48a6-8a88-a84835d26b59')\"\n",
              "              title=\"Convert this dataframe to an interactive table.\"\n",
              "              style=\"display:none;\">\n",
              "        \n",
              "  <svg xmlns=\"http://www.w3.org/2000/svg\" height=\"24px\"viewBox=\"0 0 24 24\"\n",
              "       width=\"24px\">\n",
              "    <path d=\"M0 0h24v24H0V0z\" fill=\"none\"/>\n",
              "    <path d=\"M18.56 5.44l.94 2.06.94-2.06 2.06-.94-2.06-.94-.94-2.06-.94 2.06-2.06.94zm-11 1L8.5 8.5l.94-2.06 2.06-.94-2.06-.94L8.5 2.5l-.94 2.06-2.06.94zm10 10l.94 2.06.94-2.06 2.06-.94-2.06-.94-.94-2.06-.94 2.06-2.06.94z\"/><path d=\"M17.41 7.96l-1.37-1.37c-.4-.4-.92-.59-1.43-.59-.52 0-1.04.2-1.43.59L10.3 9.45l-7.72 7.72c-.78.78-.78 2.05 0 2.83L4 21.41c.39.39.9.59 1.41.59.51 0 1.02-.2 1.41-.59l7.78-7.78 2.81-2.81c.8-.78.8-2.07 0-2.86zM5.41 20L4 18.59l7.72-7.72 1.47 1.35L5.41 20z\"/>\n",
              "  </svg>\n",
              "      </button>\n",
              "      \n",
              "  <style>\n",
              "    .colab-df-container {\n",
              "      display:flex;\n",
              "      flex-wrap:wrap;\n",
              "      gap: 12px;\n",
              "    }\n",
              "\n",
              "    .colab-df-convert {\n",
              "      background-color: #E8F0FE;\n",
              "      border: none;\n",
              "      border-radius: 50%;\n",
              "      cursor: pointer;\n",
              "      display: none;\n",
              "      fill: #1967D2;\n",
              "      height: 32px;\n",
              "      padding: 0 0 0 0;\n",
              "      width: 32px;\n",
              "    }\n",
              "\n",
              "    .colab-df-convert:hover {\n",
              "      background-color: #E2EBFA;\n",
              "      box-shadow: 0px 1px 2px rgba(60, 64, 67, 0.3), 0px 1px 3px 1px rgba(60, 64, 67, 0.15);\n",
              "      fill: #174EA6;\n",
              "    }\n",
              "\n",
              "    [theme=dark] .colab-df-convert {\n",
              "      background-color: #3B4455;\n",
              "      fill: #D2E3FC;\n",
              "    }\n",
              "\n",
              "    [theme=dark] .colab-df-convert:hover {\n",
              "      background-color: #434B5C;\n",
              "      box-shadow: 0px 1px 3px 1px rgba(0, 0, 0, 0.15);\n",
              "      filter: drop-shadow(0px 1px 2px rgba(0, 0, 0, 0.3));\n",
              "      fill: #FFFFFF;\n",
              "    }\n",
              "  </style>\n",
              "\n",
              "      <script>\n",
              "        const buttonEl =\n",
              "          document.querySelector('#df-fa7bf900-9be7-48a6-8a88-a84835d26b59 button.colab-df-convert');\n",
              "        buttonEl.style.display =\n",
              "          google.colab.kernel.accessAllowed ? 'block' : 'none';\n",
              "\n",
              "        async function convertToInteractive(key) {\n",
              "          const element = document.querySelector('#df-fa7bf900-9be7-48a6-8a88-a84835d26b59');\n",
              "          const dataTable =\n",
              "            await google.colab.kernel.invokeFunction('convertToInteractive',\n",
              "                                                     [key], {});\n",
              "          if (!dataTable) return;\n",
              "\n",
              "          const docLinkHtml = 'Like what you see? Visit the ' +\n",
              "            '<a target=\"_blank\" href=https://colab.research.google.com/notebooks/data_table.ipynb>data table notebook</a>'\n",
              "            + ' to learn more about interactive tables.';\n",
              "          element.innerHTML = '';\n",
              "          dataTable['output_type'] = 'display_data';\n",
              "          await google.colab.output.renderOutput(dataTable, element);\n",
              "          const docLink = document.createElement('div');\n",
              "          docLink.innerHTML = docLinkHtml;\n",
              "          element.appendChild(docLink);\n",
              "        }\n",
              "      </script>\n",
              "    </div>\n",
              "  </div>\n",
              "  "
            ]
          },
          "metadata": {},
          "execution_count": 74
        }
      ]
    },
    {
      "cell_type": "code",
      "source": [
        "results_df\n"
      ],
      "metadata": {
        "id": "RxV8Mw7H_zY8",
        "colab": {
          "base_uri": "https://localhost:8080/",
          "height": 300
        },
        "outputId": "d8fe5132-61fe-418c-f8a5-076b7665865e"
      },
      "execution_count": 76,
      "outputs": [
        {
          "output_type": "execute_result",
          "data": {
            "text/plain": [
              "                    Model       MAE       MSE      RMSE  R2 Square  \\\n",
              "0    KNeighborsClassifier  0.311980  0.473356  0.688009   0.346524   \n",
              "1  DecisionTreeClassifier  0.476190  0.744520  0.862856  -0.027822   \n",
              "2      Lojistik regresyon  0.265117  0.408730  0.639320   0.435741   \n",
              "3          LGBMClassifier  0.238095  0.361300  0.601082   0.501219   \n",
              "4  RandomForestClassifier  0.287793  0.429516  0.655375   0.407046   \n",
              "5              GaussianNB  0.539872  0.897014  0.947108  -0.238343   \n",
              "6           SGDClassifier  0.232237  0.359599  0.599666   0.503567   \n",
              "7                     SVC  0.237150  0.353175  0.594285   0.512437   \n",
              "\n",
              "   Accuracy_VGG19  \n",
              "0        0.767385  \n",
              "1        0.649471  \n",
              "2        0.805178  \n",
              "3        0.822373  \n",
              "4        0.782502  \n",
              "5        0.620181  \n",
              "6        0.830121  \n",
              "7        0.819917  "
            ],
            "text/html": [
              "\n",
              "  <div id=\"df-a8740083-4e32-49f8-bd2e-63cae9cfe1e8\">\n",
              "    <div class=\"colab-df-container\">\n",
              "      <div>\n",
              "<style scoped>\n",
              "    .dataframe tbody tr th:only-of-type {\n",
              "        vertical-align: middle;\n",
              "    }\n",
              "\n",
              "    .dataframe tbody tr th {\n",
              "        vertical-align: top;\n",
              "    }\n",
              "\n",
              "    .dataframe thead th {\n",
              "        text-align: right;\n",
              "    }\n",
              "</style>\n",
              "<table border=\"1\" class=\"dataframe\">\n",
              "  <thead>\n",
              "    <tr style=\"text-align: right;\">\n",
              "      <th></th>\n",
              "      <th>Model</th>\n",
              "      <th>MAE</th>\n",
              "      <th>MSE</th>\n",
              "      <th>RMSE</th>\n",
              "      <th>R2 Square</th>\n",
              "      <th>Accuracy_VGG19</th>\n",
              "    </tr>\n",
              "  </thead>\n",
              "  <tbody>\n",
              "    <tr>\n",
              "      <th>0</th>\n",
              "      <td>KNeighborsClassifier</td>\n",
              "      <td>0.311980</td>\n",
              "      <td>0.473356</td>\n",
              "      <td>0.688009</td>\n",
              "      <td>0.346524</td>\n",
              "      <td>0.767385</td>\n",
              "    </tr>\n",
              "    <tr>\n",
              "      <th>1</th>\n",
              "      <td>DecisionTreeClassifier</td>\n",
              "      <td>0.476190</td>\n",
              "      <td>0.744520</td>\n",
              "      <td>0.862856</td>\n",
              "      <td>-0.027822</td>\n",
              "      <td>0.649471</td>\n",
              "    </tr>\n",
              "    <tr>\n",
              "      <th>2</th>\n",
              "      <td>Lojistik regresyon</td>\n",
              "      <td>0.265117</td>\n",
              "      <td>0.408730</td>\n",
              "      <td>0.639320</td>\n",
              "      <td>0.435741</td>\n",
              "      <td>0.805178</td>\n",
              "    </tr>\n",
              "    <tr>\n",
              "      <th>3</th>\n",
              "      <td>LGBMClassifier</td>\n",
              "      <td>0.238095</td>\n",
              "      <td>0.361300</td>\n",
              "      <td>0.601082</td>\n",
              "      <td>0.501219</td>\n",
              "      <td>0.822373</td>\n",
              "    </tr>\n",
              "    <tr>\n",
              "      <th>4</th>\n",
              "      <td>RandomForestClassifier</td>\n",
              "      <td>0.287793</td>\n",
              "      <td>0.429516</td>\n",
              "      <td>0.655375</td>\n",
              "      <td>0.407046</td>\n",
              "      <td>0.782502</td>\n",
              "    </tr>\n",
              "    <tr>\n",
              "      <th>5</th>\n",
              "      <td>GaussianNB</td>\n",
              "      <td>0.539872</td>\n",
              "      <td>0.897014</td>\n",
              "      <td>0.947108</td>\n",
              "      <td>-0.238343</td>\n",
              "      <td>0.620181</td>\n",
              "    </tr>\n",
              "    <tr>\n",
              "      <th>6</th>\n",
              "      <td>SGDClassifier</td>\n",
              "      <td>0.232237</td>\n",
              "      <td>0.359599</td>\n",
              "      <td>0.599666</td>\n",
              "      <td>0.503567</td>\n",
              "      <td>0.830121</td>\n",
              "    </tr>\n",
              "    <tr>\n",
              "      <th>7</th>\n",
              "      <td>SVC</td>\n",
              "      <td>0.237150</td>\n",
              "      <td>0.353175</td>\n",
              "      <td>0.594285</td>\n",
              "      <td>0.512437</td>\n",
              "      <td>0.819917</td>\n",
              "    </tr>\n",
              "  </tbody>\n",
              "</table>\n",
              "</div>\n",
              "      <button class=\"colab-df-convert\" onclick=\"convertToInteractive('df-a8740083-4e32-49f8-bd2e-63cae9cfe1e8')\"\n",
              "              title=\"Convert this dataframe to an interactive table.\"\n",
              "              style=\"display:none;\">\n",
              "        \n",
              "  <svg xmlns=\"http://www.w3.org/2000/svg\" height=\"24px\"viewBox=\"0 0 24 24\"\n",
              "       width=\"24px\">\n",
              "    <path d=\"M0 0h24v24H0V0z\" fill=\"none\"/>\n",
              "    <path d=\"M18.56 5.44l.94 2.06.94-2.06 2.06-.94-2.06-.94-.94-2.06-.94 2.06-2.06.94zm-11 1L8.5 8.5l.94-2.06 2.06-.94-2.06-.94L8.5 2.5l-.94 2.06-2.06.94zm10 10l.94 2.06.94-2.06 2.06-.94-2.06-.94-.94-2.06-.94 2.06-2.06.94z\"/><path d=\"M17.41 7.96l-1.37-1.37c-.4-.4-.92-.59-1.43-.59-.52 0-1.04.2-1.43.59L10.3 9.45l-7.72 7.72c-.78.78-.78 2.05 0 2.83L4 21.41c.39.39.9.59 1.41.59.51 0 1.02-.2 1.41-.59l7.78-7.78 2.81-2.81c.8-.78.8-2.07 0-2.86zM5.41 20L4 18.59l7.72-7.72 1.47 1.35L5.41 20z\"/>\n",
              "  </svg>\n",
              "      </button>\n",
              "      \n",
              "  <style>\n",
              "    .colab-df-container {\n",
              "      display:flex;\n",
              "      flex-wrap:wrap;\n",
              "      gap: 12px;\n",
              "    }\n",
              "\n",
              "    .colab-df-convert {\n",
              "      background-color: #E8F0FE;\n",
              "      border: none;\n",
              "      border-radius: 50%;\n",
              "      cursor: pointer;\n",
              "      display: none;\n",
              "      fill: #1967D2;\n",
              "      height: 32px;\n",
              "      padding: 0 0 0 0;\n",
              "      width: 32px;\n",
              "    }\n",
              "\n",
              "    .colab-df-convert:hover {\n",
              "      background-color: #E2EBFA;\n",
              "      box-shadow: 0px 1px 2px rgba(60, 64, 67, 0.3), 0px 1px 3px 1px rgba(60, 64, 67, 0.15);\n",
              "      fill: #174EA6;\n",
              "    }\n",
              "\n",
              "    [theme=dark] .colab-df-convert {\n",
              "      background-color: #3B4455;\n",
              "      fill: #D2E3FC;\n",
              "    }\n",
              "\n",
              "    [theme=dark] .colab-df-convert:hover {\n",
              "      background-color: #434B5C;\n",
              "      box-shadow: 0px 1px 3px 1px rgba(0, 0, 0, 0.15);\n",
              "      filter: drop-shadow(0px 1px 2px rgba(0, 0, 0, 0.3));\n",
              "      fill: #FFFFFF;\n",
              "    }\n",
              "  </style>\n",
              "\n",
              "      <script>\n",
              "        const buttonEl =\n",
              "          document.querySelector('#df-a8740083-4e32-49f8-bd2e-63cae9cfe1e8 button.colab-df-convert');\n",
              "        buttonEl.style.display =\n",
              "          google.colab.kernel.accessAllowed ? 'block' : 'none';\n",
              "\n",
              "        async function convertToInteractive(key) {\n",
              "          const element = document.querySelector('#df-a8740083-4e32-49f8-bd2e-63cae9cfe1e8');\n",
              "          const dataTable =\n",
              "            await google.colab.kernel.invokeFunction('convertToInteractive',\n",
              "                                                     [key], {});\n",
              "          if (!dataTable) return;\n",
              "\n",
              "          const docLinkHtml = 'Like what you see? Visit the ' +\n",
              "            '<a target=\"_blank\" href=https://colab.research.google.com/notebooks/data_table.ipynb>data table notebook</a>'\n",
              "            + ' to learn more about interactive tables.';\n",
              "          element.innerHTML = '';\n",
              "          dataTable['output_type'] = 'display_data';\n",
              "          await google.colab.output.renderOutput(dataTable, element);\n",
              "          const docLink = document.createElement('div');\n",
              "          docLink.innerHTML = docLinkHtml;\n",
              "          element.appendChild(docLink);\n",
              "        }\n",
              "      </script>\n",
              "    </div>\n",
              "  </div>\n",
              "  "
            ]
          },
          "metadata": {},
          "execution_count": 76
        }
      ]
    },
    {
      "cell_type": "code",
      "source": [
        "from google.colab import files\n",
        "\n",
        "results_df.to_csv('output_vgg19.csv', encoding = 'utf-8-sig') \n",
        "files.download('output_vgg19.csv')"
      ],
      "metadata": {
        "id": "3Ynca6Pw_zbb",
        "colab": {
          "base_uri": "https://localhost:8080/",
          "height": 17
        },
        "outputId": "9c9955eb-a962-4b50-ff7b-a9362851b5d5"
      },
      "execution_count": 77,
      "outputs": [
        {
          "output_type": "display_data",
          "data": {
            "text/plain": [
              "<IPython.core.display.Javascript object>"
            ],
            "application/javascript": [
              "\n",
              "    async function download(id, filename, size) {\n",
              "      if (!google.colab.kernel.accessAllowed) {\n",
              "        return;\n",
              "      }\n",
              "      const div = document.createElement('div');\n",
              "      const label = document.createElement('label');\n",
              "      label.textContent = `Downloading \"${filename}\": `;\n",
              "      div.appendChild(label);\n",
              "      const progress = document.createElement('progress');\n",
              "      progress.max = size;\n",
              "      div.appendChild(progress);\n",
              "      document.body.appendChild(div);\n",
              "\n",
              "      const buffers = [];\n",
              "      let downloaded = 0;\n",
              "\n",
              "      const channel = await google.colab.kernel.comms.open(id);\n",
              "      // Send a message to notify the kernel that we're ready.\n",
              "      channel.send({})\n",
              "\n",
              "      for await (const message of channel.messages) {\n",
              "        // Send a message to notify the kernel that we're ready.\n",
              "        channel.send({})\n",
              "        if (message.buffers) {\n",
              "          for (const buffer of message.buffers) {\n",
              "            buffers.push(buffer);\n",
              "            downloaded += buffer.byteLength;\n",
              "            progress.value = downloaded;\n",
              "          }\n",
              "        }\n",
              "      }\n",
              "      const blob = new Blob(buffers, {type: 'application/binary'});\n",
              "      const a = document.createElement('a');\n",
              "      a.href = window.URL.createObjectURL(blob);\n",
              "      a.download = filename;\n",
              "      div.appendChild(a);\n",
              "      a.click();\n",
              "      div.remove();\n",
              "    }\n",
              "  "
            ]
          },
          "metadata": {}
        },
        {
          "output_type": "display_data",
          "data": {
            "text/plain": [
              "<IPython.core.display.Javascript object>"
            ],
            "application/javascript": [
              "download(\"download_980c9ccb-adda-4132-89d4-b5f5d2a3e1c7\", \"output_vgg19.csv\", 962)"
            ]
          },
          "metadata": {}
        }
      ]
    },
    {
      "cell_type": "code",
      "source": [
        ""
      ],
      "metadata": {
        "id": "H1kddFEuAWam"
      },
      "execution_count": null,
      "outputs": []
    }
  ]
}