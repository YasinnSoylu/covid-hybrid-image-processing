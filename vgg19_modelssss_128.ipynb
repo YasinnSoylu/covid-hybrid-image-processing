{
  "metadata": {
    "kernelspec": {
      "language": "python",
      "display_name": "Python 3",
      "name": "python3"
    },
    "language_info": {
      "name": "python",
      "version": "3.7.12",
      "mimetype": "text/x-python",
      "codemirror_mode": {
        "name": "ipython",
        "version": 3
      },
      "pygments_lexer": "ipython3",
      "nbconvert_exporter": "python",
      "file_extension": ".py"
    },
    "colab": {
      "name": "vgg19_models_4500.ipynb",
      "provenance": [],
      "machine_shape": "hm",
      "collapsed_sections": [
        "nGaVLl7-f2BU",
        "qBaK8vAFf2BY",
        "4GsvaRKdf2BR",
        "K9DwGfY77S5U"
      ],
      "include_colab_link": true
    },
    "accelerator": "GPU"
  },
  "nbformat_minor": 0,
  "nbformat": 4,
  "cells": [
    {
      "cell_type": "markdown",
      "metadata": {
        "id": "view-in-github",
        "colab_type": "text"
      },
      "source": [
        "<a href=\"https://colab.research.google.com/github/yasinsoylu1997/128-not-sampling/blob/main/vgg19_modelssss_128.ipynb\" target=\"_parent\"><img src=\"https://colab.research.google.com/assets/colab-badge.svg\" alt=\"Open In Colab\"/></a>"
      ]
    },
    {
      "cell_type": "code",
      "source": [
        "from google.colab import drive\n",
        "drive.mount('/content/drive')"
      ],
      "metadata": {
        "id": "4LTqPz_P76Ov",
        "colab": {
          "base_uri": "https://localhost:8080/"
        },
        "outputId": "b0a1b913-267e-414a-ebfb-02469afab757"
      },
      "execution_count": 1,
      "outputs": [
        {
          "output_type": "stream",
          "name": "stdout",
          "text": [
            "Mounted at /content/drive\n"
          ]
        }
      ]
    },
    {
      "cell_type": "code",
      "source": [
        "import seaborn as sns\n",
        "import cv2\n",
        "import numpy as np\n",
        "import matplotlib.pyplot as plt\n",
        "from sklearn.utils import shuffle\n",
        "from sklearn.model_selection import train_test_split\n",
        "import tensorflow as tf\n",
        "from tensorflow.keras import layers\n",
        "import pandas as pd\n",
        "from tensorflow.keras.applications import EfficientNetB0\n",
        "from tensorflow.keras.callbacks import EarlyStopping, ReduceLROnPlateau, TensorBoard, ModelCheckpoint\n",
        "from tensorflow.keras.models import Model, Sequential\n",
        "from tensorflow.keras.layers import Conv2D, MaxPooling2D, AveragePooling2D\n",
        "from tensorflow.keras.layers import Input, Dense, Dropout, Flatten, Activation,Concatenate\n",
        "from tensorflow.keras.layers import BatchNormalization\n",
        "from keras.preprocessing.image import load_img,img_to_array,ImageDataGenerator\n",
        "from tensorflow.keras.applications import VGG19\n",
        "from tqdm import tqdm\n",
        "import os\n",
        "from sklearn.utils import shuffle\n",
        "from sklearn.metrics import classification_report,confusion_matrix\n",
        "import keras\n",
        "import keras.utils\n",
        "from keras import utils as np_utils\n",
        "import ipywidgets as widgets\n",
        "import io\n",
        "from PIL import Image\n",
        "from IPython.display import display,clear_output\n",
        "from warnings import filterwarnings\n",
        "#!pip install visualkeras\n",
        "import numpy as np \n",
        "import matplotlib.pyplot as plt\n",
        "import glob\n",
        "import cv2\n",
        "from sklearn.metrics import log_loss\n",
        "from keras.models import Model, Sequential\n",
        "from keras.layers import Dense, Flatten, Conv2D, MaxPooling2D\n",
        "import os\n",
        "!pip install visualkeras\n",
        "!pip install catboost"
      ],
      "metadata": {
        "_uuid": "8f2839f25d086af736a60e9eeb907d3b93b6e0e5",
        "_cell_guid": "b1076dfc-b9ad-4769-8c92-a6c4dae69d19",
        "execution": {
          "iopub.status.busy": "2022-05-16T00:06:02.361516Z",
          "iopub.execute_input": "2022-05-16T00:06:02.361853Z",
          "iopub.status.idle": "2022-05-16T00:06:18.994492Z",
          "shell.execute_reply.started": "2022-05-16T00:06:02.361822Z",
          "shell.execute_reply": "2022-05-16T00:06:18.992886Z"
        },
        "trusted": true,
        "id": "i_pfrqAmf2BG",
        "outputId": "8f853ad4-298d-4304-e592-e9ecfd3fc00b",
        "colab": {
          "base_uri": "https://localhost:8080/"
        }
      },
      "execution_count": 72,
      "outputs": [
        {
          "output_type": "stream",
          "name": "stdout",
          "text": [
            "Looking in indexes: https://pypi.org/simple, https://us-python.pkg.dev/colab-wheels/public/simple/\n",
            "Requirement already satisfied: visualkeras in /usr/local/lib/python3.7/dist-packages (0.0.2)\n",
            "Requirement already satisfied: numpy>=1.18.1 in /usr/local/lib/python3.7/dist-packages (from visualkeras) (1.21.6)\n",
            "Requirement already satisfied: pillow>=6.2.0 in /usr/local/lib/python3.7/dist-packages (from visualkeras) (7.1.2)\n",
            "Requirement already satisfied: aggdraw>=1.3.11 in /usr/local/lib/python3.7/dist-packages (from visualkeras) (1.3.14)\n",
            "Looking in indexes: https://pypi.org/simple, https://us-python.pkg.dev/colab-wheels/public/simple/\n",
            "Requirement already satisfied: catboost in /usr/local/lib/python3.7/dist-packages (1.0.6)\n",
            "Requirement already satisfied: six in /usr/local/lib/python3.7/dist-packages (from catboost) (1.15.0)\n",
            "Requirement already satisfied: numpy>=1.16.0 in /usr/local/lib/python3.7/dist-packages (from catboost) (1.21.6)\n",
            "Requirement already satisfied: plotly in /usr/local/lib/python3.7/dist-packages (from catboost) (5.5.0)\n",
            "Requirement already satisfied: pandas>=0.24.0 in /usr/local/lib/python3.7/dist-packages (from catboost) (1.3.5)\n",
            "Requirement already satisfied: matplotlib in /usr/local/lib/python3.7/dist-packages (from catboost) (3.2.2)\n",
            "Requirement already satisfied: scipy in /usr/local/lib/python3.7/dist-packages (from catboost) (1.4.1)\n",
            "Requirement already satisfied: graphviz in /usr/local/lib/python3.7/dist-packages (from catboost) (0.10.1)\n",
            "Requirement already satisfied: python-dateutil>=2.7.3 in /usr/local/lib/python3.7/dist-packages (from pandas>=0.24.0->catboost) (2.8.2)\n",
            "Requirement already satisfied: pytz>=2017.3 in /usr/local/lib/python3.7/dist-packages (from pandas>=0.24.0->catboost) (2022.1)\n",
            "Requirement already satisfied: pyparsing!=2.0.4,!=2.1.2,!=2.1.6,>=2.0.1 in /usr/local/lib/python3.7/dist-packages (from matplotlib->catboost) (3.0.9)\n",
            "Requirement already satisfied: kiwisolver>=1.0.1 in /usr/local/lib/python3.7/dist-packages (from matplotlib->catboost) (1.4.2)\n",
            "Requirement already satisfied: cycler>=0.10 in /usr/local/lib/python3.7/dist-packages (from matplotlib->catboost) (0.11.0)\n",
            "Requirement already satisfied: typing-extensions in /usr/local/lib/python3.7/dist-packages (from kiwisolver>=1.0.1->matplotlib->catboost) (4.2.0)\n",
            "Requirement already satisfied: tenacity>=6.2.0 in /usr/local/lib/python3.7/dist-packages (from plotly->catboost) (8.0.1)\n"
          ]
        }
      ]
    },
    {
      "cell_type": "code",
      "source": [
        "labels = ['Lung_Opacity','COVID','Normal','Viral Pneumonia']"
      ],
      "metadata": {
        "execution": {
          "iopub.status.busy": "2022-05-15T23:35:28.503324Z",
          "iopub.execute_input": "2022-05-15T23:35:28.503733Z",
          "iopub.status.idle": "2022-05-15T23:35:28.508486Z",
          "shell.execute_reply.started": "2022-05-15T23:35:28.503687Z",
          "shell.execute_reply": "2022-05-15T23:35:28.507824Z"
        },
        "trusted": true,
        "id": "JTm63c8Tf2BI"
      },
      "execution_count": 3,
      "outputs": []
    },
    {
      "cell_type": "code",
      "source": [
        "X = []\n",
        "y = []\n",
        "image_size = 128\n",
        "for i in labels:\n",
        "    folderPath = os.path.join('/content/drive/MyDrive/tezz3/COVID-19_Radiography_Dataset_masked',i)\n",
        "    for j in tqdm(os.listdir(folderPath)):\n",
        "        img = cv2.imread(os.path.join(folderPath,j))\n",
        "        img = cv2.resize(img,(image_size, image_size))\n",
        "        X.append(img)\n",
        "        y.append(i)\n",
        "\n",
        "        \n",
        "X = np.array(X)\n",
        "y = np.array(y)"
      ],
      "metadata": {
        "execution": {
          "iopub.status.busy": "2022-05-15T23:35:28.509631Z",
          "iopub.execute_input": "2022-05-15T23:35:28.510262Z",
          "iopub.status.idle": "2022-05-15T23:38:46.667539Z",
          "shell.execute_reply.started": "2022-05-15T23:35:28.510228Z",
          "shell.execute_reply": "2022-05-15T23:38:46.666484Z"
        },
        "trusted": true,
        "id": "tdYLEsDQf2BJ",
        "colab": {
          "base_uri": "https://localhost:8080/"
        },
        "outputId": "1e189f98-5824-4c9f-bddb-c9350d3f9286"
      },
      "execution_count": 4,
      "outputs": [
        {
          "output_type": "stream",
          "name": "stderr",
          "text": [
            "100%|██████████| 6012/6012 [02:08<00:00, 46.61it/s] \n",
            "100%|██████████| 3616/3616 [01:29<00:00, 40.36it/s] \n",
            "100%|██████████| 10192/10192 [03:54<00:00, 43.41it/s] \n",
            "100%|██████████| 1345/1345 [00:29<00:00, 45.08it/s] \n"
          ]
        }
      ]
    },
    {
      "cell_type": "code",
      "source": [
        "train_images, test_images,train_labels, test_labels = train_test_split(X , y , test_size=0.25, random_state=42,shuffle=True)"
      ],
      "metadata": {
        "execution": {
          "iopub.status.busy": "2022-05-15T23:38:47.314239Z",
          "iopub.execute_input": "2022-05-15T23:38:47.314589Z",
          "iopub.status.idle": "2022-05-15T23:38:47.400506Z",
          "shell.execute_reply.started": "2022-05-15T23:38:47.314540Z",
          "shell.execute_reply": "2022-05-15T23:38:47.399418Z"
        },
        "trusted": true,
        "id": "a3bGVYtjf2BK"
      },
      "execution_count": 5,
      "outputs": []
    },
    {
      "cell_type": "code",
      "source": [
        "k=0\n",
        "fig, ax = plt.subplots(1,4,figsize=(20,20))\n",
        "fig.text(s='Sample Image From Each Label',size=18,fontweight='bold',\n",
        "             fontname='monospace',y=0.62,x=0.4,alpha=0.8)\n",
        "for i in labels:\n",
        "    j=0\n",
        "    while True :\n",
        "        if y[j]==i:\n",
        "            ax[k].imshow(X[j])\n",
        "            ax[k].set_title(y[j])\n",
        "            ax[k].axis('off')\n",
        "            k+=1\n",
        "            break\n",
        "        j+=1"
      ],
      "metadata": {
        "id": "3d5HZzhKnHaZ",
        "colab": {
          "base_uri": "https://localhost:8080/",
          "height": 335
        },
        "outputId": "cf89d868-00dc-4234-d240-ce1238599533"
      },
      "execution_count": 6,
      "outputs": [
        {
          "output_type": "display_data",
          "data": {
            "text/plain": [
              "<Figure size 1440x1440 with 4 Axes>"
            ],
            "image/png": "[encoded data removed]"
          },
          "metadata": {
            "needs_background": "light"
          }
        }
      ]
    },
    {
      "cell_type": "code",
      "source": [
        "plt.figure(figsize = (17,8));\n",
        "lis = ['Train', 'Test']\n",
        "for i,j in enumerate([train_labels, test_labels]):\n",
        "    plt.subplot(1,2, i+1);\n",
        "    sns.countplot(x = j);\n",
        "    plt.xlabel(lis[i])"
      ],
      "metadata": {
        "execution": {
          "iopub.status.busy": "2022-05-15T23:38:47.410442Z",
          "iopub.execute_input": "2022-05-15T23:38:47.410853Z",
          "iopub.status.idle": "2022-05-15T23:38:47.788826Z",
          "shell.execute_reply.started": "2022-05-15T23:38:47.410806Z",
          "shell.execute_reply": "2022-05-15T23:38:47.787749Z"
        },
        "trusted": true,
        "id": "lqAt7sJlf2BK",
        "colab": {
          "base_uri": "https://localhost:8080/",
          "height": 499
        },
        "outputId": "5f359877-64cf-4fb2-d6b1-5e48762a21db"
      },
      "execution_count": 7,
      "outputs": [
        {
          "output_type": "display_data",
          "data": {
            "text/plain": [
              "<Figure size 1224x576 with 2 Axes>"
            ],
            "image/png": "[encoded data removed]"
          },
          "metadata": {
            "needs_background": "light"
          }
        }
      ]
    },
    {
      "cell_type": "code",
      "source": [
        "train_images = train_images / 255.0\n",
        "test_images = test_images / 255.0"
      ],
      "metadata": {
        "execution": {
          "iopub.status.busy": "2022-05-15T23:38:47.790207Z",
          "iopub.execute_input": "2022-05-15T23:38:47.790481Z",
          "iopub.status.idle": "2022-05-15T23:38:47.826761Z",
          "shell.execute_reply.started": "2022-05-15T23:38:47.790447Z",
          "shell.execute_reply": "2022-05-15T23:38:47.825794Z"
        },
        "trusted": true,
        "id": "LvNGzS3If2BL"
      },
      "execution_count": 8,
      "outputs": []
    },
    {
      "cell_type": "code",
      "source": [
        "from sklearn import preprocessing\n",
        "le = preprocessing.LabelEncoder()\n",
        "le.fit(test_labels)\n",
        "test_labels_encoded = le.transform(test_labels)\n",
        "le.fit(train_labels)\n",
        "train_labels_encoded = le.transform(train_labels)"
      ],
      "metadata": {
        "execution": {
          "iopub.status.busy": "2022-05-15T23:38:47.828234Z",
          "iopub.execute_input": "2022-05-15T23:38:47.828608Z",
          "iopub.status.idle": "2022-05-15T23:38:47.837797Z",
          "shell.execute_reply.started": "2022-05-15T23:38:47.828571Z",
          "shell.execute_reply": "2022-05-15T23:38:47.836664Z"
        },
        "trusted": true,
        "id": "3pWqp5fYf2BL"
      },
      "execution_count": 9,
      "outputs": []
    },
    {
      "cell_type": "code",
      "source": [
        "#Split data into test and train datasets (already split but assigning to meaningful convention)\n",
        "x_train, y_train, x_test, y_test = train_images, train_labels_encoded, test_images, test_labels_encoded"
      ],
      "metadata": {
        "execution": {
          "iopub.status.busy": "2022-05-15T23:38:47.842939Z",
          "iopub.execute_input": "2022-05-15T23:38:47.844104Z",
          "iopub.status.idle": "2022-05-15T23:38:47.852435Z",
          "shell.execute_reply.started": "2022-05-15T23:38:47.844043Z",
          "shell.execute_reply": "2022-05-15T23:38:47.851608Z"
        },
        "trusted": true,
        "id": "7bLugAY5f2BM"
      },
      "execution_count": 10,
      "outputs": []
    },
    {
      "cell_type": "code",
      "source": [
        "#One hot encode y values for neural network. \n",
        "from tensorflow.keras.utils import to_categorical\n",
        "y_train_one_hot = to_categorical(y_train)\n",
        "y_test_one_hot = to_categorical(y_test)"
      ],
      "metadata": {
        "execution": {
          "iopub.status.busy": "2022-05-15T23:38:47.853579Z",
          "iopub.execute_input": "2022-05-15T23:38:47.854198Z",
          "iopub.status.idle": "2022-05-15T23:38:47.869799Z",
          "shell.execute_reply.started": "2022-05-15T23:38:47.854159Z",
          "shell.execute_reply": "2022-05-15T23:38:47.868614Z"
        },
        "trusted": true,
        "id": "AdO_28c3f2BM"
      },
      "execution_count": 11,
      "outputs": []
    },
    {
      "cell_type": "code",
      "source": [
        "from tensorflow.keras.applications import VGG19\n",
        "VGG19_model = VGG19(weights='imagenet', include_top=False, input_shape=(128, 128, 3))\n",
        "\n",
        "#Make loaded layers as non-trainable. This is important as we want to work with pre-trained weights\n",
        "for layer in VGG19_model.layers:\n",
        "\tlayer.trainable = False\n",
        "    \n",
        "VGG19_model.summary()  #Trainable parameters will be 0"
      ],
      "metadata": {
        "execution": {
          "iopub.status.busy": "2022-05-15T23:38:47.887770Z",
          "iopub.execute_input": "2022-05-15T23:38:47.888691Z",
          "iopub.status.idle": "2022-05-15T23:38:50.158014Z",
          "shell.execute_reply.started": "2022-05-15T23:38:47.888650Z",
          "shell.execute_reply": "2022-05-15T23:38:50.155852Z"
        },
        "trusted": true,
        "id": "PwSKUrXgf2BN",
        "colab": {
          "base_uri": "https://localhost:8080/"
        },
        "outputId": "fc5954c5-cb70-4780-c11b-e095876792e1"
      },
      "execution_count": 73,
      "outputs": [
        {
          "output_type": "stream",
          "name": "stdout",
          "text": [
            "Downloading data from https://storage.googleapis.com/tensorflow/keras-applications/vgg19/vgg19_weights_tf_dim_ordering_tf_kernels_notop.h5\n",
            "80142336/80134624 [==============================] - 1s 0us/step\n",
            "80150528/80134624 [==============================] - 1s 0us/step\n",
            "Model: \"vgg19\"\n",
            "_________________________________________________________________\n",
            " Layer (type)                Output Shape              Param #   \n",
            "=================================================================\n",
            " input_2 (InputLayer)        [(None, 128, 128, 3)]     0         \n",
            "                                                                 \n",
            " block1_conv1 (Conv2D)       (None, 128, 128, 64)      1792      \n",
            "                                                                 \n",
            " block1_conv2 (Conv2D)       (None, 128, 128, 64)      36928     \n",
            "                                                                 \n",
            " block1_pool (MaxPooling2D)  (None, 64, 64, 64)        0         \n",
            "                                                                 \n",
            " block2_conv1 (Conv2D)       (None, 64, 64, 128)       73856     \n",
            "                                                                 \n",
            " block2_conv2 (Conv2D)       (None, 64, 64, 128)       147584    \n",
            "                                                                 \n",
            " block2_pool (MaxPooling2D)  (None, 32, 32, 128)       0         \n",
            "                                                                 \n",
            " block3_conv1 (Conv2D)       (None, 32, 32, 256)       295168    \n",
            "                                                                 \n",
            " block3_conv2 (Conv2D)       (None, 32, 32, 256)       590080    \n",
            "                                                                 \n",
            " block3_conv3 (Conv2D)       (None, 32, 32, 256)       590080    \n",
            "                                                                 \n",
            " block3_conv4 (Conv2D)       (None, 32, 32, 256)       590080    \n",
            "                                                                 \n",
            " block3_pool (MaxPooling2D)  (None, 16, 16, 256)       0         \n",
            "                                                                 \n",
            " block4_conv1 (Conv2D)       (None, 16, 16, 512)       1180160   \n",
            "                                                                 \n",
            " block4_conv2 (Conv2D)       (None, 16, 16, 512)       2359808   \n",
            "                                                                 \n",
            " block4_conv3 (Conv2D)       (None, 16, 16, 512)       2359808   \n",
            "                                                                 \n",
            " block4_conv4 (Conv2D)       (None, 16, 16, 512)       2359808   \n",
            "                                                                 \n",
            " block4_pool (MaxPooling2D)  (None, 8, 8, 512)         0         \n",
            "                                                                 \n",
            " block5_conv1 (Conv2D)       (None, 8, 8, 512)         2359808   \n",
            "                                                                 \n",
            " block5_conv2 (Conv2D)       (None, 8, 8, 512)         2359808   \n",
            "                                                                 \n",
            " block5_conv3 (Conv2D)       (None, 8, 8, 512)         2359808   \n",
            "                                                                 \n",
            " block5_conv4 (Conv2D)       (None, 8, 8, 512)         2359808   \n",
            "                                                                 \n",
            " block5_pool (MaxPooling2D)  (None, 4, 4, 512)         0         \n",
            "                                                                 \n",
            "=================================================================\n",
            "Total params: 20,024,384\n",
            "Trainable params: 0\n",
            "Non-trainable params: 20,024,384\n",
            "_________________________________________________________________\n"
          ]
        }
      ]
    },
    {
      "cell_type": "code",
      "source": [
        "from keras.utils.vis_utils import plot_model\n",
        "\n",
        "plot_model(VGG19_model, to_file='model_plot.png', show_shapes=True, show_layer_names=True,dpi=50)"
      ],
      "metadata": {
        "execution": {
          "iopub.status.busy": "2022-05-15T23:39:00.362537Z",
          "iopub.execute_input": "2022-05-15T23:39:00.363071Z",
          "iopub.status.idle": "2022-05-15T23:39:01.708679Z",
          "shell.execute_reply.started": "2022-05-15T23:39:00.363023Z",
          "shell.execute_reply": "2022-05-15T23:39:01.707317Z"
        },
        "trusted": true,
        "id": "q1r8Q1K7f2BO",
        "colab": {
          "base_uri": "https://localhost:8080/",
          "height": 1000
        },
        "outputId": "f24969d7-0d07-48d3-bf34-004bcf3d72a0"
      },
      "execution_count": 74,
      "outputs": [
        {
          "output_type": "execute_result",
          "data": {
            "text/plain": [
              "<IPython.core.display.Image object>"
            ],
            "image/png": "[encoded data removed]"
          },
          "metadata": {},
          "execution_count": 74
        }
      ]
    },
    {
      "cell_type": "code",
      "source": [
        "#Now, let us use features from convolutional network for RF\n",
        "feature_extractor=VGG19_model.predict(x_train)\n",
        "\n",
        "features = feature_extractor.reshape(feature_extractor.shape[0], -1)\n",
        "\n",
        "X_for_model= features #This is our X input for model"
      ],
      "metadata": {
        "execution": {
          "iopub.status.busy": "2022-05-15T23:38:50.159671Z",
          "iopub.execute_input": "2022-05-15T23:38:50.159987Z",
          "iopub.status.idle": "2022-05-15T23:39:00.360965Z",
          "shell.execute_reply.started": "2022-05-15T23:38:50.159953Z",
          "shell.execute_reply": "2022-05-15T23:39:00.359930Z"
        },
        "trusted": true,
        "id": "-xgzw45sf2BN"
      },
      "execution_count": 75,
      "outputs": []
    },
    {
      "cell_type": "code",
      "source": [
        "import visualkeras\n",
        "from PIL import ImageFont\n",
        "plt.figure(figsize=(2, 2))\n",
        "visualkeras.layered_view(MobilNet_model, legend=True,spacing=15,scale_xy = 10 , scale_z = 10, max_z = 50) "
      ],
      "metadata": {
        "execution": {
          "iopub.status.busy": "2022-05-16T00:06:32.946437Z",
          "iopub.execute_input": "2022-05-16T00:06:32.946789Z",
          "iopub.status.idle": "2022-05-16T00:06:33.030522Z",
          "shell.execute_reply.started": "2022-05-16T00:06:32.946752Z",
          "shell.execute_reply": "2022-05-16T00:06:33.029817Z"
        },
        "trusted": true,
        "id": "StzAfjLNf2BO",
        "outputId": "ee637589-3be3-4838-bf4b-7913c61a9b55",
        "colab": {
          "base_uri": "https://localhost:8080/",
          "height": 539
        }
      },
      "execution_count": 16,
      "outputs": [
        {
          "output_type": "execute_result",
          "data": {
            "text/plain": [
              "<PIL.Image.Image image mode=RGBA size=5795x1743 at 0x7F5BE3EE1D50>"
            ],
            "image/png": "[encoded data removed]"
          },
          "metadata": {},
          "execution_count": 16
        },
        {
          "output_type": "display_data",
          "data": {
            "text/plain": [
              "<Figure size 144x144 with 0 Axes>"
            ]
          },
          "metadata": {}
        }
      ]
    },
    {
      "cell_type": "code",
      "source": [
        "from sklearn import metrics\n",
        "from sklearn.model_selection import cross_val_score\n",
        "\n",
        "def cross_val(model):\n",
        "    pred = cross_val_score(model, X_for_model, y_train)\n",
        "    return pred.mean()\n",
        "\n",
        "def print_evaluate(true, predicted):  \n",
        "    mae = metrics.mean_absolute_error(y_test, predicted)\n",
        "    mse = metrics.mean_squared_error(y_test, predicted)\n",
        "    rmse = np.sqrt(metrics.mean_squared_error(y_test, predicted))\n",
        "    r2_square = metrics.r2_score(y_test, predicted)\n",
        "    Accuracy= metrics.accuracy_score(y_test,predicted)\n",
        "\n",
        "    print('MAE:', mae)\n",
        "    print('MSE:', mse)\n",
        "    print('RMSE:', rmse)\n",
        "    print('R2 Square', r2_square)\n",
        "    print('Accuracy', Accuracy)\n",
        "\n",
        "\n",
        "\n",
        "    print('__________________________________')\n",
        "    \n",
        "def evaluate(true, predicted):\n",
        "    mae = metrics.mean_absolute_error(y_test, predicted)\n",
        "    mse = metrics.mean_squared_error(y_test, predicted)\n",
        "    rmse = np.sqrt(metrics.mean_squared_error(y_test, predicted))\n",
        "    r2_square = metrics.r2_score(y_test, predicted)\n",
        "    Accuracy= metrics.accuracy_score(y_test,predicted)\n",
        "\n",
        "    return mae, mse, rmse, r2_square, Accuracy"
      ],
      "metadata": {
        "execution": {
          "iopub.status.busy": "2022-05-15T23:39:01.710695Z",
          "iopub.execute_input": "2022-05-15T23:39:01.712114Z",
          "iopub.status.idle": "2022-05-15T23:39:01.726322Z",
          "shell.execute_reply.started": "2022-05-15T23:39:01.712045Z",
          "shell.execute_reply": "2022-05-15T23:39:01.724919Z"
        },
        "trusted": true,
        "id": "gyvNB_CAf2BO"
      },
      "execution_count": 76,
      "outputs": []
    },
    {
      "cell_type": "markdown",
      "source": [
        "# knn"
      ],
      "metadata": {
        "id": "b20WbWmjf2BP"
      }
    },
    {
      "cell_type": "code",
      "source": [
        "from sklearn.neighbors import KNeighborsClassifier\n",
        "knn = KNeighborsClassifier()\n",
        "knn_model = knn.fit(X_for_model, y_train)\n",
        "knn_model"
      ],
      "metadata": {
        "execution": {
          "iopub.status.busy": "2022-05-15T23:39:01.727969Z",
          "iopub.execute_input": "2022-05-15T23:39:01.728909Z",
          "iopub.status.idle": "2022-05-15T23:39:01.750069Z",
          "shell.execute_reply.started": "2022-05-15T23:39:01.728846Z",
          "shell.execute_reply": "2022-05-15T23:39:01.749350Z"
        },
        "trusted": true,
        "id": "JUNRldMAf2BQ",
        "colab": {
          "base_uri": "https://localhost:8080/"
        },
        "outputId": "38f8be7b-048c-4755-d526-2da06a7ccef5"
      },
      "execution_count": 77,
      "outputs": [
        {
          "output_type": "execute_result",
          "data": {
            "text/plain": [
              "KNeighborsClassifier()"
            ]
          },
          "metadata": {},
          "execution_count": 77
        }
      ]
    },
    {
      "cell_type": "code",
      "source": [
        "X_test_feature = VGG19_model.predict(x_test)\n",
        "X_test_features = X_test_feature.reshape(X_test_feature.shape[0], -1)\n",
        "#Now predict using the trained RF model. \n",
        "prediction = knn_model.predict(X_test_features)"
      ],
      "metadata": {
        "execution": {
          "iopub.status.busy": "2022-05-15T23:39:01.751904Z",
          "iopub.execute_input": "2022-05-15T23:39:01.752270Z",
          "iopub.status.idle": "2022-05-15T23:39:12.297894Z",
          "shell.execute_reply.started": "2022-05-15T23:39:01.752222Z",
          "shell.execute_reply": "2022-05-15T23:39:12.296940Z"
        },
        "trusted": true,
        "id": "eyH-B71Ef2BQ"
      },
      "execution_count": 78,
      "outputs": []
    },
    {
      "cell_type": "code",
      "source": [
        "print('Test set evaluation:\\n_____________________________________')\n",
        "print_evaluate(y_test, prediction)"
      ],
      "metadata": {
        "execution": {
          "iopub.status.busy": "2022-05-15T23:39:12.299265Z",
          "iopub.execute_input": "2022-05-15T23:39:12.299760Z",
          "iopub.status.idle": "2022-05-15T23:39:12.310433Z",
          "shell.execute_reply.started": "2022-05-15T23:39:12.299719Z",
          "shell.execute_reply": "2022-05-15T23:39:12.309457Z"
        },
        "trusted": true,
        "id": "GrHP4Cflf2BQ",
        "colab": {
          "base_uri": "https://localhost:8080/"
        },
        "outputId": "f284a394-77cb-46d1-b03e-446c31bf19e4"
      },
      "execution_count": 79,
      "outputs": [
        {
          "output_type": "stream",
          "name": "stdout",
          "text": [
            "Test set evaluation:\n",
            "_____________________________________\n",
            "MAE: 0.3119803476946334\n",
            "MSE: 0.4733560090702948\n",
            "RMSE: 0.6880087274666614\n",
            "R2 Square 0.3465243161813423\n",
            "Accuracy 0.767384731670446\n",
            "__________________________________\n"
          ]
        }
      ]
    },
    {
      "cell_type": "code",
      "source": [
        "results_df = pd.DataFrame(data=[[\"KNeighborsClassifier\", *evaluate(y_test, prediction) ]], \n",
        "                          columns=['Model', 'MAE', 'MSE', 'RMSE', 'R2 Square','Accuracy_VGG19_model'])\n",
        "results_df"
      ],
      "metadata": {
        "execution": {
          "iopub.status.busy": "2022-05-15T23:39:12.311703Z",
          "iopub.execute_input": "2022-05-15T23:39:12.312627Z",
          "iopub.status.idle": "2022-05-15T23:39:12.343783Z",
          "shell.execute_reply.started": "2022-05-15T23:39:12.312587Z",
          "shell.execute_reply": "2022-05-15T23:39:12.342873Z"
        },
        "trusted": true,
        "id": "BvLKZg2Nf2BQ",
        "colab": {
          "base_uri": "https://localhost:8080/",
          "height": 81
        },
        "outputId": "26679345-a556-42d2-d691-ad67c0400ca6"
      },
      "execution_count": 80,
      "outputs": [
        {
          "output_type": "execute_result",
          "data": {
            "text/plain": [
              "                  Model      MAE       MSE      RMSE  R2 Square  \\\n",
              "0  KNeighborsClassifier  0.31198  0.473356  0.688009   0.346524   \n",
              "\n",
              "   Accuracy_VGG19_model  \n",
              "0              0.767385  "
            ],
            "text/html": [
              "\n",
              "  <div id=\"df-476182ef-3190-413b-a6a8-3fb47baa851d\">\n",
              "    <div class=\"colab-df-container\">\n",
              "      <div>\n",
              "<style scoped>\n",
              "    .dataframe tbody tr th:only-of-type {\n",
              "        vertical-align: middle;\n",
              "    }\n",
              "\n",
              "    .dataframe tbody tr th {\n",
              "        vertical-align: top;\n",
              "    }\n",
              "\n",
              "    .dataframe thead th {\n",
              "        text-align: right;\n",
              "    }\n",
              "</style>\n",
              "<table border=\"1\" class=\"dataframe\">\n",
              "  <thead>\n",
              "    <tr style=\"text-align: right;\">\n",
              "      <th></th>\n",
              "      <th>Model</th>\n",
              "      <th>MAE</th>\n",
              "      <th>MSE</th>\n",
              "      <th>RMSE</th>\n",
              "      <th>R2 Square</th>\n",
              "      <th>Accuracy_VGG19_model</th>\n",
              "    </tr>\n",
              "  </thead>\n",
              "  <tbody>\n",
              "    <tr>\n",
              "      <th>0</th>\n",
              "      <td>KNeighborsClassifier</td>\n",
              "      <td>0.31198</td>\n",
              "      <td>0.473356</td>\n",
              "      <td>0.688009</td>\n",
              "      <td>0.346524</td>\n",
              "      <td>0.767385</td>\n",
              "    </tr>\n",
              "  </tbody>\n",
              "</table>\n",
              "</div>\n",
              "      <button class=\"colab-df-convert\" onclick=\"convertToInteractive('df-476182ef-3190-413b-a6a8-3fb47baa851d')\"\n",
              "              title=\"Convert this dataframe to an interactive table.\"\n",
              "              style=\"display:none;\">\n",
              "        \n",
              "  <svg xmlns=\"http://www.w3.org/2000/svg\" height=\"24px\"viewBox=\"0 0 24 24\"\n",
              "       width=\"24px\">\n",
              "    <path d=\"M0 0h24v24H0V0z\" fill=\"none\"/>\n",
              "    <path d=\"M18.56 5.44l.94 2.06.94-2.06 2.06-.94-2.06-.94-.94-2.06-.94 2.06-2.06.94zm-11 1L8.5 8.5l.94-2.06 2.06-.94-2.06-.94L8.5 2.5l-.94 2.06-2.06.94zm10 10l.94 2.06.94-2.06 2.06-.94-2.06-.94-.94-2.06-.94 2.06-2.06.94z\"/><path d=\"M17.41 7.96l-1.37-1.37c-.4-.4-.92-.59-1.43-.59-.52 0-1.04.2-1.43.59L10.3 9.45l-7.72 7.72c-.78.78-.78 2.05 0 2.83L4 21.41c.39.39.9.59 1.41.59.51 0 1.02-.2 1.41-.59l7.78-7.78 2.81-2.81c.8-.78.8-2.07 0-2.86zM5.41 20L4 18.59l7.72-7.72 1.47 1.35L5.41 20z\"/>\n",
              "  </svg>\n",
              "      </button>\n",
              "      \n",
              "  <style>\n",
              "    .colab-df-container {\n",
              "      display:flex;\n",
              "      flex-wrap:wrap;\n",
              "      gap: 12px;\n",
              "    }\n",
              "\n",
              "    .colab-df-convert {\n",
              "      background-color: #E8F0FE;\n",
              "      border: none;\n",
              "      border-radius: 50%;\n",
              "      cursor: pointer;\n",
              "      display: none;\n",
              "      fill: #1967D2;\n",
              "      height: 32px;\n",
              "      padding: 0 0 0 0;\n",
              "      width: 32px;\n",
              "    }\n",
              "\n",
              "    .colab-df-convert:hover {\n",
              "      background-color: #E2EBFA;\n",
              "      box-shadow: 0px 1px 2px rgba(60, 64, 67, 0.3), 0px 1px 3px 1px rgba(60, 64, 67, 0.15);\n",
              "      fill: #174EA6;\n",
              "    }\n",
              "\n",
              "    [theme=dark] .colab-df-convert {\n",
              "      background-color: #3B4455;\n",
              "      fill: #D2E3FC;\n",
              "    }\n",
              "\n",
              "    [theme=dark] .colab-df-convert:hover {\n",
              "      background-color: #434B5C;\n",
              "      box-shadow: 0px 1px 3px 1px rgba(0, 0, 0, 0.15);\n",
              "      filter: drop-shadow(0px 1px 2px rgba(0, 0, 0, 0.3));\n",
              "      fill: #FFFFFF;\n",
              "    }\n",
              "  </style>\n",
              "\n",
              "      <script>\n",
              "        const buttonEl =\n",
              "          document.querySelector('#df-476182ef-3190-413b-a6a8-3fb47baa851d button.colab-df-convert');\n",
              "        buttonEl.style.display =\n",
              "          google.colab.kernel.accessAllowed ? 'block' : 'none';\n",
              "\n",
              "        async function convertToInteractive(key) {\n",
              "          const element = document.querySelector('#df-476182ef-3190-413b-a6a8-3fb47baa851d');\n",
              "          const dataTable =\n",
              "            await google.colab.kernel.invokeFunction('convertToInteractive',\n",
              "                                                     [key], {});\n",
              "          if (!dataTable) return;\n",
              "\n",
              "          const docLinkHtml = 'Like what you see? Visit the ' +\n",
              "            '<a target=\"_blank\" href=https://colab.research.google.com/notebooks/data_table.ipynb>data table notebook</a>'\n",
              "            + ' to learn more about interactive tables.';\n",
              "          element.innerHTML = '';\n",
              "          dataTable['output_type'] = 'display_data';\n",
              "          await google.colab.output.renderOutput(dataTable, element);\n",
              "          const docLink = document.createElement('div');\n",
              "          docLink.innerHTML = docLinkHtml;\n",
              "          element.appendChild(docLink);\n",
              "        }\n",
              "      </script>\n",
              "    </div>\n",
              "  </div>\n",
              "  "
            ]
          },
          "metadata": {},
          "execution_count": 80
        }
      ]
    },
    {
      "cell_type": "code",
      "source": [
        "print(classification_report(y_test,prediction))"
      ],
      "metadata": {
        "execution": {
          "iopub.status.busy": "2022-05-15T23:39:12.345252Z",
          "iopub.execute_input": "2022-05-15T23:39:12.345610Z",
          "iopub.status.idle": "2022-05-15T23:39:12.361061Z",
          "shell.execute_reply.started": "2022-05-15T23:39:12.345569Z",
          "shell.execute_reply": "2022-05-15T23:39:12.359973Z"
        },
        "trusted": true,
        "id": "z-5hsaEsf2BR",
        "colab": {
          "base_uri": "https://localhost:8080/"
        },
        "outputId": "71af2a23-979c-4bc6-aa37-4b85c82863fd"
      },
      "execution_count": 81,
      "outputs": [
        {
          "output_type": "stream",
          "name": "stdout",
          "text": [
            "              precision    recall  f1-score   support\n",
            "\n",
            "           0       0.68      0.47      0.56       949\n",
            "           1       0.76      0.70      0.73      1493\n",
            "           2       0.77      0.92      0.84      2527\n",
            "           3       0.96      0.80      0.88       323\n",
            "\n",
            "    accuracy                           0.77      5292\n",
            "   macro avg       0.79      0.72      0.75      5292\n",
            "weighted avg       0.76      0.77      0.76      5292\n",
            "\n"
          ]
        }
      ]
    },
    {
      "cell_type": "code",
      "source": [
        "from sklearn.metrics import confusion_matrix\n",
        "from matplotlib.pyplot import figure\n",
        "figure(figsize=(5, 4), dpi=80)\n",
        "cm = confusion_matrix(y_test,prediction)\n",
        "\n",
        "sns.heatmap(cm, annot=True,fmt=\"d\",cmap=\"YlGnBu\")"
      ],
      "metadata": {
        "execution": {
          "iopub.status.busy": "2022-05-15T23:39:12.362840Z",
          "iopub.execute_input": "2022-05-15T23:39:12.363371Z",
          "iopub.status.idle": "2022-05-15T23:39:12.666036Z",
          "shell.execute_reply.started": "2022-05-15T23:39:12.363324Z",
          "shell.execute_reply": "2022-05-15T23:39:12.664868Z"
        },
        "trusted": true,
        "id": "_IDgBGaef2BR",
        "colab": {
          "base_uri": "https://localhost:8080/",
          "height": 309
        },
        "outputId": "d5912284-c8c3-4d71-f264-b48607610191"
      },
      "execution_count": 82,
      "outputs": [
        {
          "output_type": "execute_result",
          "data": {
            "text/plain": [
              "<matplotlib.axes._subplots.AxesSubplot at 0x7f5b4e214310>"
            ]
          },
          "metadata": {},
          "execution_count": 82
        },
        {
          "output_type": "display_data",
          "data": {
            "text/plain": [
              "<Figure size 400x320 with 2 Axes>"
            ],
            "image/png": "[encoded data removed]"
          },
          "metadata": {
            "needs_background": "light"
          }
        }
      ]
    },
    {
      "cell_type": "markdown",
      "source": [
        "# DecisionTreeClassifier"
      ],
      "metadata": {
        "id": "nGaVLl7-f2BU"
      }
    },
    {
      "cell_type": "code",
      "source": [
        "from sklearn.tree import DecisionTreeClassifier\n",
        "cart_model = DecisionTreeClassifier()\n",
        "cart_model = cart_model.fit(X_for_model, y_train)\n",
        "cart_model"
      ],
      "metadata": {
        "execution": {
          "iopub.status.busy": "2022-05-15T23:44:47.509229Z",
          "iopub.execute_input": "2022-05-15T23:44:47.509560Z",
          "iopub.status.idle": "2022-05-15T23:44:47.801680Z",
          "shell.execute_reply.started": "2022-05-15T23:44:47.509528Z",
          "shell.execute_reply": "2022-05-15T23:44:47.800754Z"
        },
        "trusted": true,
        "id": "HmFQbakzf2BU",
        "colab": {
          "base_uri": "https://localhost:8080/"
        },
        "outputId": "c5d56ea1-f367-4b5b-d827-c569a2746f14"
      },
      "execution_count": 83,
      "outputs": [
        {
          "output_type": "execute_result",
          "data": {
            "text/plain": [
              "DecisionTreeClassifier()"
            ]
          },
          "metadata": {},
          "execution_count": 83
        }
      ]
    },
    {
      "cell_type": "code",
      "source": [
        "X_test_feature = VGG19_model.predict(x_test)\n",
        "X_test_features = X_test_feature.reshape(X_test_feature.shape[0], -1)\n",
        "#Now predict using the trained RF model. \n",
        "prediction = cart_model.predict(X_test_features)"
      ],
      "metadata": {
        "execution": {
          "iopub.status.busy": "2022-05-15T23:44:58.702994Z",
          "iopub.execute_input": "2022-05-15T23:44:58.703496Z",
          "iopub.status.idle": "2022-05-15T23:45:08.759712Z",
          "shell.execute_reply.started": "2022-05-15T23:44:58.703449Z",
          "shell.execute_reply": "2022-05-15T23:45:08.758522Z"
        },
        "trusted": true,
        "id": "MQkJ4Li2f2BU"
      },
      "execution_count": 84,
      "outputs": []
    },
    {
      "cell_type": "code",
      "source": [
        "print('Test set evaluation:\\n_____________________________________')\n",
        "print_evaluate(y_test, prediction)"
      ],
      "metadata": {
        "execution": {
          "iopub.status.busy": "2022-05-15T23:45:08.761481Z",
          "iopub.execute_input": "2022-05-15T23:45:08.761759Z",
          "iopub.status.idle": "2022-05-15T23:45:08.772303Z",
          "shell.execute_reply.started": "2022-05-15T23:45:08.761728Z",
          "shell.execute_reply": "2022-05-15T23:45:08.771400Z"
        },
        "trusted": true,
        "id": "aKuYWeT5f2BU",
        "colab": {
          "base_uri": "https://localhost:8080/"
        },
        "outputId": "a9a461e0-a8bf-40f5-dc28-4042dcc681f8"
      },
      "execution_count": 85,
      "outputs": [
        {
          "output_type": "stream",
          "name": "stdout",
          "text": [
            "Test set evaluation:\n",
            "_____________________________________\n",
            "MAE: 0.4786470143613001\n",
            "MSE: 0.7583144368858654\n",
            "RMSE: 0.8708125153475147\n",
            "R2 Square -0.04686543679212529\n",
            "Accuracy 0.6526832955404384\n",
            "__________________________________\n"
          ]
        }
      ]
    },
    {
      "cell_type": "code",
      "source": [
        "results_df_2 = pd.DataFrame(data=[[\"DecisionTreeClassifier\", *evaluate(y_test, prediction)]], \n",
        "                          columns=['Model', 'MAE', 'MSE', 'RMSE', 'R2 Square','Accuracy_VGG19_model' ])\n",
        "results_df = results_df.append(results_df_2, ignore_index=True)\n",
        "results_df"
      ],
      "metadata": {
        "execution": {
          "iopub.status.busy": "2022-05-15T23:45:27.014808Z",
          "iopub.execute_input": "2022-05-15T23:45:27.015154Z",
          "iopub.status.idle": "2022-05-15T23:45:27.038911Z",
          "shell.execute_reply.started": "2022-05-15T23:45:27.015121Z",
          "shell.execute_reply": "2022-05-15T23:45:27.037665Z"
        },
        "trusted": true,
        "id": "DNyNwj3Ef2BU",
        "colab": {
          "base_uri": "https://localhost:8080/",
          "height": 112
        },
        "outputId": "e25e200b-08de-4d7f-9db9-7afb2aa256e0"
      },
      "execution_count": 86,
      "outputs": [
        {
          "output_type": "execute_result",
          "data": {
            "text/plain": [
              "                    Model       MAE       MSE      RMSE  R2 Square  \\\n",
              "0    KNeighborsClassifier  0.311980  0.473356  0.688009   0.346524   \n",
              "1  DecisionTreeClassifier  0.478647  0.758314  0.870813  -0.046865   \n",
              "\n",
              "   Accuracy_VGG19_model  \n",
              "0              0.767385  \n",
              "1              0.652683  "
            ],
            "text/html": [
              "\n",
              "  <div id=\"df-8262d0eb-0b13-4fd0-ae1b-fabf9150ca61\">\n",
              "    <div class=\"colab-df-container\">\n",
              "      <div>\n",
              "<style scoped>\n",
              "    .dataframe tbody tr th:only-of-type {\n",
              "        vertical-align: middle;\n",
              "    }\n",
              "\n",
              "    .dataframe tbody tr th {\n",
              "        vertical-align: top;\n",
              "    }\n",
              "\n",
              "    .dataframe thead th {\n",
              "        text-align: right;\n",
              "    }\n",
              "</style>\n",
              "<table border=\"1\" class=\"dataframe\">\n",
              "  <thead>\n",
              "    <tr style=\"text-align: right;\">\n",
              "      <th></th>\n",
              "      <th>Model</th>\n",
              "      <th>MAE</th>\n",
              "      <th>MSE</th>\n",
              "      <th>RMSE</th>\n",
              "      <th>R2 Square</th>\n",
              "      <th>Accuracy_VGG19_model</th>\n",
              "    </tr>\n",
              "  </thead>\n",
              "  <tbody>\n",
              "    <tr>\n",
              "      <th>0</th>\n",
              "      <td>KNeighborsClassifier</td>\n",
              "      <td>0.311980</td>\n",
              "      <td>0.473356</td>\n",
              "      <td>0.688009</td>\n",
              "      <td>0.346524</td>\n",
              "      <td>0.767385</td>\n",
              "    </tr>\n",
              "    <tr>\n",
              "      <th>1</th>\n",
              "      <td>DecisionTreeClassifier</td>\n",
              "      <td>0.478647</td>\n",
              "      <td>0.758314</td>\n",
              "      <td>0.870813</td>\n",
              "      <td>-0.046865</td>\n",
              "      <td>0.652683</td>\n",
              "    </tr>\n",
              "  </tbody>\n",
              "</table>\n",
              "</div>\n",
              "      <button class=\"colab-df-convert\" onclick=\"convertToInteractive('df-8262d0eb-0b13-4fd0-ae1b-fabf9150ca61')\"\n",
              "              title=\"Convert this dataframe to an interactive table.\"\n",
              "              style=\"display:none;\">\n",
              "        \n",
              "  <svg xmlns=\"http://www.w3.org/2000/svg\" height=\"24px\"viewBox=\"0 0 24 24\"\n",
              "       width=\"24px\">\n",
              "    <path d=\"M0 0h24v24H0V0z\" fill=\"none\"/>\n",
              "    <path d=\"M18.56 5.44l.94 2.06.94-2.06 2.06-.94-2.06-.94-.94-2.06-.94 2.06-2.06.94zm-11 1L8.5 8.5l.94-2.06 2.06-.94-2.06-.94L8.5 2.5l-.94 2.06-2.06.94zm10 10l.94 2.06.94-2.06 2.06-.94-2.06-.94-.94-2.06-.94 2.06-2.06.94z\"/><path d=\"M17.41 7.96l-1.37-1.37c-.4-.4-.92-.59-1.43-.59-.52 0-1.04.2-1.43.59L10.3 9.45l-7.72 7.72c-.78.78-.78 2.05 0 2.83L4 21.41c.39.39.9.59 1.41.59.51 0 1.02-.2 1.41-.59l7.78-7.78 2.81-2.81c.8-.78.8-2.07 0-2.86zM5.41 20L4 18.59l7.72-7.72 1.47 1.35L5.41 20z\"/>\n",
              "  </svg>\n",
              "      </button>\n",
              "      \n",
              "  <style>\n",
              "    .colab-df-container {\n",
              "      display:flex;\n",
              "      flex-wrap:wrap;\n",
              "      gap: 12px;\n",
              "    }\n",
              "\n",
              "    .colab-df-convert {\n",
              "      background-color: #E8F0FE;\n",
              "      border: none;\n",
              "      border-radius: 50%;\n",
              "      cursor: pointer;\n",
              "      display: none;\n",
              "      fill: #1967D2;\n",
              "      height: 32px;\n",
              "      padding: 0 0 0 0;\n",
              "      width: 32px;\n",
              "    }\n",
              "\n",
              "    .colab-df-convert:hover {\n",
              "      background-color: #E2EBFA;\n",
              "      box-shadow: 0px 1px 2px rgba(60, 64, 67, 0.3), 0px 1px 3px 1px rgba(60, 64, 67, 0.15);\n",
              "      fill: #174EA6;\n",
              "    }\n",
              "\n",
              "    [theme=dark] .colab-df-convert {\n",
              "      background-color: #3B4455;\n",
              "      fill: #D2E3FC;\n",
              "    }\n",
              "\n",
              "    [theme=dark] .colab-df-convert:hover {\n",
              "      background-color: #434B5C;\n",
              "      box-shadow: 0px 1px 3px 1px rgba(0, 0, 0, 0.15);\n",
              "      filter: drop-shadow(0px 1px 2px rgba(0, 0, 0, 0.3));\n",
              "      fill: #FFFFFF;\n",
              "    }\n",
              "  </style>\n",
              "\n",
              "      <script>\n",
              "        const buttonEl =\n",
              "          document.querySelector('#df-8262d0eb-0b13-4fd0-ae1b-fabf9150ca61 button.colab-df-convert');\n",
              "        buttonEl.style.display =\n",
              "          google.colab.kernel.accessAllowed ? 'block' : 'none';\n",
              "\n",
              "        async function convertToInteractive(key) {\n",
              "          const element = document.querySelector('#df-8262d0eb-0b13-4fd0-ae1b-fabf9150ca61');\n",
              "          const dataTable =\n",
              "            await google.colab.kernel.invokeFunction('convertToInteractive',\n",
              "                                                     [key], {});\n",
              "          if (!dataTable) return;\n",
              "\n",
              "          const docLinkHtml = 'Like what you see? Visit the ' +\n",
              "            '<a target=\"_blank\" href=https://colab.research.google.com/notebooks/data_table.ipynb>data table notebook</a>'\n",
              "            + ' to learn more about interactive tables.';\n",
              "          element.innerHTML = '';\n",
              "          dataTable['output_type'] = 'display_data';\n",
              "          await google.colab.output.renderOutput(dataTable, element);\n",
              "          const docLink = document.createElement('div');\n",
              "          docLink.innerHTML = docLinkHtml;\n",
              "          element.appendChild(docLink);\n",
              "        }\n",
              "      </script>\n",
              "    </div>\n",
              "  </div>\n",
              "  "
            ]
          },
          "metadata": {},
          "execution_count": 86
        }
      ]
    },
    {
      "cell_type": "code",
      "source": [
        "print(classification_report(y_test,prediction))"
      ],
      "metadata": {
        "execution": {
          "iopub.status.busy": "2022-05-15T23:45:37.574283Z",
          "iopub.execute_input": "2022-05-15T23:45:37.575131Z",
          "iopub.status.idle": "2022-05-15T23:45:37.588467Z",
          "shell.execute_reply.started": "2022-05-15T23:45:37.575084Z",
          "shell.execute_reply": "2022-05-15T23:45:37.587159Z"
        },
        "trusted": true,
        "id": "LTrsSdrJf2BV",
        "colab": {
          "base_uri": "https://localhost:8080/"
        },
        "outputId": "311d95a0-58b4-4435-f854-e7573be8b01d"
      },
      "execution_count": 87,
      "outputs": [
        {
          "output_type": "stream",
          "name": "stdout",
          "text": [
            "              precision    recall  f1-score   support\n",
            "\n",
            "           0       0.42      0.42      0.42       949\n",
            "           1       0.63      0.61      0.62      1493\n",
            "           2       0.75      0.76      0.76      2527\n",
            "           3       0.64      0.70      0.67       323\n",
            "\n",
            "    accuracy                           0.65      5292\n",
            "   macro avg       0.61      0.62      0.62      5292\n",
            "weighted avg       0.65      0.65      0.65      5292\n",
            "\n"
          ]
        }
      ]
    },
    {
      "cell_type": "code",
      "source": [
        "from sklearn.metrics import confusion_matrix\n",
        "from matplotlib.pyplot import figure\n",
        "figure(figsize=(5, 4), dpi=80)\n",
        "cm = confusion_matrix(y_test,prediction)\n",
        "\n",
        "sns.heatmap(cm, annot=True,fmt=\"d\",cmap=\"YlGnBu\")"
      ],
      "metadata": {
        "execution": {
          "iopub.status.busy": "2022-05-15T23:46:08.737676Z",
          "iopub.execute_input": "2022-05-15T23:46:08.738651Z",
          "iopub.status.idle": "2022-05-15T23:46:09.030955Z",
          "shell.execute_reply.started": "2022-05-15T23:46:08.738609Z",
          "shell.execute_reply": "2022-05-15T23:46:09.029872Z"
        },
        "trusted": true,
        "id": "1UZQHwLef2BV",
        "colab": {
          "base_uri": "https://localhost:8080/",
          "height": 309
        },
        "outputId": "333aa163-14cf-44cd-92b1-515f26dfe749"
      },
      "execution_count": 88,
      "outputs": [
        {
          "output_type": "execute_result",
          "data": {
            "text/plain": [
              "<matplotlib.axes._subplots.AxesSubplot at 0x7f58d59eda50>"
            ]
          },
          "metadata": {},
          "execution_count": 88
        },
        {
          "output_type": "display_data",
          "data": {
            "text/plain": [
              "<Figure size 400x320 with 2 Axes>"
            ],
            "image/png": "[encoded data removed]"
          },
          "metadata": {
            "needs_background": "light"
          }
        }
      ]
    },
    {
      "cell_type": "markdown",
      "source": [
        "# Lojistik regresyon"
      ],
      "metadata": {
        "id": "52FuwRakf2BV"
      }
    },
    {
      "cell_type": "code",
      "source": [
        "from sklearn.linear_model import LogisticRegression\n",
        "lr_model = LogisticRegression()\n",
        "lr_model = lr_model.fit(X_for_model, y_train)\n",
        "lr_model"
      ],
      "metadata": {
        "execution": {
          "iopub.status.busy": "2022-05-15T23:48:22.538883Z",
          "iopub.execute_input": "2022-05-15T23:48:22.539248Z",
          "iopub.status.idle": "2022-05-15T23:48:23.075126Z",
          "shell.execute_reply.started": "2022-05-15T23:48:22.539197Z",
          "shell.execute_reply": "2022-05-15T23:48:23.074057Z"
        },
        "trusted": true,
        "id": "AweR31Hhf2BV",
        "colab": {
          "base_uri": "https://localhost:8080/"
        },
        "outputId": "b0597a51-a397-442f-d32e-e8f00b85afa3"
      },
      "execution_count": 89,
      "outputs": [
        {
          "output_type": "stream",
          "name": "stderr",
          "text": [
            "/usr/local/lib/python3.7/dist-packages/sklearn/linear_model/_logistic.py:818: ConvergenceWarning: lbfgs failed to converge (status=1):\n",
            "STOP: TOTAL NO. of ITERATIONS REACHED LIMIT.\n",
            "\n",
            "Increase the number of iterations (max_iter) or scale the data as shown in:\n",
            "    https://scikit-learn.org/stable/modules/preprocessing.html\n",
            "Please also refer to the documentation for alternative solver options:\n",
            "    https://scikit-learn.org/stable/modules/linear_model.html#logistic-regression\n",
            "  extra_warning_msg=_LOGISTIC_SOLVER_CONVERGENCE_MSG,\n"
          ]
        },
        {
          "output_type": "execute_result",
          "data": {
            "text/plain": [
              "LogisticRegression()"
            ]
          },
          "metadata": {},
          "execution_count": 89
        }
      ]
    },
    {
      "cell_type": "code",
      "source": [
        "X_test_feature = VGG19_model.predict(x_test)\n",
        "X_test_features = X_test_feature.reshape(X_test_feature.shape[0], -1)\n",
        "#Now predict using the trained RF model. \n",
        "prediction = lr_model.predict(X_test_features)"
      ],
      "metadata": {
        "execution": {
          "iopub.status.busy": "2022-05-15T23:48:46.104416Z",
          "iopub.execute_input": "2022-05-15T23:48:46.104738Z",
          "iopub.status.idle": "2022-05-15T23:48:55.936444Z",
          "shell.execute_reply.started": "2022-05-15T23:48:46.104708Z",
          "shell.execute_reply": "2022-05-15T23:48:55.935170Z"
        },
        "trusted": true,
        "id": "HRHBCVr7f2BV"
      },
      "execution_count": 90,
      "outputs": []
    },
    {
      "cell_type": "code",
      "source": [
        "print('Test set evaluation:\\n_____________________________________')\n",
        "print_evaluate(y_test, prediction)"
      ],
      "metadata": {
        "execution": {
          "iopub.status.busy": "2022-05-15T23:48:56.256955Z",
          "iopub.execute_input": "2022-05-15T23:48:56.257290Z",
          "iopub.status.idle": "2022-05-15T23:48:56.266436Z",
          "shell.execute_reply.started": "2022-05-15T23:48:56.257259Z",
          "shell.execute_reply": "2022-05-15T23:48:56.265437Z"
        },
        "trusted": true,
        "id": "wa2O6IDnf2BV",
        "colab": {
          "base_uri": "https://localhost:8080/"
        },
        "outputId": "f21c6fc4-0f32-4eec-d842-eca611ed76cf"
      },
      "execution_count": 91,
      "outputs": [
        {
          "output_type": "stream",
          "name": "stdout",
          "text": [
            "Test set evaluation:\n",
            "_____________________________________\n",
            "MAE: 0.2660619803476946\n",
            "MSE: 0.40778533635676495\n",
            "RMSE: 0.638580720314014\n",
            "R2 Square 0.43704569833107243\n",
            "Accuracy 0.8036659108087679\n",
            "__________________________________\n"
          ]
        }
      ]
    },
    {
      "cell_type": "code",
      "source": [
        "results_df_2 = pd.DataFrame(data=[[\"Lojistik regresyon\", *evaluate(y_test, prediction)]], \n",
        "                          columns=['Model', 'MAE', 'MSE', 'RMSE', 'R2 Square','Accuracy_VGG19_model' ])\n",
        "results_df = results_df.append(results_df_2, ignore_index=True)\n",
        "results_df"
      ],
      "metadata": {
        "execution": {
          "iopub.status.busy": "2022-05-15T23:49:11.936315Z",
          "iopub.execute_input": "2022-05-15T23:49:11.937583Z",
          "iopub.status.idle": "2022-05-15T23:49:11.959922Z",
          "shell.execute_reply.started": "2022-05-15T23:49:11.937527Z",
          "shell.execute_reply": "2022-05-15T23:49:11.958928Z"
        },
        "trusted": true,
        "id": "Azw8HUF9f2BV",
        "colab": {
          "base_uri": "https://localhost:8080/",
          "height": 144
        },
        "outputId": "207b0989-8b44-44b9-8bb6-6f5ed07bcb4a"
      },
      "execution_count": 92,
      "outputs": [
        {
          "output_type": "execute_result",
          "data": {
            "text/plain": [
              "                    Model       MAE       MSE      RMSE  R2 Square  \\\n",
              "0    KNeighborsClassifier  0.311980  0.473356  0.688009   0.346524   \n",
              "1  DecisionTreeClassifier  0.478647  0.758314  0.870813  -0.046865   \n",
              "2      Lojistik regresyon  0.266062  0.407785  0.638581   0.437046   \n",
              "\n",
              "   Accuracy_VGG19_model  \n",
              "0              0.767385  \n",
              "1              0.652683  \n",
              "2              0.803666  "
            ],
            "text/html": [
              "\n",
              "  <div id=\"df-fb66613a-c31d-43e8-9cfd-ee6490ecd1eb\">\n",
              "    <div class=\"colab-df-container\">\n",
              "      <div>\n",
              "<style scoped>\n",
              "    .dataframe tbody tr th:only-of-type {\n",
              "        vertical-align: middle;\n",
              "    }\n",
              "\n",
              "    .dataframe tbody tr th {\n",
              "        vertical-align: top;\n",
              "    }\n",
              "\n",
              "    .dataframe thead th {\n",
              "        text-align: right;\n",
              "    }\n",
              "</style>\n",
              "<table border=\"1\" class=\"dataframe\">\n",
              "  <thead>\n",
              "    <tr style=\"text-align: right;\">\n",
              "      <th></th>\n",
              "      <th>Model</th>\n",
              "      <th>MAE</th>\n",
              "      <th>MSE</th>\n",
              "      <th>RMSE</th>\n",
              "      <th>R2 Square</th>\n",
              "      <th>Accuracy_VGG19_model</th>\n",
              "    </tr>\n",
              "  </thead>\n",
              "  <tbody>\n",
              "    <tr>\n",
              "      <th>0</th>\n",
              "      <td>KNeighborsClassifier</td>\n",
              "      <td>0.311980</td>\n",
              "      <td>0.473356</td>\n",
              "      <td>0.688009</td>\n",
              "      <td>0.346524</td>\n",
              "      <td>0.767385</td>\n",
              "    </tr>\n",
              "    <tr>\n",
              "      <th>1</th>\n",
              "      <td>DecisionTreeClassifier</td>\n",
              "      <td>0.478647</td>\n",
              "      <td>0.758314</td>\n",
              "      <td>0.870813</td>\n",
              "      <td>-0.046865</td>\n",
              "      <td>0.652683</td>\n",
              "    </tr>\n",
              "    <tr>\n",
              "      <th>2</th>\n",
              "      <td>Lojistik regresyon</td>\n",
              "      <td>0.266062</td>\n",
              "      <td>0.407785</td>\n",
              "      <td>0.638581</td>\n",
              "      <td>0.437046</td>\n",
              "      <td>0.803666</td>\n",
              "    </tr>\n",
              "  </tbody>\n",
              "</table>\n",
              "</div>\n",
              "      <button class=\"colab-df-convert\" onclick=\"convertToInteractive('df-fb66613a-c31d-43e8-9cfd-ee6490ecd1eb')\"\n",
              "              title=\"Convert this dataframe to an interactive table.\"\n",
              "              style=\"display:none;\">\n",
              "        \n",
              "  <svg xmlns=\"http://www.w3.org/2000/svg\" height=\"24px\"viewBox=\"0 0 24 24\"\n",
              "       width=\"24px\">\n",
              "    <path d=\"M0 0h24v24H0V0z\" fill=\"none\"/>\n",
              "    <path d=\"M18.56 5.44l.94 2.06.94-2.06 2.06-.94-2.06-.94-.94-2.06-.94 2.06-2.06.94zm-11 1L8.5 8.5l.94-2.06 2.06-.94-2.06-.94L8.5 2.5l-.94 2.06-2.06.94zm10 10l.94 2.06.94-2.06 2.06-.94-2.06-.94-.94-2.06-.94 2.06-2.06.94z\"/><path d=\"M17.41 7.96l-1.37-1.37c-.4-.4-.92-.59-1.43-.59-.52 0-1.04.2-1.43.59L10.3 9.45l-7.72 7.72c-.78.78-.78 2.05 0 2.83L4 21.41c.39.39.9.59 1.41.59.51 0 1.02-.2 1.41-.59l7.78-7.78 2.81-2.81c.8-.78.8-2.07 0-2.86zM5.41 20L4 18.59l7.72-7.72 1.47 1.35L5.41 20z\"/>\n",
              "  </svg>\n",
              "      </button>\n",
              "      \n",
              "  <style>\n",
              "    .colab-df-container {\n",
              "      display:flex;\n",
              "      flex-wrap:wrap;\n",
              "      gap: 12px;\n",
              "    }\n",
              "\n",
              "    .colab-df-convert {\n",
              "      background-color: #E8F0FE;\n",
              "      border: none;\n",
              "      border-radius: 50%;\n",
              "      cursor: pointer;\n",
              "      display: none;\n",
              "      fill: #1967D2;\n",
              "      height: 32px;\n",
              "      padding: 0 0 0 0;\n",
              "      width: 32px;\n",
              "    }\n",
              "\n",
              "    .colab-df-convert:hover {\n",
              "      background-color: #E2EBFA;\n",
              "      box-shadow: 0px 1px 2px rgba(60, 64, 67, 0.3), 0px 1px 3px 1px rgba(60, 64, 67, 0.15);\n",
              "      fill: #174EA6;\n",
              "    }\n",
              "\n",
              "    [theme=dark] .colab-df-convert {\n",
              "      background-color: #3B4455;\n",
              "      fill: #D2E3FC;\n",
              "    }\n",
              "\n",
              "    [theme=dark] .colab-df-convert:hover {\n",
              "      background-color: #434B5C;\n",
              "      box-shadow: 0px 1px 3px 1px rgba(0, 0, 0, 0.15);\n",
              "      filter: drop-shadow(0px 1px 2px rgba(0, 0, 0, 0.3));\n",
              "      fill: #FFFFFF;\n",
              "    }\n",
              "  </style>\n",
              "\n",
              "      <script>\n",
              "        const buttonEl =\n",
              "          document.querySelector('#df-fb66613a-c31d-43e8-9cfd-ee6490ecd1eb button.colab-df-convert');\n",
              "        buttonEl.style.display =\n",
              "          google.colab.kernel.accessAllowed ? 'block' : 'none';\n",
              "\n",
              "        async function convertToInteractive(key) {\n",
              "          const element = document.querySelector('#df-fb66613a-c31d-43e8-9cfd-ee6490ecd1eb');\n",
              "          const dataTable =\n",
              "            await google.colab.kernel.invokeFunction('convertToInteractive',\n",
              "                                                     [key], {});\n",
              "          if (!dataTable) return;\n",
              "\n",
              "          const docLinkHtml = 'Like what you see? Visit the ' +\n",
              "            '<a target=\"_blank\" href=https://colab.research.google.com/notebooks/data_table.ipynb>data table notebook</a>'\n",
              "            + ' to learn more about interactive tables.';\n",
              "          element.innerHTML = '';\n",
              "          dataTable['output_type'] = 'display_data';\n",
              "          await google.colab.output.renderOutput(dataTable, element);\n",
              "          const docLink = document.createElement('div');\n",
              "          docLink.innerHTML = docLinkHtml;\n",
              "          element.appendChild(docLink);\n",
              "        }\n",
              "      </script>\n",
              "    </div>\n",
              "  </div>\n",
              "  "
            ]
          },
          "metadata": {},
          "execution_count": 92
        }
      ]
    },
    {
      "cell_type": "code",
      "source": [
        "print(classification_report(y_test,prediction))"
      ],
      "metadata": {
        "execution": {
          "iopub.status.busy": "2022-05-15T23:49:26.389801Z",
          "iopub.execute_input": "2022-05-15T23:49:26.390225Z",
          "iopub.status.idle": "2022-05-15T23:49:26.405577Z",
          "shell.execute_reply.started": "2022-05-15T23:49:26.390188Z",
          "shell.execute_reply": "2022-05-15T23:49:26.404136Z"
        },
        "trusted": true,
        "id": "NVRJ5YAmf2BV",
        "colab": {
          "base_uri": "https://localhost:8080/"
        },
        "outputId": "fa3e7a35-b11f-40a1-e546-ea4d19b0aee0"
      },
      "execution_count": 93,
      "outputs": [
        {
          "output_type": "stream",
          "name": "stdout",
          "text": [
            "              precision    recall  f1-score   support\n",
            "\n",
            "           0       0.69      0.55      0.61       949\n",
            "           1       0.79      0.77      0.78      1493\n",
            "           2       0.83      0.91      0.87      2527\n",
            "           3       0.92      0.88      0.90       323\n",
            "\n",
            "    accuracy                           0.80      5292\n",
            "   macro avg       0.81      0.78      0.79      5292\n",
            "weighted avg       0.80      0.80      0.80      5292\n",
            "\n"
          ]
        }
      ]
    },
    {
      "cell_type": "code",
      "source": [
        "from sklearn.metrics import confusion_matrix\n",
        "from matplotlib.pyplot import figure\n",
        "figure(figsize=(5, 4), dpi=80)\n",
        "cm = confusion_matrix(y_test,prediction)\n",
        "\n",
        "sns.heatmap(cm, annot=True,fmt=\"d\",cmap=\"YlGnBu\")"
      ],
      "metadata": {
        "execution": {
          "iopub.status.busy": "2022-05-15T23:49:34.934410Z",
          "iopub.execute_input": "2022-05-15T23:49:34.934746Z",
          "iopub.status.idle": "2022-05-15T23:49:35.226542Z",
          "shell.execute_reply.started": "2022-05-15T23:49:34.934713Z",
          "shell.execute_reply": "2022-05-15T23:49:35.225613Z"
        },
        "trusted": true,
        "id": "qQq_qzfAf2BV",
        "colab": {
          "base_uri": "https://localhost:8080/",
          "height": 309
        },
        "outputId": "a88a6134-f368-45a9-911d-6e707b85a02b"
      },
      "execution_count": 94,
      "outputs": [
        {
          "output_type": "execute_result",
          "data": {
            "text/plain": [
              "<matplotlib.axes._subplots.AxesSubplot at 0x7f58d5aa8b50>"
            ]
          },
          "metadata": {},
          "execution_count": 94
        },
        {
          "output_type": "display_data",
          "data": {
            "text/plain": [
              "<Figure size 400x320 with 2 Axes>"
            ],
            "image/png": "[encoded data removed]"
          },
          "metadata": {
            "needs_background": "light"
          }
        }
      ]
    },
    {
      "cell_type": "markdown",
      "source": [
        "# LGBMClassifier"
      ],
      "metadata": {
        "id": "qBaK8vAFf2BY"
      }
    },
    {
      "cell_type": "code",
      "source": [
        "from lightgbm import LGBMClassifier\n",
        "\n",
        "LGBM_model = LGBMClassifier()\n",
        "LGBM_model = LGBM_model.fit(X_for_model, y_train)\n",
        "LGBM_model"
      ],
      "metadata": {
        "execution": {
          "iopub.status.busy": "2022-05-15T23:57:47.057632Z",
          "iopub.execute_input": "2022-05-15T23:57:47.058076Z",
          "iopub.status.idle": "2022-05-15T23:57:59.011069Z",
          "shell.execute_reply.started": "2022-05-15T23:57:47.058040Z",
          "shell.execute_reply": "2022-05-15T23:57:59.009652Z"
        },
        "trusted": true,
        "id": "-wA-SoO3f2BY",
        "colab": {
          "base_uri": "https://localhost:8080/"
        },
        "outputId": "5e88e755-c909-4dca-ff04-fecdbb983372"
      },
      "execution_count": 95,
      "outputs": [
        {
          "output_type": "execute_result",
          "data": {
            "text/plain": [
              "LGBMClassifier()"
            ]
          },
          "metadata": {},
          "execution_count": 95
        }
      ]
    },
    {
      "cell_type": "code",
      "source": [
        "X_test_feature = VGG19_model.predict(x_test)\n",
        "X_test_features = X_test_feature.reshape(X_test_feature.shape[0], -1)\n",
        "#Now predict using the trained RF model. \n",
        "prediction = LGBM_model.predict(X_test_features)"
      ],
      "metadata": {
        "execution": {
          "iopub.status.busy": "2022-05-15T23:58:10.084546Z",
          "iopub.execute_input": "2022-05-15T23:58:10.085569Z",
          "iopub.status.idle": "2022-05-15T23:58:20.632144Z",
          "shell.execute_reply.started": "2022-05-15T23:58:10.085516Z",
          "shell.execute_reply": "2022-05-15T23:58:20.631041Z"
        },
        "trusted": true,
        "id": "nj5AJ4eOf2BY"
      },
      "execution_count": 96,
      "outputs": []
    },
    {
      "cell_type": "code",
      "source": [
        "print('Test set evaluation:\\n_____________________________________')\n",
        "print_evaluate(y_test, prediction)"
      ],
      "metadata": {
        "execution": {
          "iopub.status.busy": "2022-05-15T23:58:20.633987Z",
          "iopub.execute_input": "2022-05-15T23:58:20.634283Z",
          "iopub.status.idle": "2022-05-15T23:58:20.644992Z",
          "shell.execute_reply.started": "2022-05-15T23:58:20.634249Z",
          "shell.execute_reply": "2022-05-15T23:58:20.644021Z"
        },
        "trusted": true,
        "id": "-4bAXDEFf2BY",
        "colab": {
          "base_uri": "https://localhost:8080/"
        },
        "outputId": "5b07cebc-8745-483d-cbf3-a8fbc5190d96"
      },
      "execution_count": 97,
      "outputs": [
        {
          "output_type": "stream",
          "name": "stdout",
          "text": [
            "Test set evaluation:\n",
            "_____________________________________\n",
            "MAE: 0.2399848828420257\n",
            "MSE: 0.36432350718065004\n",
            "RMSE: 0.6035921695819537\n",
            "R2 Square 0.4970454617156199\n",
            "Accuracy 0.8210506424792139\n",
            "__________________________________\n"
          ]
        }
      ]
    },
    {
      "cell_type": "code",
      "source": [
        ""
      ],
      "metadata": {
        "id": "c_XL805QODJO"
      },
      "execution_count": 97,
      "outputs": []
    },
    {
      "cell_type": "code",
      "source": [
        "results_df_2 = pd.DataFrame(data=[[\"LGBMClassifier\", *evaluate(y_test, prediction)]], \n",
        "                          columns=['Model', 'MAE', 'MSE', 'RMSE', 'R2 Square','Accuracy_VGG19_model' ])\n",
        "results_df = results_df.append(results_df_2, ignore_index=True)\n",
        "results_df"
      ],
      "metadata": {
        "execution": {
          "iopub.status.busy": "2022-05-15T23:58:33.933032Z",
          "iopub.execute_input": "2022-05-15T23:58:33.933912Z",
          "iopub.status.idle": "2022-05-15T23:58:33.955870Z",
          "shell.execute_reply.started": "2022-05-15T23:58:33.933866Z",
          "shell.execute_reply": "2022-05-15T23:58:33.954797Z"
        },
        "trusted": true,
        "id": "prWdkBqYf2BY",
        "colab": {
          "base_uri": "https://localhost:8080/",
          "height": 175
        },
        "outputId": "d2f68f09-15f9-4527-cbdb-d020f01dda2f"
      },
      "execution_count": 98,
      "outputs": [
        {
          "output_type": "execute_result",
          "data": {
            "text/plain": [
              "                    Model       MAE       MSE      RMSE  R2 Square  \\\n",
              "0    KNeighborsClassifier  0.311980  0.473356  0.688009   0.346524   \n",
              "1  DecisionTreeClassifier  0.478647  0.758314  0.870813  -0.046865   \n",
              "2      Lojistik regresyon  0.266062  0.407785  0.638581   0.437046   \n",
              "3          LGBMClassifier  0.239985  0.364324  0.603592   0.497045   \n",
              "\n",
              "   Accuracy_VGG19_model  \n",
              "0              0.767385  \n",
              "1              0.652683  \n",
              "2              0.803666  \n",
              "3              0.821051  "
            ],
            "text/html": [
              "\n",
              "  <div id=\"df-57e10ab2-ab00-421d-85c1-d9523505cc03\">\n",
              "    <div class=\"colab-df-container\">\n",
              "      <div>\n",
              "<style scoped>\n",
              "    .dataframe tbody tr th:only-of-type {\n",
              "        vertical-align: middle;\n",
              "    }\n",
              "\n",
              "    .dataframe tbody tr th {\n",
              "        vertical-align: top;\n",
              "    }\n",
              "\n",
              "    .dataframe thead th {\n",
              "        text-align: right;\n",
              "    }\n",
              "</style>\n",
              "<table border=\"1\" class=\"dataframe\">\n",
              "  <thead>\n",
              "    <tr style=\"text-align: right;\">\n",
              "      <th></th>\n",
              "      <th>Model</th>\n",
              "      <th>MAE</th>\n",
              "      <th>MSE</th>\n",
              "      <th>RMSE</th>\n",
              "      <th>R2 Square</th>\n",
              "      <th>Accuracy_VGG19_model</th>\n",
              "    </tr>\n",
              "  </thead>\n",
              "  <tbody>\n",
              "    <tr>\n",
              "      <th>0</th>\n",
              "      <td>KNeighborsClassifier</td>\n",
              "      <td>0.311980</td>\n",
              "      <td>0.473356</td>\n",
              "      <td>0.688009</td>\n",
              "      <td>0.346524</td>\n",
              "      <td>0.767385</td>\n",
              "    </tr>\n",
              "    <tr>\n",
              "      <th>1</th>\n",
              "      <td>DecisionTreeClassifier</td>\n",
              "      <td>0.478647</td>\n",
              "      <td>0.758314</td>\n",
              "      <td>0.870813</td>\n",
              "      <td>-0.046865</td>\n",
              "      <td>0.652683</td>\n",
              "    </tr>\n",
              "    <tr>\n",
              "      <th>2</th>\n",
              "      <td>Lojistik regresyon</td>\n",
              "      <td>0.266062</td>\n",
              "      <td>0.407785</td>\n",
              "      <td>0.638581</td>\n",
              "      <td>0.437046</td>\n",
              "      <td>0.803666</td>\n",
              "    </tr>\n",
              "    <tr>\n",
              "      <th>3</th>\n",
              "      <td>LGBMClassifier</td>\n",
              "      <td>0.239985</td>\n",
              "      <td>0.364324</td>\n",
              "      <td>0.603592</td>\n",
              "      <td>0.497045</td>\n",
              "      <td>0.821051</td>\n",
              "    </tr>\n",
              "  </tbody>\n",
              "</table>\n",
              "</div>\n",
              "      <button class=\"colab-df-convert\" onclick=\"convertToInteractive('df-57e10ab2-ab00-421d-85c1-d9523505cc03')\"\n",
              "              title=\"Convert this dataframe to an interactive table.\"\n",
              "              style=\"display:none;\">\n",
              "        \n",
              "  <svg xmlns=\"http://www.w3.org/2000/svg\" height=\"24px\"viewBox=\"0 0 24 24\"\n",
              "       width=\"24px\">\n",
              "    <path d=\"M0 0h24v24H0V0z\" fill=\"none\"/>\n",
              "    <path d=\"M18.56 5.44l.94 2.06.94-2.06 2.06-.94-2.06-.94-.94-2.06-.94 2.06-2.06.94zm-11 1L8.5 8.5l.94-2.06 2.06-.94-2.06-.94L8.5 2.5l-.94 2.06-2.06.94zm10 10l.94 2.06.94-2.06 2.06-.94-2.06-.94-.94-2.06-.94 2.06-2.06.94z\"/><path d=\"M17.41 7.96l-1.37-1.37c-.4-.4-.92-.59-1.43-.59-.52 0-1.04.2-1.43.59L10.3 9.45l-7.72 7.72c-.78.78-.78 2.05 0 2.83L4 21.41c.39.39.9.59 1.41.59.51 0 1.02-.2 1.41-.59l7.78-7.78 2.81-2.81c.8-.78.8-2.07 0-2.86zM5.41 20L4 18.59l7.72-7.72 1.47 1.35L5.41 20z\"/>\n",
              "  </svg>\n",
              "      </button>\n",
              "      \n",
              "  <style>\n",
              "    .colab-df-container {\n",
              "      display:flex;\n",
              "      flex-wrap:wrap;\n",
              "      gap: 12px;\n",
              "    }\n",
              "\n",
              "    .colab-df-convert {\n",
              "      background-color: #E8F0FE;\n",
              "      border: none;\n",
              "      border-radius: 50%;\n",
              "      cursor: pointer;\n",
              "      display: none;\n",
              "      fill: #1967D2;\n",
              "      height: 32px;\n",
              "      padding: 0 0 0 0;\n",
              "      width: 32px;\n",
              "    }\n",
              "\n",
              "    .colab-df-convert:hover {\n",
              "      background-color: #E2EBFA;\n",
              "      box-shadow: 0px 1px 2px rgba(60, 64, 67, 0.3), 0px 1px 3px 1px rgba(60, 64, 67, 0.15);\n",
              "      fill: #174EA6;\n",
              "    }\n",
              "\n",
              "    [theme=dark] .colab-df-convert {\n",
              "      background-color: #3B4455;\n",
              "      fill: #D2E3FC;\n",
              "    }\n",
              "\n",
              "    [theme=dark] .colab-df-convert:hover {\n",
              "      background-color: #434B5C;\n",
              "      box-shadow: 0px 1px 3px 1px rgba(0, 0, 0, 0.15);\n",
              "      filter: drop-shadow(0px 1px 2px rgba(0, 0, 0, 0.3));\n",
              "      fill: #FFFFFF;\n",
              "    }\n",
              "  </style>\n",
              "\n",
              "      <script>\n",
              "        const buttonEl =\n",
              "          document.querySelector('#df-57e10ab2-ab00-421d-85c1-d9523505cc03 button.colab-df-convert');\n",
              "        buttonEl.style.display =\n",
              "          google.colab.kernel.accessAllowed ? 'block' : 'none';\n",
              "\n",
              "        async function convertToInteractive(key) {\n",
              "          const element = document.querySelector('#df-57e10ab2-ab00-421d-85c1-d9523505cc03');\n",
              "          const dataTable =\n",
              "            await google.colab.kernel.invokeFunction('convertToInteractive',\n",
              "                                                     [key], {});\n",
              "          if (!dataTable) return;\n",
              "\n",
              "          const docLinkHtml = 'Like what you see? Visit the ' +\n",
              "            '<a target=\"_blank\" href=https://colab.research.google.com/notebooks/data_table.ipynb>data table notebook</a>'\n",
              "            + ' to learn more about interactive tables.';\n",
              "          element.innerHTML = '';\n",
              "          dataTable['output_type'] = 'display_data';\n",
              "          await google.colab.output.renderOutput(dataTable, element);\n",
              "          const docLink = document.createElement('div');\n",
              "          docLink.innerHTML = docLinkHtml;\n",
              "          element.appendChild(docLink);\n",
              "        }\n",
              "      </script>\n",
              "    </div>\n",
              "  </div>\n",
              "  "
            ]
          },
          "metadata": {},
          "execution_count": 98
        }
      ]
    },
    {
      "cell_type": "code",
      "source": [
        "print(classification_report(y_test,prediction))"
      ],
      "metadata": {
        "execution": {
          "iopub.status.busy": "2022-05-16T00:05:01.797807Z",
          "iopub.execute_input": "2022-05-16T00:05:01.798525Z",
          "iopub.status.idle": "2022-05-16T00:05:01.811468Z",
          "shell.execute_reply.started": "2022-05-16T00:05:01.798477Z",
          "shell.execute_reply": "2022-05-16T00:05:01.810541Z"
        },
        "trusted": true,
        "id": "uxl_MhNAf2BY",
        "colab": {
          "base_uri": "https://localhost:8080/"
        },
        "outputId": "42a52de9-25e9-4d07-aa46-a4999d6de869"
      },
      "execution_count": 99,
      "outputs": [
        {
          "output_type": "stream",
          "name": "stdout",
          "text": [
            "              precision    recall  f1-score   support\n",
            "\n",
            "           0       0.77      0.56      0.65       949\n",
            "           1       0.79      0.81      0.80      1493\n",
            "           2       0.84      0.92      0.88      2527\n",
            "           3       0.96      0.87      0.91       323\n",
            "\n",
            "    accuracy                           0.82      5292\n",
            "   macro avg       0.84      0.79      0.81      5292\n",
            "weighted avg       0.82      0.82      0.82      5292\n",
            "\n"
          ]
        }
      ]
    },
    {
      "cell_type": "code",
      "source": [
        "from sklearn.metrics import confusion_matrix\n",
        "from matplotlib.pyplot import figure\n",
        "figure(figsize=(5, 4), dpi=80)\n",
        "cm = confusion_matrix(y_test,prediction)\n",
        "\n",
        "sns.heatmap(cm, annot=True,fmt=\"d\",cmap=\"YlGnBu\")"
      ],
      "metadata": {
        "id": "xUitggW3f2BZ",
        "colab": {
          "base_uri": "https://localhost:8080/",
          "height": 309
        },
        "outputId": "bd4eb2f6-ebb7-4f7d-dd2b-1f4d44932e04"
      },
      "execution_count": 100,
      "outputs": [
        {
          "output_type": "execute_result",
          "data": {
            "text/plain": [
              "<matplotlib.axes._subplots.AxesSubplot at 0x7f5a915234d0>"
            ]
          },
          "metadata": {},
          "execution_count": 100
        },
        {
          "output_type": "display_data",
          "data": {
            "text/plain": [
              "<Figure size 400x320 with 2 Axes>"
            ],
            "image/png": "[encoded data removed]"
          },
          "metadata": {
            "needs_background": "light"
          }
        }
      ]
    },
    {
      "cell_type": "markdown",
      "source": [
        "# RandomForestClassifier"
      ],
      "metadata": {
        "id": "4GsvaRKdf2BR"
      }
    },
    {
      "cell_type": "code",
      "source": [
        "from sklearn.ensemble import RandomForestClassifier\n",
        "\n",
        "rf_model = RandomForestClassifier()\n",
        "rf_model = rf_model.fit(X_for_model, y_train)\n",
        "rf_model"
      ],
      "metadata": {
        "execution": {
          "iopub.status.busy": "2022-05-15T23:40:42.020252Z",
          "iopub.execute_input": "2022-05-15T23:40:42.021003Z",
          "iopub.status.idle": "2022-05-15T23:40:42.381042Z",
          "shell.execute_reply.started": "2022-05-15T23:40:42.020963Z",
          "shell.execute_reply": "2022-05-15T23:40:42.379638Z"
        },
        "trusted": true,
        "id": "akaWOnrFf2BS",
        "colab": {
          "base_uri": "https://localhost:8080/"
        },
        "outputId": "572b00ce-a97a-483e-d558-d7b1c69dbf0b"
      },
      "execution_count": 101,
      "outputs": [
        {
          "output_type": "execute_result",
          "data": {
            "text/plain": [
              "RandomForestClassifier()"
            ]
          },
          "metadata": {},
          "execution_count": 101
        }
      ]
    },
    {
      "cell_type": "code",
      "source": [
        "X_test_feature = VGG19_model.predict(x_test)\n",
        "X_test_features = X_test_feature.reshape(X_test_feature.shape[0], -1)\n",
        "#Now predict using the trained RF model. \n",
        "prediction = rf_model.predict(X_test_features)"
      ],
      "metadata": {
        "execution": {
          "iopub.status.busy": "2022-05-15T23:41:03.714889Z",
          "iopub.execute_input": "2022-05-15T23:41:03.715212Z",
          "iopub.status.idle": "2022-05-15T23:41:14.285474Z",
          "shell.execute_reply.started": "2022-05-15T23:41:03.715180Z",
          "shell.execute_reply": "2022-05-15T23:41:14.284486Z"
        },
        "trusted": true,
        "id": "GinVbETPf2BS"
      },
      "execution_count": 103,
      "outputs": []
    },
    {
      "cell_type": "code",
      "source": [
        "print('Test set evaluation:\\n_____________________________________')\n",
        "print_evaluate(y_test, prediction)"
      ],
      "metadata": {
        "execution": {
          "iopub.status.busy": "2022-05-15T23:41:20.005839Z",
          "iopub.execute_input": "2022-05-15T23:41:20.006793Z",
          "iopub.status.idle": "2022-05-15T23:41:20.018825Z",
          "shell.execute_reply.started": "2022-05-15T23:41:20.006739Z",
          "shell.execute_reply": "2022-05-15T23:41:20.017254Z"
        },
        "trusted": true,
        "id": "VDFTIY7Rf2BS",
        "colab": {
          "base_uri": "https://localhost:8080/"
        },
        "outputId": "d13fe7c1-e455-4221-aa0a-63e63bbb0910"
      },
      "execution_count": 104,
      "outputs": [
        {
          "output_type": "stream",
          "name": "stdout",
          "text": [
            "Test set evaluation:\n",
            "_____________________________________\n",
            "MAE: 0.2868480725623583\n",
            "MSE: 0.427437641723356\n",
            "RMSE: 0.6537871532259991\n",
            "R2 Square 0.4099153705397989\n",
            "Accuracy 0.7828798185941043\n",
            "__________________________________\n"
          ]
        }
      ]
    },
    {
      "cell_type": "code",
      "source": [
        "results_df_2 = pd.DataFrame(data=[[\"RandomForestClassifier\", *evaluate(y_test, prediction)]], \n",
        "                          columns=['Model', 'MAE', 'MSE', 'RMSE', 'R2 Square','Accuracy_VGG19_model' ])\n",
        "results_df = results_df.append(results_df_2, ignore_index=True)\n",
        "results_df"
      ],
      "metadata": {
        "execution": {
          "iopub.status.busy": "2022-05-15T23:41:44.326015Z",
          "iopub.execute_input": "2022-05-15T23:41:44.326743Z",
          "iopub.status.idle": "2022-05-15T23:41:44.347306Z",
          "shell.execute_reply.started": "2022-05-15T23:41:44.326688Z",
          "shell.execute_reply": "2022-05-15T23:41:44.346315Z"
        },
        "trusted": true,
        "id": "CGUyuw3Nf2BS",
        "colab": {
          "base_uri": "https://localhost:8080/",
          "height": 206
        },
        "outputId": "ff4bed06-68bc-4a8a-fc26-cb9e415922e9"
      },
      "execution_count": 105,
      "outputs": [
        {
          "output_type": "execute_result",
          "data": {
            "text/plain": [
              "                    Model       MAE       MSE      RMSE  R2 Square  \\\n",
              "0    KNeighborsClassifier  0.311980  0.473356  0.688009   0.346524   \n",
              "1  DecisionTreeClassifier  0.478647  0.758314  0.870813  -0.046865   \n",
              "2      Lojistik regresyon  0.266062  0.407785  0.638581   0.437046   \n",
              "3          LGBMClassifier  0.239985  0.364324  0.603592   0.497045   \n",
              "4  RandomForestClassifier  0.286848  0.427438  0.653787   0.409915   \n",
              "\n",
              "   Accuracy_VGG19_model  \n",
              "0              0.767385  \n",
              "1              0.652683  \n",
              "2              0.803666  \n",
              "3              0.821051  \n",
              "4              0.782880  "
            ],
            "text/html": [
              "\n",
              "  <div id=\"df-6b295e4b-9669-4f3d-93bb-6e85b95e0d23\">\n",
              "    <div class=\"colab-df-container\">\n",
              "      <div>\n",
              "<style scoped>\n",
              "    .dataframe tbody tr th:only-of-type {\n",
              "        vertical-align: middle;\n",
              "    }\n",
              "\n",
              "    .dataframe tbody tr th {\n",
              "        vertical-align: top;\n",
              "    }\n",
              "\n",
              "    .dataframe thead th {\n",
              "        text-align: right;\n",
              "    }\n",
              "</style>\n",
              "<table border=\"1\" class=\"dataframe\">\n",
              "  <thead>\n",
              "    <tr style=\"text-align: right;\">\n",
              "      <th></th>\n",
              "      <th>Model</th>\n",
              "      <th>MAE</th>\n",
              "      <th>MSE</th>\n",
              "      <th>RMSE</th>\n",
              "      <th>R2 Square</th>\n",
              "      <th>Accuracy_VGG19_model</th>\n",
              "    </tr>\n",
              "  </thead>\n",
              "  <tbody>\n",
              "    <tr>\n",
              "      <th>0</th>\n",
              "      <td>KNeighborsClassifier</td>\n",
              "      <td>0.311980</td>\n",
              "      <td>0.473356</td>\n",
              "      <td>0.688009</td>\n",
              "      <td>0.346524</td>\n",
              "      <td>0.767385</td>\n",
              "    </tr>\n",
              "    <tr>\n",
              "      <th>1</th>\n",
              "      <td>DecisionTreeClassifier</td>\n",
              "      <td>0.478647</td>\n",
              "      <td>0.758314</td>\n",
              "      <td>0.870813</td>\n",
              "      <td>-0.046865</td>\n",
              "      <td>0.652683</td>\n",
              "    </tr>\n",
              "    <tr>\n",
              "      <th>2</th>\n",
              "      <td>Lojistik regresyon</td>\n",
              "      <td>0.266062</td>\n",
              "      <td>0.407785</td>\n",
              "      <td>0.638581</td>\n",
              "      <td>0.437046</td>\n",
              "      <td>0.803666</td>\n",
              "    </tr>\n",
              "    <tr>\n",
              "      <th>3</th>\n",
              "      <td>LGBMClassifier</td>\n",
              "      <td>0.239985</td>\n",
              "      <td>0.364324</td>\n",
              "      <td>0.603592</td>\n",
              "      <td>0.497045</td>\n",
              "      <td>0.821051</td>\n",
              "    </tr>\n",
              "    <tr>\n",
              "      <th>4</th>\n",
              "      <td>RandomForestClassifier</td>\n",
              "      <td>0.286848</td>\n",
              "      <td>0.427438</td>\n",
              "      <td>0.653787</td>\n",
              "      <td>0.409915</td>\n",
              "      <td>0.782880</td>\n",
              "    </tr>\n",
              "  </tbody>\n",
              "</table>\n",
              "</div>\n",
              "      <button class=\"colab-df-convert\" onclick=\"convertToInteractive('df-6b295e4b-9669-4f3d-93bb-6e85b95e0d23')\"\n",
              "              title=\"Convert this dataframe to an interactive table.\"\n",
              "              style=\"display:none;\">\n",
              "        \n",
              "  <svg xmlns=\"http://www.w3.org/2000/svg\" height=\"24px\"viewBox=\"0 0 24 24\"\n",
              "       width=\"24px\">\n",
              "    <path d=\"M0 0h24v24H0V0z\" fill=\"none\"/>\n",
              "    <path d=\"M18.56 5.44l.94 2.06.94-2.06 2.06-.94-2.06-.94-.94-2.06-.94 2.06-2.06.94zm-11 1L8.5 8.5l.94-2.06 2.06-.94-2.06-.94L8.5 2.5l-.94 2.06-2.06.94zm10 10l.94 2.06.94-2.06 2.06-.94-2.06-.94-.94-2.06-.94 2.06-2.06.94z\"/><path d=\"M17.41 7.96l-1.37-1.37c-.4-.4-.92-.59-1.43-.59-.52 0-1.04.2-1.43.59L10.3 9.45l-7.72 7.72c-.78.78-.78 2.05 0 2.83L4 21.41c.39.39.9.59 1.41.59.51 0 1.02-.2 1.41-.59l7.78-7.78 2.81-2.81c.8-.78.8-2.07 0-2.86zM5.41 20L4 18.59l7.72-7.72 1.47 1.35L5.41 20z\"/>\n",
              "  </svg>\n",
              "      </button>\n",
              "      \n",
              "  <style>\n",
              "    .colab-df-container {\n",
              "      display:flex;\n",
              "      flex-wrap:wrap;\n",
              "      gap: 12px;\n",
              "    }\n",
              "\n",
              "    .colab-df-convert {\n",
              "      background-color: #E8F0FE;\n",
              "      border: none;\n",
              "      border-radius: 50%;\n",
              "      cursor: pointer;\n",
              "      display: none;\n",
              "      fill: #1967D2;\n",
              "      height: 32px;\n",
              "      padding: 0 0 0 0;\n",
              "      width: 32px;\n",
              "    }\n",
              "\n",
              "    .colab-df-convert:hover {\n",
              "      background-color: #E2EBFA;\n",
              "      box-shadow: 0px 1px 2px rgba(60, 64, 67, 0.3), 0px 1px 3px 1px rgba(60, 64, 67, 0.15);\n",
              "      fill: #174EA6;\n",
              "    }\n",
              "\n",
              "    [theme=dark] .colab-df-convert {\n",
              "      background-color: #3B4455;\n",
              "      fill: #D2E3FC;\n",
              "    }\n",
              "\n",
              "    [theme=dark] .colab-df-convert:hover {\n",
              "      background-color: #434B5C;\n",
              "      box-shadow: 0px 1px 3px 1px rgba(0, 0, 0, 0.15);\n",
              "      filter: drop-shadow(0px 1px 2px rgba(0, 0, 0, 0.3));\n",
              "      fill: #FFFFFF;\n",
              "    }\n",
              "  </style>\n",
              "\n",
              "      <script>\n",
              "        const buttonEl =\n",
              "          document.querySelector('#df-6b295e4b-9669-4f3d-93bb-6e85b95e0d23 button.colab-df-convert');\n",
              "        buttonEl.style.display =\n",
              "          google.colab.kernel.accessAllowed ? 'block' : 'none';\n",
              "\n",
              "        async function convertToInteractive(key) {\n",
              "          const element = document.querySelector('#df-6b295e4b-9669-4f3d-93bb-6e85b95e0d23');\n",
              "          const dataTable =\n",
              "            await google.colab.kernel.invokeFunction('convertToInteractive',\n",
              "                                                     [key], {});\n",
              "          if (!dataTable) return;\n",
              "\n",
              "          const docLinkHtml = 'Like what you see? Visit the ' +\n",
              "            '<a target=\"_blank\" href=https://colab.research.google.com/notebooks/data_table.ipynb>data table notebook</a>'\n",
              "            + ' to learn more about interactive tables.';\n",
              "          element.innerHTML = '';\n",
              "          dataTable['output_type'] = 'display_data';\n",
              "          await google.colab.output.renderOutput(dataTable, element);\n",
              "          const docLink = document.createElement('div');\n",
              "          docLink.innerHTML = docLinkHtml;\n",
              "          element.appendChild(docLink);\n",
              "        }\n",
              "      </script>\n",
              "    </div>\n",
              "  </div>\n",
              "  "
            ]
          },
          "metadata": {},
          "execution_count": 105
        }
      ]
    },
    {
      "cell_type": "code",
      "source": [
        "print(classification_report(y_test,prediction))"
      ],
      "metadata": {
        "execution": {
          "iopub.status.busy": "2022-05-15T23:42:05.523577Z",
          "iopub.execute_input": "2022-05-15T23:42:05.524261Z",
          "iopub.status.idle": "2022-05-15T23:42:05.538599Z",
          "shell.execute_reply.started": "2022-05-15T23:42:05.524205Z",
          "shell.execute_reply": "2022-05-15T23:42:05.537469Z"
        },
        "trusted": true,
        "id": "lUL48_owf2BS",
        "colab": {
          "base_uri": "https://localhost:8080/"
        },
        "outputId": "78567533-1dac-4515-dc5b-ea82d08d65b5"
      },
      "execution_count": 106,
      "outputs": [
        {
          "output_type": "stream",
          "name": "stdout",
          "text": [
            "              precision    recall  f1-score   support\n",
            "\n",
            "           0       0.83      0.40      0.54       949\n",
            "           1       0.73      0.80      0.76      1493\n",
            "           2       0.79      0.91      0.85      2527\n",
            "           3       0.96      0.79      0.87       323\n",
            "\n",
            "    accuracy                           0.78      5292\n",
            "   macro avg       0.83      0.73      0.75      5292\n",
            "weighted avg       0.79      0.78      0.77      5292\n",
            "\n"
          ]
        }
      ]
    },
    {
      "cell_type": "code",
      "source": [
        "from sklearn.metrics import confusion_matrix\n",
        "from matplotlib.pyplot import figure\n",
        "figure(figsize=(5, 4), dpi=80)\n",
        "cm = confusion_matrix(y_test,prediction)\n",
        "\n",
        "sns.heatmap(cm, annot=True,fmt=\"d\",cmap=\"YlGnBu\")"
      ],
      "metadata": {
        "execution": {
          "iopub.status.busy": "2022-05-15T23:42:14.180825Z",
          "iopub.execute_input": "2022-05-15T23:42:14.181152Z",
          "iopub.status.idle": "2022-05-15T23:42:14.761190Z",
          "shell.execute_reply.started": "2022-05-15T23:42:14.181121Z",
          "shell.execute_reply": "2022-05-15T23:42:14.760291Z"
        },
        "trusted": true,
        "id": "pOEQpHmvf2BT",
        "colab": {
          "base_uri": "https://localhost:8080/",
          "height": 309
        },
        "outputId": "74bc6ffc-5311-464f-d9f0-a29750eb01b2"
      },
      "execution_count": 107,
      "outputs": [
        {
          "output_type": "execute_result",
          "data": {
            "text/plain": [
              "<matplotlib.axes._subplots.AxesSubplot at 0x7f58d5aa1690>"
            ]
          },
          "metadata": {},
          "execution_count": 107
        },
        {
          "output_type": "display_data",
          "data": {
            "text/plain": [
              "<Figure size 400x320 with 2 Axes>"
            ],
            "image/png": "[encoded data removed]"
          },
          "metadata": {
            "needs_background": "light"
          }
        }
      ]
    },
    {
      "cell_type": "markdown",
      "source": [
        "# GaussianNB"
      ],
      "metadata": {
        "id": "K9DwGfY77S5U"
      }
    },
    {
      "cell_type": "code",
      "source": [
        "from sklearn.naive_bayes import GaussianNB\n",
        "\n",
        "\n",
        "GB_model = GaussianNB()\n",
        "GB_model = GB_model.fit(X_for_model, y_train)\n",
        "GB_model"
      ],
      "metadata": {
        "id": "AKiD1c3hf2Bb",
        "colab": {
          "base_uri": "https://localhost:8080/"
        },
        "outputId": "69ffc576-d63a-44ae-9d02-5ec15b9054eb"
      },
      "execution_count": 108,
      "outputs": [
        {
          "output_type": "execute_result",
          "data": {
            "text/plain": [
              "GaussianNB()"
            ]
          },
          "metadata": {},
          "execution_count": 108
        }
      ]
    },
    {
      "cell_type": "code",
      "source": [
        "X_test_feature = VGG19_model.predict(x_test)\n",
        "X_test_features = X_test_feature.reshape(X_test_feature.shape[0], -1)\n",
        "#Now predict using the trained RF model. \n",
        "prediction = GB_model.predict(X_test_features)"
      ],
      "metadata": {
        "id": "QUlW48xx7YBq"
      },
      "execution_count": 109,
      "outputs": []
    },
    {
      "cell_type": "code",
      "source": [
        "print('Test set evaluation:\\n_____________________________________')\n",
        "print_evaluate(y_test, prediction)"
      ],
      "metadata": {
        "id": "38NU1y-d7YEC",
        "colab": {
          "base_uri": "https://localhost:8080/"
        },
        "outputId": "7955c36f-cb75-4a7a-c0eb-15056676ad33"
      },
      "execution_count": 110,
      "outputs": [
        {
          "output_type": "stream",
          "name": "stdout",
          "text": [
            "Test set evaluation:\n",
            "_____________________________________\n",
            "MAE: 0.5398715041572184\n",
            "MSE: 0.8970143613000756\n",
            "RMSE: 0.947108421090255\n",
            "R2 Square -0.23834294254976784\n",
            "Accuracy 0.6201814058956916\n",
            "__________________________________\n"
          ]
        }
      ]
    },
    {
      "cell_type": "code",
      "source": [
        "results_df_2 = pd.DataFrame(data=[[\"GaussianNB\", *evaluate(y_test, prediction)]], \n",
        "                          columns=['Model', 'MAE', 'MSE', 'RMSE', 'R2 Square','Accuracy_VGG19_model' ])\n",
        "results_df = results_df.append(results_df_2, ignore_index=True)\n",
        "results_df"
      ],
      "metadata": {
        "id": "sM439anp7YGj",
        "colab": {
          "base_uri": "https://localhost:8080/",
          "height": 238
        },
        "outputId": "507d2a4a-6776-493f-c281-a911dd653e13"
      },
      "execution_count": 111,
      "outputs": [
        {
          "output_type": "execute_result",
          "data": {
            "text/plain": [
              "                    Model       MAE       MSE      RMSE  R2 Square  \\\n",
              "0    KNeighborsClassifier  0.311980  0.473356  0.688009   0.346524   \n",
              "1  DecisionTreeClassifier  0.478647  0.758314  0.870813  -0.046865   \n",
              "2      Lojistik regresyon  0.266062  0.407785  0.638581   0.437046   \n",
              "3          LGBMClassifier  0.239985  0.364324  0.603592   0.497045   \n",
              "4  RandomForestClassifier  0.286848  0.427438  0.653787   0.409915   \n",
              "5              GaussianNB  0.539872  0.897014  0.947108  -0.238343   \n",
              "\n",
              "   Accuracy_VGG19_model  \n",
              "0              0.767385  \n",
              "1              0.652683  \n",
              "2              0.803666  \n",
              "3              0.821051  \n",
              "4              0.782880  \n",
              "5              0.620181  "
            ],
            "text/html": [
              "\n",
              "  <div id=\"df-21a47d7b-53a4-43ad-90c7-ae6e9767e47d\">\n",
              "    <div class=\"colab-df-container\">\n",
              "      <div>\n",
              "<style scoped>\n",
              "    .dataframe tbody tr th:only-of-type {\n",
              "        vertical-align: middle;\n",
              "    }\n",
              "\n",
              "    .dataframe tbody tr th {\n",
              "        vertical-align: top;\n",
              "    }\n",
              "\n",
              "    .dataframe thead th {\n",
              "        text-align: right;\n",
              "    }\n",
              "</style>\n",
              "<table border=\"1\" class=\"dataframe\">\n",
              "  <thead>\n",
              "    <tr style=\"text-align: right;\">\n",
              "      <th></th>\n",
              "      <th>Model</th>\n",
              "      <th>MAE</th>\n",
              "      <th>MSE</th>\n",
              "      <th>RMSE</th>\n",
              "      <th>R2 Square</th>\n",
              "      <th>Accuracy_VGG19_model</th>\n",
              "    </tr>\n",
              "  </thead>\n",
              "  <tbody>\n",
              "    <tr>\n",
              "      <th>0</th>\n",
              "      <td>KNeighborsClassifier</td>\n",
              "      <td>0.311980</td>\n",
              "      <td>0.473356</td>\n",
              "      <td>0.688009</td>\n",
              "      <td>0.346524</td>\n",
              "      <td>0.767385</td>\n",
              "    </tr>\n",
              "    <tr>\n",
              "      <th>1</th>\n",
              "      <td>DecisionTreeClassifier</td>\n",
              "      <td>0.478647</td>\n",
              "      <td>0.758314</td>\n",
              "      <td>0.870813</td>\n",
              "      <td>-0.046865</td>\n",
              "      <td>0.652683</td>\n",
              "    </tr>\n",
              "    <tr>\n",
              "      <th>2</th>\n",
              "      <td>Lojistik regresyon</td>\n",
              "      <td>0.266062</td>\n",
              "      <td>0.407785</td>\n",
              "      <td>0.638581</td>\n",
              "      <td>0.437046</td>\n",
              "      <td>0.803666</td>\n",
              "    </tr>\n",
              "    <tr>\n",
              "      <th>3</th>\n",
              "      <td>LGBMClassifier</td>\n",
              "      <td>0.239985</td>\n",
              "      <td>0.364324</td>\n",
              "      <td>0.603592</td>\n",
              "      <td>0.497045</td>\n",
              "      <td>0.821051</td>\n",
              "    </tr>\n",
              "    <tr>\n",
              "      <th>4</th>\n",
              "      <td>RandomForestClassifier</td>\n",
              "      <td>0.286848</td>\n",
              "      <td>0.427438</td>\n",
              "      <td>0.653787</td>\n",
              "      <td>0.409915</td>\n",
              "      <td>0.782880</td>\n",
              "    </tr>\n",
              "    <tr>\n",
              "      <th>5</th>\n",
              "      <td>GaussianNB</td>\n",
              "      <td>0.539872</td>\n",
              "      <td>0.897014</td>\n",
              "      <td>0.947108</td>\n",
              "      <td>-0.238343</td>\n",
              "      <td>0.620181</td>\n",
              "    </tr>\n",
              "  </tbody>\n",
              "</table>\n",
              "</div>\n",
              "      <button class=\"colab-df-convert\" onclick=\"convertToInteractive('df-21a47d7b-53a4-43ad-90c7-ae6e9767e47d')\"\n",
              "              title=\"Convert this dataframe to an interactive table.\"\n",
              "              style=\"display:none;\">\n",
              "        \n",
              "  <svg xmlns=\"http://www.w3.org/2000/svg\" height=\"24px\"viewBox=\"0 0 24 24\"\n",
              "       width=\"24px\">\n",
              "    <path d=\"M0 0h24v24H0V0z\" fill=\"none\"/>\n",
              "    <path d=\"M18.56 5.44l.94 2.06.94-2.06 2.06-.94-2.06-.94-.94-2.06-.94 2.06-2.06.94zm-11 1L8.5 8.5l.94-2.06 2.06-.94-2.06-.94L8.5 2.5l-.94 2.06-2.06.94zm10 10l.94 2.06.94-2.06 2.06-.94-2.06-.94-.94-2.06-.94 2.06-2.06.94z\"/><path d=\"M17.41 7.96l-1.37-1.37c-.4-.4-.92-.59-1.43-.59-.52 0-1.04.2-1.43.59L10.3 9.45l-7.72 7.72c-.78.78-.78 2.05 0 2.83L4 21.41c.39.39.9.59 1.41.59.51 0 1.02-.2 1.41-.59l7.78-7.78 2.81-2.81c.8-.78.8-2.07 0-2.86zM5.41 20L4 18.59l7.72-7.72 1.47 1.35L5.41 20z\"/>\n",
              "  </svg>\n",
              "      </button>\n",
              "      \n",
              "  <style>\n",
              "    .colab-df-container {\n",
              "      display:flex;\n",
              "      flex-wrap:wrap;\n",
              "      gap: 12px;\n",
              "    }\n",
              "\n",
              "    .colab-df-convert {\n",
              "      background-color: #E8F0FE;\n",
              "      border: none;\n",
              "      border-radius: 50%;\n",
              "      cursor: pointer;\n",
              "      display: none;\n",
              "      fill: #1967D2;\n",
              "      height: 32px;\n",
              "      padding: 0 0 0 0;\n",
              "      width: 32px;\n",
              "    }\n",
              "\n",
              "    .colab-df-convert:hover {\n",
              "      background-color: #E2EBFA;\n",
              "      box-shadow: 0px 1px 2px rgba(60, 64, 67, 0.3), 0px 1px 3px 1px rgba(60, 64, 67, 0.15);\n",
              "      fill: #174EA6;\n",
              "    }\n",
              "\n",
              "    [theme=dark] .colab-df-convert {\n",
              "      background-color: #3B4455;\n",
              "      fill: #D2E3FC;\n",
              "    }\n",
              "\n",
              "    [theme=dark] .colab-df-convert:hover {\n",
              "      background-color: #434B5C;\n",
              "      box-shadow: 0px 1px 3px 1px rgba(0, 0, 0, 0.15);\n",
              "      filter: drop-shadow(0px 1px 2px rgba(0, 0, 0, 0.3));\n",
              "      fill: #FFFFFF;\n",
              "    }\n",
              "  </style>\n",
              "\n",
              "      <script>\n",
              "        const buttonEl =\n",
              "          document.querySelector('#df-21a47d7b-53a4-43ad-90c7-ae6e9767e47d button.colab-df-convert');\n",
              "        buttonEl.style.display =\n",
              "          google.colab.kernel.accessAllowed ? 'block' : 'none';\n",
              "\n",
              "        async function convertToInteractive(key) {\n",
              "          const element = document.querySelector('#df-21a47d7b-53a4-43ad-90c7-ae6e9767e47d');\n",
              "          const dataTable =\n",
              "            await google.colab.kernel.invokeFunction('convertToInteractive',\n",
              "                                                     [key], {});\n",
              "          if (!dataTable) return;\n",
              "\n",
              "          const docLinkHtml = 'Like what you see? Visit the ' +\n",
              "            '<a target=\"_blank\" href=https://colab.research.google.com/notebooks/data_table.ipynb>data table notebook</a>'\n",
              "            + ' to learn more about interactive tables.';\n",
              "          element.innerHTML = '';\n",
              "          dataTable['output_type'] = 'display_data';\n",
              "          await google.colab.output.renderOutput(dataTable, element);\n",
              "          const docLink = document.createElement('div');\n",
              "          docLink.innerHTML = docLinkHtml;\n",
              "          element.appendChild(docLink);\n",
              "        }\n",
              "      </script>\n",
              "    </div>\n",
              "  </div>\n",
              "  "
            ]
          },
          "metadata": {},
          "execution_count": 111
        }
      ]
    },
    {
      "cell_type": "code",
      "source": [
        "print(classification_report(y_test,prediction))"
      ],
      "metadata": {
        "id": "c5MuUylm7YI3",
        "colab": {
          "base_uri": "https://localhost:8080/"
        },
        "outputId": "06666452-1091-4b92-b40b-dd6cb4285173"
      },
      "execution_count": 112,
      "outputs": [
        {
          "output_type": "stream",
          "name": "stdout",
          "text": [
            "              precision    recall  f1-score   support\n",
            "\n",
            "           0       0.53      0.22      0.31       949\n",
            "           1       0.67      0.56      0.61      1493\n",
            "           2       0.70      0.78      0.74      2527\n",
            "           3       0.31      0.82      0.45       323\n",
            "\n",
            "    accuracy                           0.62      5292\n",
            "   macro avg       0.55      0.60      0.53      5292\n",
            "weighted avg       0.64      0.62      0.61      5292\n",
            "\n"
          ]
        }
      ]
    },
    {
      "cell_type": "code",
      "source": [
        "from sklearn.metrics import confusion_matrix\n",
        "from matplotlib.pyplot import figure\n",
        "figure(figsize=(5, 4), dpi=80)\n",
        "cm = confusion_matrix(y_test,prediction)\n",
        "\n",
        "sns.heatmap(cm, annot=True,fmt=\"d\",cmap=\"YlGnBu\")"
      ],
      "metadata": {
        "id": "930jUCQP7YLL",
        "colab": {
          "base_uri": "https://localhost:8080/",
          "height": 309
        },
        "outputId": "a27bd33a-4c65-47c8-8cb7-2abbca953fb4"
      },
      "execution_count": 113,
      "outputs": [
        {
          "output_type": "execute_result",
          "data": {
            "text/plain": [
              "<matplotlib.axes._subplots.AxesSubplot at 0x7f5be37e2290>"
            ]
          },
          "metadata": {},
          "execution_count": 113
        },
        {
          "output_type": "display_data",
          "data": {
            "text/plain": [
              "<Figure size 400x320 with 2 Axes>"
            ],
            "image/png": "[encoded data removed]"
          },
          "metadata": {
            "needs_background": "light"
          }
        }
      ]
    },
    {
      "cell_type": "markdown",
      "source": [
        "# SGDClassifier"
      ],
      "metadata": {
        "id": "uYTYzJn9f2BW"
      }
    },
    {
      "cell_type": "code",
      "source": [
        "from sklearn.linear_model import SGDClassifier\n",
        "\n",
        "SGD_model = SGDClassifier()\n",
        "SGD_model = SGD_model.fit(X_for_model, y_train)\n",
        "SGD_model"
      ],
      "metadata": {
        "execution": {
          "iopub.status.busy": "2022-05-15T23:53:33.928150Z",
          "iopub.execute_input": "2022-05-15T23:53:33.928508Z",
          "iopub.status.idle": "2022-05-15T23:53:34.457340Z",
          "shell.execute_reply.started": "2022-05-15T23:53:33.928472Z",
          "shell.execute_reply": "2022-05-15T23:53:34.456207Z"
        },
        "trusted": true,
        "id": "6dRDZDASf2BW",
        "colab": {
          "base_uri": "https://localhost:8080/"
        },
        "outputId": "98514b9b-f5ce-44e5-fd1f-6ea6ff0f7409"
      },
      "execution_count": 114,
      "outputs": [
        {
          "output_type": "execute_result",
          "data": {
            "text/plain": [
              "SGDClassifier()"
            ]
          },
          "metadata": {},
          "execution_count": 114
        }
      ]
    },
    {
      "cell_type": "code",
      "source": [
        "X_test_feature = VGG19_model.predict(x_test)\n",
        "X_test_features = X_test_feature.reshape(X_test_feature.shape[0], -1)\n",
        "#Now predict using the trained RF model. \n",
        "prediction = SGD_model.predict(X_test_features)"
      ],
      "metadata": {
        "execution": {
          "iopub.status.busy": "2022-05-15T23:53:47.337581Z",
          "iopub.execute_input": "2022-05-15T23:53:47.337865Z",
          "iopub.status.idle": "2022-05-15T23:53:57.972765Z",
          "shell.execute_reply.started": "2022-05-15T23:53:47.337837Z",
          "shell.execute_reply": "2022-05-15T23:53:57.971362Z"
        },
        "trusted": true,
        "id": "Lu6Hhiglf2BW"
      },
      "execution_count": 115,
      "outputs": []
    },
    {
      "cell_type": "code",
      "source": [
        "print('Test set evaluation:\\n_____________________________________')\n",
        "print_evaluate(y_test, prediction)"
      ],
      "metadata": {
        "execution": {
          "iopub.status.busy": "2022-05-15T23:54:10.296137Z",
          "iopub.execute_input": "2022-05-15T23:54:10.297103Z",
          "iopub.status.idle": "2022-05-15T23:54:10.307837Z",
          "shell.execute_reply.started": "2022-05-15T23:54:10.297043Z",
          "shell.execute_reply": "2022-05-15T23:54:10.306887Z"
        },
        "trusted": true,
        "id": "cgzkFBjRf2BW",
        "colab": {
          "base_uri": "https://localhost:8080/"
        },
        "outputId": "f58110d9-9133-43dc-e61e-0df13dab88e1"
      },
      "execution_count": 116,
      "outputs": [
        {
          "output_type": "stream",
          "name": "stdout",
          "text": [
            "Test set evaluation:\n",
            "_____________________________________\n",
            "MAE: 0.2849584278155707\n",
            "MSE: 0.4452003023431595\n",
            "RMSE: 0.6672333192693238\n",
            "R2 Square 0.3853937281130708\n",
            "Accuracy 0.7940287226001512\n",
            "__________________________________\n"
          ]
        }
      ]
    },
    {
      "cell_type": "code",
      "source": [
        "results_df_2 = pd.DataFrame(data=[[\"SGDClassifier\", *evaluate(y_test, prediction)]], \n",
        "                          columns=['Model', 'MAE', 'MSE', 'RMSE', 'R2 Square','Accuracy_VGG19_model' ])\n",
        "results_df = results_df.append(results_df_2, ignore_index=True)\n",
        "results_df"
      ],
      "metadata": {
        "execution": {
          "iopub.status.busy": "2022-05-15T23:54:30.843588Z",
          "iopub.execute_input": "2022-05-15T23:54:30.843951Z",
          "iopub.status.idle": "2022-05-15T23:54:30.866237Z",
          "shell.execute_reply.started": "2022-05-15T23:54:30.843914Z",
          "shell.execute_reply": "2022-05-15T23:54:30.865474Z"
        },
        "trusted": true,
        "id": "zRTMyQG2f2BW",
        "colab": {
          "base_uri": "https://localhost:8080/",
          "height": 269
        },
        "outputId": "de31e563-9ee4-4f0c-d901-b8caf3b6aefd"
      },
      "execution_count": 117,
      "outputs": [
        {
          "output_type": "execute_result",
          "data": {
            "text/plain": [
              "                    Model       MAE       MSE      RMSE  R2 Square  \\\n",
              "0    KNeighborsClassifier  0.311980  0.473356  0.688009   0.346524   \n",
              "1  DecisionTreeClassifier  0.478647  0.758314  0.870813  -0.046865   \n",
              "2      Lojistik regresyon  0.266062  0.407785  0.638581   0.437046   \n",
              "3          LGBMClassifier  0.239985  0.364324  0.603592   0.497045   \n",
              "4  RandomForestClassifier  0.286848  0.427438  0.653787   0.409915   \n",
              "5              GaussianNB  0.539872  0.897014  0.947108  -0.238343   \n",
              "6           SGDClassifier  0.284958  0.445200  0.667233   0.385394   \n",
              "\n",
              "   Accuracy_VGG19_model  \n",
              "0              0.767385  \n",
              "1              0.652683  \n",
              "2              0.803666  \n",
              "3              0.821051  \n",
              "4              0.782880  \n",
              "5              0.620181  \n",
              "6              0.794029  "
            ],
            "text/html": [
              "\n",
              "  <div id=\"df-3b5537a3-aa68-4f96-bb6d-67f8e2d12614\">\n",
              "    <div class=\"colab-df-container\">\n",
              "      <div>\n",
              "<style scoped>\n",
              "    .dataframe tbody tr th:only-of-type {\n",
              "        vertical-align: middle;\n",
              "    }\n",
              "\n",
              "    .dataframe tbody tr th {\n",
              "        vertical-align: top;\n",
              "    }\n",
              "\n",
              "    .dataframe thead th {\n",
              "        text-align: right;\n",
              "    }\n",
              "</style>\n",
              "<table border=\"1\" class=\"dataframe\">\n",
              "  <thead>\n",
              "    <tr style=\"text-align: right;\">\n",
              "      <th></th>\n",
              "      <th>Model</th>\n",
              "      <th>MAE</th>\n",
              "      <th>MSE</th>\n",
              "      <th>RMSE</th>\n",
              "      <th>R2 Square</th>\n",
              "      <th>Accuracy_VGG19_model</th>\n",
              "    </tr>\n",
              "  </thead>\n",
              "  <tbody>\n",
              "    <tr>\n",
              "      <th>0</th>\n",
              "      <td>KNeighborsClassifier</td>\n",
              "      <td>0.311980</td>\n",
              "      <td>0.473356</td>\n",
              "      <td>0.688009</td>\n",
              "      <td>0.346524</td>\n",
              "      <td>0.767385</td>\n",
              "    </tr>\n",
              "    <tr>\n",
              "      <th>1</th>\n",
              "      <td>DecisionTreeClassifier</td>\n",
              "      <td>0.478647</td>\n",
              "      <td>0.758314</td>\n",
              "      <td>0.870813</td>\n",
              "      <td>-0.046865</td>\n",
              "      <td>0.652683</td>\n",
              "    </tr>\n",
              "    <tr>\n",
              "      <th>2</th>\n",
              "      <td>Lojistik regresyon</td>\n",
              "      <td>0.266062</td>\n",
              "      <td>0.407785</td>\n",
              "      <td>0.638581</td>\n",
              "      <td>0.437046</td>\n",
              "      <td>0.803666</td>\n",
              "    </tr>\n",
              "    <tr>\n",
              "      <th>3</th>\n",
              "      <td>LGBMClassifier</td>\n",
              "      <td>0.239985</td>\n",
              "      <td>0.364324</td>\n",
              "      <td>0.603592</td>\n",
              "      <td>0.497045</td>\n",
              "      <td>0.821051</td>\n",
              "    </tr>\n",
              "    <tr>\n",
              "      <th>4</th>\n",
              "      <td>RandomForestClassifier</td>\n",
              "      <td>0.286848</td>\n",
              "      <td>0.427438</td>\n",
              "      <td>0.653787</td>\n",
              "      <td>0.409915</td>\n",
              "      <td>0.782880</td>\n",
              "    </tr>\n",
              "    <tr>\n",
              "      <th>5</th>\n",
              "      <td>GaussianNB</td>\n",
              "      <td>0.539872</td>\n",
              "      <td>0.897014</td>\n",
              "      <td>0.947108</td>\n",
              "      <td>-0.238343</td>\n",
              "      <td>0.620181</td>\n",
              "    </tr>\n",
              "    <tr>\n",
              "      <th>6</th>\n",
              "      <td>SGDClassifier</td>\n",
              "      <td>0.284958</td>\n",
              "      <td>0.445200</td>\n",
              "      <td>0.667233</td>\n",
              "      <td>0.385394</td>\n",
              "      <td>0.794029</td>\n",
              "    </tr>\n",
              "  </tbody>\n",
              "</table>\n",
              "</div>\n",
              "      <button class=\"colab-df-convert\" onclick=\"convertToInteractive('df-3b5537a3-aa68-4f96-bb6d-67f8e2d12614')\"\n",
              "              title=\"Convert this dataframe to an interactive table.\"\n",
              "              style=\"display:none;\">\n",
              "        \n",
              "  <svg xmlns=\"http://www.w3.org/2000/svg\" height=\"24px\"viewBox=\"0 0 24 24\"\n",
              "       width=\"24px\">\n",
              "    <path d=\"M0 0h24v24H0V0z\" fill=\"none\"/>\n",
              "    <path d=\"M18.56 5.44l.94 2.06.94-2.06 2.06-.94-2.06-.94-.94-2.06-.94 2.06-2.06.94zm-11 1L8.5 8.5l.94-2.06 2.06-.94-2.06-.94L8.5 2.5l-.94 2.06-2.06.94zm10 10l.94 2.06.94-2.06 2.06-.94-2.06-.94-.94-2.06-.94 2.06-2.06.94z\"/><path d=\"M17.41 7.96l-1.37-1.37c-.4-.4-.92-.59-1.43-.59-.52 0-1.04.2-1.43.59L10.3 9.45l-7.72 7.72c-.78.78-.78 2.05 0 2.83L4 21.41c.39.39.9.59 1.41.59.51 0 1.02-.2 1.41-.59l7.78-7.78 2.81-2.81c.8-.78.8-2.07 0-2.86zM5.41 20L4 18.59l7.72-7.72 1.47 1.35L5.41 20z\"/>\n",
              "  </svg>\n",
              "      </button>\n",
              "      \n",
              "  <style>\n",
              "    .colab-df-container {\n",
              "      display:flex;\n",
              "      flex-wrap:wrap;\n",
              "      gap: 12px;\n",
              "    }\n",
              "\n",
              "    .colab-df-convert {\n",
              "      background-color: #E8F0FE;\n",
              "      border: none;\n",
              "      border-radius: 50%;\n",
              "      cursor: pointer;\n",
              "      display: none;\n",
              "      fill: #1967D2;\n",
              "      height: 32px;\n",
              "      padding: 0 0 0 0;\n",
              "      width: 32px;\n",
              "    }\n",
              "\n",
              "    .colab-df-convert:hover {\n",
              "      background-color: #E2EBFA;\n",
              "      box-shadow: 0px 1px 2px rgba(60, 64, 67, 0.3), 0px 1px 3px 1px rgba(60, 64, 67, 0.15);\n",
              "      fill: #174EA6;\n",
              "    }\n",
              "\n",
              "    [theme=dark] .colab-df-convert {\n",
              "      background-color: #3B4455;\n",
              "      fill: #D2E3FC;\n",
              "    }\n",
              "\n",
              "    [theme=dark] .colab-df-convert:hover {\n",
              "      background-color: #434B5C;\n",
              "      box-shadow: 0px 1px 3px 1px rgba(0, 0, 0, 0.15);\n",
              "      filter: drop-shadow(0px 1px 2px rgba(0, 0, 0, 0.3));\n",
              "      fill: #FFFFFF;\n",
              "    }\n",
              "  </style>\n",
              "\n",
              "      <script>\n",
              "        const buttonEl =\n",
              "          document.querySelector('#df-3b5537a3-aa68-4f96-bb6d-67f8e2d12614 button.colab-df-convert');\n",
              "        buttonEl.style.display =\n",
              "          google.colab.kernel.accessAllowed ? 'block' : 'none';\n",
              "\n",
              "        async function convertToInteractive(key) {\n",
              "          const element = document.querySelector('#df-3b5537a3-aa68-4f96-bb6d-67f8e2d12614');\n",
              "          const dataTable =\n",
              "            await google.colab.kernel.invokeFunction('convertToInteractive',\n",
              "                                                     [key], {});\n",
              "          if (!dataTable) return;\n",
              "\n",
              "          const docLinkHtml = 'Like what you see? Visit the ' +\n",
              "            '<a target=\"_blank\" href=https://colab.research.google.com/notebooks/data_table.ipynb>data table notebook</a>'\n",
              "            + ' to learn more about interactive tables.';\n",
              "          element.innerHTML = '';\n",
              "          dataTable['output_type'] = 'display_data';\n",
              "          await google.colab.output.renderOutput(dataTable, element);\n",
              "          const docLink = document.createElement('div');\n",
              "          docLink.innerHTML = docLinkHtml;\n",
              "          element.appendChild(docLink);\n",
              "        }\n",
              "      </script>\n",
              "    </div>\n",
              "  </div>\n",
              "  "
            ]
          },
          "metadata": {},
          "execution_count": 117
        }
      ]
    },
    {
      "cell_type": "code",
      "source": [
        "print(classification_report(y_test,prediction))"
      ],
      "metadata": {
        "execution": {
          "iopub.status.busy": "2022-05-15T23:54:38.489342Z",
          "iopub.execute_input": "2022-05-15T23:54:38.490220Z",
          "iopub.status.idle": "2022-05-15T23:54:38.506176Z",
          "shell.execute_reply.started": "2022-05-15T23:54:38.490180Z",
          "shell.execute_reply": "2022-05-15T23:54:38.504725Z"
        },
        "trusted": true,
        "id": "IoQXQQU9f2BW",
        "colab": {
          "base_uri": "https://localhost:8080/"
        },
        "outputId": "8995d385-40fb-464f-df36-488e84c769ac"
      },
      "execution_count": 118,
      "outputs": [
        {
          "output_type": "stream",
          "name": "stdout",
          "text": [
            "              precision    recall  f1-score   support\n",
            "\n",
            "           0       0.96      0.25      0.40       949\n",
            "           1       0.75      0.85      0.80      1493\n",
            "           2       0.79      0.94      0.86      2527\n",
            "           3       0.89      0.94      0.92       323\n",
            "\n",
            "    accuracy                           0.79      5292\n",
            "   macro avg       0.85      0.75      0.74      5292\n",
            "weighted avg       0.82      0.79      0.76      5292\n",
            "\n"
          ]
        }
      ]
    },
    {
      "cell_type": "code",
      "source": [
        "from sklearn.metrics import confusion_matrix\n",
        "from matplotlib.pyplot import figure\n",
        "figure(figsize=(5, 4), dpi=80)\n",
        "cm = confusion_matrix(y_test,prediction)\n",
        "\n",
        "sns.heatmap(cm, annot=True,fmt=\"d\",cmap=\"YlGnBu\")"
      ],
      "metadata": {
        "execution": {
          "iopub.status.busy": "2022-05-15T23:54:44.057142Z",
          "iopub.execute_input": "2022-05-15T23:54:44.057974Z",
          "iopub.status.idle": "2022-05-15T23:54:44.323926Z",
          "shell.execute_reply.started": "2022-05-15T23:54:44.057927Z",
          "shell.execute_reply": "2022-05-15T23:54:44.322952Z"
        },
        "trusted": true,
        "id": "PFCscHelf2BX",
        "colab": {
          "base_uri": "https://localhost:8080/",
          "height": 309
        },
        "outputId": "67d1d54b-2770-4a61-805d-506489f1df58"
      },
      "execution_count": 119,
      "outputs": [
        {
          "output_type": "execute_result",
          "data": {
            "text/plain": [
              "<matplotlib.axes._subplots.AxesSubplot at 0x7f5a9029a910>"
            ]
          },
          "metadata": {},
          "execution_count": 119
        },
        {
          "output_type": "display_data",
          "data": {
            "text/plain": [
              "<Figure size 400x320 with 2 Axes>"
            ],
            "image/png": "[encoded data removed]"
          },
          "metadata": {
            "needs_background": "light"
          }
        }
      ]
    },
    {
      "cell_type": "markdown",
      "source": [
        "# SVC"
      ],
      "metadata": {
        "id": "pJk94rxx5tbR"
      }
    },
    {
      "cell_type": "code",
      "source": [
        "from sklearn.svm import SVC\n",
        "svm_model = SVC(kernel = \"linear\")\n",
        "svm_model = svm_model.fit(X_for_model, y_train)\n",
        "svm_model"
      ],
      "metadata": {
        "id": "tFvUcWJN5spI",
        "colab": {
          "base_uri": "https://localhost:8080/"
        },
        "outputId": "d3051315-0b2a-4405-8b9e-35f138f6f371"
      },
      "execution_count": 120,
      "outputs": [
        {
          "output_type": "execute_result",
          "data": {
            "text/plain": [
              "SVC(kernel='linear')"
            ]
          },
          "metadata": {},
          "execution_count": 120
        }
      ]
    },
    {
      "cell_type": "code",
      "source": [
        "X_test_feature = VGG19_model.predict(x_test)\n",
        "X_test_features = X_test_feature.reshape(X_test_feature.shape[0], -1)\n",
        "#Now predict using the trained RF model. \n",
        "prediction = svm_model.predict(X_test_features)"
      ],
      "metadata": {
        "id": "DLTKkRMS50qo"
      },
      "execution_count": 121,
      "outputs": []
    },
    {
      "cell_type": "code",
      "source": [
        "print('Test set evaluation:\\n_____________________________________')\n",
        "print_evaluate(y_test, prediction)"
      ],
      "metadata": {
        "id": "PP0IUzkD50tP",
        "colab": {
          "base_uri": "https://localhost:8080/"
        },
        "outputId": "d96a7616-7111-46d4-995b-0fa722c2c34e"
      },
      "execution_count": 122,
      "outputs": [
        {
          "output_type": "stream",
          "name": "stdout",
          "text": [
            "Test set evaluation:\n",
            "_____________________________________\n",
            "MAE: 0.23677248677248677\n",
            "MSE: 0.3524187452758881\n",
            "RMSE: 0.5936486715860553\n",
            "R2 Square 0.5134801795122568\n",
            "Accuracy 0.8201058201058201\n",
            "__________________________________\n"
          ]
        }
      ]
    },
    {
      "cell_type": "code",
      "source": [
        "results_df_2 = pd.DataFrame(data=[[\"SVC\", *evaluate(y_test, prediction)]], \n",
        "                          columns=['Model', 'MAE', 'MSE', 'RMSE', 'R2 Square','Accuracy_VGG19_model' ])\n",
        "results_df = results_df.append(results_df_2, ignore_index=True)\n",
        "results_df"
      ],
      "metadata": {
        "id": "SaNMQF1u50v0",
        "colab": {
          "base_uri": "https://localhost:8080/",
          "height": 300
        },
        "outputId": "884fe395-aaba-434e-814e-8b37ac326e47"
      },
      "execution_count": 123,
      "outputs": [
        {
          "output_type": "execute_result",
          "data": {
            "text/plain": [
              "                    Model       MAE       MSE      RMSE  R2 Square  \\\n",
              "0    KNeighborsClassifier  0.311980  0.473356  0.688009   0.346524   \n",
              "1  DecisionTreeClassifier  0.478647  0.758314  0.870813  -0.046865   \n",
              "2      Lojistik regresyon  0.266062  0.407785  0.638581   0.437046   \n",
              "3          LGBMClassifier  0.239985  0.364324  0.603592   0.497045   \n",
              "4  RandomForestClassifier  0.286848  0.427438  0.653787   0.409915   \n",
              "5              GaussianNB  0.539872  0.897014  0.947108  -0.238343   \n",
              "6           SGDClassifier  0.284958  0.445200  0.667233   0.385394   \n",
              "7                     SVC  0.236772  0.352419  0.593649   0.513480   \n",
              "\n",
              "   Accuracy_VGG19_model  \n",
              "0              0.767385  \n",
              "1              0.652683  \n",
              "2              0.803666  \n",
              "3              0.821051  \n",
              "4              0.782880  \n",
              "5              0.620181  \n",
              "6              0.794029  \n",
              "7              0.820106  "
            ],
            "text/html": [
              "\n",
              "  <div id=\"df-58cfbfb5-1f87-483a-ba50-a826b83f14b5\">\n",
              "    <div class=\"colab-df-container\">\n",
              "      <div>\n",
              "<style scoped>\n",
              "    .dataframe tbody tr th:only-of-type {\n",
              "        vertical-align: middle;\n",
              "    }\n",
              "\n",
              "    .dataframe tbody tr th {\n",
              "        vertical-align: top;\n",
              "    }\n",
              "\n",
              "    .dataframe thead th {\n",
              "        text-align: right;\n",
              "    }\n",
              "</style>\n",
              "<table border=\"1\" class=\"dataframe\">\n",
              "  <thead>\n",
              "    <tr style=\"text-align: right;\">\n",
              "      <th></th>\n",
              "      <th>Model</th>\n",
              "      <th>MAE</th>\n",
              "      <th>MSE</th>\n",
              "      <th>RMSE</th>\n",
              "      <th>R2 Square</th>\n",
              "      <th>Accuracy_VGG19_model</th>\n",
              "    </tr>\n",
              "  </thead>\n",
              "  <tbody>\n",
              "    <tr>\n",
              "      <th>0</th>\n",
              "      <td>KNeighborsClassifier</td>\n",
              "      <td>0.311980</td>\n",
              "      <td>0.473356</td>\n",
              "      <td>0.688009</td>\n",
              "      <td>0.346524</td>\n",
              "      <td>0.767385</td>\n",
              "    </tr>\n",
              "    <tr>\n",
              "      <th>1</th>\n",
              "      <td>DecisionTreeClassifier</td>\n",
              "      <td>0.478647</td>\n",
              "      <td>0.758314</td>\n",
              "      <td>0.870813</td>\n",
              "      <td>-0.046865</td>\n",
              "      <td>0.652683</td>\n",
              "    </tr>\n",
              "    <tr>\n",
              "      <th>2</th>\n",
              "      <td>Lojistik regresyon</td>\n",
              "      <td>0.266062</td>\n",
              "      <td>0.407785</td>\n",
              "      <td>0.638581</td>\n",
              "      <td>0.437046</td>\n",
              "      <td>0.803666</td>\n",
              "    </tr>\n",
              "    <tr>\n",
              "      <th>3</th>\n",
              "      <td>LGBMClassifier</td>\n",
              "      <td>0.239985</td>\n",
              "      <td>0.364324</td>\n",
              "      <td>0.603592</td>\n",
              "      <td>0.497045</td>\n",
              "      <td>0.821051</td>\n",
              "    </tr>\n",
              "    <tr>\n",
              "      <th>4</th>\n",
              "      <td>RandomForestClassifier</td>\n",
              "      <td>0.286848</td>\n",
              "      <td>0.427438</td>\n",
              "      <td>0.653787</td>\n",
              "      <td>0.409915</td>\n",
              "      <td>0.782880</td>\n",
              "    </tr>\n",
              "    <tr>\n",
              "      <th>5</th>\n",
              "      <td>GaussianNB</td>\n",
              "      <td>0.539872</td>\n",
              "      <td>0.897014</td>\n",
              "      <td>0.947108</td>\n",
              "      <td>-0.238343</td>\n",
              "      <td>0.620181</td>\n",
              "    </tr>\n",
              "    <tr>\n",
              "      <th>6</th>\n",
              "      <td>SGDClassifier</td>\n",
              "      <td>0.284958</td>\n",
              "      <td>0.445200</td>\n",
              "      <td>0.667233</td>\n",
              "      <td>0.385394</td>\n",
              "      <td>0.794029</td>\n",
              "    </tr>\n",
              "    <tr>\n",
              "      <th>7</th>\n",
              "      <td>SVC</td>\n",
              "      <td>0.236772</td>\n",
              "      <td>0.352419</td>\n",
              "      <td>0.593649</td>\n",
              "      <td>0.513480</td>\n",
              "      <td>0.820106</td>\n",
              "    </tr>\n",
              "  </tbody>\n",
              "</table>\n",
              "</div>\n",
              "      <button class=\"colab-df-convert\" onclick=\"convertToInteractive('df-58cfbfb5-1f87-483a-ba50-a826b83f14b5')\"\n",
              "              title=\"Convert this dataframe to an interactive table.\"\n",
              "              style=\"display:none;\">\n",
              "        \n",
              "  <svg xmlns=\"http://www.w3.org/2000/svg\" height=\"24px\"viewBox=\"0 0 24 24\"\n",
              "       width=\"24px\">\n",
              "    <path d=\"M0 0h24v24H0V0z\" fill=\"none\"/>\n",
              "    <path d=\"M18.56 5.44l.94 2.06.94-2.06 2.06-.94-2.06-.94-.94-2.06-.94 2.06-2.06.94zm-11 1L8.5 8.5l.94-2.06 2.06-.94-2.06-.94L8.5 2.5l-.94 2.06-2.06.94zm10 10l.94 2.06.94-2.06 2.06-.94-2.06-.94-.94-2.06-.94 2.06-2.06.94z\"/><path d=\"M17.41 7.96l-1.37-1.37c-.4-.4-.92-.59-1.43-.59-.52 0-1.04.2-1.43.59L10.3 9.45l-7.72 7.72c-.78.78-.78 2.05 0 2.83L4 21.41c.39.39.9.59 1.41.59.51 0 1.02-.2 1.41-.59l7.78-7.78 2.81-2.81c.8-.78.8-2.07 0-2.86zM5.41 20L4 18.59l7.72-7.72 1.47 1.35L5.41 20z\"/>\n",
              "  </svg>\n",
              "      </button>\n",
              "      \n",
              "  <style>\n",
              "    .colab-df-container {\n",
              "      display:flex;\n",
              "      flex-wrap:wrap;\n",
              "      gap: 12px;\n",
              "    }\n",
              "\n",
              "    .colab-df-convert {\n",
              "      background-color: #E8F0FE;\n",
              "      border: none;\n",
              "      border-radius: 50%;\n",
              "      cursor: pointer;\n",
              "      display: none;\n",
              "      fill: #1967D2;\n",
              "      height: 32px;\n",
              "      padding: 0 0 0 0;\n",
              "      width: 32px;\n",
              "    }\n",
              "\n",
              "    .colab-df-convert:hover {\n",
              "      background-color: #E2EBFA;\n",
              "      box-shadow: 0px 1px 2px rgba(60, 64, 67, 0.3), 0px 1px 3px 1px rgba(60, 64, 67, 0.15);\n",
              "      fill: #174EA6;\n",
              "    }\n",
              "\n",
              "    [theme=dark] .colab-df-convert {\n",
              "      background-color: #3B4455;\n",
              "      fill: #D2E3FC;\n",
              "    }\n",
              "\n",
              "    [theme=dark] .colab-df-convert:hover {\n",
              "      background-color: #434B5C;\n",
              "      box-shadow: 0px 1px 3px 1px rgba(0, 0, 0, 0.15);\n",
              "      filter: drop-shadow(0px 1px 2px rgba(0, 0, 0, 0.3));\n",
              "      fill: #FFFFFF;\n",
              "    }\n",
              "  </style>\n",
              "\n",
              "      <script>\n",
              "        const buttonEl =\n",
              "          document.querySelector('#df-58cfbfb5-1f87-483a-ba50-a826b83f14b5 button.colab-df-convert');\n",
              "        buttonEl.style.display =\n",
              "          google.colab.kernel.accessAllowed ? 'block' : 'none';\n",
              "\n",
              "        async function convertToInteractive(key) {\n",
              "          const element = document.querySelector('#df-58cfbfb5-1f87-483a-ba50-a826b83f14b5');\n",
              "          const dataTable =\n",
              "            await google.colab.kernel.invokeFunction('convertToInteractive',\n",
              "                                                     [key], {});\n",
              "          if (!dataTable) return;\n",
              "\n",
              "          const docLinkHtml = 'Like what you see? Visit the ' +\n",
              "            '<a target=\"_blank\" href=https://colab.research.google.com/notebooks/data_table.ipynb>data table notebook</a>'\n",
              "            + ' to learn more about interactive tables.';\n",
              "          element.innerHTML = '';\n",
              "          dataTable['output_type'] = 'display_data';\n",
              "          await google.colab.output.renderOutput(dataTable, element);\n",
              "          const docLink = document.createElement('div');\n",
              "          docLink.innerHTML = docLinkHtml;\n",
              "          element.appendChild(docLink);\n",
              "        }\n",
              "      </script>\n",
              "    </div>\n",
              "  </div>\n",
              "  "
            ]
          },
          "metadata": {},
          "execution_count": 123
        }
      ]
    },
    {
      "cell_type": "code",
      "source": [
        "print(classification_report(y_test,prediction))"
      ],
      "metadata": {
        "id": "0Nrp56oK50x8",
        "colab": {
          "base_uri": "https://localhost:8080/"
        },
        "outputId": "34ecf970-a0df-415a-9585-43be30308b91"
      },
      "execution_count": 124,
      "outputs": [
        {
          "output_type": "stream",
          "name": "stdout",
          "text": [
            "              precision    recall  f1-score   support\n",
            "\n",
            "           0       0.69      0.69      0.69       949\n",
            "           1       0.80      0.77      0.79      1493\n",
            "           2       0.86      0.89      0.88      2527\n",
            "           3       0.93      0.90      0.92       323\n",
            "\n",
            "    accuracy                           0.82      5292\n",
            "   macro avg       0.82      0.81      0.82      5292\n",
            "weighted avg       0.82      0.82      0.82      5292\n",
            "\n"
          ]
        }
      ]
    },
    {
      "cell_type": "code",
      "source": [
        "from sklearn.metrics import confusion_matrix\n",
        "from matplotlib.pyplot import figure\n",
        "figure(figsize=(5, 4), dpi=80)\n",
        "cm = confusion_matrix(y_test,prediction)\n",
        "\n",
        "sns.heatmap(cm, annot=True,fmt=\"d\",cmap=\"YlGnBu\")"
      ],
      "metadata": {
        "id": "P2XomgNt503c",
        "colab": {
          "base_uri": "https://localhost:8080/",
          "height": 309
        },
        "outputId": "a51dc150-4972-42cc-a082-48f604ffda40"
      },
      "execution_count": 125,
      "outputs": [
        {
          "output_type": "execute_result",
          "data": {
            "text/plain": [
              "<matplotlib.axes._subplots.AxesSubplot at 0x7f5be38d43d0>"
            ]
          },
          "metadata": {},
          "execution_count": 125
        },
        {
          "output_type": "display_data",
          "data": {
            "text/plain": [
              "<Figure size 400x320 with 2 Axes>"
            ],
            "image/png": "[encoded data removed]"
          },
          "metadata": {
            "needs_background": "light"
          }
        }
      ]
    },
    {
      "cell_type": "code",
      "source": [
        "modeller = [rf_model,GB_model,LGBM_model,SGD_model,lr_model,cart_model,svm_model,knn_model]\n"
      ],
      "metadata": {
        "id": "UWcQyrfR51CJ"
      },
      "execution_count": 126,
      "outputs": []
    },
    {
      "cell_type": "code",
      "source": [
        "sonuc = []\n",
        "from sklearn.metrics import accuracy_score\n",
        "\n",
        "sonuclar = pd.DataFrame(columns= [\"Modeller\",\"Accuracy_VGG19_model\"])\n",
        "\n",
        "for model in modeller:\n",
        "    isimler = model.__class__.__name__\n",
        "    y_pred = model.predict(X_test_features)\n",
        "    dogruluk = accuracy_score(y_test, y_pred)    \n",
        "    sonuc = pd.DataFrame([[isimler, dogruluk*100]], columns= [\"Modeller\",\"Accuracy_VGG19_model\"])\n",
        "    sonuclar = sonuclar.append(sonuc)\n",
        "    "
      ],
      "metadata": {
        "id": "wgpJLQg5_zWa"
      },
      "execution_count": 127,
      "outputs": []
    },
    {
      "cell_type": "code",
      "source": [
        "plt.figure(figsize=[16, 10])\n",
        "axis = sns.barplot(x = 'Modeller', y = 'Accuracy_VGG19_model', data = sonuclar)\n",
        "axis.set(xlabel='Classifier', ylabel='Accuracy')\n",
        "for p in axis.patches:\n",
        "  height = p.get_height()\n",
        "  axis.text(p.get_x() + p.get_width()/2, height + 0.005, '{:1.4f}'.format(height), ha=\"center\") "
      ],
      "metadata": {
        "colab": {
          "base_uri": "https://localhost:8080/",
          "height": 606
        },
        "id": "4-LDjZHVCMdC",
        "outputId": "1a13fa84-2115-49ce-a6a2-ab545f6a508a"
      },
      "execution_count": 129,
      "outputs": [
        {
          "output_type": "display_data",
          "data": {
            "text/plain": [
              "<Figure size 1152x720 with 1 Axes>"
            ],
            "image/png": "[encoded data removed]"
          },
          "metadata": {
            "needs_background": "light"
          }
        }
      ]
    },
    {
      "cell_type": "code",
      "source": [
        "best_acc=sonuclar.sort_values(by=['Accuracy_VGG19_model'], ascending=False)\n",
        "en_iyi_model_my_model=best_acc[:1]\n",
        "en_iyi_model_my_model"
      ],
      "metadata": {
        "id": "Uv6VIyHnjSfA",
        "colab": {
          "base_uri": "https://localhost:8080/",
          "height": 81
        },
        "outputId": "21724f50-a637-46f5-e18d-601a9e137b6b"
      },
      "execution_count": 131,
      "outputs": [
        {
          "output_type": "execute_result",
          "data": {
            "text/plain": [
              "         Modeller  Accuracy_VGG19_model\n",
              "0  LGBMClassifier             82.105064"
            ],
            "text/html": [
              "\n",
              "  <div id=\"df-14a0913a-ae3b-4aea-9355-c5e5bf7d1e75\">\n",
              "    <div class=\"colab-df-container\">\n",
              "      <div>\n",
              "<style scoped>\n",
              "    .dataframe tbody tr th:only-of-type {\n",
              "        vertical-align: middle;\n",
              "    }\n",
              "\n",
              "    .dataframe tbody tr th {\n",
              "        vertical-align: top;\n",
              "    }\n",
              "\n",
              "    .dataframe thead th {\n",
              "        text-align: right;\n",
              "    }\n",
              "</style>\n",
              "<table border=\"1\" class=\"dataframe\">\n",
              "  <thead>\n",
              "    <tr style=\"text-align: right;\">\n",
              "      <th></th>\n",
              "      <th>Modeller</th>\n",
              "      <th>Accuracy_VGG19_model</th>\n",
              "    </tr>\n",
              "  </thead>\n",
              "  <tbody>\n",
              "    <tr>\n",
              "      <th>0</th>\n",
              "      <td>LGBMClassifier</td>\n",
              "      <td>82.105064</td>\n",
              "    </tr>\n",
              "  </tbody>\n",
              "</table>\n",
              "</div>\n",
              "      <button class=\"colab-df-convert\" onclick=\"convertToInteractive('df-14a0913a-ae3b-4aea-9355-c5e5bf7d1e75')\"\n",
              "              title=\"Convert this dataframe to an interactive table.\"\n",
              "              style=\"display:none;\">\n",
              "        \n",
              "  <svg xmlns=\"http://www.w3.org/2000/svg\" height=\"24px\"viewBox=\"0 0 24 24\"\n",
              "       width=\"24px\">\n",
              "    <path d=\"M0 0h24v24H0V0z\" fill=\"none\"/>\n",
              "    <path d=\"M18.56 5.44l.94 2.06.94-2.06 2.06-.94-2.06-.94-.94-2.06-.94 2.06-2.06.94zm-11 1L8.5 8.5l.94-2.06 2.06-.94-2.06-.94L8.5 2.5l-.94 2.06-2.06.94zm10 10l.94 2.06.94-2.06 2.06-.94-2.06-.94-.94-2.06-.94 2.06-2.06.94z\"/><path d=\"M17.41 7.96l-1.37-1.37c-.4-.4-.92-.59-1.43-.59-.52 0-1.04.2-1.43.59L10.3 9.45l-7.72 7.72c-.78.78-.78 2.05 0 2.83L4 21.41c.39.39.9.59 1.41.59.51 0 1.02-.2 1.41-.59l7.78-7.78 2.81-2.81c.8-.78.8-2.07 0-2.86zM5.41 20L4 18.59l7.72-7.72 1.47 1.35L5.41 20z\"/>\n",
              "  </svg>\n",
              "      </button>\n",
              "      \n",
              "  <style>\n",
              "    .colab-df-container {\n",
              "      display:flex;\n",
              "      flex-wrap:wrap;\n",
              "      gap: 12px;\n",
              "    }\n",
              "\n",
              "    .colab-df-convert {\n",
              "      background-color: #E8F0FE;\n",
              "      border: none;\n",
              "      border-radius: 50%;\n",
              "      cursor: pointer;\n",
              "      display: none;\n",
              "      fill: #1967D2;\n",
              "      height: 32px;\n",
              "      padding: 0 0 0 0;\n",
              "      width: 32px;\n",
              "    }\n",
              "\n",
              "    .colab-df-convert:hover {\n",
              "      background-color: #E2EBFA;\n",
              "      box-shadow: 0px 1px 2px rgba(60, 64, 67, 0.3), 0px 1px 3px 1px rgba(60, 64, 67, 0.15);\n",
              "      fill: #174EA6;\n",
              "    }\n",
              "\n",
              "    [theme=dark] .colab-df-convert {\n",
              "      background-color: #3B4455;\n",
              "      fill: #D2E3FC;\n",
              "    }\n",
              "\n",
              "    [theme=dark] .colab-df-convert:hover {\n",
              "      background-color: #434B5C;\n",
              "      box-shadow: 0px 1px 3px 1px rgba(0, 0, 0, 0.15);\n",
              "      filter: drop-shadow(0px 1px 2px rgba(0, 0, 0, 0.3));\n",
              "      fill: #FFFFFF;\n",
              "    }\n",
              "  </style>\n",
              "\n",
              "      <script>\n",
              "        const buttonEl =\n",
              "          document.querySelector('#df-14a0913a-ae3b-4aea-9355-c5e5bf7d1e75 button.colab-df-convert');\n",
              "        buttonEl.style.display =\n",
              "          google.colab.kernel.accessAllowed ? 'block' : 'none';\n",
              "\n",
              "        async function convertToInteractive(key) {\n",
              "          const element = document.querySelector('#df-14a0913a-ae3b-4aea-9355-c5e5bf7d1e75');\n",
              "          const dataTable =\n",
              "            await google.colab.kernel.invokeFunction('convertToInteractive',\n",
              "                                                     [key], {});\n",
              "          if (!dataTable) return;\n",
              "\n",
              "          const docLinkHtml = 'Like what you see? Visit the ' +\n",
              "            '<a target=\"_blank\" href=https://colab.research.google.com/notebooks/data_table.ipynb>data table notebook</a>'\n",
              "            + ' to learn more about interactive tables.';\n",
              "          element.innerHTML = '';\n",
              "          dataTable['output_type'] = 'display_data';\n",
              "          await google.colab.output.renderOutput(dataTable, element);\n",
              "          const docLink = document.createElement('div');\n",
              "          docLink.innerHTML = docLinkHtml;\n",
              "          element.appendChild(docLink);\n",
              "        }\n",
              "      </script>\n",
              "    </div>\n",
              "  </div>\n",
              "  "
            ]
          },
          "metadata": {},
          "execution_count": 131
        }
      ]
    },
    {
      "cell_type": "code",
      "source": [
        "results_df\n"
      ],
      "metadata": {
        "id": "RxV8Mw7H_zY8",
        "colab": {
          "base_uri": "https://localhost:8080/",
          "height": 300
        },
        "outputId": "835a56e5-fef1-4eef-89fe-e8bfbac6953c"
      },
      "execution_count": 132,
      "outputs": [
        {
          "output_type": "execute_result",
          "data": {
            "text/plain": [
              "                    Model       MAE       MSE      RMSE  R2 Square  \\\n",
              "0    KNeighborsClassifier  0.311980  0.473356  0.688009   0.346524   \n",
              "1  DecisionTreeClassifier  0.478647  0.758314  0.870813  -0.046865   \n",
              "2      Lojistik regresyon  0.266062  0.407785  0.638581   0.437046   \n",
              "3          LGBMClassifier  0.239985  0.364324  0.603592   0.497045   \n",
              "4  RandomForestClassifier  0.286848  0.427438  0.653787   0.409915   \n",
              "5              GaussianNB  0.539872  0.897014  0.947108  -0.238343   \n",
              "6           SGDClassifier  0.284958  0.445200  0.667233   0.385394   \n",
              "7                     SVC  0.236772  0.352419  0.593649   0.513480   \n",
              "\n",
              "   Accuracy_VGG19_model  \n",
              "0              0.767385  \n",
              "1              0.652683  \n",
              "2              0.803666  \n",
              "3              0.821051  \n",
              "4              0.782880  \n",
              "5              0.620181  \n",
              "6              0.794029  \n",
              "7              0.820106  "
            ],
            "text/html": [
              "\n",
              "  <div id=\"df-91b2ac87-7f9d-4a49-8cb7-16ccca7f8b10\">\n",
              "    <div class=\"colab-df-container\">\n",
              "      <div>\n",
              "<style scoped>\n",
              "    .dataframe tbody tr th:only-of-type {\n",
              "        vertical-align: middle;\n",
              "    }\n",
              "\n",
              "    .dataframe tbody tr th {\n",
              "        vertical-align: top;\n",
              "    }\n",
              "\n",
              "    .dataframe thead th {\n",
              "        text-align: right;\n",
              "    }\n",
              "</style>\n",
              "<table border=\"1\" class=\"dataframe\">\n",
              "  <thead>\n",
              "    <tr style=\"text-align: right;\">\n",
              "      <th></th>\n",
              "      <th>Model</th>\n",
              "      <th>MAE</th>\n",
              "      <th>MSE</th>\n",
              "      <th>RMSE</th>\n",
              "      <th>R2 Square</th>\n",
              "      <th>Accuracy_VGG19_model</th>\n",
              "    </tr>\n",
              "  </thead>\n",
              "  <tbody>\n",
              "    <tr>\n",
              "      <th>0</th>\n",
              "      <td>KNeighborsClassifier</td>\n",
              "      <td>0.311980</td>\n",
              "      <td>0.473356</td>\n",
              "      <td>0.688009</td>\n",
              "      <td>0.346524</td>\n",
              "      <td>0.767385</td>\n",
              "    </tr>\n",
              "    <tr>\n",
              "      <th>1</th>\n",
              "      <td>DecisionTreeClassifier</td>\n",
              "      <td>0.478647</td>\n",
              "      <td>0.758314</td>\n",
              "      <td>0.870813</td>\n",
              "      <td>-0.046865</td>\n",
              "      <td>0.652683</td>\n",
              "    </tr>\n",
              "    <tr>\n",
              "      <th>2</th>\n",
              "      <td>Lojistik regresyon</td>\n",
              "      <td>0.266062</td>\n",
              "      <td>0.407785</td>\n",
              "      <td>0.638581</td>\n",
              "      <td>0.437046</td>\n",
              "      <td>0.803666</td>\n",
              "    </tr>\n",
              "    <tr>\n",
              "      <th>3</th>\n",
              "      <td>LGBMClassifier</td>\n",
              "      <td>0.239985</td>\n",
              "      <td>0.364324</td>\n",
              "      <td>0.603592</td>\n",
              "      <td>0.497045</td>\n",
              "      <td>0.821051</td>\n",
              "    </tr>\n",
              "    <tr>\n",
              "      <th>4</th>\n",
              "      <td>RandomForestClassifier</td>\n",
              "      <td>0.286848</td>\n",
              "      <td>0.427438</td>\n",
              "      <td>0.653787</td>\n",
              "      <td>0.409915</td>\n",
              "      <td>0.782880</td>\n",
              "    </tr>\n",
              "    <tr>\n",
              "      <th>5</th>\n",
              "      <td>GaussianNB</td>\n",
              "      <td>0.539872</td>\n",
              "      <td>0.897014</td>\n",
              "      <td>0.947108</td>\n",
              "      <td>-0.238343</td>\n",
              "      <td>0.620181</td>\n",
              "    </tr>\n",
              "    <tr>\n",
              "      <th>6</th>\n",
              "      <td>SGDClassifier</td>\n",
              "      <td>0.284958</td>\n",
              "      <td>0.445200</td>\n",
              "      <td>0.667233</td>\n",
              "      <td>0.385394</td>\n",
              "      <td>0.794029</td>\n",
              "    </tr>\n",
              "    <tr>\n",
              "      <th>7</th>\n",
              "      <td>SVC</td>\n",
              "      <td>0.236772</td>\n",
              "      <td>0.352419</td>\n",
              "      <td>0.593649</td>\n",
              "      <td>0.513480</td>\n",
              "      <td>0.820106</td>\n",
              "    </tr>\n",
              "  </tbody>\n",
              "</table>\n",
              "</div>\n",
              "      <button class=\"colab-df-convert\" onclick=\"convertToInteractive('df-91b2ac87-7f9d-4a49-8cb7-16ccca7f8b10')\"\n",
              "              title=\"Convert this dataframe to an interactive table.\"\n",
              "              style=\"display:none;\">\n",
              "        \n",
              "  <svg xmlns=\"http://www.w3.org/2000/svg\" height=\"24px\"viewBox=\"0 0 24 24\"\n",
              "       width=\"24px\">\n",
              "    <path d=\"M0 0h24v24H0V0z\" fill=\"none\"/>\n",
              "    <path d=\"M18.56 5.44l.94 2.06.94-2.06 2.06-.94-2.06-.94-.94-2.06-.94 2.06-2.06.94zm-11 1L8.5 8.5l.94-2.06 2.06-.94-2.06-.94L8.5 2.5l-.94 2.06-2.06.94zm10 10l.94 2.06.94-2.06 2.06-.94-2.06-.94-.94-2.06-.94 2.06-2.06.94z\"/><path d=\"M17.41 7.96l-1.37-1.37c-.4-.4-.92-.59-1.43-.59-.52 0-1.04.2-1.43.59L10.3 9.45l-7.72 7.72c-.78.78-.78 2.05 0 2.83L4 21.41c.39.39.9.59 1.41.59.51 0 1.02-.2 1.41-.59l7.78-7.78 2.81-2.81c.8-.78.8-2.07 0-2.86zM5.41 20L4 18.59l7.72-7.72 1.47 1.35L5.41 20z\"/>\n",
              "  </svg>\n",
              "      </button>\n",
              "      \n",
              "  <style>\n",
              "    .colab-df-container {\n",
              "      display:flex;\n",
              "      flex-wrap:wrap;\n",
              "      gap: 12px;\n",
              "    }\n",
              "\n",
              "    .colab-df-convert {\n",
              "      background-color: #E8F0FE;\n",
              "      border: none;\n",
              "      border-radius: 50%;\n",
              "      cursor: pointer;\n",
              "      display: none;\n",
              "      fill: #1967D2;\n",
              "      height: 32px;\n",
              "      padding: 0 0 0 0;\n",
              "      width: 32px;\n",
              "    }\n",
              "\n",
              "    .colab-df-convert:hover {\n",
              "      background-color: #E2EBFA;\n",
              "      box-shadow: 0px 1px 2px rgba(60, 64, 67, 0.3), 0px 1px 3px 1px rgba(60, 64, 67, 0.15);\n",
              "      fill: #174EA6;\n",
              "    }\n",
              "\n",
              "    [theme=dark] .colab-df-convert {\n",
              "      background-color: #3B4455;\n",
              "      fill: #D2E3FC;\n",
              "    }\n",
              "\n",
              "    [theme=dark] .colab-df-convert:hover {\n",
              "      background-color: #434B5C;\n",
              "      box-shadow: 0px 1px 3px 1px rgba(0, 0, 0, 0.15);\n",
              "      filter: drop-shadow(0px 1px 2px rgba(0, 0, 0, 0.3));\n",
              "      fill: #FFFFFF;\n",
              "    }\n",
              "  </style>\n",
              "\n",
              "      <script>\n",
              "        const buttonEl =\n",
              "          document.querySelector('#df-91b2ac87-7f9d-4a49-8cb7-16ccca7f8b10 button.colab-df-convert');\n",
              "        buttonEl.style.display =\n",
              "          google.colab.kernel.accessAllowed ? 'block' : 'none';\n",
              "\n",
              "        async function convertToInteractive(key) {\n",
              "          const element = document.querySelector('#df-91b2ac87-7f9d-4a49-8cb7-16ccca7f8b10');\n",
              "          const dataTable =\n",
              "            await google.colab.kernel.invokeFunction('convertToInteractive',\n",
              "                                                     [key], {});\n",
              "          if (!dataTable) return;\n",
              "\n",
              "          const docLinkHtml = 'Like what you see? Visit the ' +\n",
              "            '<a target=\"_blank\" href=https://colab.research.google.com/notebooks/data_table.ipynb>data table notebook</a>'\n",
              "            + ' to learn more about interactive tables.';\n",
              "          element.innerHTML = '';\n",
              "          dataTable['output_type'] = 'display_data';\n",
              "          await google.colab.output.renderOutput(dataTable, element);\n",
              "          const docLink = document.createElement('div');\n",
              "          docLink.innerHTML = docLinkHtml;\n",
              "          element.appendChild(docLink);\n",
              "        }\n",
              "      </script>\n",
              "    </div>\n",
              "  </div>\n",
              "  "
            ]
          },
          "metadata": {},
          "execution_count": 132
        }
      ]
    },
    {
      "cell_type": "code",
      "source": [
        "from google.colab import files\n",
        "\n",
        "results_df.to_csv('output_vgg19.csv', encoding = 'utf-8-sig') \n",
        "files.download('output_vgg19.csv')"
      ],
      "metadata": {
        "id": "3Ynca6Pw_zbb",
        "outputId": "2aeb7584-14b6-464e-ed05-7bb73e9c8cbf",
        "colab": {
          "base_uri": "https://localhost:8080/",
          "height": 17
        }
      },
      "execution_count": 133,
      "outputs": [
        {
          "output_type": "display_data",
          "data": {
            "text/plain": [
              "<IPython.core.display.Javascript object>"
            ],
            "application/javascript": [
              "\n",
              "    async function download(id, filename, size) {\n",
              "      if (!google.colab.kernel.accessAllowed) {\n",
              "        return;\n",
              "      }\n",
              "      const div = document.createElement('div');\n",
              "      const label = document.createElement('label');\n",
              "      label.textContent = `Downloading \"${filename}\": `;\n",
              "      div.appendChild(label);\n",
              "      const progress = document.createElement('progress');\n",
              "      progress.max = size;\n",
              "      div.appendChild(progress);\n",
              "      document.body.appendChild(div);\n",
              "\n",
              "      const buffers = [];\n",
              "      let downloaded = 0;\n",
              "\n",
              "      const channel = await google.colab.kernel.comms.open(id);\n",
              "      // Send a message to notify the kernel that we're ready.\n",
              "      channel.send({})\n",
              "\n",
              "      for await (const message of channel.messages) {\n",
              "        // Send a message to notify the kernel that we're ready.\n",
              "        channel.send({})\n",
              "        if (message.buffers) {\n",
              "          for (const buffer of message.buffers) {\n",
              "            buffers.push(buffer);\n",
              "            downloaded += buffer.byteLength;\n",
              "            progress.value = downloaded;\n",
              "          }\n",
              "        }\n",
              "      }\n",
              "      const blob = new Blob(buffers, {type: 'application/binary'});\n",
              "      const a = document.createElement('a');\n",
              "      a.href = window.URL.createObjectURL(blob);\n",
              "      a.download = filename;\n",
              "      div.appendChild(a);\n",
              "      a.click();\n",
              "      div.remove();\n",
              "    }\n",
              "  "
            ]
          },
          "metadata": {}
        },
        {
          "output_type": "display_data",
          "data": {
            "text/plain": [
              "<IPython.core.display.Javascript object>"
            ],
            "application/javascript": [
              "download(\"download_1a3014b2-bcb5-4d9d-8e7e-397f94b96594\", \"output_vgg19.csv\", 964)"
            ]
          },
          "metadata": {}
        }
      ]
    },
    {
      "cell_type": "code",
      "source": [
        ""
      ],
      "metadata": {
        "id": "H1kddFEuAWam"
      },
      "execution_count": null,
      "outputs": []
    }
  ]
}