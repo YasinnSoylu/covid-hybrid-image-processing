{
  "metadata": {
    "kernelspec": {
      "language": "python",
      "display_name": "Python 3",
      "name": "python3"
    },
    "language_info": {
      "name": "python",
      "version": "3.7.10",
      "mimetype": "text/x-python",
      "codemirror_mode": {
        "name": "ipython",
        "version": 3
      },
      "pygments_lexer": "ipython3",
      "nbconvert_exporter": "python",
      "file_extension": ".py"
    },
    "colab": {
      "provenance": [],
      "include_colab_link": true
    }
  },
  "nbformat_minor": 0,
  "nbformat": 4,
  "cells": [
    {
      "cell_type": "markdown",
      "metadata": {
        "id": "view-in-github",
        "colab_type": "text"
      },
      "source": [
        "<a href=\"https://colab.research.google.com/github/yasinsoylu1997/128-not-sampling/blob/main/loan_prediction_(1).ipynb\" target=\"_parent\"><img src=\"https://colab.research.google.com/assets/colab-badge.svg\" alt=\"Open In Colab\"/></a>"
      ]
    },
    {
      "cell_type": "code",
      "source": [
        "import pandas as pd\n",
        "import numpy as np\n",
        "import matplotlib as plt\n",
        "import seaborn as sns\n",
        "import matplotlib.pyplot as plt\n",
        "%matplotlib inline\n",
        "import warnings\n",
        "warnings.filterwarnings(\"ignore\")\n",
        "\n",
        "df = pd.read_csv(r\"/content/train_ctrUa4K.csv\")\n",
        "df1 = pd.read_csv(r\"/content/test_lAUu6dG.csv\")"
      ],
      "metadata": {
        "execution": {
          "iopub.status.busy": "2022-10-21T06:13:59.682640Z",
          "iopub.execute_input": "2022-10-21T06:13:59.683165Z",
          "iopub.status.idle": "2022-10-21T06:14:00.551670Z",
          "shell.execute_reply.started": "2022-10-21T06:13:59.683009Z",
          "shell.execute_reply": "2022-10-21T06:14:00.550514Z"
        },
        "trusted": true,
        "id": "4NwahSRGNrbf"
      },
      "execution_count": 2,
      "outputs": []
    },
    {
      "cell_type": "code",
      "source": [
        "train_original=df.copy()\n",
        "test_original=df1.copy()"
      ],
      "metadata": {
        "execution": {
          "iopub.status.busy": "2022-10-21T06:14:00.553552Z",
          "iopub.execute_input": "2022-10-21T06:14:00.554248Z",
          "iopub.status.idle": "2022-10-21T06:14:00.559730Z",
          "shell.execute_reply.started": "2022-10-21T06:14:00.554201Z",
          "shell.execute_reply": "2022-10-21T06:14:00.558735Z"
        },
        "trusted": true,
        "id": "BmKujPYDNrbi"
      },
      "execution_count": 3,
      "outputs": []
    },
    {
      "cell_type": "code",
      "source": [
        "df.head(10)"
      ],
      "metadata": {
        "execution": {
          "iopub.status.busy": "2022-10-21T06:14:00.561859Z",
          "iopub.execute_input": "2022-10-21T06:14:00.562390Z",
          "iopub.status.idle": "2022-10-21T06:14:00.606974Z",
          "shell.execute_reply.started": "2022-10-21T06:14:00.562345Z",
          "shell.execute_reply": "2022-10-21T06:14:00.606205Z"
        },
        "trusted": true,
        "colab": {
          "base_uri": "https://localhost:8080/",
          "height": 363
        },
        "id": "RlOA2P1uNrbj",
        "outputId": "9d3c9bd5-db72-4f36-f650-033302cf96bb"
      },
      "execution_count": 4,
      "outputs": [
        {
          "output_type": "execute_result",
          "data": {
            "text/plain": [
              "    Loan_ID Gender Married Dependents     Education Self_Employed  \\\n",
              "0  LP001002   Male      No          0      Graduate            No   \n",
              "1  LP001003   Male     Yes          1      Graduate            No   \n",
              "2  LP001005   Male     Yes          0      Graduate           Yes   \n",
              "3  LP001006   Male     Yes          0  Not Graduate            No   \n",
              "4  LP001008   Male      No          0      Graduate            No   \n",
              "5  LP001011   Male     Yes          2      Graduate           Yes   \n",
              "6  LP001013   Male     Yes          0  Not Graduate            No   \n",
              "7  LP001014   Male     Yes         3+      Graduate            No   \n",
              "8  LP001018   Male     Yes          2      Graduate            No   \n",
              "9  LP001020   Male     Yes          1      Graduate            No   \n",
              "\n",
              "   ApplicantIncome  CoapplicantIncome  LoanAmount  Loan_Amount_Term  \\\n",
              "0             5849                0.0         NaN             360.0   \n",
              "1             4583             1508.0       128.0             360.0   \n",
              "2             3000                0.0        66.0             360.0   \n",
              "3             2583             2358.0       120.0             360.0   \n",
              "4             6000                0.0       141.0             360.0   \n",
              "5             5417             4196.0       267.0             360.0   \n",
              "6             2333             1516.0        95.0             360.0   \n",
              "7             3036             2504.0       158.0             360.0   \n",
              "8             4006             1526.0       168.0             360.0   \n",
              "9            12841            10968.0       349.0             360.0   \n",
              "\n",
              "   Credit_History Property_Area Loan_Status  \n",
              "0             1.0         Urban           Y  \n",
              "1             1.0         Rural           N  \n",
              "2             1.0         Urban           Y  \n",
              "3             1.0         Urban           Y  \n",
              "4             1.0         Urban           Y  \n",
              "5             1.0         Urban           Y  \n",
              "6             1.0         Urban           Y  \n",
              "7             0.0     Semiurban           N  \n",
              "8             1.0         Urban           Y  \n",
              "9             1.0     Semiurban           N  "
            ],
            "text/html": [
              "\n",
              "  <div id=\"df-e3c8a9dd-7b46-49df-9036-58bc27c79b13\">\n",
              "    <div class=\"colab-df-container\">\n",
              "      <div>\n",
              "<style scoped>\n",
              "    .dataframe tbody tr th:only-of-type {\n",
              "        vertical-align: middle;\n",
              "    }\n",
              "\n",
              "    .dataframe tbody tr th {\n",
              "        vertical-align: top;\n",
              "    }\n",
              "\n",
              "    .dataframe thead th {\n",
              "        text-align: right;\n",
              "    }\n",
              "</style>\n",
              "<table border=\"1\" class=\"dataframe\">\n",
              "  <thead>\n",
              "    <tr style=\"text-align: right;\">\n",
              "      <th></th>\n",
              "      <th>Loan_ID</th>\n",
              "      <th>Gender</th>\n",
              "      <th>Married</th>\n",
              "      <th>Dependents</th>\n",
              "      <th>Education</th>\n",
              "      <th>Self_Employed</th>\n",
              "      <th>ApplicantIncome</th>\n",
              "      <th>CoapplicantIncome</th>\n",
              "      <th>LoanAmount</th>\n",
              "      <th>Loan_Amount_Term</th>\n",
              "      <th>Credit_History</th>\n",
              "      <th>Property_Area</th>\n",
              "      <th>Loan_Status</th>\n",
              "    </tr>\n",
              "  </thead>\n",
              "  <tbody>\n",
              "    <tr>\n",
              "      <th>0</th>\n",
              "      <td>LP001002</td>\n",
              "      <td>Male</td>\n",
              "      <td>No</td>\n",
              "      <td>0</td>\n",
              "      <td>Graduate</td>\n",
              "      <td>No</td>\n",
              "      <td>5849</td>\n",
              "      <td>0.0</td>\n",
              "      <td>NaN</td>\n",
              "      <td>360.0</td>\n",
              "      <td>1.0</td>\n",
              "      <td>Urban</td>\n",
              "      <td>Y</td>\n",
              "    </tr>\n",
              "    <tr>\n",
              "      <th>1</th>\n",
              "      <td>LP001003</td>\n",
              "      <td>Male</td>\n",
              "      <td>Yes</td>\n",
              "      <td>1</td>\n",
              "      <td>Graduate</td>\n",
              "      <td>No</td>\n",
              "      <td>4583</td>\n",
              "      <td>1508.0</td>\n",
              "      <td>128.0</td>\n",
              "      <td>360.0</td>\n",
              "      <td>1.0</td>\n",
              "      <td>Rural</td>\n",
              "      <td>N</td>\n",
              "    </tr>\n",
              "    <tr>\n",
              "      <th>2</th>\n",
              "      <td>LP001005</td>\n",
              "      <td>Male</td>\n",
              "      <td>Yes</td>\n",
              "      <td>0</td>\n",
              "      <td>Graduate</td>\n",
              "      <td>Yes</td>\n",
              "      <td>3000</td>\n",
              "      <td>0.0</td>\n",
              "      <td>66.0</td>\n",
              "      <td>360.0</td>\n",
              "      <td>1.0</td>\n",
              "      <td>Urban</td>\n",
              "      <td>Y</td>\n",
              "    </tr>\n",
              "    <tr>\n",
              "      <th>3</th>\n",
              "      <td>LP001006</td>\n",
              "      <td>Male</td>\n",
              "      <td>Yes</td>\n",
              "      <td>0</td>\n",
              "      <td>Not Graduate</td>\n",
              "      <td>No</td>\n",
              "      <td>2583</td>\n",
              "      <td>2358.0</td>\n",
              "      <td>120.0</td>\n",
              "      <td>360.0</td>\n",
              "      <td>1.0</td>\n",
              "      <td>Urban</td>\n",
              "      <td>Y</td>\n",
              "    </tr>\n",
              "    <tr>\n",
              "      <th>4</th>\n",
              "      <td>LP001008</td>\n",
              "      <td>Male</td>\n",
              "      <td>No</td>\n",
              "      <td>0</td>\n",
              "      <td>Graduate</td>\n",
              "      <td>No</td>\n",
              "      <td>6000</td>\n",
              "      <td>0.0</td>\n",
              "      <td>141.0</td>\n",
              "      <td>360.0</td>\n",
              "      <td>1.0</td>\n",
              "      <td>Urban</td>\n",
              "      <td>Y</td>\n",
              "    </tr>\n",
              "    <tr>\n",
              "      <th>5</th>\n",
              "      <td>LP001011</td>\n",
              "      <td>Male</td>\n",
              "      <td>Yes</td>\n",
              "      <td>2</td>\n",
              "      <td>Graduate</td>\n",
              "      <td>Yes</td>\n",
              "      <td>5417</td>\n",
              "      <td>4196.0</td>\n",
              "      <td>267.0</td>\n",
              "      <td>360.0</td>\n",
              "      <td>1.0</td>\n",
              "      <td>Urban</td>\n",
              "      <td>Y</td>\n",
              "    </tr>\n",
              "    <tr>\n",
              "      <th>6</th>\n",
              "      <td>LP001013</td>\n",
              "      <td>Male</td>\n",
              "      <td>Yes</td>\n",
              "      <td>0</td>\n",
              "      <td>Not Graduate</td>\n",
              "      <td>No</td>\n",
              "      <td>2333</td>\n",
              "      <td>1516.0</td>\n",
              "      <td>95.0</td>\n",
              "      <td>360.0</td>\n",
              "      <td>1.0</td>\n",
              "      <td>Urban</td>\n",
              "      <td>Y</td>\n",
              "    </tr>\n",
              "    <tr>\n",
              "      <th>7</th>\n",
              "      <td>LP001014</td>\n",
              "      <td>Male</td>\n",
              "      <td>Yes</td>\n",
              "      <td>3+</td>\n",
              "      <td>Graduate</td>\n",
              "      <td>No</td>\n",
              "      <td>3036</td>\n",
              "      <td>2504.0</td>\n",
              "      <td>158.0</td>\n",
              "      <td>360.0</td>\n",
              "      <td>0.0</td>\n",
              "      <td>Semiurban</td>\n",
              "      <td>N</td>\n",
              "    </tr>\n",
              "    <tr>\n",
              "      <th>8</th>\n",
              "      <td>LP001018</td>\n",
              "      <td>Male</td>\n",
              "      <td>Yes</td>\n",
              "      <td>2</td>\n",
              "      <td>Graduate</td>\n",
              "      <td>No</td>\n",
              "      <td>4006</td>\n",
              "      <td>1526.0</td>\n",
              "      <td>168.0</td>\n",
              "      <td>360.0</td>\n",
              "      <td>1.0</td>\n",
              "      <td>Urban</td>\n",
              "      <td>Y</td>\n",
              "    </tr>\n",
              "    <tr>\n",
              "      <th>9</th>\n",
              "      <td>LP001020</td>\n",
              "      <td>Male</td>\n",
              "      <td>Yes</td>\n",
              "      <td>1</td>\n",
              "      <td>Graduate</td>\n",
              "      <td>No</td>\n",
              "      <td>12841</td>\n",
              "      <td>10968.0</td>\n",
              "      <td>349.0</td>\n",
              "      <td>360.0</td>\n",
              "      <td>1.0</td>\n",
              "      <td>Semiurban</td>\n",
              "      <td>N</td>\n",
              "    </tr>\n",
              "  </tbody>\n",
              "</table>\n",
              "</div>\n",
              "      <button class=\"colab-df-convert\" onclick=\"convertToInteractive('df-e3c8a9dd-7b46-49df-9036-58bc27c79b13')\"\n",
              "              title=\"Convert this dataframe to an interactive table.\"\n",
              "              style=\"display:none;\">\n",
              "        \n",
              "  <svg xmlns=\"http://www.w3.org/2000/svg\" height=\"24px\"viewBox=\"0 0 24 24\"\n",
              "       width=\"24px\">\n",
              "    <path d=\"M0 0h24v24H0V0z\" fill=\"none\"/>\n",
              "    <path d=\"M18.56 5.44l.94 2.06.94-2.06 2.06-.94-2.06-.94-.94-2.06-.94 2.06-2.06.94zm-11 1L8.5 8.5l.94-2.06 2.06-.94-2.06-.94L8.5 2.5l-.94 2.06-2.06.94zm10 10l.94 2.06.94-2.06 2.06-.94-2.06-.94-.94-2.06-.94 2.06-2.06.94z\"/><path d=\"M17.41 7.96l-1.37-1.37c-.4-.4-.92-.59-1.43-.59-.52 0-1.04.2-1.43.59L10.3 9.45l-7.72 7.72c-.78.78-.78 2.05 0 2.83L4 21.41c.39.39.9.59 1.41.59.51 0 1.02-.2 1.41-.59l7.78-7.78 2.81-2.81c.8-.78.8-2.07 0-2.86zM5.41 20L4 18.59l7.72-7.72 1.47 1.35L5.41 20z\"/>\n",
              "  </svg>\n",
              "      </button>\n",
              "      \n",
              "  <style>\n",
              "    .colab-df-container {\n",
              "      display:flex;\n",
              "      flex-wrap:wrap;\n",
              "      gap: 12px;\n",
              "    }\n",
              "\n",
              "    .colab-df-convert {\n",
              "      background-color: #E8F0FE;\n",
              "      border: none;\n",
              "      border-radius: 50%;\n",
              "      cursor: pointer;\n",
              "      display: none;\n",
              "      fill: #1967D2;\n",
              "      height: 32px;\n",
              "      padding: 0 0 0 0;\n",
              "      width: 32px;\n",
              "    }\n",
              "\n",
              "    .colab-df-convert:hover {\n",
              "      background-color: #E2EBFA;\n",
              "      box-shadow: 0px 1px 2px rgba(60, 64, 67, 0.3), 0px 1px 3px 1px rgba(60, 64, 67, 0.15);\n",
              "      fill: #174EA6;\n",
              "    }\n",
              "\n",
              "    [theme=dark] .colab-df-convert {\n",
              "      background-color: #3B4455;\n",
              "      fill: #D2E3FC;\n",
              "    }\n",
              "\n",
              "    [theme=dark] .colab-df-convert:hover {\n",
              "      background-color: #434B5C;\n",
              "      box-shadow: 0px 1px 3px 1px rgba(0, 0, 0, 0.15);\n",
              "      filter: drop-shadow(0px 1px 2px rgba(0, 0, 0, 0.3));\n",
              "      fill: #FFFFFF;\n",
              "    }\n",
              "  </style>\n",
              "\n",
              "      <script>\n",
              "        const buttonEl =\n",
              "          document.querySelector('#df-e3c8a9dd-7b46-49df-9036-58bc27c79b13 button.colab-df-convert');\n",
              "        buttonEl.style.display =\n",
              "          google.colab.kernel.accessAllowed ? 'block' : 'none';\n",
              "\n",
              "        async function convertToInteractive(key) {\n",
              "          const element = document.querySelector('#df-e3c8a9dd-7b46-49df-9036-58bc27c79b13');\n",
              "          const dataTable =\n",
              "            await google.colab.kernel.invokeFunction('convertToInteractive',\n",
              "                                                     [key], {});\n",
              "          if (!dataTable) return;\n",
              "\n",
              "          const docLinkHtml = 'Like what you see? Visit the ' +\n",
              "            '<a target=\"_blank\" href=https://colab.research.google.com/notebooks/data_table.ipynb>data table notebook</a>'\n",
              "            + ' to learn more about interactive tables.';\n",
              "          element.innerHTML = '';\n",
              "          dataTable['output_type'] = 'display_data';\n",
              "          await google.colab.output.renderOutput(dataTable, element);\n",
              "          const docLink = document.createElement('div');\n",
              "          docLink.innerHTML = docLinkHtml;\n",
              "          element.appendChild(docLink);\n",
              "        }\n",
              "      </script>\n",
              "    </div>\n",
              "  </div>\n",
              "  "
            ]
          },
          "metadata": {},
          "execution_count": 4
        }
      ]
    },
    {
      "cell_type": "code",
      "source": [
        "df.describe()"
      ],
      "metadata": {
        "execution": {
          "iopub.status.busy": "2022-10-21T06:14:00.608234Z",
          "iopub.execute_input": "2022-10-21T06:14:00.608665Z",
          "iopub.status.idle": "2022-10-21T06:14:00.640005Z",
          "shell.execute_reply.started": "2022-10-21T06:14:00.608627Z",
          "shell.execute_reply": "2022-10-21T06:14:00.639156Z"
        },
        "trusted": true,
        "colab": {
          "base_uri": "https://localhost:8080/",
          "height": 300
        },
        "id": "2s0EJdpkNrbj",
        "outputId": "8342866d-f2ca-41fb-dda2-9443d7c8c289"
      },
      "execution_count": 5,
      "outputs": [
        {
          "output_type": "execute_result",
          "data": {
            "text/plain": [
              "       ApplicantIncome  CoapplicantIncome  LoanAmount  Loan_Amount_Term  \\\n",
              "count       614.000000         614.000000  592.000000         600.00000   \n",
              "mean       5403.459283        1621.245798  146.412162         342.00000   \n",
              "std        6109.041673        2926.248369   85.587325          65.12041   \n",
              "min         150.000000           0.000000    9.000000          12.00000   \n",
              "25%        2877.500000           0.000000  100.000000         360.00000   \n",
              "50%        3812.500000        1188.500000  128.000000         360.00000   \n",
              "75%        5795.000000        2297.250000  168.000000         360.00000   \n",
              "max       81000.000000       41667.000000  700.000000         480.00000   \n",
              "\n",
              "       Credit_History  \n",
              "count      564.000000  \n",
              "mean         0.842199  \n",
              "std          0.364878  \n",
              "min          0.000000  \n",
              "25%          1.000000  \n",
              "50%          1.000000  \n",
              "75%          1.000000  \n",
              "max          1.000000  "
            ],
            "text/html": [
              "\n",
              "  <div id=\"df-510b293d-659f-4dc4-bdfd-7ea6c169e241\">\n",
              "    <div class=\"colab-df-container\">\n",
              "      <div>\n",
              "<style scoped>\n",
              "    .dataframe tbody tr th:only-of-type {\n",
              "        vertical-align: middle;\n",
              "    }\n",
              "\n",
              "    .dataframe tbody tr th {\n",
              "        vertical-align: top;\n",
              "    }\n",
              "\n",
              "    .dataframe thead th {\n",
              "        text-align: right;\n",
              "    }\n",
              "</style>\n",
              "<table border=\"1\" class=\"dataframe\">\n",
              "  <thead>\n",
              "    <tr style=\"text-align: right;\">\n",
              "      <th></th>\n",
              "      <th>ApplicantIncome</th>\n",
              "      <th>CoapplicantIncome</th>\n",
              "      <th>LoanAmount</th>\n",
              "      <th>Loan_Amount_Term</th>\n",
              "      <th>Credit_History</th>\n",
              "    </tr>\n",
              "  </thead>\n",
              "  <tbody>\n",
              "    <tr>\n",
              "      <th>count</th>\n",
              "      <td>614.000000</td>\n",
              "      <td>614.000000</td>\n",
              "      <td>592.000000</td>\n",
              "      <td>600.00000</td>\n",
              "      <td>564.000000</td>\n",
              "    </tr>\n",
              "    <tr>\n",
              "      <th>mean</th>\n",
              "      <td>5403.459283</td>\n",
              "      <td>1621.245798</td>\n",
              "      <td>146.412162</td>\n",
              "      <td>342.00000</td>\n",
              "      <td>0.842199</td>\n",
              "    </tr>\n",
              "    <tr>\n",
              "      <th>std</th>\n",
              "      <td>6109.041673</td>\n",
              "      <td>2926.248369</td>\n",
              "      <td>85.587325</td>\n",
              "      <td>65.12041</td>\n",
              "      <td>0.364878</td>\n",
              "    </tr>\n",
              "    <tr>\n",
              "      <th>min</th>\n",
              "      <td>150.000000</td>\n",
              "      <td>0.000000</td>\n",
              "      <td>9.000000</td>\n",
              "      <td>12.00000</td>\n",
              "      <td>0.000000</td>\n",
              "    </tr>\n",
              "    <tr>\n",
              "      <th>25%</th>\n",
              "      <td>2877.500000</td>\n",
              "      <td>0.000000</td>\n",
              "      <td>100.000000</td>\n",
              "      <td>360.00000</td>\n",
              "      <td>1.000000</td>\n",
              "    </tr>\n",
              "    <tr>\n",
              "      <th>50%</th>\n",
              "      <td>3812.500000</td>\n",
              "      <td>1188.500000</td>\n",
              "      <td>128.000000</td>\n",
              "      <td>360.00000</td>\n",
              "      <td>1.000000</td>\n",
              "    </tr>\n",
              "    <tr>\n",
              "      <th>75%</th>\n",
              "      <td>5795.000000</td>\n",
              "      <td>2297.250000</td>\n",
              "      <td>168.000000</td>\n",
              "      <td>360.00000</td>\n",
              "      <td>1.000000</td>\n",
              "    </tr>\n",
              "    <tr>\n",
              "      <th>max</th>\n",
              "      <td>81000.000000</td>\n",
              "      <td>41667.000000</td>\n",
              "      <td>700.000000</td>\n",
              "      <td>480.00000</td>\n",
              "      <td>1.000000</td>\n",
              "    </tr>\n",
              "  </tbody>\n",
              "</table>\n",
              "</div>\n",
              "      <button class=\"colab-df-convert\" onclick=\"convertToInteractive('df-510b293d-659f-4dc4-bdfd-7ea6c169e241')\"\n",
              "              title=\"Convert this dataframe to an interactive table.\"\n",
              "              style=\"display:none;\">\n",
              "        \n",
              "  <svg xmlns=\"http://www.w3.org/2000/svg\" height=\"24px\"viewBox=\"0 0 24 24\"\n",
              "       width=\"24px\">\n",
              "    <path d=\"M0 0h24v24H0V0z\" fill=\"none\"/>\n",
              "    <path d=\"M18.56 5.44l.94 2.06.94-2.06 2.06-.94-2.06-.94-.94-2.06-.94 2.06-2.06.94zm-11 1L8.5 8.5l.94-2.06 2.06-.94-2.06-.94L8.5 2.5l-.94 2.06-2.06.94zm10 10l.94 2.06.94-2.06 2.06-.94-2.06-.94-.94-2.06-.94 2.06-2.06.94z\"/><path d=\"M17.41 7.96l-1.37-1.37c-.4-.4-.92-.59-1.43-.59-.52 0-1.04.2-1.43.59L10.3 9.45l-7.72 7.72c-.78.78-.78 2.05 0 2.83L4 21.41c.39.39.9.59 1.41.59.51 0 1.02-.2 1.41-.59l7.78-7.78 2.81-2.81c.8-.78.8-2.07 0-2.86zM5.41 20L4 18.59l7.72-7.72 1.47 1.35L5.41 20z\"/>\n",
              "  </svg>\n",
              "      </button>\n",
              "      \n",
              "  <style>\n",
              "    .colab-df-container {\n",
              "      display:flex;\n",
              "      flex-wrap:wrap;\n",
              "      gap: 12px;\n",
              "    }\n",
              "\n",
              "    .colab-df-convert {\n",
              "      background-color: #E8F0FE;\n",
              "      border: none;\n",
              "      border-radius: 50%;\n",
              "      cursor: pointer;\n",
              "      display: none;\n",
              "      fill: #1967D2;\n",
              "      height: 32px;\n",
              "      padding: 0 0 0 0;\n",
              "      width: 32px;\n",
              "    }\n",
              "\n",
              "    .colab-df-convert:hover {\n",
              "      background-color: #E2EBFA;\n",
              "      box-shadow: 0px 1px 2px rgba(60, 64, 67, 0.3), 0px 1px 3px 1px rgba(60, 64, 67, 0.15);\n",
              "      fill: #174EA6;\n",
              "    }\n",
              "\n",
              "    [theme=dark] .colab-df-convert {\n",
              "      background-color: #3B4455;\n",
              "      fill: #D2E3FC;\n",
              "    }\n",
              "\n",
              "    [theme=dark] .colab-df-convert:hover {\n",
              "      background-color: #434B5C;\n",
              "      box-shadow: 0px 1px 3px 1px rgba(0, 0, 0, 0.15);\n",
              "      filter: drop-shadow(0px 1px 2px rgba(0, 0, 0, 0.3));\n",
              "      fill: #FFFFFF;\n",
              "    }\n",
              "  </style>\n",
              "\n",
              "      <script>\n",
              "        const buttonEl =\n",
              "          document.querySelector('#df-510b293d-659f-4dc4-bdfd-7ea6c169e241 button.colab-df-convert');\n",
              "        buttonEl.style.display =\n",
              "          google.colab.kernel.accessAllowed ? 'block' : 'none';\n",
              "\n",
              "        async function convertToInteractive(key) {\n",
              "          const element = document.querySelector('#df-510b293d-659f-4dc4-bdfd-7ea6c169e241');\n",
              "          const dataTable =\n",
              "            await google.colab.kernel.invokeFunction('convertToInteractive',\n",
              "                                                     [key], {});\n",
              "          if (!dataTable) return;\n",
              "\n",
              "          const docLinkHtml = 'Like what you see? Visit the ' +\n",
              "            '<a target=\"_blank\" href=https://colab.research.google.com/notebooks/data_table.ipynb>data table notebook</a>'\n",
              "            + ' to learn more about interactive tables.';\n",
              "          element.innerHTML = '';\n",
              "          dataTable['output_type'] = 'display_data';\n",
              "          await google.colab.output.renderOutput(dataTable, element);\n",
              "          const docLink = document.createElement('div');\n",
              "          docLink.innerHTML = docLinkHtml;\n",
              "          element.appendChild(docLink);\n",
              "        }\n",
              "      </script>\n",
              "    </div>\n",
              "  </div>\n",
              "  "
            ]
          },
          "metadata": {},
          "execution_count": 5
        }
      ]
    },
    {
      "cell_type": "code",
      "source": [
        "df['ApplicantIncome'].hist(bins=50)"
      ],
      "metadata": {
        "execution": {
          "iopub.status.busy": "2022-10-21T06:14:00.641035Z",
          "iopub.execute_input": "2022-10-21T06:14:00.641463Z",
          "iopub.status.idle": "2022-10-21T06:14:00.918753Z",
          "shell.execute_reply.started": "2022-10-21T06:14:00.641432Z",
          "shell.execute_reply": "2022-10-21T06:14:00.918012Z"
        },
        "trusted": true,
        "colab": {
          "base_uri": "https://localhost:8080/",
          "height": 282
        },
        "id": "PkGikWiwNrbj",
        "outputId": "5ccd079f-d6fc-4c9c-a247-7c46a4463a1c"
      },
      "execution_count": 6,
      "outputs": [
        {
          "output_type": "execute_result",
          "data": {
            "text/plain": [
              "<matplotlib.axes._subplots.AxesSubplot at 0x7fd6bb8ee990>"
            ]
          },
          "metadata": {},
          "execution_count": 6
        },
        {
          "output_type": "display_data",
          "data": {
            "text/plain": [
              "<Figure size 432x288 with 1 Axes>"
            ],
            "image/png": "[encoded data removed]"
          },
          "metadata": {
            "needs_background": "light"
          }
        }
      ]
    },
    {
      "cell_type": "code",
      "source": [
        "df.boxplot(column='ApplicantIncome')"
      ],
      "metadata": {
        "execution": {
          "iopub.status.busy": "2022-10-21T06:14:00.919879Z",
          "iopub.execute_input": "2022-10-21T06:14:00.920302Z",
          "iopub.status.idle": "2022-10-21T06:14:01.057746Z",
          "shell.execute_reply.started": "2022-10-21T06:14:00.920254Z",
          "shell.execute_reply": "2022-10-21T06:14:01.056274Z"
        },
        "trusted": true,
        "colab": {
          "base_uri": "https://localhost:8080/",
          "height": 282
        },
        "id": "e1OlWM9iNrbk",
        "outputId": "ef4b6f84-fb5e-4b6d-806d-68f84bc24762"
      },
      "execution_count": 7,
      "outputs": [
        {
          "output_type": "execute_result",
          "data": {
            "text/plain": [
              "<matplotlib.axes._subplots.AxesSubplot at 0x7fd6ccd044d0>"
            ]
          },
          "metadata": {},
          "execution_count": 7
        },
        {
          "output_type": "display_data",
          "data": {
            "text/plain": [
              "<Figure size 432x288 with 1 Axes>"
            ],
            "image/png": "[encoded data removed]"
          },
          "metadata": {
            "needs_background": "light"
          }
        }
      ]
    },
    {
      "cell_type": "code",
      "source": [
        "df.boxplot(column='ApplicantIncome', by = 'Education')"
      ],
      "metadata": {
        "execution": {
          "iopub.status.busy": "2022-10-21T06:14:01.059354Z",
          "iopub.execute_input": "2022-10-21T06:14:01.059778Z",
          "iopub.status.idle": "2022-10-21T06:14:01.230090Z",
          "shell.execute_reply.started": "2022-10-21T06:14:01.059734Z",
          "shell.execute_reply": "2022-10-21T06:14:01.229376Z"
        },
        "trusted": true,
        "colab": {
          "base_uri": "https://localhost:8080/",
          "height": 318
        },
        "id": "-lvT68M9Nrbk",
        "outputId": "a814f301-8635-4c56-8a0c-bea0a1c8baca"
      },
      "execution_count": 8,
      "outputs": [
        {
          "output_type": "execute_result",
          "data": {
            "text/plain": [
              "<matplotlib.axes._subplots.AxesSubplot at 0x7fd6ba9c3450>"
            ]
          },
          "metadata": {},
          "execution_count": 8
        },
        {
          "output_type": "display_data",
          "data": {
            "text/plain": [
              "<Figure size 432x288 with 1 Axes>"
            ],
            "image/png": "[encoded data removed]"
          },
          "metadata": {
            "needs_background": "light"
          }
        }
      ]
    },
    {
      "cell_type": "code",
      "source": [
        "df['LoanAmount'].hist(bins=50)"
      ],
      "metadata": {
        "execution": {
          "iopub.status.busy": "2022-10-21T06:14:01.232028Z",
          "iopub.execute_input": "2022-10-21T06:14:01.232424Z",
          "iopub.status.idle": "2022-10-21T06:14:01.451186Z",
          "shell.execute_reply.started": "2022-10-21T06:14:01.232393Z",
          "shell.execute_reply": "2022-10-21T06:14:01.450411Z"
        },
        "trusted": true,
        "colab": {
          "base_uri": "https://localhost:8080/",
          "height": 282
        },
        "id": "DKIJch0DNrbl",
        "outputId": "bc1d3dd0-7a34-4eff-d72b-1c8731a0e254"
      },
      "execution_count": 9,
      "outputs": [
        {
          "output_type": "execute_result",
          "data": {
            "text/plain": [
              "<matplotlib.axes._subplots.AxesSubplot at 0x7fd6ba8f0490>"
            ]
          },
          "metadata": {},
          "execution_count": 9
        },
        {
          "output_type": "display_data",
          "data": {
            "text/plain": [
              "<Figure size 432x288 with 1 Axes>"
            ],
            "image/png": "[encoded data removed]"
          },
          "metadata": {
            "needs_background": "light"
          }
        }
      ]
    },
    {
      "cell_type": "code",
      "source": [
        "df.boxplot(column='LoanAmount')"
      ],
      "metadata": {
        "execution": {
          "iopub.status.busy": "2022-10-21T06:14:01.452636Z",
          "iopub.execute_input": "2022-10-21T06:14:01.453089Z",
          "iopub.status.idle": "2022-10-21T06:14:01.581758Z",
          "shell.execute_reply.started": "2022-10-21T06:14:01.453057Z",
          "shell.execute_reply": "2022-10-21T06:14:01.580961Z"
        },
        "trusted": true,
        "colab": {
          "base_uri": "https://localhost:8080/",
          "height": 282
        },
        "id": "81LkMCcuNrbl",
        "outputId": "f6cb15a2-c845-46b4-98ef-aba0c6976642"
      },
      "execution_count": 10,
      "outputs": [
        {
          "output_type": "execute_result",
          "data": {
            "text/plain": [
              "<matplotlib.axes._subplots.AxesSubplot at 0x7fd6ba859710>"
            ]
          },
          "metadata": {},
          "execution_count": 10
        },
        {
          "output_type": "display_data",
          "data": {
            "text/plain": [
              "<Figure size 432x288 with 1 Axes>"
            ],
            "image/png": "[encoded data removed]"
          },
          "metadata": {
            "needs_background": "light"
          }
        }
      ]
    },
    {
      "cell_type": "code",
      "source": [
        "temp1 = df['Credit_History'].value_counts(ascending=True)\n",
        "temp2 = df.pivot_table(values='Loan_Status',index=['Credit_History'],aggfunc=lambda x: x.map({'Y':1,'N':0}).mean())\n",
        "print ('Frequency Table for Credit History:' )\n",
        "print (temp1)\n",
        "print ('\\nProbility of getting loan for each Credit History class:')\n",
        "print (temp2)"
      ],
      "metadata": {
        "execution": {
          "iopub.status.busy": "2022-10-21T06:14:01.582812Z",
          "iopub.execute_input": "2022-10-21T06:14:01.583205Z",
          "iopub.status.idle": "2022-10-21T06:14:01.729732Z",
          "shell.execute_reply.started": "2022-10-21T06:14:01.583174Z",
          "shell.execute_reply": "2022-10-21T06:14:01.728999Z"
        },
        "trusted": true,
        "colab": {
          "base_uri": "https://localhost:8080/"
        },
        "id": "D81BLYahNrbm",
        "outputId": "a98d3442-92b8-4889-9736-a0cb04c85bde"
      },
      "execution_count": 11,
      "outputs": [
        {
          "output_type": "stream",
          "name": "stdout",
          "text": [
            "Frequency Table for Credit History:\n",
            "0.0     89\n",
            "1.0    475\n",
            "Name: Credit_History, dtype: int64\n",
            "\n",
            "Probility of getting loan for each Credit History class:\n",
            "                Loan_Status\n",
            "Credit_History             \n",
            "0.0                0.078652\n",
            "1.0                0.795789\n"
          ]
        }
      ]
    },
    {
      "cell_type": "code",
      "source": [
        "import matplotlib.pyplot as plt\n",
        "fig = plt.figure(figsize=(8,4))\n",
        "ax1 = fig.add_subplot(121)\n",
        "ax1.set_xlabel('Credit_History')\n",
        "ax1.set_ylabel('Count of Applicants')\n",
        "ax1.set_title(\"Applicants by Credit_History\")\n",
        "temp1.plot(kind='bar')\n",
        "ax2 = fig.add_subplot(122)\n",
        "temp2.plot(kind = 'bar')\n",
        "ax2.set_xlabel('Credit_History')\n",
        "ax2.set_ylabel('Probability of getting loan')\n",
        "ax2.set_title(\"Probability of getting loan by credit history\")"
      ],
      "metadata": {
        "execution": {
          "iopub.status.busy": "2022-10-21T06:14:01.730764Z",
          "iopub.execute_input": "2022-10-21T06:14:01.731267Z",
          "iopub.status.idle": "2022-10-21T06:14:02.110117Z",
          "shell.execute_reply.started": "2022-10-21T06:14:01.731232Z",
          "shell.execute_reply": "2022-10-21T06:14:02.109085Z"
        },
        "trusted": true,
        "colab": {
          "base_uri": "https://localhost:8080/",
          "height": 588
        },
        "id": "2caQnRKjNrbm",
        "outputId": "4c0b2eb4-f1b0-40ce-e04e-4a3252c54bc9"
      },
      "execution_count": 12,
      "outputs": [
        {
          "output_type": "execute_result",
          "data": {
            "text/plain": [
              "Text(0.5, 1.0, 'Probability of getting loan by credit history')"
            ]
          },
          "metadata": {},
          "execution_count": 12
        },
        {
          "output_type": "display_data",
          "data": {
            "text/plain": [
              "<Figure size 576x288 with 2 Axes>"
            ],
            "image/png": "[encoded data removed]"
          },
          "metadata": {
            "needs_background": "light"
          }
        },
        {
          "output_type": "display_data",
          "data": {
            "text/plain": [
              "<Figure size 432x288 with 1 Axes>"
            ],
            "image/png": "[encoded data removed]"
          },
          "metadata": {
            "needs_background": "light"
          }
        }
      ]
    },
    {
      "cell_type": "code",
      "source": [
        "temp3 = pd.crosstab(df['Credit_History'], df['Loan_Status'])\n",
        "temp3.plot(kind='bar', stacked=True, color=['red','blue'],grid=False)"
      ],
      "metadata": {
        "execution": {
          "iopub.status.busy": "2022-10-21T06:14:02.111434Z",
          "iopub.execute_input": "2022-10-21T06:14:02.111761Z",
          "iopub.status.idle": "2022-10-21T06:14:02.289766Z",
          "shell.execute_reply.started": "2022-10-21T06:14:02.111724Z",
          "shell.execute_reply": "2022-10-21T06:14:02.288711Z"
        },
        "trusted": true,
        "colab": {
          "base_uri": "https://localhost:8080/",
          "height": 303
        },
        "id": "-dqupnw7Nrbn",
        "outputId": "a1c4d02a-1c9b-4cec-c15f-d2c9ac34c79e"
      },
      "execution_count": 13,
      "outputs": [
        {
          "output_type": "execute_result",
          "data": {
            "text/plain": [
              "<matplotlib.axes._subplots.AxesSubplot at 0x7fd6ba65e1d0>"
            ]
          },
          "metadata": {},
          "execution_count": 13
        },
        {
          "output_type": "display_data",
          "data": {
            "text/plain": [
              "<Figure size 432x288 with 1 Axes>"
            ],
            "image/png": "[encoded data removed]"
          },
          "metadata": {
            "needs_background": "light"
          }
        }
      ]
    },
    {
      "cell_type": "code",
      "source": [
        "df.apply(lambda x: sum(x.isnull()),axis=0)"
      ],
      "metadata": {
        "execution": {
          "iopub.status.busy": "2022-10-21T06:14:02.291341Z",
          "iopub.execute_input": "2022-10-21T06:14:02.291801Z",
          "iopub.status.idle": "2022-10-21T06:14:02.302659Z",
          "shell.execute_reply.started": "2022-10-21T06:14:02.291757Z",
          "shell.execute_reply": "2022-10-21T06:14:02.301955Z"
        },
        "trusted": true,
        "colab": {
          "base_uri": "https://localhost:8080/"
        },
        "id": "fe4BVmj-Nrbn",
        "outputId": "4d851b14-1e9c-4b54-b121-261ecca57b2b"
      },
      "execution_count": 14,
      "outputs": [
        {
          "output_type": "execute_result",
          "data": {
            "text/plain": [
              "Loan_ID               0\n",
              "Gender               13\n",
              "Married               3\n",
              "Dependents           15\n",
              "Education             0\n",
              "Self_Employed        32\n",
              "ApplicantIncome       0\n",
              "CoapplicantIncome     0\n",
              "LoanAmount           22\n",
              "Loan_Amount_Term     14\n",
              "Credit_History       50\n",
              "Property_Area         0\n",
              "Loan_Status           0\n",
              "dtype: int64"
            ]
          },
          "metadata": {},
          "execution_count": 14
        }
      ]
    },
    {
      "cell_type": "code",
      "source": [
        "df['LoanAmount'].fillna(df['LoanAmount'].mean(), inplace=True)"
      ],
      "metadata": {
        "execution": {
          "iopub.status.busy": "2022-10-21T06:14:02.303898Z",
          "iopub.execute_input": "2022-10-21T06:14:02.304345Z",
          "iopub.status.idle": "2022-10-21T06:14:02.316354Z",
          "shell.execute_reply.started": "2022-10-21T06:14:02.304295Z",
          "shell.execute_reply": "2022-10-21T06:14:02.315274Z"
        },
        "trusted": true,
        "id": "gxTHOEF_Nrbn"
      },
      "execution_count": 15,
      "outputs": []
    },
    {
      "cell_type": "code",
      "source": [
        "df[\"Self_Employed\"].value_counts()"
      ],
      "metadata": {
        "execution": {
          "iopub.status.busy": "2022-10-21T06:14:02.317855Z",
          "iopub.execute_input": "2022-10-21T06:14:02.318415Z",
          "iopub.status.idle": "2022-10-21T06:14:02.334333Z",
          "shell.execute_reply.started": "2022-10-21T06:14:02.318359Z",
          "shell.execute_reply": "2022-10-21T06:14:02.333031Z"
        },
        "trusted": true,
        "colab": {
          "base_uri": "https://localhost:8080/"
        },
        "id": "8vmMT3DLNrbn",
        "outputId": "43f0ec8c-25fa-49fd-d1e5-95d49bc61812"
      },
      "execution_count": 16,
      "outputs": [
        {
          "output_type": "execute_result",
          "data": {
            "text/plain": [
              "No     500\n",
              "Yes     82\n",
              "Name: Self_Employed, dtype: int64"
            ]
          },
          "metadata": {},
          "execution_count": 16
        }
      ]
    },
    {
      "cell_type": "code",
      "source": [
        "df['Self_Employed'].fillna('No',inplace=True)"
      ],
      "metadata": {
        "execution": {
          "iopub.status.busy": "2022-10-21T06:14:02.336130Z",
          "iopub.execute_input": "2022-10-21T06:14:02.336543Z",
          "iopub.status.idle": "2022-10-21T06:14:02.347416Z",
          "shell.execute_reply.started": "2022-10-21T06:14:02.336496Z",
          "shell.execute_reply": "2022-10-21T06:14:02.346005Z"
        },
        "trusted": true,
        "id": "fa_fSwXUNrbo"
      },
      "execution_count": 17,
      "outputs": []
    },
    {
      "cell_type": "code",
      "source": [],
      "metadata": {
        "id": "LZSdP3YJNrbo"
      },
      "execution_count": 17,
      "outputs": []
    },
    {
      "cell_type": "code",
      "source": [],
      "metadata": {
        "id": "LM93j0D8Nrbo"
      },
      "execution_count": 17,
      "outputs": []
    },
    {
      "cell_type": "code",
      "source": [],
      "metadata": {
        "id": "AJIENb9sNrbo"
      },
      "execution_count": 17,
      "outputs": []
    },
    {
      "cell_type": "markdown",
      "source": [
        "# Correlation between all the numerical variables\n",
        "HeatMap representation of the correlation"
      ],
      "metadata": {
        "id": "K0YBg2UTNrbo"
      }
    },
    {
      "cell_type": "code",
      "source": [
        "matrix=df.corr()\n",
        "f,ax= plt.subplots(figsize=(9,6))\n",
        "sns.heatmap(matrix,vmax=.8,square=True,cmap=\"BuPu\")"
      ],
      "metadata": {
        "execution": {
          "iopub.status.busy": "2022-10-21T06:14:02.348842Z",
          "iopub.execute_input": "2022-10-21T06:14:02.349177Z",
          "iopub.status.idle": "2022-10-21T06:14:02.704003Z",
          "shell.execute_reply.started": "2022-10-21T06:14:02.349147Z",
          "shell.execute_reply": "2022-10-21T06:14:02.702818Z"
        },
        "trusted": true,
        "colab": {
          "base_uri": "https://localhost:8080/",
          "height": 482
        },
        "id": "62gjJAlSNrbp",
        "outputId": "3e6b00e1-a0b9-42d0-876a-a8fb329fd2e2"
      },
      "execution_count": 18,
      "outputs": [
        {
          "output_type": "execute_result",
          "data": {
            "text/plain": [
              "<matplotlib.axes._subplots.AxesSubplot at 0x7fd6ba583890>"
            ]
          },
          "metadata": {},
          "execution_count": 18
        },
        {
          "output_type": "display_data",
          "data": {
            "text/plain": [
              "<Figure size 648x432 with 2 Axes>"
            ],
            "image/png": "[encoded data removed]"
          },
          "metadata": {
            "needs_background": "light"
          }
        }
      ]
    },
    {
      "cell_type": "code",
      "source": [
        "df.isnull().sum()"
      ],
      "metadata": {
        "execution": {
          "iopub.status.busy": "2022-10-21T06:14:02.705196Z",
          "iopub.execute_input": "2022-10-21T06:14:02.705482Z",
          "iopub.status.idle": "2022-10-21T06:14:02.715818Z",
          "shell.execute_reply.started": "2022-10-21T06:14:02.705452Z",
          "shell.execute_reply": "2022-10-21T06:14:02.714435Z"
        },
        "trusted": true,
        "colab": {
          "base_uri": "https://localhost:8080/"
        },
        "id": "2CItPjPsNrbq",
        "outputId": "825c2ed1-a527-4db8-e5ed-411ddbb080ef"
      },
      "execution_count": 19,
      "outputs": [
        {
          "output_type": "execute_result",
          "data": {
            "text/plain": [
              "Loan_ID               0\n",
              "Gender               13\n",
              "Married               3\n",
              "Dependents           15\n",
              "Education             0\n",
              "Self_Employed         0\n",
              "ApplicantIncome       0\n",
              "CoapplicantIncome     0\n",
              "LoanAmount            0\n",
              "Loan_Amount_Term     14\n",
              "Credit_History       50\n",
              "Property_Area         0\n",
              "Loan_Status           0\n",
              "dtype: int64"
            ]
          },
          "metadata": {},
          "execution_count": 19
        }
      ]
    },
    {
      "cell_type": "code",
      "source": [
        "df.head()"
      ],
      "metadata": {
        "execution": {
          "iopub.status.busy": "2022-10-21T06:14:02.717067Z",
          "iopub.execute_input": "2022-10-21T06:14:02.717511Z",
          "iopub.status.idle": "2022-10-21T06:14:02.738993Z",
          "shell.execute_reply.started": "2022-10-21T06:14:02.717477Z",
          "shell.execute_reply": "2022-10-21T06:14:02.738006Z"
        },
        "trusted": true,
        "colab": {
          "base_uri": "https://localhost:8080/",
          "height": 206
        },
        "id": "B5Cgmb4WNrbq",
        "outputId": "008dfad6-add8-4702-e985-67ce2da4e377"
      },
      "execution_count": 20,
      "outputs": [
        {
          "output_type": "execute_result",
          "data": {
            "text/plain": [
              "    Loan_ID Gender Married Dependents     Education Self_Employed  \\\n",
              "0  LP001002   Male      No          0      Graduate            No   \n",
              "1  LP001003   Male     Yes          1      Graduate            No   \n",
              "2  LP001005   Male     Yes          0      Graduate           Yes   \n",
              "3  LP001006   Male     Yes          0  Not Graduate            No   \n",
              "4  LP001008   Male      No          0      Graduate            No   \n",
              "\n",
              "   ApplicantIncome  CoapplicantIncome  LoanAmount  Loan_Amount_Term  \\\n",
              "0             5849                0.0  146.412162             360.0   \n",
              "1             4583             1508.0  128.000000             360.0   \n",
              "2             3000                0.0   66.000000             360.0   \n",
              "3             2583             2358.0  120.000000             360.0   \n",
              "4             6000                0.0  141.000000             360.0   \n",
              "\n",
              "   Credit_History Property_Area Loan_Status  \n",
              "0             1.0         Urban           Y  \n",
              "1             1.0         Rural           N  \n",
              "2             1.0         Urban           Y  \n",
              "3             1.0         Urban           Y  \n",
              "4             1.0         Urban           Y  "
            ],
            "text/html": [
              "\n",
              "  <div id=\"df-7860c0ef-71d4-4d83-9694-e8b75fe3821c\">\n",
              "    <div class=\"colab-df-container\">\n",
              "      <div>\n",
              "<style scoped>\n",
              "    .dataframe tbody tr th:only-of-type {\n",
              "        vertical-align: middle;\n",
              "    }\n",
              "\n",
              "    .dataframe tbody tr th {\n",
              "        vertical-align: top;\n",
              "    }\n",
              "\n",
              "    .dataframe thead th {\n",
              "        text-align: right;\n",
              "    }\n",
              "</style>\n",
              "<table border=\"1\" class=\"dataframe\">\n",
              "  <thead>\n",
              "    <tr style=\"text-align: right;\">\n",
              "      <th></th>\n",
              "      <th>Loan_ID</th>\n",
              "      <th>Gender</th>\n",
              "      <th>Married</th>\n",
              "      <th>Dependents</th>\n",
              "      <th>Education</th>\n",
              "      <th>Self_Employed</th>\n",
              "      <th>ApplicantIncome</th>\n",
              "      <th>CoapplicantIncome</th>\n",
              "      <th>LoanAmount</th>\n",
              "      <th>Loan_Amount_Term</th>\n",
              "      <th>Credit_History</th>\n",
              "      <th>Property_Area</th>\n",
              "      <th>Loan_Status</th>\n",
              "    </tr>\n",
              "  </thead>\n",
              "  <tbody>\n",
              "    <tr>\n",
              "      <th>0</th>\n",
              "      <td>LP001002</td>\n",
              "      <td>Male</td>\n",
              "      <td>No</td>\n",
              "      <td>0</td>\n",
              "      <td>Graduate</td>\n",
              "      <td>No</td>\n",
              "      <td>5849</td>\n",
              "      <td>0.0</td>\n",
              "      <td>146.412162</td>\n",
              "      <td>360.0</td>\n",
              "      <td>1.0</td>\n",
              "      <td>Urban</td>\n",
              "      <td>Y</td>\n",
              "    </tr>\n",
              "    <tr>\n",
              "      <th>1</th>\n",
              "      <td>LP001003</td>\n",
              "      <td>Male</td>\n",
              "      <td>Yes</td>\n",
              "      <td>1</td>\n",
              "      <td>Graduate</td>\n",
              "      <td>No</td>\n",
              "      <td>4583</td>\n",
              "      <td>1508.0</td>\n",
              "      <td>128.000000</td>\n",
              "      <td>360.0</td>\n",
              "      <td>1.0</td>\n",
              "      <td>Rural</td>\n",
              "      <td>N</td>\n",
              "    </tr>\n",
              "    <tr>\n",
              "      <th>2</th>\n",
              "      <td>LP001005</td>\n",
              "      <td>Male</td>\n",
              "      <td>Yes</td>\n",
              "      <td>0</td>\n",
              "      <td>Graduate</td>\n",
              "      <td>Yes</td>\n",
              "      <td>3000</td>\n",
              "      <td>0.0</td>\n",
              "      <td>66.000000</td>\n",
              "      <td>360.0</td>\n",
              "      <td>1.0</td>\n",
              "      <td>Urban</td>\n",
              "      <td>Y</td>\n",
              "    </tr>\n",
              "    <tr>\n",
              "      <th>3</th>\n",
              "      <td>LP001006</td>\n",
              "      <td>Male</td>\n",
              "      <td>Yes</td>\n",
              "      <td>0</td>\n",
              "      <td>Not Graduate</td>\n",
              "      <td>No</td>\n",
              "      <td>2583</td>\n",
              "      <td>2358.0</td>\n",
              "      <td>120.000000</td>\n",
              "      <td>360.0</td>\n",
              "      <td>1.0</td>\n",
              "      <td>Urban</td>\n",
              "      <td>Y</td>\n",
              "    </tr>\n",
              "    <tr>\n",
              "      <th>4</th>\n",
              "      <td>LP001008</td>\n",
              "      <td>Male</td>\n",
              "      <td>No</td>\n",
              "      <td>0</td>\n",
              "      <td>Graduate</td>\n",
              "      <td>No</td>\n",
              "      <td>6000</td>\n",
              "      <td>0.0</td>\n",
              "      <td>141.000000</td>\n",
              "      <td>360.0</td>\n",
              "      <td>1.0</td>\n",
              "      <td>Urban</td>\n",
              "      <td>Y</td>\n",
              "    </tr>\n",
              "  </tbody>\n",
              "</table>\n",
              "</div>\n",
              "      <button class=\"colab-df-convert\" onclick=\"convertToInteractive('df-7860c0ef-71d4-4d83-9694-e8b75fe3821c')\"\n",
              "              title=\"Convert this dataframe to an interactive table.\"\n",
              "              style=\"display:none;\">\n",
              "        \n",
              "  <svg xmlns=\"http://www.w3.org/2000/svg\" height=\"24px\"viewBox=\"0 0 24 24\"\n",
              "       width=\"24px\">\n",
              "    <path d=\"M0 0h24v24H0V0z\" fill=\"none\"/>\n",
              "    <path d=\"M18.56 5.44l.94 2.06.94-2.06 2.06-.94-2.06-.94-.94-2.06-.94 2.06-2.06.94zm-11 1L8.5 8.5l.94-2.06 2.06-.94-2.06-.94L8.5 2.5l-.94 2.06-2.06.94zm10 10l.94 2.06.94-2.06 2.06-.94-2.06-.94-.94-2.06-.94 2.06-2.06.94z\"/><path d=\"M17.41 7.96l-1.37-1.37c-.4-.4-.92-.59-1.43-.59-.52 0-1.04.2-1.43.59L10.3 9.45l-7.72 7.72c-.78.78-.78 2.05 0 2.83L4 21.41c.39.39.9.59 1.41.59.51 0 1.02-.2 1.41-.59l7.78-7.78 2.81-2.81c.8-.78.8-2.07 0-2.86zM5.41 20L4 18.59l7.72-7.72 1.47 1.35L5.41 20z\"/>\n",
              "  </svg>\n",
              "      </button>\n",
              "      \n",
              "  <style>\n",
              "    .colab-df-container {\n",
              "      display:flex;\n",
              "      flex-wrap:wrap;\n",
              "      gap: 12px;\n",
              "    }\n",
              "\n",
              "    .colab-df-convert {\n",
              "      background-color: #E8F0FE;\n",
              "      border: none;\n",
              "      border-radius: 50%;\n",
              "      cursor: pointer;\n",
              "      display: none;\n",
              "      fill: #1967D2;\n",
              "      height: 32px;\n",
              "      padding: 0 0 0 0;\n",
              "      width: 32px;\n",
              "    }\n",
              "\n",
              "    .colab-df-convert:hover {\n",
              "      background-color: #E2EBFA;\n",
              "      box-shadow: 0px 1px 2px rgba(60, 64, 67, 0.3), 0px 1px 3px 1px rgba(60, 64, 67, 0.15);\n",
              "      fill: #174EA6;\n",
              "    }\n",
              "\n",
              "    [theme=dark] .colab-df-convert {\n",
              "      background-color: #3B4455;\n",
              "      fill: #D2E3FC;\n",
              "    }\n",
              "\n",
              "    [theme=dark] .colab-df-convert:hover {\n",
              "      background-color: #434B5C;\n",
              "      box-shadow: 0px 1px 3px 1px rgba(0, 0, 0, 0.15);\n",
              "      filter: drop-shadow(0px 1px 2px rgba(0, 0, 0, 0.3));\n",
              "      fill: #FFFFFF;\n",
              "    }\n",
              "  </style>\n",
              "\n",
              "      <script>\n",
              "        const buttonEl =\n",
              "          document.querySelector('#df-7860c0ef-71d4-4d83-9694-e8b75fe3821c button.colab-df-convert');\n",
              "        buttonEl.style.display =\n",
              "          google.colab.kernel.accessAllowed ? 'block' : 'none';\n",
              "\n",
              "        async function convertToInteractive(key) {\n",
              "          const element = document.querySelector('#df-7860c0ef-71d4-4d83-9694-e8b75fe3821c');\n",
              "          const dataTable =\n",
              "            await google.colab.kernel.invokeFunction('convertToInteractive',\n",
              "                                                     [key], {});\n",
              "          if (!dataTable) return;\n",
              "\n",
              "          const docLinkHtml = 'Like what you see? Visit the ' +\n",
              "            '<a target=\"_blank\" href=https://colab.research.google.com/notebooks/data_table.ipynb>data table notebook</a>'\n",
              "            + ' to learn more about interactive tables.';\n",
              "          element.innerHTML = '';\n",
              "          dataTable['output_type'] = 'display_data';\n",
              "          await google.colab.output.renderOutput(dataTable, element);\n",
              "          const docLink = document.createElement('div');\n",
              "          docLink.innerHTML = docLinkHtml;\n",
              "          element.appendChild(docLink);\n",
              "        }\n",
              "      </script>\n",
              "    </div>\n",
              "  </div>\n",
              "  "
            ]
          },
          "metadata": {},
          "execution_count": 20
        }
      ]
    },
    {
      "cell_type": "markdown",
      "source": [
        "# Replacing the categorical values"
      ],
      "metadata": {
        "id": "1GAN_3LgNrbq"
      }
    },
    {
      "cell_type": "code",
      "source": [
        "#converting string values(Categorical Values) to integer\n",
        "df.Gender=df.Gender.map({\"Female\":0,\"Male\":1})\n",
        "df.Married=df.Married.map({\"No\":0,\"Yes\":1})\n",
        "df.Self_Employed=df.Self_Employed.map({\"No\":0,\"Yes\":1})\n",
        "df.Education=df.Education.map({\"Not\":1,\"Graduate\":0})\n",
        "df.Property_Area=df.Property_Area.map({\"Urban\":0,\"Rural\":1})\n",
        "df.Loan_Status=df.Loan_Status.map({\"N\":0,\"Y\":1})\n",
        "df.Dependents=df.Dependents.map({\"3+\":3,\"0\":0,\"1\":1,\"2\":2})"
      ],
      "metadata": {
        "execution": {
          "iopub.status.busy": "2022-10-21T06:14:02.740332Z",
          "iopub.execute_input": "2022-10-21T06:14:02.740782Z",
          "iopub.status.idle": "2022-10-21T06:14:02.757855Z",
          "shell.execute_reply.started": "2022-10-21T06:14:02.740734Z",
          "shell.execute_reply": "2022-10-21T06:14:02.756797Z"
        },
        "trusted": true,
        "id": "nXZmnZd4Nrbq"
      },
      "execution_count": 21,
      "outputs": []
    },
    {
      "cell_type": "code",
      "source": [
        "df.head()"
      ],
      "metadata": {
        "scrolled": true,
        "execution": {
          "iopub.status.busy": "2022-10-21T06:14:02.759121Z",
          "iopub.execute_input": "2022-10-21T06:14:02.759549Z",
          "iopub.status.idle": "2022-10-21T06:14:02.786731Z",
          "shell.execute_reply.started": "2022-10-21T06:14:02.759514Z",
          "shell.execute_reply": "2022-10-21T06:14:02.786011Z"
        },
        "trusted": true,
        "colab": {
          "base_uri": "https://localhost:8080/",
          "height": 206
        },
        "id": "0VAf9gf1Nrbq",
        "outputId": "a0c72f50-9f08-4bcb-b2dc-05b64918822d"
      },
      "execution_count": 22,
      "outputs": [
        {
          "output_type": "execute_result",
          "data": {
            "text/plain": [
              "    Loan_ID  Gender  Married  Dependents  Education  Self_Employed  \\\n",
              "0  LP001002     1.0      0.0         0.0        0.0              0   \n",
              "1  LP001003     1.0      1.0         1.0        0.0              0   \n",
              "2  LP001005     1.0      1.0         0.0        0.0              1   \n",
              "3  LP001006     1.0      1.0         0.0        NaN              0   \n",
              "4  LP001008     1.0      0.0         0.0        0.0              0   \n",
              "\n",
              "   ApplicantIncome  CoapplicantIncome  LoanAmount  Loan_Amount_Term  \\\n",
              "0             5849                0.0  146.412162             360.0   \n",
              "1             4583             1508.0  128.000000             360.0   \n",
              "2             3000                0.0   66.000000             360.0   \n",
              "3             2583             2358.0  120.000000             360.0   \n",
              "4             6000                0.0  141.000000             360.0   \n",
              "\n",
              "   Credit_History  Property_Area  Loan_Status  \n",
              "0             1.0            0.0            1  \n",
              "1             1.0            1.0            0  \n",
              "2             1.0            0.0            1  \n",
              "3             1.0            0.0            1  \n",
              "4             1.0            0.0            1  "
            ],
            "text/html": [
              "\n",
              "  <div id=\"df-10e56beb-98b2-4619-8f8b-21a0e776cd2f\">\n",
              "    <div class=\"colab-df-container\">\n",
              "      <div>\n",
              "<style scoped>\n",
              "    .dataframe tbody tr th:only-of-type {\n",
              "        vertical-align: middle;\n",
              "    }\n",
              "\n",
              "    .dataframe tbody tr th {\n",
              "        vertical-align: top;\n",
              "    }\n",
              "\n",
              "    .dataframe thead th {\n",
              "        text-align: right;\n",
              "    }\n",
              "</style>\n",
              "<table border=\"1\" class=\"dataframe\">\n",
              "  <thead>\n",
              "    <tr style=\"text-align: right;\">\n",
              "      <th></th>\n",
              "      <th>Loan_ID</th>\n",
              "      <th>Gender</th>\n",
              "      <th>Married</th>\n",
              "      <th>Dependents</th>\n",
              "      <th>Education</th>\n",
              "      <th>Self_Employed</th>\n",
              "      <th>ApplicantIncome</th>\n",
              "      <th>CoapplicantIncome</th>\n",
              "      <th>LoanAmount</th>\n",
              "      <th>Loan_Amount_Term</th>\n",
              "      <th>Credit_History</th>\n",
              "      <th>Property_Area</th>\n",
              "      <th>Loan_Status</th>\n",
              "    </tr>\n",
              "  </thead>\n",
              "  <tbody>\n",
              "    <tr>\n",
              "      <th>0</th>\n",
              "      <td>LP001002</td>\n",
              "      <td>1.0</td>\n",
              "      <td>0.0</td>\n",
              "      <td>0.0</td>\n",
              "      <td>0.0</td>\n",
              "      <td>0</td>\n",
              "      <td>5849</td>\n",
              "      <td>0.0</td>\n",
              "      <td>146.412162</td>\n",
              "      <td>360.0</td>\n",
              "      <td>1.0</td>\n",
              "      <td>0.0</td>\n",
              "      <td>1</td>\n",
              "    </tr>\n",
              "    <tr>\n",
              "      <th>1</th>\n",
              "      <td>LP001003</td>\n",
              "      <td>1.0</td>\n",
              "      <td>1.0</td>\n",
              "      <td>1.0</td>\n",
              "      <td>0.0</td>\n",
              "      <td>0</td>\n",
              "      <td>4583</td>\n",
              "      <td>1508.0</td>\n",
              "      <td>128.000000</td>\n",
              "      <td>360.0</td>\n",
              "      <td>1.0</td>\n",
              "      <td>1.0</td>\n",
              "      <td>0</td>\n",
              "    </tr>\n",
              "    <tr>\n",
              "      <th>2</th>\n",
              "      <td>LP001005</td>\n",
              "      <td>1.0</td>\n",
              "      <td>1.0</td>\n",
              "      <td>0.0</td>\n",
              "      <td>0.0</td>\n",
              "      <td>1</td>\n",
              "      <td>3000</td>\n",
              "      <td>0.0</td>\n",
              "      <td>66.000000</td>\n",
              "      <td>360.0</td>\n",
              "      <td>1.0</td>\n",
              "      <td>0.0</td>\n",
              "      <td>1</td>\n",
              "    </tr>\n",
              "    <tr>\n",
              "      <th>3</th>\n",
              "      <td>LP001006</td>\n",
              "      <td>1.0</td>\n",
              "      <td>1.0</td>\n",
              "      <td>0.0</td>\n",
              "      <td>NaN</td>\n",
              "      <td>0</td>\n",
              "      <td>2583</td>\n",
              "      <td>2358.0</td>\n",
              "      <td>120.000000</td>\n",
              "      <td>360.0</td>\n",
              "      <td>1.0</td>\n",
              "      <td>0.0</td>\n",
              "      <td>1</td>\n",
              "    </tr>\n",
              "    <tr>\n",
              "      <th>4</th>\n",
              "      <td>LP001008</td>\n",
              "      <td>1.0</td>\n",
              "      <td>0.0</td>\n",
              "      <td>0.0</td>\n",
              "      <td>0.0</td>\n",
              "      <td>0</td>\n",
              "      <td>6000</td>\n",
              "      <td>0.0</td>\n",
              "      <td>141.000000</td>\n",
              "      <td>360.0</td>\n",
              "      <td>1.0</td>\n",
              "      <td>0.0</td>\n",
              "      <td>1</td>\n",
              "    </tr>\n",
              "  </tbody>\n",
              "</table>\n",
              "</div>\n",
              "      <button class=\"colab-df-convert\" onclick=\"convertToInteractive('df-10e56beb-98b2-4619-8f8b-21a0e776cd2f')\"\n",
              "              title=\"Convert this dataframe to an interactive table.\"\n",
              "              style=\"display:none;\">\n",
              "        \n",
              "  <svg xmlns=\"http://www.w3.org/2000/svg\" height=\"24px\"viewBox=\"0 0 24 24\"\n",
              "       width=\"24px\">\n",
              "    <path d=\"M0 0h24v24H0V0z\" fill=\"none\"/>\n",
              "    <path d=\"M18.56 5.44l.94 2.06.94-2.06 2.06-.94-2.06-.94-.94-2.06-.94 2.06-2.06.94zm-11 1L8.5 8.5l.94-2.06 2.06-.94-2.06-.94L8.5 2.5l-.94 2.06-2.06.94zm10 10l.94 2.06.94-2.06 2.06-.94-2.06-.94-.94-2.06-.94 2.06-2.06.94z\"/><path d=\"M17.41 7.96l-1.37-1.37c-.4-.4-.92-.59-1.43-.59-.52 0-1.04.2-1.43.59L10.3 9.45l-7.72 7.72c-.78.78-.78 2.05 0 2.83L4 21.41c.39.39.9.59 1.41.59.51 0 1.02-.2 1.41-.59l7.78-7.78 2.81-2.81c.8-.78.8-2.07 0-2.86zM5.41 20L4 18.59l7.72-7.72 1.47 1.35L5.41 20z\"/>\n",
              "  </svg>\n",
              "      </button>\n",
              "      \n",
              "  <style>\n",
              "    .colab-df-container {\n",
              "      display:flex;\n",
              "      flex-wrap:wrap;\n",
              "      gap: 12px;\n",
              "    }\n",
              "\n",
              "    .colab-df-convert {\n",
              "      background-color: #E8F0FE;\n",
              "      border: none;\n",
              "      border-radius: 50%;\n",
              "      cursor: pointer;\n",
              "      display: none;\n",
              "      fill: #1967D2;\n",
              "      height: 32px;\n",
              "      padding: 0 0 0 0;\n",
              "      width: 32px;\n",
              "    }\n",
              "\n",
              "    .colab-df-convert:hover {\n",
              "      background-color: #E2EBFA;\n",
              "      box-shadow: 0px 1px 2px rgba(60, 64, 67, 0.3), 0px 1px 3px 1px rgba(60, 64, 67, 0.15);\n",
              "      fill: #174EA6;\n",
              "    }\n",
              "\n",
              "    [theme=dark] .colab-df-convert {\n",
              "      background-color: #3B4455;\n",
              "      fill: #D2E3FC;\n",
              "    }\n",
              "\n",
              "    [theme=dark] .colab-df-convert:hover {\n",
              "      background-color: #434B5C;\n",
              "      box-shadow: 0px 1px 3px 1px rgba(0, 0, 0, 0.15);\n",
              "      filter: drop-shadow(0px 1px 2px rgba(0, 0, 0, 0.3));\n",
              "      fill: #FFFFFF;\n",
              "    }\n",
              "  </style>\n",
              "\n",
              "      <script>\n",
              "        const buttonEl =\n",
              "          document.querySelector('#df-10e56beb-98b2-4619-8f8b-21a0e776cd2f button.colab-df-convert');\n",
              "        buttonEl.style.display =\n",
              "          google.colab.kernel.accessAllowed ? 'block' : 'none';\n",
              "\n",
              "        async function convertToInteractive(key) {\n",
              "          const element = document.querySelector('#df-10e56beb-98b2-4619-8f8b-21a0e776cd2f');\n",
              "          const dataTable =\n",
              "            await google.colab.kernel.invokeFunction('convertToInteractive',\n",
              "                                                     [key], {});\n",
              "          if (!dataTable) return;\n",
              "\n",
              "          const docLinkHtml = 'Like what you see? Visit the ' +\n",
              "            '<a target=\"_blank\" href=https://colab.research.google.com/notebooks/data_table.ipynb>data table notebook</a>'\n",
              "            + ' to learn more about interactive tables.';\n",
              "          element.innerHTML = '';\n",
              "          dataTable['output_type'] = 'display_data';\n",
              "          await google.colab.output.renderOutput(dataTable, element);\n",
              "          const docLink = document.createElement('div');\n",
              "          docLink.innerHTML = docLinkHtml;\n",
              "          element.appendChild(docLink);\n",
              "        }\n",
              "      </script>\n",
              "    </div>\n",
              "  </div>\n",
              "  "
            ]
          },
          "metadata": {},
          "execution_count": 22
        }
      ]
    },
    {
      "cell_type": "code",
      "source": [
        "#converting string values(Categorical Values) to integer\n",
        "df1.Gender=df1.Gender.map({\"Female\":0,\"Male\":1})\n",
        "df1.Married=df1.Married.map({\"No\":0,\"Yes\":1})\n",
        "df1.Self_Employed=df1.Self_Employed.map({\"No\":0,\"Yes\":1})\n",
        "df1.Education=df1.Education.map({\"Not\":1,\"Graduate\":0})\n",
        "df1.Property_Area=df1.Property_Area.map({\"Urban\":0,\"Rural\":1})\n",
        "df1.Dependents=df1.Dependents.map({\"3+\":3,\"0\":0,\"1\":1,\"2\":2})\n",
        "\n"
      ],
      "metadata": {
        "execution": {
          "iopub.status.busy": "2022-10-21T06:14:02.787785Z",
          "iopub.execute_input": "2022-10-21T06:14:02.788176Z",
          "iopub.status.idle": "2022-10-21T06:14:02.802079Z",
          "shell.execute_reply.started": "2022-10-21T06:14:02.788147Z",
          "shell.execute_reply": "2022-10-21T06:14:02.801102Z"
        },
        "trusted": true,
        "id": "xk3peOuONrbr"
      },
      "execution_count": 23,
      "outputs": []
    },
    {
      "cell_type": "code",
      "source": [
        "df1.head()"
      ],
      "metadata": {
        "execution": {
          "iopub.status.busy": "2022-10-21T06:14:02.805868Z",
          "iopub.execute_input": "2022-10-21T06:14:02.806185Z",
          "iopub.status.idle": "2022-10-21T06:14:02.826373Z",
          "shell.execute_reply.started": "2022-10-21T06:14:02.806145Z",
          "shell.execute_reply": "2022-10-21T06:14:02.825181Z"
        },
        "trusted": true,
        "colab": {
          "base_uri": "https://localhost:8080/",
          "height": 206
        },
        "id": "5Tnf1B8VNrbr",
        "outputId": "58cfd0d0-a202-45b7-b11a-19569bdbf8b1"
      },
      "execution_count": 24,
      "outputs": [
        {
          "output_type": "execute_result",
          "data": {
            "text/plain": [
              "    Loan_ID  Gender  Married  Dependents  Education  Self_Employed  \\\n",
              "0  LP001015     1.0        1         0.0        0.0            0.0   \n",
              "1  LP001022     1.0        1         1.0        0.0            0.0   \n",
              "2  LP001031     1.0        1         2.0        0.0            0.0   \n",
              "3  LP001035     1.0        1         2.0        0.0            0.0   \n",
              "4  LP001051     1.0        0         0.0        NaN            0.0   \n",
              "\n",
              "   ApplicantIncome  CoapplicantIncome  LoanAmount  Loan_Amount_Term  \\\n",
              "0             5720                  0       110.0             360.0   \n",
              "1             3076               1500       126.0             360.0   \n",
              "2             5000               1800       208.0             360.0   \n",
              "3             2340               2546       100.0             360.0   \n",
              "4             3276                  0        78.0             360.0   \n",
              "\n",
              "   Credit_History  Property_Area  \n",
              "0             1.0            0.0  \n",
              "1             1.0            0.0  \n",
              "2             1.0            0.0  \n",
              "3             NaN            0.0  \n",
              "4             1.0            0.0  "
            ],
            "text/html": [
              "\n",
              "  <div id=\"df-69873ace-af8e-4819-86d5-a5e466bccba8\">\n",
              "    <div class=\"colab-df-container\">\n",
              "      <div>\n",
              "<style scoped>\n",
              "    .dataframe tbody tr th:only-of-type {\n",
              "        vertical-align: middle;\n",
              "    }\n",
              "\n",
              "    .dataframe tbody tr th {\n",
              "        vertical-align: top;\n",
              "    }\n",
              "\n",
              "    .dataframe thead th {\n",
              "        text-align: right;\n",
              "    }\n",
              "</style>\n",
              "<table border=\"1\" class=\"dataframe\">\n",
              "  <thead>\n",
              "    <tr style=\"text-align: right;\">\n",
              "      <th></th>\n",
              "      <th>Loan_ID</th>\n",
              "      <th>Gender</th>\n",
              "      <th>Married</th>\n",
              "      <th>Dependents</th>\n",
              "      <th>Education</th>\n",
              "      <th>Self_Employed</th>\n",
              "      <th>ApplicantIncome</th>\n",
              "      <th>CoapplicantIncome</th>\n",
              "      <th>LoanAmount</th>\n",
              "      <th>Loan_Amount_Term</th>\n",
              "      <th>Credit_History</th>\n",
              "      <th>Property_Area</th>\n",
              "    </tr>\n",
              "  </thead>\n",
              "  <tbody>\n",
              "    <tr>\n",
              "      <th>0</th>\n",
              "      <td>LP001015</td>\n",
              "      <td>1.0</td>\n",
              "      <td>1</td>\n",
              "      <td>0.0</td>\n",
              "      <td>0.0</td>\n",
              "      <td>0.0</td>\n",
              "      <td>5720</td>\n",
              "      <td>0</td>\n",
              "      <td>110.0</td>\n",
              "      <td>360.0</td>\n",
              "      <td>1.0</td>\n",
              "      <td>0.0</td>\n",
              "    </tr>\n",
              "    <tr>\n",
              "      <th>1</th>\n",
              "      <td>LP001022</td>\n",
              "      <td>1.0</td>\n",
              "      <td>1</td>\n",
              "      <td>1.0</td>\n",
              "      <td>0.0</td>\n",
              "      <td>0.0</td>\n",
              "      <td>3076</td>\n",
              "      <td>1500</td>\n",
              "      <td>126.0</td>\n",
              "      <td>360.0</td>\n",
              "      <td>1.0</td>\n",
              "      <td>0.0</td>\n",
              "    </tr>\n",
              "    <tr>\n",
              "      <th>2</th>\n",
              "      <td>LP001031</td>\n",
              "      <td>1.0</td>\n",
              "      <td>1</td>\n",
              "      <td>2.0</td>\n",
              "      <td>0.0</td>\n",
              "      <td>0.0</td>\n",
              "      <td>5000</td>\n",
              "      <td>1800</td>\n",
              "      <td>208.0</td>\n",
              "      <td>360.0</td>\n",
              "      <td>1.0</td>\n",
              "      <td>0.0</td>\n",
              "    </tr>\n",
              "    <tr>\n",
              "      <th>3</th>\n",
              "      <td>LP001035</td>\n",
              "      <td>1.0</td>\n",
              "      <td>1</td>\n",
              "      <td>2.0</td>\n",
              "      <td>0.0</td>\n",
              "      <td>0.0</td>\n",
              "      <td>2340</td>\n",
              "      <td>2546</td>\n",
              "      <td>100.0</td>\n",
              "      <td>360.0</td>\n",
              "      <td>NaN</td>\n",
              "      <td>0.0</td>\n",
              "    </tr>\n",
              "    <tr>\n",
              "      <th>4</th>\n",
              "      <td>LP001051</td>\n",
              "      <td>1.0</td>\n",
              "      <td>0</td>\n",
              "      <td>0.0</td>\n",
              "      <td>NaN</td>\n",
              "      <td>0.0</td>\n",
              "      <td>3276</td>\n",
              "      <td>0</td>\n",
              "      <td>78.0</td>\n",
              "      <td>360.0</td>\n",
              "      <td>1.0</td>\n",
              "      <td>0.0</td>\n",
              "    </tr>\n",
              "  </tbody>\n",
              "</table>\n",
              "</div>\n",
              "      <button class=\"colab-df-convert\" onclick=\"convertToInteractive('df-69873ace-af8e-4819-86d5-a5e466bccba8')\"\n",
              "              title=\"Convert this dataframe to an interactive table.\"\n",
              "              style=\"display:none;\">\n",
              "        \n",
              "  <svg xmlns=\"http://www.w3.org/2000/svg\" height=\"24px\"viewBox=\"0 0 24 24\"\n",
              "       width=\"24px\">\n",
              "    <path d=\"M0 0h24v24H0V0z\" fill=\"none\"/>\n",
              "    <path d=\"M18.56 5.44l.94 2.06.94-2.06 2.06-.94-2.06-.94-.94-2.06-.94 2.06-2.06.94zm-11 1L8.5 8.5l.94-2.06 2.06-.94-2.06-.94L8.5 2.5l-.94 2.06-2.06.94zm10 10l.94 2.06.94-2.06 2.06-.94-2.06-.94-.94-2.06-.94 2.06-2.06.94z\"/><path d=\"M17.41 7.96l-1.37-1.37c-.4-.4-.92-.59-1.43-.59-.52 0-1.04.2-1.43.59L10.3 9.45l-7.72 7.72c-.78.78-.78 2.05 0 2.83L4 21.41c.39.39.9.59 1.41.59.51 0 1.02-.2 1.41-.59l7.78-7.78 2.81-2.81c.8-.78.8-2.07 0-2.86zM5.41 20L4 18.59l7.72-7.72 1.47 1.35L5.41 20z\"/>\n",
              "  </svg>\n",
              "      </button>\n",
              "      \n",
              "  <style>\n",
              "    .colab-df-container {\n",
              "      display:flex;\n",
              "      flex-wrap:wrap;\n",
              "      gap: 12px;\n",
              "    }\n",
              "\n",
              "    .colab-df-convert {\n",
              "      background-color: #E8F0FE;\n",
              "      border: none;\n",
              "      border-radius: 50%;\n",
              "      cursor: pointer;\n",
              "      display: none;\n",
              "      fill: #1967D2;\n",
              "      height: 32px;\n",
              "      padding: 0 0 0 0;\n",
              "      width: 32px;\n",
              "    }\n",
              "\n",
              "    .colab-df-convert:hover {\n",
              "      background-color: #E2EBFA;\n",
              "      box-shadow: 0px 1px 2px rgba(60, 64, 67, 0.3), 0px 1px 3px 1px rgba(60, 64, 67, 0.15);\n",
              "      fill: #174EA6;\n",
              "    }\n",
              "\n",
              "    [theme=dark] .colab-df-convert {\n",
              "      background-color: #3B4455;\n",
              "      fill: #D2E3FC;\n",
              "    }\n",
              "\n",
              "    [theme=dark] .colab-df-convert:hover {\n",
              "      background-color: #434B5C;\n",
              "      box-shadow: 0px 1px 3px 1px rgba(0, 0, 0, 0.15);\n",
              "      filter: drop-shadow(0px 1px 2px rgba(0, 0, 0, 0.3));\n",
              "      fill: #FFFFFF;\n",
              "    }\n",
              "  </style>\n",
              "\n",
              "      <script>\n",
              "        const buttonEl =\n",
              "          document.querySelector('#df-69873ace-af8e-4819-86d5-a5e466bccba8 button.colab-df-convert');\n",
              "        buttonEl.style.display =\n",
              "          google.colab.kernel.accessAllowed ? 'block' : 'none';\n",
              "\n",
              "        async function convertToInteractive(key) {\n",
              "          const element = document.querySelector('#df-69873ace-af8e-4819-86d5-a5e466bccba8');\n",
              "          const dataTable =\n",
              "            await google.colab.kernel.invokeFunction('convertToInteractive',\n",
              "                                                     [key], {});\n",
              "          if (!dataTable) return;\n",
              "\n",
              "          const docLinkHtml = 'Like what you see? Visit the ' +\n",
              "            '<a target=\"_blank\" href=https://colab.research.google.com/notebooks/data_table.ipynb>data table notebook</a>'\n",
              "            + ' to learn more about interactive tables.';\n",
              "          element.innerHTML = '';\n",
              "          dataTable['output_type'] = 'display_data';\n",
              "          await google.colab.output.renderOutput(dataTable, element);\n",
              "          const docLink = document.createElement('div');\n",
              "          docLink.innerHTML = docLinkHtml;\n",
              "          element.appendChild(docLink);\n",
              "        }\n",
              "      </script>\n",
              "    </div>\n",
              "  </div>\n",
              "  "
            ]
          },
          "metadata": {},
          "execution_count": 24
        }
      ]
    },
    {
      "cell_type": "markdown",
      "source": [
        "# Filling Missing Values"
      ],
      "metadata": {
        "id": "gxKsS3XVNrbr"
      }
    },
    {
      "cell_type": "code",
      "source": [
        "df[\"Gender\"].fillna(df[\"Gender\"].mode()[0],inplace=True)\n",
        "df[\"Married\"].fillna(df[\"Married\"].mode()[0],inplace=True)\n",
        "df[\"Dependents\"].fillna(df[\"Dependents\"].mode()[0],inplace=True)\n",
        "df[\"Self_Employed\"].fillna(df[\"Self_Employed\"].mode()[0],inplace=True)\n",
        "df[\"Credit_History\"].fillna(df[\"Credit_History\"].mode()[0],inplace=True)\n",
        "df[\"Education\"].fillna(df[\"Education\"].mode()[0],inplace=True)\n",
        "df[\"Property_Area\"].fillna(df[\"Property_Area\"].mode()[0],inplace=True)"
      ],
      "metadata": {
        "execution": {
          "iopub.status.busy": "2022-10-21T06:14:02.829102Z",
          "iopub.execute_input": "2022-10-21T06:14:02.829392Z",
          "iopub.status.idle": "2022-10-21T06:14:02.841625Z",
          "shell.execute_reply.started": "2022-10-21T06:14:02.829362Z",
          "shell.execute_reply": "2022-10-21T06:14:02.840789Z"
        },
        "trusted": true,
        "id": "5ra4BjYKNrbr"
      },
      "execution_count": 25,
      "outputs": []
    },
    {
      "cell_type": "code",
      "source": [
        "#Find the missing values in Loan Amount Term to fill\n",
        "df[\"Loan_Amount_Term\"].value_counts()"
      ],
      "metadata": {
        "execution": {
          "iopub.status.busy": "2022-10-21T06:14:02.842941Z",
          "iopub.execute_input": "2022-10-21T06:14:02.843249Z",
          "iopub.status.idle": "2022-10-21T06:14:02.850540Z",
          "shell.execute_reply.started": "2022-10-21T06:14:02.843221Z",
          "shell.execute_reply": "2022-10-21T06:14:02.849746Z"
        },
        "trusted": true,
        "colab": {
          "base_uri": "https://localhost:8080/"
        },
        "id": "dh2e3LH9Nrbr",
        "outputId": "e08b1dc1-036c-43d0-92e9-ac81645e81ca"
      },
      "execution_count": 26,
      "outputs": [
        {
          "output_type": "execute_result",
          "data": {
            "text/plain": [
              "360.0    512\n",
              "180.0     44\n",
              "480.0     15\n",
              "300.0     13\n",
              "240.0      4\n",
              "84.0       4\n",
              "120.0      3\n",
              "60.0       2\n",
              "36.0       2\n",
              "12.0       1\n",
              "Name: Loan_Amount_Term, dtype: int64"
            ]
          },
          "metadata": {},
          "execution_count": 26
        }
      ]
    },
    {
      "cell_type": "code",
      "source": [
        "df[\"Loan_Amount_Term\"].fillna(df[\"Loan_Amount_Term\"].mode()[0],inplace=True)"
      ],
      "metadata": {
        "execution": {
          "iopub.status.busy": "2022-10-21T06:14:02.851848Z",
          "iopub.execute_input": "2022-10-21T06:14:02.852303Z",
          "iopub.status.idle": "2022-10-21T06:14:02.863502Z",
          "shell.execute_reply.started": "2022-10-21T06:14:02.852267Z",
          "shell.execute_reply": "2022-10-21T06:14:02.862418Z"
        },
        "trusted": true,
        "id": "5V3on5pCNrbs"
      },
      "execution_count": 27,
      "outputs": []
    },
    {
      "cell_type": "code",
      "source": [
        "#Filling the Null values using the Median in LoanAmount\n",
        "df[\"LoanAmount\"].fillna(df[\"LoanAmount\"].median(),inplace=True)"
      ],
      "metadata": {
        "execution": {
          "iopub.status.busy": "2022-10-21T06:14:02.864936Z",
          "iopub.execute_input": "2022-10-21T06:14:02.865579Z",
          "iopub.status.idle": "2022-10-21T06:14:02.877166Z",
          "shell.execute_reply.started": "2022-10-21T06:14:02.865536Z",
          "shell.execute_reply": "2022-10-21T06:14:02.876088Z"
        },
        "trusted": true,
        "id": "zK3sWj5VNrbs"
      },
      "execution_count": 28,
      "outputs": []
    },
    {
      "cell_type": "code",
      "source": [
        "df.isnull().sum()"
      ],
      "metadata": {
        "execution": {
          "iopub.status.busy": "2022-10-21T06:14:02.878361Z",
          "iopub.execute_input": "2022-10-21T06:14:02.878794Z",
          "iopub.status.idle": "2022-10-21T06:14:02.892584Z",
          "shell.execute_reply.started": "2022-10-21T06:14:02.878763Z",
          "shell.execute_reply": "2022-10-21T06:14:02.891449Z"
        },
        "trusted": true,
        "colab": {
          "base_uri": "https://localhost:8080/"
        },
        "id": "npylaQ6CNrbs",
        "outputId": "9375e0f9-1cba-4b1a-891a-52a531ea3306"
      },
      "execution_count": 29,
      "outputs": [
        {
          "output_type": "execute_result",
          "data": {
            "text/plain": [
              "Loan_ID              0\n",
              "Gender               0\n",
              "Married              0\n",
              "Dependents           0\n",
              "Education            0\n",
              "Self_Employed        0\n",
              "ApplicantIncome      0\n",
              "CoapplicantIncome    0\n",
              "LoanAmount           0\n",
              "Loan_Amount_Term     0\n",
              "Credit_History       0\n",
              "Property_Area        0\n",
              "Loan_Status          0\n",
              "dtype: int64"
            ]
          },
          "metadata": {},
          "execution_count": 29
        }
      ]
    },
    {
      "cell_type": "markdown",
      "source": [
        "# Filling Missing Values in Test Data"
      ],
      "metadata": {
        "id": "ASaFCN2vNrbs"
      }
    },
    {
      "cell_type": "code",
      "source": [
        "df1.isnull().sum()"
      ],
      "metadata": {
        "execution": {
          "iopub.status.busy": "2022-10-21T06:14:02.894158Z",
          "iopub.execute_input": "2022-10-21T06:14:02.894760Z",
          "iopub.status.idle": "2022-10-21T06:14:02.906562Z",
          "shell.execute_reply.started": "2022-10-21T06:14:02.894715Z",
          "shell.execute_reply": "2022-10-21T06:14:02.905809Z"
        },
        "trusted": true,
        "colab": {
          "base_uri": "https://localhost:8080/"
        },
        "id": "NYnOEWhGNrbs",
        "outputId": "62ada1bd-cb45-4dce-c1f7-2f17fdec2c99"
      },
      "execution_count": 30,
      "outputs": [
        {
          "output_type": "execute_result",
          "data": {
            "text/plain": [
              "Loan_ID                0\n",
              "Gender                11\n",
              "Married                0\n",
              "Dependents            10\n",
              "Education             84\n",
              "Self_Employed         23\n",
              "ApplicantIncome        0\n",
              "CoapplicantIncome      0\n",
              "LoanAmount             5\n",
              "Loan_Amount_Term       6\n",
              "Credit_History        29\n",
              "Property_Area        116\n",
              "dtype: int64"
            ]
          },
          "metadata": {},
          "execution_count": 30
        }
      ]
    },
    {
      "cell_type": "code",
      "source": [
        "df1[\"Gender\"].fillna(df1[\"Gender\"].mode()[0],inplace=True)\n",
        "df1[\"Married\"].fillna(df1[\"Married\"].mode()[0],inplace=True)\n",
        "df1[\"Dependents\"].fillna(df1[\"Dependents\"].mode()[0],inplace=True)\n",
        "df1[\"Self_Employed\"].fillna(df1[\"Self_Employed\"].mode()[0],inplace=True)\n",
        "df1[\"Credit_History\"].fillna(df1[\"Credit_History\"].mode()[0],inplace=True)\n",
        "df1[\"Education\"].fillna(df1[\"Education\"].mode()[0],inplace=True)\n",
        "df1[\"Property_Area\"].fillna(df1[\"Property_Area\"].mode()[0],inplace=True)"
      ],
      "metadata": {
        "execution": {
          "iopub.status.busy": "2022-10-21T06:14:02.907849Z",
          "iopub.execute_input": "2022-10-21T06:14:02.908312Z",
          "iopub.status.idle": "2022-10-21T06:14:02.919410Z",
          "shell.execute_reply.started": "2022-10-21T06:14:02.908265Z",
          "shell.execute_reply": "2022-10-21T06:14:02.918502Z"
        },
        "trusted": true,
        "id": "_3-I0BVQNrbs"
      },
      "execution_count": 31,
      "outputs": []
    },
    {
      "cell_type": "code",
      "source": [
        "#Find the missing values in Loan Amount Term to fill\n",
        "df1[\"Loan_Amount_Term\"].value_counts()"
      ],
      "metadata": {
        "execution": {
          "iopub.status.busy": "2022-10-21T06:14:02.920615Z",
          "iopub.execute_input": "2022-10-21T06:14:02.920940Z",
          "iopub.status.idle": "2022-10-21T06:14:02.940598Z",
          "shell.execute_reply.started": "2022-10-21T06:14:02.920911Z",
          "shell.execute_reply": "2022-10-21T06:14:02.939795Z"
        },
        "trusted": true,
        "colab": {
          "base_uri": "https://localhost:8080/"
        },
        "id": "-EYf85YONrbs",
        "outputId": "0bf3bcfb-643d-417b-b4fd-0e0904077266"
      },
      "execution_count": 32,
      "outputs": [
        {
          "output_type": "execute_result",
          "data": {
            "text/plain": [
              "360.0    311\n",
              "180.0     22\n",
              "480.0      8\n",
              "300.0      7\n",
              "240.0      4\n",
              "84.0       3\n",
              "60.0       1\n",
              "12.0       1\n",
              "350.0      1\n",
              "36.0       1\n",
              "120.0      1\n",
              "6.0        1\n",
              "Name: Loan_Amount_Term, dtype: int64"
            ]
          },
          "metadata": {},
          "execution_count": 32
        }
      ]
    },
    {
      "cell_type": "code",
      "source": [
        "df1[\"Loan_Amount_Term\"].fillna(df1[\"Loan_Amount_Term\"].mode()[0],inplace=True)"
      ],
      "metadata": {
        "execution": {
          "iopub.status.busy": "2022-10-21T06:14:02.941926Z",
          "iopub.execute_input": "2022-10-21T06:14:02.942262Z",
          "iopub.status.idle": "2022-10-21T06:14:02.951276Z",
          "shell.execute_reply.started": "2022-10-21T06:14:02.942231Z",
          "shell.execute_reply": "2022-10-21T06:14:02.950406Z"
        },
        "trusted": true,
        "id": "pkoTyZ5FNrbt"
      },
      "execution_count": 33,
      "outputs": []
    },
    {
      "cell_type": "code",
      "source": [
        "#Filling the Null values using the Median in LoanAmount\n",
        "df1[\"LoanAmount\"].fillna(df1[\"LoanAmount\"].median(),inplace=True)"
      ],
      "metadata": {
        "execution": {
          "iopub.status.busy": "2022-10-21T06:14:02.952414Z",
          "iopub.execute_input": "2022-10-21T06:14:02.952743Z",
          "iopub.status.idle": "2022-10-21T06:14:02.963794Z",
          "shell.execute_reply.started": "2022-10-21T06:14:02.952712Z",
          "shell.execute_reply": "2022-10-21T06:14:02.962755Z"
        },
        "trusted": true,
        "id": "1n5PwREVNrbt"
      },
      "execution_count": 34,
      "outputs": []
    },
    {
      "cell_type": "code",
      "source": [],
      "metadata": {
        "id": "WycjQh29Nrbt"
      },
      "execution_count": 34,
      "outputs": []
    },
    {
      "cell_type": "code",
      "source": [],
      "metadata": {
        "id": "NACAz1-FNrbt"
      },
      "execution_count": 34,
      "outputs": []
    },
    {
      "cell_type": "code",
      "source": [
        "df1.isnull().sum()"
      ],
      "metadata": {
        "execution": {
          "iopub.status.busy": "2022-10-21T06:14:02.965369Z",
          "iopub.execute_input": "2022-10-21T06:14:02.965810Z",
          "iopub.status.idle": "2022-10-21T06:14:02.980163Z",
          "shell.execute_reply.started": "2022-10-21T06:14:02.965765Z",
          "shell.execute_reply": "2022-10-21T06:14:02.979075Z"
        },
        "trusted": true,
        "colab": {
          "base_uri": "https://localhost:8080/"
        },
        "id": "goezCz6GNrbt",
        "outputId": "c0796caa-0f95-4b49-dff7-e4d606a46e7b"
      },
      "execution_count": 35,
      "outputs": [
        {
          "output_type": "execute_result",
          "data": {
            "text/plain": [
              "Loan_ID              0\n",
              "Gender               0\n",
              "Married              0\n",
              "Dependents           0\n",
              "Education            0\n",
              "Self_Employed        0\n",
              "ApplicantIncome      0\n",
              "CoapplicantIncome    0\n",
              "LoanAmount           0\n",
              "Loan_Amount_Term     0\n",
              "Credit_History       0\n",
              "Property_Area        0\n",
              "dtype: int64"
            ]
          },
          "metadata": {},
          "execution_count": 35
        }
      ]
    },
    {
      "cell_type": "markdown",
      "source": [
        "# FEATURE ENGINEERING"
      ],
      "metadata": {
        "id": "Wa9dyFnrNrbt"
      }
    },
    {
      "cell_type": "code",
      "source": [
        "df['Total_Income']=df[\"ApplicantIncome\"]+df['CoapplicantIncome']\n",
        "df1['Total_Income']=df1[\"ApplicantIncome\"]+df1['CoapplicantIncome']"
      ],
      "metadata": {
        "execution": {
          "iopub.status.busy": "2022-10-21T06:14:02.981896Z",
          "iopub.execute_input": "2022-10-21T06:14:02.982321Z",
          "iopub.status.idle": "2022-10-21T06:14:02.989951Z",
          "shell.execute_reply.started": "2022-10-21T06:14:02.982280Z",
          "shell.execute_reply": "2022-10-21T06:14:02.989047Z"
        },
        "trusted": true,
        "id": "IIxx3KdCNrbt"
      },
      "execution_count": 36,
      "outputs": []
    },
    {
      "cell_type": "code",
      "source": [
        "sns.distplot(df[\"Total_Income\"])"
      ],
      "metadata": {
        "execution": {
          "iopub.status.busy": "2022-10-21T06:14:02.991156Z",
          "iopub.execute_input": "2022-10-21T06:14:02.991554Z",
          "iopub.status.idle": "2022-10-21T06:14:03.255615Z",
          "shell.execute_reply.started": "2022-10-21T06:14:02.991510Z",
          "shell.execute_reply": "2022-10-21T06:14:03.254514Z"
        },
        "trusted": true,
        "colab": {
          "base_uri": "https://localhost:8080/",
          "height": 297
        },
        "id": "TW7DEyAqNrbt",
        "outputId": "9a3f019f-9b06-4d6b-fcd0-3c3a987962d3"
      },
      "execution_count": 37,
      "outputs": [
        {
          "output_type": "execute_result",
          "data": {
            "text/plain": [
              "<matplotlib.axes._subplots.AxesSubplot at 0x7fd6ba656e10>"
            ]
          },
          "metadata": {},
          "execution_count": 37
        },
        {
          "output_type": "display_data",
          "data": {
            "text/plain": [
              "<Figure size 432x288 with 1 Axes>"
            ],
            "image/png": "[encoded data removed]"
          },
          "metadata": {
            "needs_background": "light"
          }
        }
      ]
    },
    {
      "cell_type": "code",
      "source": [
        "sns.distplot(df1[\"Total_Income\"])"
      ],
      "metadata": {
        "execution": {
          "iopub.status.busy": "2022-10-21T06:14:03.257063Z",
          "iopub.execute_input": "2022-10-21T06:14:03.257450Z",
          "iopub.status.idle": "2022-10-21T06:14:03.532816Z",
          "shell.execute_reply.started": "2022-10-21T06:14:03.257415Z",
          "shell.execute_reply": "2022-10-21T06:14:03.531631Z"
        },
        "trusted": true,
        "colab": {
          "base_uri": "https://localhost:8080/",
          "height": 297
        },
        "id": "6IQfOAeTNrbu",
        "outputId": "ab481bc4-3c3b-49a3-875c-664093204b85"
      },
      "execution_count": 38,
      "outputs": [
        {
          "output_type": "execute_result",
          "data": {
            "text/plain": [
              "<matplotlib.axes._subplots.AxesSubplot at 0x7fd6baf1eb50>"
            ]
          },
          "metadata": {},
          "execution_count": 38
        },
        {
          "output_type": "display_data",
          "data": {
            "text/plain": [
              "<Figure size 432x288 with 1 Axes>"
            ],
            "image/png": "[encoded data removed]"
          },
          "metadata": {
            "needs_background": "light"
          }
        }
      ]
    },
    {
      "cell_type": "code",
      "source": [
        "df['Total_Income_log']=np.log(df[\"Total_Income\"])\n",
        "df1['Total_Income_log']=np.log(df1[\"Total_Income\"])"
      ],
      "metadata": {
        "execution": {
          "iopub.status.busy": "2022-10-21T06:14:03.534433Z",
          "iopub.execute_input": "2022-10-21T06:14:03.534866Z",
          "iopub.status.idle": "2022-10-21T06:14:03.542496Z",
          "shell.execute_reply.started": "2022-10-21T06:14:03.534821Z",
          "shell.execute_reply": "2022-10-21T06:14:03.541080Z"
        },
        "trusted": true,
        "id": "eQKeCIoSNrbu"
      },
      "execution_count": 39,
      "outputs": []
    },
    {
      "cell_type": "code",
      "source": [
        "sns.distplot(df1[\"Total_Income_log\"])"
      ],
      "metadata": {
        "execution": {
          "iopub.status.busy": "2022-10-21T06:14:03.544200Z",
          "iopub.execute_input": "2022-10-21T06:14:03.544660Z",
          "iopub.status.idle": "2022-10-21T06:14:03.749333Z",
          "shell.execute_reply.started": "2022-10-21T06:14:03.544615Z",
          "shell.execute_reply": "2022-10-21T06:14:03.748252Z"
        },
        "trusted": true,
        "colab": {
          "base_uri": "https://localhost:8080/",
          "height": 301
        },
        "id": "2hniCSfHNrbu",
        "outputId": "fd791ddb-47db-4ebd-ae07-64e86a835062"
      },
      "execution_count": 40,
      "outputs": [
        {
          "output_type": "execute_result",
          "data": {
            "text/plain": [
              "<matplotlib.axes._subplots.AxesSubplot at 0x7fd6ba6dc8d0>"
            ]
          },
          "metadata": {},
          "execution_count": 40
        },
        {
          "output_type": "display_data",
          "data": {
            "text/plain": [
              "<Figure size 432x288 with 1 Axes>"
            ],
            "image/png": "[encoded data removed]"
          },
          "metadata": {
            "needs_background": "light"
          }
        }
      ]
    },
    {
      "cell_type": "code",
      "source": [
        "sns.distplot(df[\"Total_Income_log\"])"
      ],
      "metadata": {
        "execution": {
          "iopub.status.busy": "2022-10-21T06:14:03.750981Z",
          "iopub.execute_input": "2022-10-21T06:14:03.751318Z",
          "iopub.status.idle": "2022-10-21T06:14:03.961485Z",
          "shell.execute_reply.started": "2022-10-21T06:14:03.751276Z",
          "shell.execute_reply": "2022-10-21T06:14:03.960488Z"
        },
        "trusted": true,
        "colab": {
          "base_uri": "https://localhost:8080/",
          "height": 297
        },
        "id": "VZHUNDzhNrbu",
        "outputId": "d7ae39f3-146b-4799-a24c-475063fdb15c"
      },
      "execution_count": 41,
      "outputs": [
        {
          "output_type": "execute_result",
          "data": {
            "text/plain": [
              "<matplotlib.axes._subplots.AxesSubplot at 0x7fd6b7a48250>"
            ]
          },
          "metadata": {},
          "execution_count": 41
        },
        {
          "output_type": "display_data",
          "data": {
            "text/plain": [
              "<Figure size 432x288 with 1 Axes>"
            ],
            "image/png": "[encoded data removed]"
          },
          "metadata": {
            "needs_background": "light"
          }
        }
      ]
    },
    {
      "cell_type": "code",
      "source": [
        "df['EMI']=df[\"LoanAmount\"]/df['Loan_Amount_Term']\n",
        "df1['EMI']=df1[\"LoanAmount\"]/df1['Loan_Amount_Term']"
      ],
      "metadata": {
        "execution": {
          "iopub.status.busy": "2022-10-21T06:14:03.964547Z",
          "iopub.execute_input": "2022-10-21T06:14:03.964929Z",
          "iopub.status.idle": "2022-10-21T06:14:03.970989Z",
          "shell.execute_reply.started": "2022-10-21T06:14:03.964893Z",
          "shell.execute_reply": "2022-10-21T06:14:03.970259Z"
        },
        "trusted": true,
        "id": "jTQQAl-hNrbu"
      },
      "execution_count": 42,
      "outputs": []
    },
    {
      "cell_type": "code",
      "source": [
        "sns.distplot(df[\"EMI\"])"
      ],
      "metadata": {
        "execution": {
          "iopub.status.busy": "2022-10-21T06:14:03.972102Z",
          "iopub.execute_input": "2022-10-21T06:14:03.972430Z",
          "iopub.status.idle": "2022-10-21T06:14:04.231276Z",
          "shell.execute_reply.started": "2022-10-21T06:14:03.972399Z",
          "shell.execute_reply": "2022-10-21T06:14:04.228318Z"
        },
        "trusted": true,
        "colab": {
          "base_uri": "https://localhost:8080/",
          "height": 296
        },
        "id": "TWLp-0-lNrbu",
        "outputId": "f7ed39cf-2873-4cb3-f645-e1bfb421f59c"
      },
      "execution_count": 43,
      "outputs": [
        {
          "output_type": "execute_result",
          "data": {
            "text/plain": [
              "<matplotlib.axes._subplots.AxesSubplot at 0x7fd6b797f6d0>"
            ]
          },
          "metadata": {},
          "execution_count": 43
        },
        {
          "output_type": "display_data",
          "data": {
            "text/plain": [
              "<Figure size 432x288 with 1 Axes>"
            ],
            "image/png": "[encoded data removed]"
          },
          "metadata": {
            "needs_background": "light"
          }
        }
      ]
    },
    {
      "cell_type": "code",
      "source": [
        "sns.distplot(df1[\"EMI\"])"
      ],
      "metadata": {
        "execution": {
          "iopub.status.busy": "2022-10-21T06:14:04.233544Z",
          "iopub.execute_input": "2022-10-21T06:14:04.234074Z",
          "iopub.status.idle": "2022-10-21T06:14:04.485741Z",
          "shell.execute_reply.started": "2022-10-21T06:14:04.234017Z",
          "shell.execute_reply": "2022-10-21T06:14:04.484792Z"
        },
        "trusted": true,
        "colab": {
          "base_uri": "https://localhost:8080/",
          "height": 296
        },
        "id": "-olGEm3rNrbu",
        "outputId": "feca5137-9a65-49d9-fca9-3e4cfd48a5a2"
      },
      "execution_count": 44,
      "outputs": [
        {
          "output_type": "execute_result",
          "data": {
            "text/plain": [
              "<matplotlib.axes._subplots.AxesSubplot at 0x7fd6b78771d0>"
            ]
          },
          "metadata": {},
          "execution_count": 44
        },
        {
          "output_type": "display_data",
          "data": {
            "text/plain": [
              "<Figure size 432x288 with 1 Axes>"
            ],
            "image/png": "[encoded data removed]"
          },
          "metadata": {
            "needs_background": "light"
          }
        }
      ]
    },
    {
      "cell_type": "code",
      "source": [
        "#Multiplying by 1000 to make the units equal \n",
        "df['Balance Income']=df[\"Total_Income\"]-(df['EMI']*1000)\n",
        "df1['Balance Income']=df1[\"Total_Income\"]-(df1['EMI']*1000)"
      ],
      "metadata": {
        "execution": {
          "iopub.status.busy": "2022-10-21T06:14:04.487097Z",
          "iopub.execute_input": "2022-10-21T06:14:04.487395Z",
          "iopub.status.idle": "2022-10-21T06:14:04.494673Z",
          "shell.execute_reply.started": "2022-10-21T06:14:04.487365Z",
          "shell.execute_reply": "2022-10-21T06:14:04.493612Z"
        },
        "trusted": true,
        "id": "SZ8ys6u-Nrbu"
      },
      "execution_count": 45,
      "outputs": []
    },
    {
      "cell_type": "code",
      "source": [
        "sns.distplot(df[\"Balance Income\"])"
      ],
      "metadata": {
        "execution": {
          "iopub.status.busy": "2022-10-21T06:14:04.495921Z",
          "iopub.execute_input": "2022-10-21T06:14:04.496201Z",
          "iopub.status.idle": "2022-10-21T06:14:04.755880Z",
          "shell.execute_reply.started": "2022-10-21T06:14:04.496173Z",
          "shell.execute_reply": "2022-10-21T06:14:04.754781Z"
        },
        "trusted": true,
        "colab": {
          "base_uri": "https://localhost:8080/",
          "height": 296
        },
        "id": "15l8WEYBNrbu",
        "outputId": "70f2f0c8-13ba-44d1-938c-8e817f2a0f67"
      },
      "execution_count": 46,
      "outputs": [
        {
          "output_type": "execute_result",
          "data": {
            "text/plain": [
              "<matplotlib.axes._subplots.AxesSubplot at 0x7fd6b777e690>"
            ]
          },
          "metadata": {},
          "execution_count": 46
        },
        {
          "output_type": "display_data",
          "data": {
            "text/plain": [
              "<Figure size 432x288 with 1 Axes>"
            ],
            "image/png": "[encoded data removed]"
          },
          "metadata": {
            "needs_background": "light"
          }
        }
      ]
    },
    {
      "cell_type": "code",
      "source": [
        "sns.distplot(df1[\"Balance Income\"])"
      ],
      "metadata": {
        "execution": {
          "iopub.status.busy": "2022-10-21T06:14:04.757294Z",
          "iopub.execute_input": "2022-10-21T06:14:04.757589Z",
          "iopub.status.idle": "2022-10-21T06:14:05.015568Z",
          "shell.execute_reply.started": "2022-10-21T06:14:04.757558Z",
          "shell.execute_reply": "2022-10-21T06:14:05.014817Z"
        },
        "trusted": true,
        "colab": {
          "base_uri": "https://localhost:8080/",
          "height": 296
        },
        "id": "0bWa16JaNrbv",
        "outputId": "06a02598-4150-4060-9075-5ecd25b1901b"
      },
      "execution_count": 47,
      "outputs": [
        {
          "output_type": "execute_result",
          "data": {
            "text/plain": [
              "<matplotlib.axes._subplots.AxesSubplot at 0x7fd6b7662f10>"
            ]
          },
          "metadata": {},
          "execution_count": 47
        },
        {
          "output_type": "display_data",
          "data": {
            "text/plain": [
              "<Figure size 432x288 with 1 Axes>"
            ],
            "image/png": "[encoded data removed]"
          },
          "metadata": {
            "needs_background": "light"
          }
        }
      ]
    },
    {
      "cell_type": "markdown",
      "source": [
        "# Dropping The variables"
      ],
      "metadata": {
        "id": "iLY_4-X5Nrbv"
      }
    },
    {
      "cell_type": "code",
      "source": [
        "df=df.drop([\"Loan_ID\",\"ApplicantIncome\",\"CoapplicantIncome\",\"LoanAmount\",\"Loan_Amount_Term\"],axis=1)"
      ],
      "metadata": {
        "execution": {
          "iopub.status.busy": "2022-10-21T06:14:05.016827Z",
          "iopub.execute_input": "2022-10-21T06:14:05.017433Z",
          "iopub.status.idle": "2022-10-21T06:14:05.025509Z",
          "shell.execute_reply.started": "2022-10-21T06:14:05.017385Z",
          "shell.execute_reply": "2022-10-21T06:14:05.024601Z"
        },
        "trusted": true,
        "id": "tQCxpUQRNrbv"
      },
      "execution_count": 48,
      "outputs": []
    },
    {
      "cell_type": "code",
      "source": [
        "df1=df1.drop([\"ApplicantIncome\",\"CoapplicantIncome\",\"LoanAmount\",\"Loan_Amount_Term\"],axis=1)"
      ],
      "metadata": {
        "execution": {
          "iopub.status.busy": "2022-10-21T06:14:05.026854Z",
          "iopub.execute_input": "2022-10-21T06:14:05.027182Z",
          "iopub.status.idle": "2022-10-21T06:14:05.037857Z",
          "shell.execute_reply.started": "2022-10-21T06:14:05.027145Z",
          "shell.execute_reply": "2022-10-21T06:14:05.036902Z"
        },
        "trusted": true,
        "id": "wjWZVz6-Nrbv"
      },
      "execution_count": 49,
      "outputs": []
    },
    {
      "cell_type": "code",
      "source": [
        "df"
      ],
      "metadata": {
        "execution": {
          "iopub.status.busy": "2022-10-21T06:14:05.039060Z",
          "iopub.execute_input": "2022-10-21T06:14:05.039499Z",
          "iopub.status.idle": "2022-10-21T06:14:05.075120Z",
          "shell.execute_reply.started": "2022-10-21T06:14:05.039455Z",
          "shell.execute_reply": "2022-10-21T06:14:05.074328Z"
        },
        "trusted": true,
        "colab": {
          "base_uri": "https://localhost:8080/",
          "height": 424
        },
        "id": "V-I-ZcZsNrbv",
        "outputId": "53d7da71-b7a3-466d-a2f6-66a3d1e0e741"
      },
      "execution_count": 50,
      "outputs": [
        {
          "output_type": "execute_result",
          "data": {
            "text/plain": [
              "     Gender  Married  Dependents  Education  Self_Employed  Credit_History  \\\n",
              "0       1.0      0.0         0.0        0.0              0             1.0   \n",
              "1       1.0      1.0         1.0        0.0              0             1.0   \n",
              "2       1.0      1.0         0.0        0.0              1             1.0   \n",
              "3       1.0      1.0         0.0        0.0              0             1.0   \n",
              "4       1.0      0.0         0.0        0.0              0             1.0   \n",
              "..      ...      ...         ...        ...            ...             ...   \n",
              "609     0.0      0.0         0.0        0.0              0             1.0   \n",
              "610     1.0      1.0         3.0        0.0              0             1.0   \n",
              "611     1.0      1.0         1.0        0.0              0             1.0   \n",
              "612     1.0      1.0         2.0        0.0              0             1.0   \n",
              "613     0.0      0.0         0.0        0.0              1             0.0   \n",
              "\n",
              "     Property_Area  Loan_Status  Total_Income  Total_Income_log       EMI  \\\n",
              "0              0.0            1        5849.0          8.674026  0.406700   \n",
              "1              1.0            0        6091.0          8.714568  0.355556   \n",
              "2              0.0            1        3000.0          8.006368  0.183333   \n",
              "3              0.0            1        4941.0          8.505323  0.333333   \n",
              "4              0.0            1        6000.0          8.699515  0.391667   \n",
              "..             ...          ...           ...               ...       ...   \n",
              "609            1.0            1        2900.0          7.972466  0.197222   \n",
              "610            1.0            1        4106.0          8.320205  0.222222   \n",
              "611            0.0            1        8312.0          9.025456  0.702778   \n",
              "612            0.0            1        7583.0          8.933664  0.519444   \n",
              "613            0.0            0        4583.0          8.430109  0.369444   \n",
              "\n",
              "     Balance Income  \n",
              "0       5442.299550  \n",
              "1       5735.444444  \n",
              "2       2816.666667  \n",
              "3       4607.666667  \n",
              "4       5608.333333  \n",
              "..              ...  \n",
              "609     2702.777778  \n",
              "610     3883.777778  \n",
              "611     7609.222222  \n",
              "612     7063.555556  \n",
              "613     4213.555556  \n",
              "\n",
              "[614 rows x 12 columns]"
            ],
            "text/html": [
              "\n",
              "  <div id=\"df-88c97941-0a5f-4919-a5e7-6af7ee3f094e\">\n",
              "    <div class=\"colab-df-container\">\n",
              "      <div>\n",
              "<style scoped>\n",
              "    .dataframe tbody tr th:only-of-type {\n",
              "        vertical-align: middle;\n",
              "    }\n",
              "\n",
              "    .dataframe tbody tr th {\n",
              "        vertical-align: top;\n",
              "    }\n",
              "\n",
              "    .dataframe thead th {\n",
              "        text-align: right;\n",
              "    }\n",
              "</style>\n",
              "<table border=\"1\" class=\"dataframe\">\n",
              "  <thead>\n",
              "    <tr style=\"text-align: right;\">\n",
              "      <th></th>\n",
              "      <th>Gender</th>\n",
              "      <th>Married</th>\n",
              "      <th>Dependents</th>\n",
              "      <th>Education</th>\n",
              "      <th>Self_Employed</th>\n",
              "      <th>Credit_History</th>\n",
              "      <th>Property_Area</th>\n",
              "      <th>Loan_Status</th>\n",
              "      <th>Total_Income</th>\n",
              "      <th>Total_Income_log</th>\n",
              "      <th>EMI</th>\n",
              "      <th>Balance Income</th>\n",
              "    </tr>\n",
              "  </thead>\n",
              "  <tbody>\n",
              "    <tr>\n",
              "      <th>0</th>\n",
              "      <td>1.0</td>\n",
              "      <td>0.0</td>\n",
              "      <td>0.0</td>\n",
              "      <td>0.0</td>\n",
              "      <td>0</td>\n",
              "      <td>1.0</td>\n",
              "      <td>0.0</td>\n",
              "      <td>1</td>\n",
              "      <td>5849.0</td>\n",
              "      <td>8.674026</td>\n",
              "      <td>0.406700</td>\n",
              "      <td>5442.299550</td>\n",
              "    </tr>\n",
              "    <tr>\n",
              "      <th>1</th>\n",
              "      <td>1.0</td>\n",
              "      <td>1.0</td>\n",
              "      <td>1.0</td>\n",
              "      <td>0.0</td>\n",
              "      <td>0</td>\n",
              "      <td>1.0</td>\n",
              "      <td>1.0</td>\n",
              "      <td>0</td>\n",
              "      <td>6091.0</td>\n",
              "      <td>8.714568</td>\n",
              "      <td>0.355556</td>\n",
              "      <td>5735.444444</td>\n",
              "    </tr>\n",
              "    <tr>\n",
              "      <th>2</th>\n",
              "      <td>1.0</td>\n",
              "      <td>1.0</td>\n",
              "      <td>0.0</td>\n",
              "      <td>0.0</td>\n",
              "      <td>1</td>\n",
              "      <td>1.0</td>\n",
              "      <td>0.0</td>\n",
              "      <td>1</td>\n",
              "      <td>3000.0</td>\n",
              "      <td>8.006368</td>\n",
              "      <td>0.183333</td>\n",
              "      <td>2816.666667</td>\n",
              "    </tr>\n",
              "    <tr>\n",
              "      <th>3</th>\n",
              "      <td>1.0</td>\n",
              "      <td>1.0</td>\n",
              "      <td>0.0</td>\n",
              "      <td>0.0</td>\n",
              "      <td>0</td>\n",
              "      <td>1.0</td>\n",
              "      <td>0.0</td>\n",
              "      <td>1</td>\n",
              "      <td>4941.0</td>\n",
              "      <td>8.505323</td>\n",
              "      <td>0.333333</td>\n",
              "      <td>4607.666667</td>\n",
              "    </tr>\n",
              "    <tr>\n",
              "      <th>4</th>\n",
              "      <td>1.0</td>\n",
              "      <td>0.0</td>\n",
              "      <td>0.0</td>\n",
              "      <td>0.0</td>\n",
              "      <td>0</td>\n",
              "      <td>1.0</td>\n",
              "      <td>0.0</td>\n",
              "      <td>1</td>\n",
              "      <td>6000.0</td>\n",
              "      <td>8.699515</td>\n",
              "      <td>0.391667</td>\n",
              "      <td>5608.333333</td>\n",
              "    </tr>\n",
              "    <tr>\n",
              "      <th>...</th>\n",
              "      <td>...</td>\n",
              "      <td>...</td>\n",
              "      <td>...</td>\n",
              "      <td>...</td>\n",
              "      <td>...</td>\n",
              "      <td>...</td>\n",
              "      <td>...</td>\n",
              "      <td>...</td>\n",
              "      <td>...</td>\n",
              "      <td>...</td>\n",
              "      <td>...</td>\n",
              "      <td>...</td>\n",
              "    </tr>\n",
              "    <tr>\n",
              "      <th>609</th>\n",
              "      <td>0.0</td>\n",
              "      <td>0.0</td>\n",
              "      <td>0.0</td>\n",
              "      <td>0.0</td>\n",
              "      <td>0</td>\n",
              "      <td>1.0</td>\n",
              "      <td>1.0</td>\n",
              "      <td>1</td>\n",
              "      <td>2900.0</td>\n",
              "      <td>7.972466</td>\n",
              "      <td>0.197222</td>\n",
              "      <td>2702.777778</td>\n",
              "    </tr>\n",
              "    <tr>\n",
              "      <th>610</th>\n",
              "      <td>1.0</td>\n",
              "      <td>1.0</td>\n",
              "      <td>3.0</td>\n",
              "      <td>0.0</td>\n",
              "      <td>0</td>\n",
              "      <td>1.0</td>\n",
              "      <td>1.0</td>\n",
              "      <td>1</td>\n",
              "      <td>4106.0</td>\n",
              "      <td>8.320205</td>\n",
              "      <td>0.222222</td>\n",
              "      <td>3883.777778</td>\n",
              "    </tr>\n",
              "    <tr>\n",
              "      <th>611</th>\n",
              "      <td>1.0</td>\n",
              "      <td>1.0</td>\n",
              "      <td>1.0</td>\n",
              "      <td>0.0</td>\n",
              "      <td>0</td>\n",
              "      <td>1.0</td>\n",
              "      <td>0.0</td>\n",
              "      <td>1</td>\n",
              "      <td>8312.0</td>\n",
              "      <td>9.025456</td>\n",
              "      <td>0.702778</td>\n",
              "      <td>7609.222222</td>\n",
              "    </tr>\n",
              "    <tr>\n",
              "      <th>612</th>\n",
              "      <td>1.0</td>\n",
              "      <td>1.0</td>\n",
              "      <td>2.0</td>\n",
              "      <td>0.0</td>\n",
              "      <td>0</td>\n",
              "      <td>1.0</td>\n",
              "      <td>0.0</td>\n",
              "      <td>1</td>\n",
              "      <td>7583.0</td>\n",
              "      <td>8.933664</td>\n",
              "      <td>0.519444</td>\n",
              "      <td>7063.555556</td>\n",
              "    </tr>\n",
              "    <tr>\n",
              "      <th>613</th>\n",
              "      <td>0.0</td>\n",
              "      <td>0.0</td>\n",
              "      <td>0.0</td>\n",
              "      <td>0.0</td>\n",
              "      <td>1</td>\n",
              "      <td>0.0</td>\n",
              "      <td>0.0</td>\n",
              "      <td>0</td>\n",
              "      <td>4583.0</td>\n",
              "      <td>8.430109</td>\n",
              "      <td>0.369444</td>\n",
              "      <td>4213.555556</td>\n",
              "    </tr>\n",
              "  </tbody>\n",
              "</table>\n",
              "<p>614 rows × 12 columns</p>\n",
              "</div>\n",
              "      <button class=\"colab-df-convert\" onclick=\"convertToInteractive('df-88c97941-0a5f-4919-a5e7-6af7ee3f094e')\"\n",
              "              title=\"Convert this dataframe to an interactive table.\"\n",
              "              style=\"display:none;\">\n",
              "        \n",
              "  <svg xmlns=\"http://www.w3.org/2000/svg\" height=\"24px\"viewBox=\"0 0 24 24\"\n",
              "       width=\"24px\">\n",
              "    <path d=\"M0 0h24v24H0V0z\" fill=\"none\"/>\n",
              "    <path d=\"M18.56 5.44l.94 2.06.94-2.06 2.06-.94-2.06-.94-.94-2.06-.94 2.06-2.06.94zm-11 1L8.5 8.5l.94-2.06 2.06-.94-2.06-.94L8.5 2.5l-.94 2.06-2.06.94zm10 10l.94 2.06.94-2.06 2.06-.94-2.06-.94-.94-2.06-.94 2.06-2.06.94z\"/><path d=\"M17.41 7.96l-1.37-1.37c-.4-.4-.92-.59-1.43-.59-.52 0-1.04.2-1.43.59L10.3 9.45l-7.72 7.72c-.78.78-.78 2.05 0 2.83L4 21.41c.39.39.9.59 1.41.59.51 0 1.02-.2 1.41-.59l7.78-7.78 2.81-2.81c.8-.78.8-2.07 0-2.86zM5.41 20L4 18.59l7.72-7.72 1.47 1.35L5.41 20z\"/>\n",
              "  </svg>\n",
              "      </button>\n",
              "      \n",
              "  <style>\n",
              "    .colab-df-container {\n",
              "      display:flex;\n",
              "      flex-wrap:wrap;\n",
              "      gap: 12px;\n",
              "    }\n",
              "\n",
              "    .colab-df-convert {\n",
              "      background-color: #E8F0FE;\n",
              "      border: none;\n",
              "      border-radius: 50%;\n",
              "      cursor: pointer;\n",
              "      display: none;\n",
              "      fill: #1967D2;\n",
              "      height: 32px;\n",
              "      padding: 0 0 0 0;\n",
              "      width: 32px;\n",
              "    }\n",
              "\n",
              "    .colab-df-convert:hover {\n",
              "      background-color: #E2EBFA;\n",
              "      box-shadow: 0px 1px 2px rgba(60, 64, 67, 0.3), 0px 1px 3px 1px rgba(60, 64, 67, 0.15);\n",
              "      fill: #174EA6;\n",
              "    }\n",
              "\n",
              "    [theme=dark] .colab-df-convert {\n",
              "      background-color: #3B4455;\n",
              "      fill: #D2E3FC;\n",
              "    }\n",
              "\n",
              "    [theme=dark] .colab-df-convert:hover {\n",
              "      background-color: #434B5C;\n",
              "      box-shadow: 0px 1px 3px 1px rgba(0, 0, 0, 0.15);\n",
              "      filter: drop-shadow(0px 1px 2px rgba(0, 0, 0, 0.3));\n",
              "      fill: #FFFFFF;\n",
              "    }\n",
              "  </style>\n",
              "\n",
              "      <script>\n",
              "        const buttonEl =\n",
              "          document.querySelector('#df-88c97941-0a5f-4919-a5e7-6af7ee3f094e button.colab-df-convert');\n",
              "        buttonEl.style.display =\n",
              "          google.colab.kernel.accessAllowed ? 'block' : 'none';\n",
              "\n",
              "        async function convertToInteractive(key) {\n",
              "          const element = document.querySelector('#df-88c97941-0a5f-4919-a5e7-6af7ee3f094e');\n",
              "          const dataTable =\n",
              "            await google.colab.kernel.invokeFunction('convertToInteractive',\n",
              "                                                     [key], {});\n",
              "          if (!dataTable) return;\n",
              "\n",
              "          const docLinkHtml = 'Like what you see? Visit the ' +\n",
              "            '<a target=\"_blank\" href=https://colab.research.google.com/notebooks/data_table.ipynb>data table notebook</a>'\n",
              "            + ' to learn more about interactive tables.';\n",
              "          element.innerHTML = '';\n",
              "          dataTable['output_type'] = 'display_data';\n",
              "          await google.colab.output.renderOutput(dataTable, element);\n",
              "          const docLink = document.createElement('div');\n",
              "          docLink.innerHTML = docLinkHtml;\n",
              "          element.appendChild(docLink);\n",
              "        }\n",
              "      </script>\n",
              "    </div>\n",
              "  </div>\n",
              "  "
            ]
          },
          "metadata": {},
          "execution_count": 50
        }
      ]
    },
    {
      "cell_type": "code",
      "source": [
        "df1=df1.drop(\"Loan_ID\",axis=1)"
      ],
      "metadata": {
        "execution": {
          "iopub.status.busy": "2022-10-21T06:14:05.076481Z",
          "iopub.execute_input": "2022-10-21T06:14:05.076813Z",
          "iopub.status.idle": "2022-10-21T06:14:05.085390Z",
          "shell.execute_reply.started": "2022-10-21T06:14:05.076777Z",
          "shell.execute_reply": "2022-10-21T06:14:05.084325Z"
        },
        "trusted": true,
        "id": "Vs0pO8X7Nrbv"
      },
      "execution_count": 51,
      "outputs": []
    },
    {
      "cell_type": "code",
      "source": [
        "df1"
      ],
      "metadata": {
        "execution": {
          "iopub.status.busy": "2022-10-21T06:14:05.086741Z",
          "iopub.execute_input": "2022-10-21T06:14:05.087051Z",
          "iopub.status.idle": "2022-10-21T06:14:05.119407Z",
          "shell.execute_reply.started": "2022-10-21T06:14:05.087019Z",
          "shell.execute_reply": "2022-10-21T06:14:05.118056Z"
        },
        "trusted": true,
        "colab": {
          "base_uri": "https://localhost:8080/",
          "height": 424
        },
        "id": "zfLK3hDuNrbv",
        "outputId": "fe5577a5-1c0c-40aa-c1cf-684d8f60a4b0"
      },
      "execution_count": 52,
      "outputs": [
        {
          "output_type": "execute_result",
          "data": {
            "text/plain": [
              "     Gender  Married  Dependents  Education  Self_Employed  Credit_History  \\\n",
              "0       1.0        1         0.0        0.0            0.0             1.0   \n",
              "1       1.0        1         1.0        0.0            0.0             1.0   \n",
              "2       1.0        1         2.0        0.0            0.0             1.0   \n",
              "3       1.0        1         2.0        0.0            0.0             1.0   \n",
              "4       1.0        0         0.0        0.0            0.0             1.0   \n",
              "..      ...      ...         ...        ...            ...             ...   \n",
              "362     1.0        1         3.0        0.0            1.0             1.0   \n",
              "363     1.0        1         0.0        0.0            0.0             1.0   \n",
              "364     1.0        0         0.0        0.0            0.0             1.0   \n",
              "365     1.0        1         0.0        0.0            0.0             1.0   \n",
              "366     1.0        0         0.0        0.0            1.0             1.0   \n",
              "\n",
              "     Property_Area  Total_Income  Total_Income_log       EMI  Balance Income  \n",
              "0              0.0          5720          8.651724  0.305556     5414.444444  \n",
              "1              0.0          4576          8.428581  0.350000     4226.000000  \n",
              "2              0.0          6800          8.824678  0.577778     6222.222222  \n",
              "3              0.0          4886          8.494129  0.277778     4608.222222  \n",
              "4              0.0          3276          8.094378  0.216667     3059.333333  \n",
              "..             ...           ...               ...       ...             ...  \n",
              "362            0.0          5786          8.663196  0.313889     5472.111111  \n",
              "363            0.0          4867          8.490233  0.319444     4547.555556  \n",
              "364            0.0          5243          8.564649  0.350000     4893.000000  \n",
              "365            1.0          7393          8.908289  0.438889     6954.111111  \n",
              "366            1.0          9200          9.126959  0.544444     8655.555556  \n",
              "\n",
              "[367 rows x 11 columns]"
            ],
            "text/html": [
              "\n",
              "  <div id=\"df-889ff6fd-e43a-4aa7-a964-ff32525b6f9f\">\n",
              "    <div class=\"colab-df-container\">\n",
              "      <div>\n",
              "<style scoped>\n",
              "    .dataframe tbody tr th:only-of-type {\n",
              "        vertical-align: middle;\n",
              "    }\n",
              "\n",
              "    .dataframe tbody tr th {\n",
              "        vertical-align: top;\n",
              "    }\n",
              "\n",
              "    .dataframe thead th {\n",
              "        text-align: right;\n",
              "    }\n",
              "</style>\n",
              "<table border=\"1\" class=\"dataframe\">\n",
              "  <thead>\n",
              "    <tr style=\"text-align: right;\">\n",
              "      <th></th>\n",
              "      <th>Gender</th>\n",
              "      <th>Married</th>\n",
              "      <th>Dependents</th>\n",
              "      <th>Education</th>\n",
              "      <th>Self_Employed</th>\n",
              "      <th>Credit_History</th>\n",
              "      <th>Property_Area</th>\n",
              "      <th>Total_Income</th>\n",
              "      <th>Total_Income_log</th>\n",
              "      <th>EMI</th>\n",
              "      <th>Balance Income</th>\n",
              "    </tr>\n",
              "  </thead>\n",
              "  <tbody>\n",
              "    <tr>\n",
              "      <th>0</th>\n",
              "      <td>1.0</td>\n",
              "      <td>1</td>\n",
              "      <td>0.0</td>\n",
              "      <td>0.0</td>\n",
              "      <td>0.0</td>\n",
              "      <td>1.0</td>\n",
              "      <td>0.0</td>\n",
              "      <td>5720</td>\n",
              "      <td>8.651724</td>\n",
              "      <td>0.305556</td>\n",
              "      <td>5414.444444</td>\n",
              "    </tr>\n",
              "    <tr>\n",
              "      <th>1</th>\n",
              "      <td>1.0</td>\n",
              "      <td>1</td>\n",
              "      <td>1.0</td>\n",
              "      <td>0.0</td>\n",
              "      <td>0.0</td>\n",
              "      <td>1.0</td>\n",
              "      <td>0.0</td>\n",
              "      <td>4576</td>\n",
              "      <td>8.428581</td>\n",
              "      <td>0.350000</td>\n",
              "      <td>4226.000000</td>\n",
              "    </tr>\n",
              "    <tr>\n",
              "      <th>2</th>\n",
              "      <td>1.0</td>\n",
              "      <td>1</td>\n",
              "      <td>2.0</td>\n",
              "      <td>0.0</td>\n",
              "      <td>0.0</td>\n",
              "      <td>1.0</td>\n",
              "      <td>0.0</td>\n",
              "      <td>6800</td>\n",
              "      <td>8.824678</td>\n",
              "      <td>0.577778</td>\n",
              "      <td>6222.222222</td>\n",
              "    </tr>\n",
              "    <tr>\n",
              "      <th>3</th>\n",
              "      <td>1.0</td>\n",
              "      <td>1</td>\n",
              "      <td>2.0</td>\n",
              "      <td>0.0</td>\n",
              "      <td>0.0</td>\n",
              "      <td>1.0</td>\n",
              "      <td>0.0</td>\n",
              "      <td>4886</td>\n",
              "      <td>8.494129</td>\n",
              "      <td>0.277778</td>\n",
              "      <td>4608.222222</td>\n",
              "    </tr>\n",
              "    <tr>\n",
              "      <th>4</th>\n",
              "      <td>1.0</td>\n",
              "      <td>0</td>\n",
              "      <td>0.0</td>\n",
              "      <td>0.0</td>\n",
              "      <td>0.0</td>\n",
              "      <td>1.0</td>\n",
              "      <td>0.0</td>\n",
              "      <td>3276</td>\n",
              "      <td>8.094378</td>\n",
              "      <td>0.216667</td>\n",
              "      <td>3059.333333</td>\n",
              "    </tr>\n",
              "    <tr>\n",
              "      <th>...</th>\n",
              "      <td>...</td>\n",
              "      <td>...</td>\n",
              "      <td>...</td>\n",
              "      <td>...</td>\n",
              "      <td>...</td>\n",
              "      <td>...</td>\n",
              "      <td>...</td>\n",
              "      <td>...</td>\n",
              "      <td>...</td>\n",
              "      <td>...</td>\n",
              "      <td>...</td>\n",
              "    </tr>\n",
              "    <tr>\n",
              "      <th>362</th>\n",
              "      <td>1.0</td>\n",
              "      <td>1</td>\n",
              "      <td>3.0</td>\n",
              "      <td>0.0</td>\n",
              "      <td>1.0</td>\n",
              "      <td>1.0</td>\n",
              "      <td>0.0</td>\n",
              "      <td>5786</td>\n",
              "      <td>8.663196</td>\n",
              "      <td>0.313889</td>\n",
              "      <td>5472.111111</td>\n",
              "    </tr>\n",
              "    <tr>\n",
              "      <th>363</th>\n",
              "      <td>1.0</td>\n",
              "      <td>1</td>\n",
              "      <td>0.0</td>\n",
              "      <td>0.0</td>\n",
              "      <td>0.0</td>\n",
              "      <td>1.0</td>\n",
              "      <td>0.0</td>\n",
              "      <td>4867</td>\n",
              "      <td>8.490233</td>\n",
              "      <td>0.319444</td>\n",
              "      <td>4547.555556</td>\n",
              "    </tr>\n",
              "    <tr>\n",
              "      <th>364</th>\n",
              "      <td>1.0</td>\n",
              "      <td>0</td>\n",
              "      <td>0.0</td>\n",
              "      <td>0.0</td>\n",
              "      <td>0.0</td>\n",
              "      <td>1.0</td>\n",
              "      <td>0.0</td>\n",
              "      <td>5243</td>\n",
              "      <td>8.564649</td>\n",
              "      <td>0.350000</td>\n",
              "      <td>4893.000000</td>\n",
              "    </tr>\n",
              "    <tr>\n",
              "      <th>365</th>\n",
              "      <td>1.0</td>\n",
              "      <td>1</td>\n",
              "      <td>0.0</td>\n",
              "      <td>0.0</td>\n",
              "      <td>0.0</td>\n",
              "      <td>1.0</td>\n",
              "      <td>1.0</td>\n",
              "      <td>7393</td>\n",
              "      <td>8.908289</td>\n",
              "      <td>0.438889</td>\n",
              "      <td>6954.111111</td>\n",
              "    </tr>\n",
              "    <tr>\n",
              "      <th>366</th>\n",
              "      <td>1.0</td>\n",
              "      <td>0</td>\n",
              "      <td>0.0</td>\n",
              "      <td>0.0</td>\n",
              "      <td>1.0</td>\n",
              "      <td>1.0</td>\n",
              "      <td>1.0</td>\n",
              "      <td>9200</td>\n",
              "      <td>9.126959</td>\n",
              "      <td>0.544444</td>\n",
              "      <td>8655.555556</td>\n",
              "    </tr>\n",
              "  </tbody>\n",
              "</table>\n",
              "<p>367 rows × 11 columns</p>\n",
              "</div>\n",
              "      <button class=\"colab-df-convert\" onclick=\"convertToInteractive('df-889ff6fd-e43a-4aa7-a964-ff32525b6f9f')\"\n",
              "              title=\"Convert this dataframe to an interactive table.\"\n",
              "              style=\"display:none;\">\n",
              "        \n",
              "  <svg xmlns=\"http://www.w3.org/2000/svg\" height=\"24px\"viewBox=\"0 0 24 24\"\n",
              "       width=\"24px\">\n",
              "    <path d=\"M0 0h24v24H0V0z\" fill=\"none\"/>\n",
              "    <path d=\"M18.56 5.44l.94 2.06.94-2.06 2.06-.94-2.06-.94-.94-2.06-.94 2.06-2.06.94zm-11 1L8.5 8.5l.94-2.06 2.06-.94-2.06-.94L8.5 2.5l-.94 2.06-2.06.94zm10 10l.94 2.06.94-2.06 2.06-.94-2.06-.94-.94-2.06-.94 2.06-2.06.94z\"/><path d=\"M17.41 7.96l-1.37-1.37c-.4-.4-.92-.59-1.43-.59-.52 0-1.04.2-1.43.59L10.3 9.45l-7.72 7.72c-.78.78-.78 2.05 0 2.83L4 21.41c.39.39.9.59 1.41.59.51 0 1.02-.2 1.41-.59l7.78-7.78 2.81-2.81c.8-.78.8-2.07 0-2.86zM5.41 20L4 18.59l7.72-7.72 1.47 1.35L5.41 20z\"/>\n",
              "  </svg>\n",
              "      </button>\n",
              "      \n",
              "  <style>\n",
              "    .colab-df-container {\n",
              "      display:flex;\n",
              "      flex-wrap:wrap;\n",
              "      gap: 12px;\n",
              "    }\n",
              "\n",
              "    .colab-df-convert {\n",
              "      background-color: #E8F0FE;\n",
              "      border: none;\n",
              "      border-radius: 50%;\n",
              "      cursor: pointer;\n",
              "      display: none;\n",
              "      fill: #1967D2;\n",
              "      height: 32px;\n",
              "      padding: 0 0 0 0;\n",
              "      width: 32px;\n",
              "    }\n",
              "\n",
              "    .colab-df-convert:hover {\n",
              "      background-color: #E2EBFA;\n",
              "      box-shadow: 0px 1px 2px rgba(60, 64, 67, 0.3), 0px 1px 3px 1px rgba(60, 64, 67, 0.15);\n",
              "      fill: #174EA6;\n",
              "    }\n",
              "\n",
              "    [theme=dark] .colab-df-convert {\n",
              "      background-color: #3B4455;\n",
              "      fill: #D2E3FC;\n",
              "    }\n",
              "\n",
              "    [theme=dark] .colab-df-convert:hover {\n",
              "      background-color: #434B5C;\n",
              "      box-shadow: 0px 1px 3px 1px rgba(0, 0, 0, 0.15);\n",
              "      filter: drop-shadow(0px 1px 2px rgba(0, 0, 0, 0.3));\n",
              "      fill: #FFFFFF;\n",
              "    }\n",
              "  </style>\n",
              "\n",
              "      <script>\n",
              "        const buttonEl =\n",
              "          document.querySelector('#df-889ff6fd-e43a-4aa7-a964-ff32525b6f9f button.colab-df-convert');\n",
              "        buttonEl.style.display =\n",
              "          google.colab.kernel.accessAllowed ? 'block' : 'none';\n",
              "\n",
              "        async function convertToInteractive(key) {\n",
              "          const element = document.querySelector('#df-889ff6fd-e43a-4aa7-a964-ff32525b6f9f');\n",
              "          const dataTable =\n",
              "            await google.colab.kernel.invokeFunction('convertToInteractive',\n",
              "                                                     [key], {});\n",
              "          if (!dataTable) return;\n",
              "\n",
              "          const docLinkHtml = 'Like what you see? Visit the ' +\n",
              "            '<a target=\"_blank\" href=https://colab.research.google.com/notebooks/data_table.ipynb>data table notebook</a>'\n",
              "            + ' to learn more about interactive tables.';\n",
              "          element.innerHTML = '';\n",
              "          dataTable['output_type'] = 'display_data';\n",
              "          await google.colab.output.renderOutput(dataTable, element);\n",
              "          const docLink = document.createElement('div');\n",
              "          docLink.innerHTML = docLinkHtml;\n",
              "          element.appendChild(docLink);\n",
              "        }\n",
              "      </script>\n",
              "    </div>\n",
              "  </div>\n",
              "  "
            ]
          },
          "metadata": {},
          "execution_count": 52
        }
      ]
    },
    {
      "cell_type": "code",
      "source": [
        "df.dtypes"
      ],
      "metadata": {
        "execution": {
          "iopub.status.busy": "2022-10-21T06:14:05.120959Z",
          "iopub.execute_input": "2022-10-21T06:14:05.121283Z",
          "iopub.status.idle": "2022-10-21T06:14:05.132514Z",
          "shell.execute_reply.started": "2022-10-21T06:14:05.121248Z",
          "shell.execute_reply": "2022-10-21T06:14:05.131424Z"
        },
        "trusted": true,
        "colab": {
          "base_uri": "https://localhost:8080/"
        },
        "id": "g-sVm4D4Nrbv",
        "outputId": "65d06f7f-aab5-4310-9418-33b23438fd59"
      },
      "execution_count": 53,
      "outputs": [
        {
          "output_type": "execute_result",
          "data": {
            "text/plain": [
              "Gender              float64\n",
              "Married             float64\n",
              "Dependents          float64\n",
              "Education           float64\n",
              "Self_Employed         int64\n",
              "Credit_History      float64\n",
              "Property_Area       float64\n",
              "Loan_Status           int64\n",
              "Total_Income        float64\n",
              "Total_Income_log    float64\n",
              "EMI                 float64\n",
              "Balance Income      float64\n",
              "dtype: object"
            ]
          },
          "metadata": {},
          "execution_count": 53
        }
      ]
    },
    {
      "cell_type": "code",
      "source": [
        "df1.dtypes"
      ],
      "metadata": {
        "execution": {
          "iopub.status.busy": "2022-10-21T06:14:05.133991Z",
          "iopub.execute_input": "2022-10-21T06:14:05.134285Z",
          "iopub.status.idle": "2022-10-21T06:14:05.144274Z",
          "shell.execute_reply.started": "2022-10-21T06:14:05.134256Z",
          "shell.execute_reply": "2022-10-21T06:14:05.143307Z"
        },
        "trusted": true,
        "colab": {
          "base_uri": "https://localhost:8080/"
        },
        "id": "bGuU0s-2Nrbw",
        "outputId": "1fb04709-3619-4c1b-eb83-9e64c91a7240"
      },
      "execution_count": 54,
      "outputs": [
        {
          "output_type": "execute_result",
          "data": {
            "text/plain": [
              "Gender              float64\n",
              "Married               int64\n",
              "Dependents          float64\n",
              "Education           float64\n",
              "Self_Employed       float64\n",
              "Credit_History      float64\n",
              "Property_Area       float64\n",
              "Total_Income          int64\n",
              "Total_Income_log    float64\n",
              "EMI                 float64\n",
              "Balance Income      float64\n",
              "dtype: object"
            ]
          },
          "metadata": {},
          "execution_count": 54
        }
      ]
    },
    {
      "cell_type": "markdown",
      "source": [
        "# Logistic Regression"
      ],
      "metadata": {
        "id": "UkOUQGNUNrbw"
      }
    },
    {
      "cell_type": "code",
      "source": [
        "from sklearn. model_selection import StratifiedKFold\n",
        "from sklearn.linear_model import LogisticRegression\n",
        "\n",
        "from sklearn. model_selection import train_test_split\n",
        "from sklearn.metrics import accuracy_score\n",
        "from sklearn.metrics import jaccard_score\n",
        "from sklearn.metrics import f1_score\n",
        "from sklearn.metrics import log_loss\n"
      ],
      "metadata": {
        "execution": {
          "iopub.status.busy": "2022-10-21T06:14:05.145481Z",
          "iopub.execute_input": "2022-10-21T06:14:05.145924Z",
          "iopub.status.idle": "2022-10-21T06:14:05.550796Z",
          "shell.execute_reply.started": "2022-10-21T06:14:05.145892Z",
          "shell.execute_reply": "2022-10-21T06:14:05.549779Z"
        },
        "trusted": true,
        "id": "mc8i0ZRiNrbw"
      },
      "execution_count": 55,
      "outputs": []
    },
    {
      "cell_type": "code",
      "source": [
        "#Lets Prepare the data for feeding in to the models\n",
        "#Save the target variable in seperate\n",
        "X=df.drop(\"Loan_Status\",1)\n",
        "y=df.Loan_Status"
      ],
      "metadata": {
        "execution": {
          "iopub.status.busy": "2022-10-21T06:14:05.552499Z",
          "iopub.execute_input": "2022-10-21T06:14:05.552944Z",
          "iopub.status.idle": "2022-10-21T06:14:05.560295Z",
          "shell.execute_reply.started": "2022-10-21T06:14:05.552899Z",
          "shell.execute_reply": "2022-10-21T06:14:05.559569Z"
        },
        "trusted": true,
        "id": "jMaHXg3KNrbw"
      },
      "execution_count": 56,
      "outputs": []
    },
    {
      "cell_type": "code",
      "source": [
        "#Logistic Regression\n",
        "\n",
        "X=pd.get_dummies(X)\n",
        "df=pd.get_dummies(df)\n"
      ],
      "metadata": {
        "execution": {
          "iopub.status.busy": "2022-10-21T06:14:05.561853Z",
          "iopub.execute_input": "2022-10-21T06:14:05.562131Z",
          "iopub.status.idle": "2022-10-21T06:14:05.578649Z",
          "shell.execute_reply.started": "2022-10-21T06:14:05.562104Z",
          "shell.execute_reply": "2022-10-21T06:14:05.577907Z"
        },
        "trusted": true,
        "id": "GL1A3JQeNrbw"
      },
      "execution_count": 57,
      "outputs": []
    },
    {
      "cell_type": "code",
      "source": [
        "x_train,x_test,y_train,y_test=train_test_split(X,y,test_size=0.3)"
      ],
      "metadata": {
        "execution": {
          "iopub.status.busy": "2022-10-21T06:14:05.579673Z",
          "iopub.execute_input": "2022-10-21T06:14:05.579964Z",
          "iopub.status.idle": "2022-10-21T06:14:05.591911Z",
          "shell.execute_reply.started": "2022-10-21T06:14:05.579935Z",
          "shell.execute_reply": "2022-10-21T06:14:05.590901Z"
        },
        "trusted": true,
        "id": "pJTfxtZJNrbw"
      },
      "execution_count": 58,
      "outputs": []
    },
    {
      "cell_type": "code",
      "source": [
        "model=LogisticRegression(C=1.0,n_jobs=1,random_state=1,solver=\"liblinear\")\n",
        "model.fit(x_train,y_train)\n"
      ],
      "metadata": {
        "execution": {
          "iopub.status.busy": "2022-10-21T06:14:05.595017Z",
          "iopub.execute_input": "2022-10-21T06:14:05.595540Z",
          "iopub.status.idle": "2022-10-21T06:14:05.614754Z",
          "shell.execute_reply.started": "2022-10-21T06:14:05.595495Z",
          "shell.execute_reply": "2022-10-21T06:14:05.614000Z"
        },
        "trusted": true,
        "colab": {
          "base_uri": "https://localhost:8080/"
        },
        "id": "FrcnjmF3Nrbw",
        "outputId": "55405be9-ec21-4b02-d4ab-1002878f2ff4"
      },
      "execution_count": 59,
      "outputs": [
        {
          "output_type": "execute_result",
          "data": {
            "text/plain": [
              "LogisticRegression(n_jobs=1, random_state=1, solver='liblinear')"
            ]
          },
          "metadata": {},
          "execution_count": 59
        }
      ]
    },
    {
      "cell_type": "code",
      "source": [
        "y_pred=model.predict(x_test)\n",
        "acc=accuracy_score(y_test,y_pred)\n",
        "jac=jaccard_score(y_test,y_pred)\n",
        "f=f1_score(y_test,y_pred)\n",
        "log=log_loss(y_test,y_pred)"
      ],
      "metadata": {
        "execution": {
          "iopub.status.busy": "2022-10-21T06:14:05.615817Z",
          "iopub.execute_input": "2022-10-21T06:14:05.616231Z",
          "iopub.status.idle": "2022-10-21T06:14:05.628405Z",
          "shell.execute_reply.started": "2022-10-21T06:14:05.616188Z",
          "shell.execute_reply": "2022-10-21T06:14:05.627487Z"
        },
        "trusted": true,
        "id": "_e90slGRNrbx"
      },
      "execution_count": 60,
      "outputs": []
    },
    {
      "cell_type": "code",
      "source": [
        "metrics = {\n",
        "  \"accuracy_score\": acc,\n",
        "  \"jaccard_score\": jac,\n",
        "  \"f1_score\": f,\n",
        "    \"log_loss\":log\n",
        "}\n",
        "print(metrics)"
      ],
      "metadata": {
        "execution": {
          "iopub.status.busy": "2022-10-21T06:14:05.629467Z",
          "iopub.execute_input": "2022-10-21T06:14:05.629872Z",
          "iopub.status.idle": "2022-10-21T06:14:05.634108Z",
          "shell.execute_reply.started": "2022-10-21T06:14:05.629840Z",
          "shell.execute_reply": "2022-10-21T06:14:05.633432Z"
        },
        "trusted": true,
        "colab": {
          "base_uri": "https://localhost:8080/"
        },
        "id": "5_T2VgmuNrbx",
        "outputId": "81efcd14-09c5-4eb1-90a4-f4171eb02e1e"
      },
      "execution_count": 61,
      "outputs": [
        {
          "output_type": "stream",
          "name": "stdout",
          "text": [
            "{'accuracy_score': 0.8162162162162162, 'jaccard_score': 0.7748344370860927, 'f1_score': 0.8731343283582089, 'log_loss': 6.347805321863404}\n"
          ]
        }
      ]
    },
    {
      "cell_type": "markdown",
      "source": [
        "# KNN"
      ],
      "metadata": {
        "id": "avuHA_kENrbx"
      }
    },
    {
      "cell_type": "code",
      "source": [
        "from sklearn.neighbors import KNeighborsClassifier\n",
        "\n",
        "model=KNeighborsClassifier(n_neighbors=3)\n",
        "model.fit(x_train,y_train)\n"
      ],
      "metadata": {
        "execution": {
          "iopub.status.busy": "2022-10-21T06:14:05.635036Z",
          "iopub.execute_input": "2022-10-21T06:14:05.635411Z",
          "iopub.status.idle": "2022-10-21T06:14:05.709941Z",
          "shell.execute_reply.started": "2022-10-21T06:14:05.635383Z",
          "shell.execute_reply": "2022-10-21T06:14:05.708973Z"
        },
        "trusted": true,
        "colab": {
          "base_uri": "https://localhost:8080/"
        },
        "id": "LpIxUpK1Nrbx",
        "outputId": "e85c0f7c-002d-4d4b-c3e7-4aef9404be27"
      },
      "execution_count": 62,
      "outputs": [
        {
          "output_type": "execute_result",
          "data": {
            "text/plain": [
              "KNeighborsClassifier(n_neighbors=3)"
            ]
          },
          "metadata": {},
          "execution_count": 62
        }
      ]
    },
    {
      "cell_type": "code",
      "source": [
        "y_pred=model.predict(x_test)\n",
        "acc=accuracy_score(y_test,y_pred)\n",
        "jac=jaccard_score(y_test,y_pred)\n",
        "f=f1_score(y_test,y_pred)\n",
        "log=log_loss(y_test,y_pred)"
      ],
      "metadata": {
        "execution": {
          "iopub.status.busy": "2022-10-21T06:14:05.711344Z",
          "iopub.execute_input": "2022-10-21T06:14:05.711632Z",
          "iopub.status.idle": "2022-10-21T06:14:05.730599Z",
          "shell.execute_reply.started": "2022-10-21T06:14:05.711604Z",
          "shell.execute_reply": "2022-10-21T06:14:05.729764Z"
        },
        "trusted": true,
        "id": "rJNCNT65Nrbx"
      },
      "execution_count": 63,
      "outputs": []
    },
    {
      "cell_type": "code",
      "source": [
        "metrics = {\n",
        "  \"accuracy_score\": acc,\n",
        "  \"jaccard_score\": jac,\n",
        "  \"f1_score\": f,\n",
        "    \"log_loss\":log\n",
        "}\n",
        "print(metrics)"
      ],
      "metadata": {
        "execution": {
          "iopub.status.busy": "2022-10-21T06:14:05.732001Z",
          "iopub.execute_input": "2022-10-21T06:14:05.732290Z",
          "iopub.status.idle": "2022-10-21T06:14:05.737104Z",
          "shell.execute_reply.started": "2022-10-21T06:14:05.732261Z",
          "shell.execute_reply": "2022-10-21T06:14:05.736168Z"
        },
        "trusted": true,
        "colab": {
          "base_uri": "https://localhost:8080/"
        },
        "id": "NIPpAv6KNrbx",
        "outputId": "fa4823aa-0226-4cbc-8dc8-102e88efd8b9"
      },
      "execution_count": 64,
      "outputs": [
        {
          "output_type": "stream",
          "name": "stdout",
          "text": [
            "{'accuracy_score': 0.5675675675675675, 'jaccard_score': 0.553072625698324, 'f1_score': 0.7122302158273381, 'log_loss': 14.935946418587386}\n"
          ]
        }
      ]
    },
    {
      "cell_type": "code",
      "source": [
        "error_rate = []\n",
        "for i in range(1,40):\n",
        " knn = KNeighborsClassifier(n_neighbors=i)\n",
        " knn.fit(x_train,y_train)\n",
        " pred_i = knn.predict(x_test)\n",
        " error_rate.append(np.mean(pred_i != y_test))\n",
        "\n",
        "plt.figure(figsize=(10,6))\n",
        "plt.plot(range(1,40),error_rate,color='blue', linestyle='dashed', \n",
        "         marker='o',markerfacecolor='red', markersize=10)\n",
        "plt.title('Error Rate vs. K Value')\n",
        "plt.xlabel('K')\n",
        "plt.ylabel('Error Rate')\n",
        "print(\"Minimum error:-\",min(error_rate),\"at K =\",error_rate.index(min(error_rate)))"
      ],
      "metadata": {
        "execution": {
          "iopub.status.busy": "2022-10-21T06:14:05.738731Z",
          "iopub.execute_input": "2022-10-21T06:14:05.739206Z",
          "iopub.status.idle": "2022-10-21T06:14:06.374951Z",
          "shell.execute_reply.started": "2022-10-21T06:14:05.739151Z",
          "shell.execute_reply": "2022-10-21T06:14:06.373915Z"
        },
        "trusted": true,
        "colab": {
          "base_uri": "https://localhost:8080/",
          "height": 421
        },
        "id": "0rmpVNkwNrbx",
        "outputId": "ee74a4f6-dc6e-4849-dcb6-1e67e36e3eee"
      },
      "execution_count": 65,
      "outputs": [
        {
          "output_type": "stream",
          "name": "stdout",
          "text": [
            "Minimum error:- 0.34594594594594597 at K = 22\n"
          ]
        },
        {
          "output_type": "display_data",
          "data": {
            "text/plain": [
              "<Figure size 720x432 with 1 Axes>"
            ],
            "image/png": "[encoded data removed]"
          },
          "metadata": {
            "needs_background": "light"
          }
        }
      ]
    },
    {
      "cell_type": "code",
      "source": [
        "model=KNeighborsClassifier(n_neighbors=20)\n",
        "model.fit(x_train,y_train)\n",
        "y_pred=model.predict(x_test)\n",
        "acc=accuracy_score(y_test,y_pred)\n",
        "jac=jaccard_score(y_test,y_pred)\n",
        "f=f1_score(y_test,y_pred)\n",
        "log=log_loss(y_test,y_pred)"
      ],
      "metadata": {
        "execution": {
          "iopub.status.busy": "2022-10-21T06:14:06.376525Z",
          "iopub.execute_input": "2022-10-21T06:14:06.376885Z",
          "iopub.status.idle": "2022-10-21T06:14:06.400179Z",
          "shell.execute_reply.started": "2022-10-21T06:14:06.376852Z",
          "shell.execute_reply": "2022-10-21T06:14:06.399163Z"
        },
        "trusted": true,
        "id": "tI8fprLdNrby"
      },
      "execution_count": 66,
      "outputs": []
    },
    {
      "cell_type": "code",
      "source": [
        "metrics = {\n",
        "  \"accuracy_score\": acc,\n",
        "  \"jaccard_score\": jac,\n",
        "  \"f1_score\": f,\n",
        "    \"log_loss\":log\n",
        "}\n",
        "print(metrics)"
      ],
      "metadata": {
        "execution": {
          "iopub.status.busy": "2022-10-21T06:14:06.401821Z",
          "iopub.execute_input": "2022-10-21T06:14:06.402213Z",
          "iopub.status.idle": "2022-10-21T06:14:06.407792Z",
          "shell.execute_reply.started": "2022-10-21T06:14:06.402172Z",
          "shell.execute_reply": "2022-10-21T06:14:06.406562Z"
        },
        "trusted": true,
        "colab": {
          "base_uri": "https://localhost:8080/"
        },
        "id": "n4wY_rXCNrby",
        "outputId": "1a56ed6f-ca6a-445d-9c12-14f815a1fc54"
      },
      "execution_count": 67,
      "outputs": [
        {
          "output_type": "stream",
          "name": "stdout",
          "text": [
            "{'accuracy_score': 0.6432432432432432, 'jaccard_score': 0.6373626373626373, 'f1_score': 0.7785234899328858, 'log_loss': 12.322214144336256}\n"
          ]
        }
      ]
    },
    {
      "cell_type": "markdown",
      "source": [
        "# DecisionTreeClassifier"
      ],
      "metadata": {
        "id": "XNEYPe7eNrby"
      }
    },
    {
      "cell_type": "code",
      "source": [
        "from sklearn.tree import DecisionTreeClassifier\n",
        "model=DecisionTreeClassifier()\n",
        "model.fit(x_train,y_train)\n"
      ],
      "metadata": {
        "execution": {
          "iopub.status.busy": "2022-10-21T06:14:06.409194Z",
          "iopub.execute_input": "2022-10-21T06:14:06.409589Z",
          "iopub.status.idle": "2022-10-21T06:14:06.456003Z",
          "shell.execute_reply.started": "2022-10-21T06:14:06.409542Z",
          "shell.execute_reply": "2022-10-21T06:14:06.455016Z"
        },
        "trusted": true,
        "colab": {
          "base_uri": "https://localhost:8080/"
        },
        "id": "1A1Ogj1HNrby",
        "outputId": "fa5961e5-4f2d-44a2-b391-3883e19bb5d9"
      },
      "execution_count": 68,
      "outputs": [
        {
          "output_type": "execute_result",
          "data": {
            "text/plain": [
              "DecisionTreeClassifier()"
            ]
          },
          "metadata": {},
          "execution_count": 68
        }
      ]
    },
    {
      "cell_type": "code",
      "source": [
        "y_pred=model.predict(x_test)\n",
        "acc=accuracy_score(y_test,y_pred)\n",
        "jac=jaccard_score(y_test,y_pred)\n",
        "f=f1_score(y_test,y_pred)\n",
        "log=log_loss(y_test,y_pred)"
      ],
      "metadata": {
        "execution": {
          "iopub.status.busy": "2022-10-21T06:14:06.461100Z",
          "iopub.execute_input": "2022-10-21T06:14:06.461417Z",
          "iopub.status.idle": "2022-10-21T06:14:06.474945Z",
          "shell.execute_reply.started": "2022-10-21T06:14:06.461384Z",
          "shell.execute_reply": "2022-10-21T06:14:06.473661Z"
        },
        "trusted": true,
        "id": "9XjUj34uNrby"
      },
      "execution_count": 69,
      "outputs": []
    },
    {
      "cell_type": "code",
      "source": [
        "metrics = {\n",
        "  \"accuracy_score\": acc,\n",
        "  \"jaccard_score\": jac,\n",
        "  \"f1_score\": f,\n",
        "    \"log_loss\":log\n",
        "}\n",
        "print(metrics)"
      ],
      "metadata": {
        "execution": {
          "iopub.status.busy": "2022-10-21T06:14:06.476673Z",
          "iopub.execute_input": "2022-10-21T06:14:06.477012Z",
          "iopub.status.idle": "2022-10-21T06:14:06.482138Z",
          "shell.execute_reply.started": "2022-10-21T06:14:06.476979Z",
          "shell.execute_reply": "2022-10-21T06:14:06.481172Z"
        },
        "trusted": true,
        "colab": {
          "base_uri": "https://localhost:8080/"
        },
        "id": "Dm7CAAs0Nrby",
        "outputId": "e0f2e947-896e-4ddc-a7d1-3707a74ec0e6"
      },
      "execution_count": 70,
      "outputs": [
        {
          "output_type": "stream",
          "name": "stdout",
          "text": [
            "{'accuracy_score': 0.6594594594594595, 'jaccard_score': 0.58, 'f1_score': 0.7341772151898734, 'log_loss': 11.761987569728154}\n"
          ]
        }
      ]
    },
    {
      "cell_type": "markdown",
      "source": [
        "# svm"
      ],
      "metadata": {
        "id": "I8SzHJzyNrbz"
      }
    },
    {
      "cell_type": "code",
      "source": [
        "from sklearn import svm\n",
        "model=svm.SVC()\n",
        "model.fit(x_train,y_train)"
      ],
      "metadata": {
        "execution": {
          "iopub.status.busy": "2022-10-21T06:14:06.483548Z",
          "iopub.execute_input": "2022-10-21T06:14:06.484000Z",
          "iopub.status.idle": "2022-10-21T06:14:06.511551Z",
          "shell.execute_reply.started": "2022-10-21T06:14:06.483957Z",
          "shell.execute_reply": "2022-10-21T06:14:06.510782Z"
        },
        "trusted": true,
        "colab": {
          "base_uri": "https://localhost:8080/"
        },
        "id": "5ZLYUCtYNrbz",
        "outputId": "7c7978f1-3f41-4084-d6fe-0eeeb9699582"
      },
      "execution_count": 71,
      "outputs": [
        {
          "output_type": "execute_result",
          "data": {
            "text/plain": [
              "SVC()"
            ]
          },
          "metadata": {},
          "execution_count": 71
        }
      ]
    },
    {
      "cell_type": "code",
      "source": [
        "y_pred=model.predict(x_test)\n",
        "acc=accuracy_score(y_test,y_pred)\n",
        "jac=jaccard_score(y_test,y_pred)\n",
        "f=f1_score(y_test,y_pred)\n",
        "log=log_loss(y_test,y_pred)"
      ],
      "metadata": {
        "execution": {
          "iopub.status.busy": "2022-10-21T06:14:06.512915Z",
          "iopub.execute_input": "2022-10-21T06:14:06.513490Z",
          "iopub.status.idle": "2022-10-21T06:14:06.530177Z",
          "shell.execute_reply.started": "2022-10-21T06:14:06.513446Z",
          "shell.execute_reply": "2022-10-21T06:14:06.529349Z"
        },
        "trusted": true,
        "id": "V9AfDCPLNrbz"
      },
      "execution_count": 72,
      "outputs": []
    },
    {
      "cell_type": "code",
      "source": [
        "metrics = {\n",
        "  \"accuracy_score\": acc,\n",
        "  \"jaccard_score\": jac,\n",
        "  \"f1_score\": f,\n",
        "    \"log_loss\":log\n",
        "}\n",
        "print(metrics)"
      ],
      "metadata": {
        "execution": {
          "iopub.status.busy": "2022-10-21T06:14:06.531445Z",
          "iopub.execute_input": "2022-10-21T06:14:06.532085Z",
          "iopub.status.idle": "2022-10-21T06:14:06.537881Z",
          "shell.execute_reply.started": "2022-10-21T06:14:06.532039Z",
          "shell.execute_reply": "2022-10-21T06:14:06.537087Z"
        },
        "trusted": true,
        "colab": {
          "base_uri": "https://localhost:8080/"
        },
        "id": "kTcPMVMaNrbz",
        "outputId": "a9b79fc0-100e-473c-8f79-140ed803c1ae"
      },
      "execution_count": 73,
      "outputs": [
        {
          "output_type": "stream",
          "name": "stdout",
          "text": [
            "{'accuracy_score': 0.6378378378378379, 'jaccard_score': 0.6358695652173914, 'f1_score': 0.7774086378737541, 'log_loss': 12.508918877253937}\n"
          ]
        }
      ]
    },
    {
      "cell_type": "code",
      "source": [],
      "metadata": {
        "id": "derh9pPsNrbz"
      },
      "execution_count": 73,
      "outputs": []
    }
  ]
}